{
 "metadata": {
  "name": "Lab 6-WLS, FGLS, and GLS"
 },
 "nbformat": 3,
 "nbformat_minor": 0,
 "worksheets": [
  {
   "cells": [
    {
     "cell_type": "markdown",
     "metadata": {},
     "source": [
      "Introduction\n",
      "============\n",
      "\n",
      "This lab reviews and explores Generalized Least Squares (GLS) and FGLS (Feasible GLS), the \u201cclassical\u201d approach to dealing with the problem of conditional heteroskedasticity. We also briefly look ahead to an alternative/complementary approach to heteroskedasticity: \u201cheteroskedastic-robust\u201d inference. We will consider this last topic in much greater detail later in the course.\n",
      "\n",
      "The first part of the lab uses the Mankiw-Romer-Weill dataset. In Tasks 1-4 you will estimate a simple version of the MRW model by OLS and GLS/FGLS. The second part of the lab is a Monte Carlo study that compares the size and power properties of OLS, GLS and FGLS, with standard classical SEs and with heteroskedastic-robust SEs.\n",
      "\n",
      "The post-lab assignment asks you to change the DGP for the Monte Carlo slightly and interpret the results. The results may surprise you!"
     ]
    },
    {
     "cell_type": "code",
     "collapsed": false,
     "input": [
      "import statsmodels.api as sm\n",
      "import pandas as pd\n",
      "import numpy as np\n",
      "import matplotlib as mpl\n",
      "import matplotlib.pyplot as plt\n",
      "from scipy import stats\n",
      "\n",
      "# remember to set the max_columns to get data to display properly!\n",
      "pd.set_printoptions(max_columns=99)\n",
      "np.set_printoptions(linewidth=120)"
     ],
     "language": "python",
     "metadata": {},
     "outputs": [],
     "prompt_number": 231
    },
    {
     "cell_type": "markdown",
     "metadata": {},
     "source": [
      "Task 1: Preparation\n",
      "-------------------\n",
      "\n",
      "In the first part of the lab we will be working again with the Makiw-Romer-Weil (1992) dataset. For consistency with previous labs, we will work with a subset of the dataset: 22 OECD countries only. (Remember: limiting the sample to only OECD countries creates a kind of selection bias. See the discussion in the Lab 4 notebook.)\n",
      "\n",
      "Creat a Pandas DataFrame object from the .dta data file, create variables the necessary variables, and then subset the data."
     ]
    },
    {
     "cell_type": "code",
     "collapsed": false,
     "input": [
      "# import the Mankie, Romer, and Weil (1992) data\n",
      "mrw_1992_data = sm.iolib.genfromdta(\"mrw1992.dta\", missing_flt=NaN, missing_str=NaN, pandas=True) "
     ],
     "language": "python",
     "metadata": {},
     "outputs": [],
     "prompt_number": 2
    },
    {
     "cell_type": "code",
     "collapsed": false,
     "input": [
      "# check the import\n",
      "mrw_1992_data.head()"
     ],
     "language": "python",
     "metadata": {},
     "outputs": [
      {
       "html": [
        "<div style=\"max-height:1000px;max-width:1500px;overflow:auto;\">\n",
        "<table border=\"1\" class=\"dataframe\">\n",
        "  <thead>\n",
        "    <tr style=\"text-align: right;\">\n",
        "      <th></th>\n",
        "      <th>c_index</th>\n",
        "      <th>c_name</th>\n",
        "      <th>c_code</th>\n",
        "      <th>cont</th>\n",
        "      <th>nonoil</th>\n",
        "      <th>inter</th>\n",
        "      <th>oecd</th>\n",
        "      <th>gdp60</th>\n",
        "      <th>gdp85</th>\n",
        "      <th>popgrowth</th>\n",
        "      <th>igdp</th>\n",
        "      <th>school</th>\n",
        "    </tr>\n",
        "  </thead>\n",
        "  <tbody>\n",
        "    <tr>\n",
        "      <td><strong>0</strong></td>\n",
        "      <td> 1</td>\n",
        "      <td>      Algeria</td>\n",
        "      <td> DZA</td>\n",
        "      <td> 1</td>\n",
        "      <td> 1</td>\n",
        "      <td> 1</td>\n",
        "      <td> 0</td>\n",
        "      <td> 2485</td>\n",
        "      <td> 4371</td>\n",
        "      <td> 2.6</td>\n",
        "      <td> 24.100000</td>\n",
        "      <td> 4.5</td>\n",
        "    </tr>\n",
        "    <tr>\n",
        "      <td><strong>1</strong></td>\n",
        "      <td> 2</td>\n",
        "      <td>       Angola</td>\n",
        "      <td> AGO</td>\n",
        "      <td> 1</td>\n",
        "      <td> 1</td>\n",
        "      <td> 0</td>\n",
        "      <td> 0</td>\n",
        "      <td> 1588</td>\n",
        "      <td> 1171</td>\n",
        "      <td> 2.1</td>\n",
        "      <td>  5.800000</td>\n",
        "      <td> 1.8</td>\n",
        "    </tr>\n",
        "    <tr>\n",
        "      <td><strong>2</strong></td>\n",
        "      <td> 3</td>\n",
        "      <td>        Benin</td>\n",
        "      <td> BEN</td>\n",
        "      <td> 1</td>\n",
        "      <td> 1</td>\n",
        "      <td> 0</td>\n",
        "      <td> 0</td>\n",
        "      <td> 1116</td>\n",
        "      <td> 1071</td>\n",
        "      <td> 2.4</td>\n",
        "      <td> 10.800000</td>\n",
        "      <td> 1.8</td>\n",
        "    </tr>\n",
        "    <tr>\n",
        "      <td><strong>3</strong></td>\n",
        "      <td> 4</td>\n",
        "      <td>     Botswana</td>\n",
        "      <td> BWA</td>\n",
        "      <td> 1</td>\n",
        "      <td> 1</td>\n",
        "      <td> 1</td>\n",
        "      <td> 0</td>\n",
        "      <td>  959</td>\n",
        "      <td> 3671</td>\n",
        "      <td> 3.2</td>\n",
        "      <td> 28.299999</td>\n",
        "      <td> 2.9</td>\n",
        "    </tr>\n",
        "    <tr>\n",
        "      <td><strong>4</strong></td>\n",
        "      <td> 5</td>\n",
        "      <td> Burkina Faso</td>\n",
        "      <td> BFA</td>\n",
        "      <td> 1</td>\n",
        "      <td> 1</td>\n",
        "      <td> 0</td>\n",
        "      <td> 0</td>\n",
        "      <td>  529</td>\n",
        "      <td>  857</td>\n",
        "      <td> 0.9</td>\n",
        "      <td> 12.700000</td>\n",
        "      <td> 0.4</td>\n",
        "    </tr>\n",
        "  </tbody>\n",
        "</table>\n",
        "</div>"
       ],
       "output_type": "pyout",
       "prompt_number": 3,
       "text": [
        "   c_index        c_name c_code  cont  nonoil  inter  oecd  gdp60  gdp85  popgrowth       igdp  school\n",
        "0        1       Algeria    DZA     1       1      1     0   2485   4371        2.6  24.100000     4.5\n",
        "1        2        Angola    AGO     1       1      0     0   1588   1171        2.1   5.800000     1.8\n",
        "2        3         Benin    BEN     1       1      0     0   1116   1071        2.4  10.800000     1.8\n",
        "3        4      Botswana    BWA     1       1      1     0    959   3671        3.2  28.299999     2.9\n",
        "4        5  Burkina Faso    BFA     1       1      0     0    529    857        0.9  12.700000     0.4"
       ]
      }
     ],
     "prompt_number": 3
    },
    {
     "cell_type": "code",
     "collapsed": false,
     "input": [
      "# create some new variables using the natural logarithm function from NumPy\n",
      "mrw_1992_data['lngdp60'] = np.log(mrw_1992_data['gdp60'])\n",
      "mrw_1992_data['lngdp85'] = np.log(mrw_1992_data['gdp85'])\n",
      "mrw_1992_data['growth'] = (mrw_1992_data['lngdp85'] - mrw_1992_data['lngdp60']) / 25."
     ],
     "language": "python",
     "metadata": {},
     "outputs": [],
     "prompt_number": 4
    },
    {
     "cell_type": "code",
     "collapsed": false,
     "input": [
      "# check the data again\n",
      "mrw_1992_data.head()"
     ],
     "language": "python",
     "metadata": {},
     "outputs": [
      {
       "html": [
        "<div style=\"max-height:1000px;max-width:1500px;overflow:auto;\">\n",
        "<table border=\"1\" class=\"dataframe\">\n",
        "  <thead>\n",
        "    <tr style=\"text-align: right;\">\n",
        "      <th></th>\n",
        "      <th>c_index</th>\n",
        "      <th>c_name</th>\n",
        "      <th>c_code</th>\n",
        "      <th>cont</th>\n",
        "      <th>nonoil</th>\n",
        "      <th>inter</th>\n",
        "      <th>oecd</th>\n",
        "      <th>gdp60</th>\n",
        "      <th>gdp85</th>\n",
        "      <th>popgrowth</th>\n",
        "      <th>igdp</th>\n",
        "      <th>school</th>\n",
        "      <th>lngdp60</th>\n",
        "      <th>lngdp85</th>\n",
        "      <th>growth</th>\n",
        "    </tr>\n",
        "  </thead>\n",
        "  <tbody>\n",
        "    <tr>\n",
        "      <td><strong>0</strong></td>\n",
        "      <td> 1</td>\n",
        "      <td>      Algeria</td>\n",
        "      <td> DZA</td>\n",
        "      <td> 1</td>\n",
        "      <td> 1</td>\n",
        "      <td> 1</td>\n",
        "      <td> 0</td>\n",
        "      <td> 2485</td>\n",
        "      <td> 4371</td>\n",
        "      <td> 2.6</td>\n",
        "      <td> 24.100000</td>\n",
        "      <td> 4.5</td>\n",
        "      <td> 7.818028</td>\n",
        "      <td> 8.382747</td>\n",
        "      <td> 0.022589</td>\n",
        "    </tr>\n",
        "    <tr>\n",
        "      <td><strong>1</strong></td>\n",
        "      <td> 2</td>\n",
        "      <td>       Angola</td>\n",
        "      <td> AGO</td>\n",
        "      <td> 1</td>\n",
        "      <td> 1</td>\n",
        "      <td> 0</td>\n",
        "      <td> 0</td>\n",
        "      <td> 1588</td>\n",
        "      <td> 1171</td>\n",
        "      <td> 2.1</td>\n",
        "      <td>  5.800000</td>\n",
        "      <td> 1.8</td>\n",
        "      <td> 7.370231</td>\n",
        "      <td> 7.065613</td>\n",
        "      <td>-0.012185</td>\n",
        "    </tr>\n",
        "    <tr>\n",
        "      <td><strong>2</strong></td>\n",
        "      <td> 3</td>\n",
        "      <td>        Benin</td>\n",
        "      <td> BEN</td>\n",
        "      <td> 1</td>\n",
        "      <td> 1</td>\n",
        "      <td> 0</td>\n",
        "      <td> 0</td>\n",
        "      <td> 1116</td>\n",
        "      <td> 1071</td>\n",
        "      <td> 2.4</td>\n",
        "      <td> 10.800000</td>\n",
        "      <td> 1.8</td>\n",
        "      <td> 7.017506</td>\n",
        "      <td> 6.976348</td>\n",
        "      <td>-0.001646</td>\n",
        "    </tr>\n",
        "    <tr>\n",
        "      <td><strong>3</strong></td>\n",
        "      <td> 4</td>\n",
        "      <td>     Botswana</td>\n",
        "      <td> BWA</td>\n",
        "      <td> 1</td>\n",
        "      <td> 1</td>\n",
        "      <td> 1</td>\n",
        "      <td> 0</td>\n",
        "      <td>  959</td>\n",
        "      <td> 3671</td>\n",
        "      <td> 3.2</td>\n",
        "      <td> 28.299999</td>\n",
        "      <td> 2.9</td>\n",
        "      <td> 6.865891</td>\n",
        "      <td> 8.208219</td>\n",
        "      <td> 0.053693</td>\n",
        "    </tr>\n",
        "    <tr>\n",
        "      <td><strong>4</strong></td>\n",
        "      <td> 5</td>\n",
        "      <td> Burkina Faso</td>\n",
        "      <td> BFA</td>\n",
        "      <td> 1</td>\n",
        "      <td> 1</td>\n",
        "      <td> 0</td>\n",
        "      <td> 0</td>\n",
        "      <td>  529</td>\n",
        "      <td>  857</td>\n",
        "      <td> 0.9</td>\n",
        "      <td> 12.700000</td>\n",
        "      <td> 0.4</td>\n",
        "      <td> 6.270988</td>\n",
        "      <td> 6.753438</td>\n",
        "      <td> 0.019298</td>\n",
        "    </tr>\n",
        "  </tbody>\n",
        "</table>\n",
        "</div>"
       ],
       "output_type": "pyout",
       "prompt_number": 5,
       "text": [
        "   c_index        c_name c_code  cont  nonoil  inter  oecd  gdp60  gdp85  popgrowth       igdp  school   lngdp60   lngdp85    growth\n",
        "0        1       Algeria    DZA     1       1      1     0   2485   4371        2.6  24.100000     4.5  7.818028  8.382747  0.022589\n",
        "1        2        Angola    AGO     1       1      0     0   1588   1171        2.1   5.800000     1.8  7.370231  7.065613 -0.012185\n",
        "2        3         Benin    BEN     1       1      0     0   1116   1071        2.4  10.800000     1.8  7.017506  6.976348 -0.001646\n",
        "3        4      Botswana    BWA     1       1      1     0    959   3671        3.2  28.299999     2.9  6.865891  8.208219  0.053693\n",
        "4        5  Burkina Faso    BFA     1       1      0     0    529    857        0.9  12.700000     0.4  6.270988  6.753438  0.019298"
       ]
      }
     ],
     "prompt_number": 5
    },
    {
     "cell_type": "code",
     "collapsed": false,
     "input": [
      "# drop all non-oecd obs\n",
      "mrw_1992_data_OECD = mrw_1992_data[mrw_1992_data['oecd'] == 1]\n",
      "\n",
      "# display the data\n",
      "mrw_1992_data_OECD"
     ],
     "language": "python",
     "metadata": {},
     "outputs": [
      {
       "html": [
        "<div style=\"max-height:1000px;max-width:1500px;overflow:auto;\">\n",
        "<table border=\"1\" class=\"dataframe\">\n",
        "  <thead>\n",
        "    <tr style=\"text-align: right;\">\n",
        "      <th></th>\n",
        "      <th>c_index</th>\n",
        "      <th>c_name</th>\n",
        "      <th>c_code</th>\n",
        "      <th>cont</th>\n",
        "      <th>nonoil</th>\n",
        "      <th>inter</th>\n",
        "      <th>oecd</th>\n",
        "      <th>gdp60</th>\n",
        "      <th>gdp85</th>\n",
        "      <th>popgrowth</th>\n",
        "      <th>igdp</th>\n",
        "      <th>school</th>\n",
        "      <th>lngdp60</th>\n",
        "      <th>lngdp85</th>\n",
        "      <th>growth</th>\n",
        "    </tr>\n",
        "  </thead>\n",
        "  <tbody>\n",
        "    <tr>\n",
        "      <td><strong>52 </strong></td>\n",
        "      <td>  53</td>\n",
        "      <td>          Japan</td>\n",
        "      <td> JPN</td>\n",
        "      <td> 2</td>\n",
        "      <td> 1</td>\n",
        "      <td> 1</td>\n",
        "      <td> 1</td>\n",
        "      <td>  3493</td>\n",
        "      <td> 13893</td>\n",
        "      <td> 1.2</td>\n",
        "      <td> 36.000000</td>\n",
        "      <td> 10.9</td>\n",
        "      <td> 8.158516</td>\n",
        "      <td> 9.539140</td>\n",
        "      <td> 0.055225</td>\n",
        "    </tr>\n",
        "    <tr>\n",
        "      <td><strong>69 </strong></td>\n",
        "      <td>  70</td>\n",
        "      <td>        Austria</td>\n",
        "      <td> AUT</td>\n",
        "      <td> 3</td>\n",
        "      <td> 1</td>\n",
        "      <td> 1</td>\n",
        "      <td> 1</td>\n",
        "      <td>  5939</td>\n",
        "      <td> 13327</td>\n",
        "      <td> 0.4</td>\n",
        "      <td> 23.400000</td>\n",
        "      <td>  8.0</td>\n",
        "      <td> 8.689296</td>\n",
        "      <td> 9.497547</td>\n",
        "      <td> 0.032330</td>\n",
        "    </tr>\n",
        "    <tr>\n",
        "      <td><strong>70 </strong></td>\n",
        "      <td>  71</td>\n",
        "      <td>        Belgium</td>\n",
        "      <td> BEL</td>\n",
        "      <td> 3</td>\n",
        "      <td> 1</td>\n",
        "      <td> 1</td>\n",
        "      <td> 1</td>\n",
        "      <td>  6789</td>\n",
        "      <td> 14290</td>\n",
        "      <td> 0.5</td>\n",
        "      <td> 23.400000</td>\n",
        "      <td>  9.3</td>\n",
        "      <td> 8.823059</td>\n",
        "      <td> 9.567315</td>\n",
        "      <td> 0.029770</td>\n",
        "    </tr>\n",
        "    <tr>\n",
        "      <td><strong>72 </strong></td>\n",
        "      <td>  73</td>\n",
        "      <td>        Denmark</td>\n",
        "      <td> DNK</td>\n",
        "      <td> 3</td>\n",
        "      <td> 1</td>\n",
        "      <td> 1</td>\n",
        "      <td> 1</td>\n",
        "      <td>  8551</td>\n",
        "      <td> 16491</td>\n",
        "      <td> 0.6</td>\n",
        "      <td> 26.600000</td>\n",
        "      <td> 10.7</td>\n",
        "      <td> 9.053804</td>\n",
        "      <td> 9.710570</td>\n",
        "      <td> 0.026271</td>\n",
        "    </tr>\n",
        "    <tr>\n",
        "      <td><strong>73 </strong></td>\n",
        "      <td>  74</td>\n",
        "      <td>        Finland</td>\n",
        "      <td> FIN</td>\n",
        "      <td> 3</td>\n",
        "      <td> 1</td>\n",
        "      <td> 1</td>\n",
        "      <td> 1</td>\n",
        "      <td>  6527</td>\n",
        "      <td> 13779</td>\n",
        "      <td> 0.7</td>\n",
        "      <td> 36.900002</td>\n",
        "      <td> 11.5</td>\n",
        "      <td> 8.783703</td>\n",
        "      <td> 9.530901</td>\n",
        "      <td> 0.029888</td>\n",
        "    </tr>\n",
        "    <tr>\n",
        "      <td><strong>74 </strong></td>\n",
        "      <td>  75</td>\n",
        "      <td>         France</td>\n",
        "      <td> FRA</td>\n",
        "      <td> 3</td>\n",
        "      <td> 1</td>\n",
        "      <td> 1</td>\n",
        "      <td> 1</td>\n",
        "      <td>  7215</td>\n",
        "      <td> 15027</td>\n",
        "      <td> 1.0</td>\n",
        "      <td> 26.200001</td>\n",
        "      <td>  8.9</td>\n",
        "      <td> 8.883917</td>\n",
        "      <td> 9.617604</td>\n",
        "      <td> 0.029347</td>\n",
        "    </tr>\n",
        "    <tr>\n",
        "      <td><strong>75 </strong></td>\n",
        "      <td>  76</td>\n",
        "      <td>   West Germany</td>\n",
        "      <td> DEU</td>\n",
        "      <td> 3</td>\n",
        "      <td> 1</td>\n",
        "      <td> 1</td>\n",
        "      <td> 1</td>\n",
        "      <td>  7695</td>\n",
        "      <td> 15297</td>\n",
        "      <td> 0.5</td>\n",
        "      <td> 28.500000</td>\n",
        "      <td>  8.4</td>\n",
        "      <td> 8.948326</td>\n",
        "      <td> 9.635412</td>\n",
        "      <td> 0.027483</td>\n",
        "    </tr>\n",
        "    <tr>\n",
        "      <td><strong>76 </strong></td>\n",
        "      <td>  77</td>\n",
        "      <td>         Greece</td>\n",
        "      <td> GRC</td>\n",
        "      <td> 3</td>\n",
        "      <td> 1</td>\n",
        "      <td> 1</td>\n",
        "      <td> 1</td>\n",
        "      <td>  2257</td>\n",
        "      <td>  6868</td>\n",
        "      <td> 0.7</td>\n",
        "      <td> 29.299999</td>\n",
        "      <td>  7.9</td>\n",
        "      <td> 7.721792</td>\n",
        "      <td> 8.834628</td>\n",
        "      <td> 0.044513</td>\n",
        "    </tr>\n",
        "    <tr>\n",
        "      <td><strong>78 </strong></td>\n",
        "      <td>  79</td>\n",
        "      <td>        Ireland</td>\n",
        "      <td> IRL</td>\n",
        "      <td> 3</td>\n",
        "      <td> 1</td>\n",
        "      <td> 1</td>\n",
        "      <td> 1</td>\n",
        "      <td>  4411</td>\n",
        "      <td>  8675</td>\n",
        "      <td> 1.1</td>\n",
        "      <td> 25.900000</td>\n",
        "      <td> 11.4</td>\n",
        "      <td> 8.391857</td>\n",
        "      <td> 9.068201</td>\n",
        "      <td> 0.027054</td>\n",
        "    </tr>\n",
        "    <tr>\n",
        "      <td><strong>79 </strong></td>\n",
        "      <td>  80</td>\n",
        "      <td>          Italy</td>\n",
        "      <td> ITA</td>\n",
        "      <td> 3</td>\n",
        "      <td> 1</td>\n",
        "      <td> 1</td>\n",
        "      <td> 1</td>\n",
        "      <td>  4913</td>\n",
        "      <td> 11082</td>\n",
        "      <td> 0.6</td>\n",
        "      <td> 24.900000</td>\n",
        "      <td>  7.1</td>\n",
        "      <td> 8.499640</td>\n",
        "      <td> 9.313077</td>\n",
        "      <td> 0.032537</td>\n",
        "    </tr>\n",
        "    <tr>\n",
        "      <td><strong>82 </strong></td>\n",
        "      <td>  83</td>\n",
        "      <td>    Netherlands</td>\n",
        "      <td> NLD</td>\n",
        "      <td> 3</td>\n",
        "      <td> 1</td>\n",
        "      <td> 1</td>\n",
        "      <td> 1</td>\n",
        "      <td>  7689</td>\n",
        "      <td> 13177</td>\n",
        "      <td> 1.4</td>\n",
        "      <td> 25.799999</td>\n",
        "      <td> 10.7</td>\n",
        "      <td> 8.947546</td>\n",
        "      <td> 9.486228</td>\n",
        "      <td> 0.021547</td>\n",
        "    </tr>\n",
        "    <tr>\n",
        "      <td><strong>83 </strong></td>\n",
        "      <td>  84</td>\n",
        "      <td>         Norway</td>\n",
        "      <td> NOR</td>\n",
        "      <td> 3</td>\n",
        "      <td> 1</td>\n",
        "      <td> 1</td>\n",
        "      <td> 1</td>\n",
        "      <td>  7938</td>\n",
        "      <td> 19723</td>\n",
        "      <td> 0.7</td>\n",
        "      <td> 29.100000</td>\n",
        "      <td> 10.0</td>\n",
        "      <td> 8.979417</td>\n",
        "      <td> 9.889541</td>\n",
        "      <td> 0.036405</td>\n",
        "    </tr>\n",
        "    <tr>\n",
        "      <td><strong>84 </strong></td>\n",
        "      <td>  85</td>\n",
        "      <td>       Portugal</td>\n",
        "      <td> PRT</td>\n",
        "      <td> 3</td>\n",
        "      <td> 1</td>\n",
        "      <td> 1</td>\n",
        "      <td> 1</td>\n",
        "      <td>  2272</td>\n",
        "      <td>  5827</td>\n",
        "      <td> 0.6</td>\n",
        "      <td> 22.500000</td>\n",
        "      <td>  5.8</td>\n",
        "      <td> 7.728416</td>\n",
        "      <td> 8.670258</td>\n",
        "      <td> 0.037674</td>\n",
        "    </tr>\n",
        "    <tr>\n",
        "      <td><strong>85 </strong></td>\n",
        "      <td>  86</td>\n",
        "      <td>          Spain</td>\n",
        "      <td> ESP</td>\n",
        "      <td> 3</td>\n",
        "      <td> 1</td>\n",
        "      <td> 1</td>\n",
        "      <td> 1</td>\n",
        "      <td>  3766</td>\n",
        "      <td>  9903</td>\n",
        "      <td> 1.0</td>\n",
        "      <td> 17.700001</td>\n",
        "      <td>  8.0</td>\n",
        "      <td> 8.233769</td>\n",
        "      <td> 9.200593</td>\n",
        "      <td> 0.038673</td>\n",
        "    </tr>\n",
        "    <tr>\n",
        "      <td><strong>86 </strong></td>\n",
        "      <td>  87</td>\n",
        "      <td>         Sweden</td>\n",
        "      <td> SWE</td>\n",
        "      <td> 3</td>\n",
        "      <td> 1</td>\n",
        "      <td> 1</td>\n",
        "      <td> 1</td>\n",
        "      <td>  7802</td>\n",
        "      <td> 15237</td>\n",
        "      <td> 0.4</td>\n",
        "      <td> 24.500000</td>\n",
        "      <td>  7.9</td>\n",
        "      <td> 8.962135</td>\n",
        "      <td> 9.631482</td>\n",
        "      <td> 0.026774</td>\n",
        "    </tr>\n",
        "    <tr>\n",
        "      <td><strong>87 </strong></td>\n",
        "      <td>  88</td>\n",
        "      <td>    Switzerland</td>\n",
        "      <td> CHE</td>\n",
        "      <td> 3</td>\n",
        "      <td> 1</td>\n",
        "      <td> 1</td>\n",
        "      <td> 1</td>\n",
        "      <td> 10308</td>\n",
        "      <td> 15881</td>\n",
        "      <td> 0.8</td>\n",
        "      <td> 29.700001</td>\n",
        "      <td>  4.8</td>\n",
        "      <td> 9.240676</td>\n",
        "      <td> 9.672879</td>\n",
        "      <td> 0.017288</td>\n",
        "    </tr>\n",
        "    <tr>\n",
        "      <td><strong>88 </strong></td>\n",
        "      <td>  89</td>\n",
        "      <td>         Turkey</td>\n",
        "      <td> TUR</td>\n",
        "      <td> 3</td>\n",
        "      <td> 1</td>\n",
        "      <td> 1</td>\n",
        "      <td> 1</td>\n",
        "      <td>  2274</td>\n",
        "      <td>  4444</td>\n",
        "      <td> 2.5</td>\n",
        "      <td> 20.200001</td>\n",
        "      <td>  5.5</td>\n",
        "      <td> 7.729296</td>\n",
        "      <td> 8.399310</td>\n",
        "      <td> 0.026801</td>\n",
        "    </tr>\n",
        "    <tr>\n",
        "      <td><strong>89 </strong></td>\n",
        "      <td>  90</td>\n",
        "      <td> United Kingdom</td>\n",
        "      <td> GBR</td>\n",
        "      <td> 3</td>\n",
        "      <td> 1</td>\n",
        "      <td> 1</td>\n",
        "      <td> 1</td>\n",
        "      <td>  7634</td>\n",
        "      <td> 13331</td>\n",
        "      <td> 0.3</td>\n",
        "      <td> 18.400000</td>\n",
        "      <td>  8.9</td>\n",
        "      <td> 8.940367</td>\n",
        "      <td> 9.497847</td>\n",
        "      <td> 0.022299</td>\n",
        "    </tr>\n",
        "    <tr>\n",
        "      <td><strong>91 </strong></td>\n",
        "      <td>  92</td>\n",
        "      <td>         Canada</td>\n",
        "      <td> CAN</td>\n",
        "      <td> 4</td>\n",
        "      <td> 1</td>\n",
        "      <td> 1</td>\n",
        "      <td> 1</td>\n",
        "      <td> 10286</td>\n",
        "      <td> 17935</td>\n",
        "      <td> 2.0</td>\n",
        "      <td> 23.299999</td>\n",
        "      <td> 10.6</td>\n",
        "      <td> 9.238539</td>\n",
        "      <td> 9.794509</td>\n",
        "      <td> 0.022239</td>\n",
        "    </tr>\n",
        "    <tr>\n",
        "      <td><strong>103</strong></td>\n",
        "      <td> 104</td>\n",
        "      <td>            USA</td>\n",
        "      <td> USA</td>\n",
        "      <td> 4</td>\n",
        "      <td> 1</td>\n",
        "      <td> 1</td>\n",
        "      <td> 1</td>\n",
        "      <td> 12362</td>\n",
        "      <td> 18988</td>\n",
        "      <td> 1.5</td>\n",
        "      <td> 21.100000</td>\n",
        "      <td> 11.9</td>\n",
        "      <td> 9.422383</td>\n",
        "      <td> 9.851562</td>\n",
        "      <td> 0.017167</td>\n",
        "    </tr>\n",
        "    <tr>\n",
        "      <td><strong>116</strong></td>\n",
        "      <td> 117</td>\n",
        "      <td>      Australia</td>\n",
        "      <td> AUS</td>\n",
        "      <td> 6</td>\n",
        "      <td> 1</td>\n",
        "      <td> 1</td>\n",
        "      <td> 1</td>\n",
        "      <td>  8440</td>\n",
        "      <td> 13409</td>\n",
        "      <td> 2.0</td>\n",
        "      <td> 31.500000</td>\n",
        "      <td>  9.8</td>\n",
        "      <td> 9.040738</td>\n",
        "      <td> 9.503681</td>\n",
        "      <td> 0.018518</td>\n",
        "    </tr>\n",
        "    <tr>\n",
        "      <td><strong>119</strong></td>\n",
        "      <td> 120</td>\n",
        "      <td>    New Zealand</td>\n",
        "      <td> NZL</td>\n",
        "      <td> 6</td>\n",
        "      <td> 1</td>\n",
        "      <td> 1</td>\n",
        "      <td> 1</td>\n",
        "      <td>  9523</td>\n",
        "      <td> 12308</td>\n",
        "      <td> 1.7</td>\n",
        "      <td> 22.500000</td>\n",
        "      <td> 11.9</td>\n",
        "      <td> 9.161465</td>\n",
        "      <td> 9.418005</td>\n",
        "      <td> 0.010262</td>\n",
        "    </tr>\n",
        "  </tbody>\n",
        "</table>\n",
        "</div>"
       ],
       "output_type": "pyout",
       "prompt_number": 6,
       "text": [
        "     c_index          c_name c_code  cont  nonoil  inter  oecd  gdp60  gdp85  popgrowth       igdp  school   lngdp60   lngdp85    growth\n",
        "52        53           Japan    JPN     2       1      1     1   3493  13893        1.2  36.000000    10.9  8.158516  9.539140  0.055225\n",
        "69        70         Austria    AUT     3       1      1     1   5939  13327        0.4  23.400000     8.0  8.689296  9.497547  0.032330\n",
        "70        71         Belgium    BEL     3       1      1     1   6789  14290        0.5  23.400000     9.3  8.823059  9.567315  0.029770\n",
        "72        73         Denmark    DNK     3       1      1     1   8551  16491        0.6  26.600000    10.7  9.053804  9.710570  0.026271\n",
        "73        74         Finland    FIN     3       1      1     1   6527  13779        0.7  36.900002    11.5  8.783703  9.530901  0.029888\n",
        "74        75          France    FRA     3       1      1     1   7215  15027        1.0  26.200001     8.9  8.883917  9.617604  0.029347\n",
        "75        76    West Germany    DEU     3       1      1     1   7695  15297        0.5  28.500000     8.4  8.948326  9.635412  0.027483\n",
        "76        77          Greece    GRC     3       1      1     1   2257   6868        0.7  29.299999     7.9  7.721792  8.834628  0.044513\n",
        "78        79         Ireland    IRL     3       1      1     1   4411   8675        1.1  25.900000    11.4  8.391857  9.068201  0.027054\n",
        "79        80           Italy    ITA     3       1      1     1   4913  11082        0.6  24.900000     7.1  8.499640  9.313077  0.032537\n",
        "82        83     Netherlands    NLD     3       1      1     1   7689  13177        1.4  25.799999    10.7  8.947546  9.486228  0.021547\n",
        "83        84          Norway    NOR     3       1      1     1   7938  19723        0.7  29.100000    10.0  8.979417  9.889541  0.036405\n",
        "84        85        Portugal    PRT     3       1      1     1   2272   5827        0.6  22.500000     5.8  7.728416  8.670258  0.037674\n",
        "85        86           Spain    ESP     3       1      1     1   3766   9903        1.0  17.700001     8.0  8.233769  9.200593  0.038673\n",
        "86        87          Sweden    SWE     3       1      1     1   7802  15237        0.4  24.500000     7.9  8.962135  9.631482  0.026774\n",
        "87        88     Switzerland    CHE     3       1      1     1  10308  15881        0.8  29.700001     4.8  9.240676  9.672879  0.017288\n",
        "88        89          Turkey    TUR     3       1      1     1   2274   4444        2.5  20.200001     5.5  7.729296  8.399310  0.026801\n",
        "89        90  United Kingdom    GBR     3       1      1     1   7634  13331        0.3  18.400000     8.9  8.940367  9.497847  0.022299\n",
        "91        92          Canada    CAN     4       1      1     1  10286  17935        2.0  23.299999    10.6  9.238539  9.794509  0.022239\n",
        "103      104             USA    USA     4       1      1     1  12362  18988        1.5  21.100000    11.9  9.422383  9.851562  0.017167\n",
        "116      117       Australia    AUS     6       1      1     1   8440  13409        2.0  31.500000     9.8  9.040738  9.503681  0.018518\n",
        "119      120     New Zealand    NZL     6       1      1     1   9523  12308        1.7  22.500000    11.9  9.161465  9.418005  0.010262"
       ]
      }
     ],
     "prompt_number": 6
    },
    {
     "cell_type": "markdown",
     "metadata": {},
     "source": [
      "Next, estimate the multiple regression model from previous labs..."
     ]
    },
    {
     "cell_type": "code",
     "collapsed": false,
     "input": [
      "# alternative regression specification using pd.ols which has built-in missing value handling.  \n",
      "model = pd.ols(y=mrw_1992_data_OECD['growth'], x=mrw_1992_data_OECD[['lngdp60', 'popgrowth', 'igdp', 'school']])\n",
      "\n",
      "print model"
     ],
     "language": "python",
     "metadata": {},
     "outputs": [
      {
       "output_type": "stream",
       "stream": "stdout",
       "text": [
        "\n",
        "-------------------------Summary of Regression Analysis-------------------------\n",
        "\n",
        "Formula: Y ~ <lngdp60> + <popgrowth> + <igdp> + <school> + <intercept>\n",
        "\n",
        "Number of Observations:         22\n",
        "Number of Degrees of Freedom:   5\n",
        "\n",
        "R-squared:         0.7172\n",
        "Adj R-squared:     0.6506\n",
        "\n",
        "Rmse:              0.0059\n",
        "\n",
        "F-stat (4, 17):    10.7757, p-value:     0.0002\n",
        "\n",
        "Degrees of Freedom: model 4, resid 17\n",
        "\n",
        "-----------------------Summary of Estimated Coefficients------------------------\n",
        "      Variable       Coef    Std Err     t-stat    p-value    CI 2.5%   CI 97.5%\n",
        "--------------------------------------------------------------------------------\n",
        "       lngdp60    -0.0156     0.0029      -5.44     0.0000    -0.0212    -0.0100\n",
        "     popgrowth    -0.0057     0.0022      -2.60     0.0188    -0.0100    -0.0014\n",
        "          igdp     0.0005     0.0003       1.96     0.0662     0.0000     0.0011\n",
        "        school     0.0009     0.0007       1.25     0.2283    -0.0005     0.0024\n",
        "     intercept     0.1479     0.0241       6.14     0.0000     0.1007     0.1952\n",
        "---------------------------------End of Summary---------------------------------\n",
        "\n"
       ]
      }
     ],
     "prompt_number": 95
    },
    {
     "cell_type": "markdown",
     "metadata": {},
     "source": [
      "...and then use the FWL (Frisch-Waugh-Lovell) theorem to examine the separate contribution of the different explanatory variables. Start by \"partialling out\" the effects of the regressors *popgrowth*, *igdp*, and *school*."
     ]
    },
    {
     "cell_type": "code",
     "collapsed": false,
     "input": [
      "# regress y on uninteresting redressors and store the residuals as y_tilde\n",
      "y_tilde_1 = pd.ols(y=mrw_1992_data_OECD['growth'], x=mrw_1992_data_OECD[['popgrowth', 'igdp', 'school']]).resid\n",
      "\n",
      "# regress lngdp60 on uninteresting regressors and store as residuals X2_tilde\n",
      "X2_tilde = pd.ols(y=mrw_1992_data_OECD['lngdp60'], x=mrw_1992_data_OECD[['popgrowth', 'igdp', 'school']]).resid\n",
      "\n",
      "# regress y_tilde on X2_tilde\n",
      "FWL_lngdp60 = pd.ols(y=y_tilde_1, x=X2_tilde)"
     ],
     "language": "python",
     "metadata": {},
     "outputs": [],
     "prompt_number": 8
    },
    {
     "cell_type": "code",
     "collapsed": false,
     "input": [
      "# single added variable plot (mimics STATA avplot functionality)\n",
      "fig = plt.figure()\n",
      "ax = fig.add_subplot(111)\n",
      "\n",
      "X = X2_tilde.values\n",
      "Y = y_tilde_1.values\n",
      "\n",
      "# the scatterplot\n",
      "ax.scatter(X, Y, color='orange', marker='o')\n",
      "\n",
      "\n",
      "# doesn't seem to be a command to plot a line using slope and intercept!\n",
      "grid = np.linspace(-2, 3, 1000)\n",
      "ax.plot(grid, FWL_lngdp60.beta['x'] * grid + FWL_lngdp60.beta['intercept'], color='red', label='OLS')\n",
      "\n",
      "ax.set_xlim(-2,3)\n",
      "ax.set_xlabel(r'E[lngdp60 | $X$]')\n",
      "ax.set_ylabel(r'E[growth | $X$]')\n",
      "ax.set_title('Contribution of $lngdp60$ via the FWL Theorem')\n",
      "\n",
      "ax.legend(loc='best', frameon=False)\n",
      "\n",
      "plt.show()"
     ],
     "language": "python",
     "metadata": {},
     "outputs": [
      {
       "output_type": "display_data",
       "png": "[encoded data removed]"
      }
     ],
     "prompt_number": 9
    },
    {
     "cell_type": "markdown",
     "metadata": {},
     "source": [
      "Repeat the above analysis for each of the other regressors..."
     ]
    },
    {
     "cell_type": "code",
     "collapsed": false,
     "input": [
      "# regress y on uninteresting redressors and store the residuals as y_tilde\n",
      "y_tilde_2 = pd.ols(y=mrw_1992_data_OECD['growth'], x=mrw_1992_data_OECD[['lngdp60', 'igdp', 'school']]).resid\n",
      "X3_tilde = pd.ols(y=mrw_1992_data_OECD['popgrowth'], x=mrw_1992_data_OECD[['lngdp60', 'igdp', 'school']]).resid\n",
      "\n",
      "# regress y_tilde on X3_tilde\n",
      "FWL_popgrowth = pd.ols(y=y_tilde_2, x=X3_tilde)\n",
      "\n",
      "# regress y on uninteresting redressors and store the residuals as y_tilde\n",
      "y_tilde_3 = pd.ols(y=mrw_1992_data_OECD['growth'], x=mrw_1992_data_OECD[['lngdp60', 'popgrowth', 'school']]).resid\n",
      "X4_tilde = pd.ols(y=mrw_1992_data_OECD['igdp'], x=mrw_1992_data_OECD[['lngdp60', 'popgrowth', 'school']]).resid\n",
      "\n",
      "# regress y_tilde on X4_tilde\n",
      "FWL_igdp = pd.ols(y=y_tilde_3, x=X4_tilde)\n",
      "\n",
      "# regress y on uninteresting redressors and store the residuals as y_tilde\n",
      "y_tilde_4 = pd.ols(y=mrw_1992_data_OECD['growth'], x=mrw_1992_data_OECD[['lngdp60', 'popgrowth', 'igdp']]).resid\n",
      "X5_tilde = pd.ols(y=mrw_1992_data_OECD['school'], x=mrw_1992_data_OECD[['lngdp60', 'popgrowth', 'igdp']]).resid\n",
      "\n",
      "# regress y_tilde on X5_tilde\n",
      "FWL_school = pd.ols(y=y_tilde_4, x=X5_tilde)"
     ],
     "language": "python",
     "metadata": {},
     "outputs": [],
     "prompt_number": 10
    },
    {
     "cell_type": "code",
     "collapsed": false,
     "input": [
      "# multiple added variable plot (mimics STATA avplot functionality)\n",
      "fig = plt.figure()\n",
      "\n",
      "# avplot for lngdp60\n",
      "ax1 = fig.add_subplot(221)\n",
      "grid = np.linspace(-2, 3, 1000)\n",
      "\n",
      "X = X2_tilde.values\n",
      "Y = y_tilde_1.values\n",
      "\n",
      "ax1.scatter(X, Y, color='orange', marker='o')\n",
      "ax1.plot(grid, FWL_lngdp60.beta['x'] * grid + FWL_lngdp60.beta['intercept'], color='red', label='OLS')\n",
      "ax1.set_xlabel(r'E[lngdp60 | $X$]')\n",
      "ax1.set_ylabel(r'E[growth | $X$]')\n",
      "ax1.set_title('$lngdp60$')\n",
      "\n",
      "# avplot for popgrowth\n",
      "ax2 = fig.add_subplot(222)\n",
      "grid = np.linspace(-2, 3, 1000)\n",
      "\n",
      "X = X3_tilde.values\n",
      "Y = y_tilde_2.values\n",
      "\n",
      "ax2.scatter(X, Y, color='orange', marker='o')\n",
      "ax2.plot(grid, FWL_popgrowth.beta['x'] * grid + FWL_popgrowth.beta['intercept'], \n",
      "         color='red', label='OLS')\n",
      "ax2.set_xlabel(r'E[popgrowth | $X$]')\n",
      "ax2.set_ylabel(r'E[growth | $X$]')\n",
      "ax2.set_title('$pogrowth$')\n",
      "\n",
      "# avplot for igdp\n",
      "ax3 = fig.add_subplot(223)\n",
      "grid = np.linspace(-10, 10, 1000)\n",
      "\n",
      "X = X4_tilde.values\n",
      "Y = y_tilde_3.values\n",
      "\n",
      "ax3.scatter(X, Y, color='orange', marker='o')\n",
      "ax3.plot(grid, FWL_igdp.beta['x'] * grid + FWL_igdp.beta['intercept'], color='red', label='OLS')\n",
      "ax3.set_xlabel(r'E[igdp | $X$]')\n",
      "ax3.set_ylabel(r'E[growth | $X$]')\n",
      "ax3.set_title('$igdp$')\n",
      "\n",
      "# avplot for school\n",
      "ax4 = fig.add_subplot(224)\n",
      "\n",
      "X = X5_tilde.values\n",
      "Y = y_tilde_4.values\n",
      "\n",
      "ax4.scatter(X, Y, color='orange', marker='o')\n",
      "ax4.plot(grid, FWL_school.beta['x'] * grid + FWL_school.beta['intercept'], color='red', label='OLS')\n",
      "ax4.set_xlabel(r'E[school | $X$]')\n",
      "ax4.set_ylabel(r'E[growth | $X$]')\n",
      "ax4.set_title('$school$')\n",
      "\n",
      "fig.tight_layout()\n",
      "fig.text(0.5, 0.960, 'Multiple avplots MRW OECD data', ha='center', weight='bold')\n",
      "         \n",
      "plt.savefig('Multiple avplot MRW OECD data.png')\n",
      "plt.show()"
     ],
     "language": "python",
     "metadata": {},
     "outputs": [
      {
       "output_type": "display_data",
       "png": "[encoded data removed]"
      }
     ],
     "prompt_number": 11
    },
    {
     "cell_type": "markdown",
     "metadata": {},
     "source": [
      "When checking for heteroskedasticity, is is always a good idea to plot residuals."
     ]
    },
    {
     "cell_type": "code",
     "collapsed": false,
     "input": [
      "fig = plt.figure()\n",
      "\n",
      "# plot residuals against each of the four regressors\n",
      "ax = fig.add_subplot(221)\n",
      "ax.scatter(mrw_1992_data_OECD['lngdp60'], model.resid, marker='o')\n",
      "ax.set_xlabel('lngdp60')\n",
      "ax.set_ylabel('Residuals')\n",
      "\n",
      "ax2 = fig.add_subplot(222)\n",
      "ax2.scatter(mrw_1992_data_OECD['popgrowth'], model.resid, marker='o')\n",
      "ax2.set_xlabel('popgrowth')\n",
      "\n",
      "ax3 = fig.add_subplot(223)\n",
      "ax3.scatter(mrw_1992_data_OECD['igdp'], model.resid, marker='o')\n",
      "ax3.set_xlabel('igdp')\n",
      "ax3.set_ylabel('Residuals')\n",
      "\n",
      "ax4 = fig.add_subplot(224)\n",
      "ax4.scatter(mrw_1992_data_OECD['school'], model.resid, marker='o')\n",
      "ax4.set_xlabel('school')\n",
      "\n",
      "# add a title\n",
      "fig.text(0.5, 0.963, 'Not much evidence of heteroskedasticity!', ha='center', weight='bold')\n",
      "fig.tight_layout()\n",
      "\n",
      "plt.show()"
     ],
     "language": "python",
     "metadata": {},
     "outputs": [
      {
       "output_type": "display_data",
       "png": "[encoded data removed]"
      }
     ],
     "prompt_number": 116
    },
    {
     "cell_type": "markdown",
     "metadata": {},
     "source": [
      "The above residual plots suggest that the residual variance is higher for schools with higher levels of secondary education, but to be honest, it is damned difficult to tell with such a small sample.  Perhaps the results would be more obvious if we used the entire sample?"
     ]
    },
    {
     "cell_type": "markdown",
     "metadata": {},
     "source": [
      "Task 2: Weighted Least Squares (WLS)\n",
      "------------------------------------\n",
      "\n",
      "When we estimate by Weighted Least Squares (WLS), we weight each observation by some weighting factor.  That is, we multiply every $y_{i}$ and every $x_{i,k}$ by some weight $w_{i}$. We then use these new variables as our regressors in an OLS estimation.  Note that \n",
      "the weight $w_{i}$ is the same for all the variables for observation i, but varies between different observations $1,\\dots, i, \\dots, n$.\n",
      "\n",
      "The Python library Statsmodels supports WLS estimation.  Alternatively, one could use the RPy2 library to use R to run estimate models using WLS. Somewhat confusingly, when we specify weights in Statsmodels, it will in effect multiply each observation by the square root of the weighting variable. The reason for this is that WLS is solving a particular GLS problem, where the variance is inversely proportional to the square of some variable. Because it\u2019s the variance which is proportional to the weight, we need to multiply each observation by the square root of the variable.\n",
      "\n",
      "In the example in we assume  \u2013 quite unrealistically!  \u2013 that we know the skedastic function, and that it takes a very simple form:\n",
      "\n",
      "$$Var(\\epsilon_{i} | X) = \\sigma^2 v_{i}(x_{i})$$ \n",
      "\n",
      "where \n",
      "\n",
      "$$v_{i}(x_{i}) = school_{i}$$ \n",
      "\n",
      "and we know from the lecture notes that if this is true, we can obtain the WLS estimator by multiplying every variable for observation i by: \n",
      "\n",
      "$$\\frac{1}{\\sqrt{school_i}}$$\n",
      "\n",
      "###Notes\n",
      "\n",
      "**If the weights are a function of the data, then the postestimation statistics such as fvalue and mse_model (also R-squared and adjusted R-squared!) might not be correct, as the package does not yet support no-constant regression.**"
     ]
    },
    {
     "cell_type": "code",
     "collapsed": false,
     "input": [
      "# regressors\n",
      "X = sm.add_constant(mrw_1992_data_OECD[['lngdp60', 'popgrowth', 'igdp', 'school']], prepend=True)\n",
      "\n",
      "# create the WLS model object\n",
      "model_WLS = sm.WLS(mrw_1992_data_OECD['growth'], X, weights=1.0 / mrw_1992_data_OECD['school'])"
     ],
     "language": "python",
     "metadata": {},
     "outputs": [],
     "prompt_number": 139
    },
    {
     "cell_type": "code",
     "collapsed": false,
     "input": [
      "# fit the model\n",
      "results_WLS = model_WLS.fit()\n",
      "\n",
      "# display the summary\n",
      "print results_WLS.summary()"
     ],
     "language": "python",
     "metadata": {},
     "outputs": [
      {
       "output_type": "stream",
       "stream": "stdout",
       "text": [
        "                            WLS Regression Results                            \n",
        "==============================================================================\n",
        "Dep. Variable:                 growth   R-squared:                       0.784\n",
        "Model:                            WLS   Adj. R-squared:                  0.733\n",
        "Method:                 Least Squares   F-statistic:                     15.42\n",
        "Date:                Sun, 11 Nov 2012   Prob (F-statistic):           1.69e-05\n",
        "Time:                        10:59:14   Log-Likelihood:                 86.143\n",
        "No. Observations:                  22   AIC:                            -162.3\n",
        "Df Residuals:                      17   BIC:                            -156.8\n",
        "Df Model:                           4                                         \n",
        "==============================================================================\n",
        "                 coef    std err          t      P>|t|      [95.0% Conf. Int.]\n",
        "------------------------------------------------------------------------------\n",
        "const          0.1469      0.020      7.330      0.000         0.105     0.189\n",
        "lngdp60       -0.0155      0.002     -6.459      0.000        -0.021    -0.010\n",
        "popgrowth     -0.0059      0.002     -3.115      0.006        -0.010    -0.002\n",
        "igdp           0.0005      0.000      1.893      0.075     -5.49e-05     0.001\n",
        "school         0.0012      0.001      1.965      0.066     -8.65e-05     0.002\n",
        "==============================================================================\n",
        "Omnibus:                        1.193   Durbin-Watson:                   1.846\n",
        "Prob(Omnibus):                  0.551   Jarque-Bera (JB):                0.875\n",
        "Skew:                           0.470   Prob(JB):                        0.646\n",
        "Kurtosis:                       2.733   Cond. No.                         503.\n",
        "==============================================================================\n"
       ]
      }
     ],
     "prompt_number": 142
    },
    {
     "cell_type": "markdown",
     "metadata": {},
     "source": [
      "Want to check the above results by replicating WLS by hand. Do the following:\n",
      "\n",
      "1. Generate a new dependent variable by dividing by $\\sqrt{school}$.\n",
      "2. Generate a new regressors for lngdp, popgrowth, igdp and school by dividing them each by $\\sqrt{school}$.\n",
      "3. Generate a new regressor for the constant by dividing 1 by $\\sqrt{school}$.\n",
      "4. Run an OLS regression with the new variables.  Don\u2019t include a constant. "
     ]
    },
    {
     "cell_type": "code",
     "collapsed": false,
     "input": [
      "# generate the new dependent variable\n",
      "mrw_1992_data_OECD['growth_wls'] = mrw_1992_data_OECD['growth'] * (1.0 / np.sqrt(mrw_1992_data_OECD['school']))"
     ],
     "language": "python",
     "metadata": {},
     "outputs": [],
     "prompt_number": 26
    },
    {
     "cell_type": "code",
     "collapsed": false,
     "input": [
      "# generate the new regressors\n",
      "mrw_1992_data_OECD['lngdp60_wls'] = mrw_1992_data_OECD['lngdp60'] * (1.0 / np.sqrt(mrw_1992_data_OECD['school']))\n",
      "mrw_1992_data_OECD['popgrowth_wls'] = mrw_1992_data_OECD['popgrowth'] * (1.0 / np.sqrt(mrw_1992_data_OECD['school']))\n",
      "mrw_1992_data_OECD['igdp_wls'] = mrw_1992_data_OECD['igdp'] * (1.0 / np.sqrt(mrw_1992_data_OECD['school']))\n",
      "mrw_1992_data_OECD['school_wls'] = mrw_1992_data_OECD['school'] * (1.0 / np.sqrt(mrw_1992_data_OECD['school']))"
     ],
     "language": "python",
     "metadata": {},
     "outputs": [],
     "prompt_number": 28
    },
    {
     "cell_type": "code",
     "collapsed": false,
     "input": [
      "# create a new constant term\n",
      "mrw_1992_data_OECD['constant_wls'] = (1.0 / np.sqrt(mrw_1992_data_OECD['school']))"
     ],
     "language": "python",
     "metadata": {},
     "outputs": [],
     "prompt_number": 30
    },
    {
     "cell_type": "code",
     "collapsed": false,
     "input": [
      "# new regressors\n",
      "X = mrw_1992_data_OECD[['constant_wls', 'lngdp60_wls', 'popgrowth_wls', 'igdp_wls', 'school_wls']]\n",
      "\n",
      "# create an OLS model object\n",
      "model_WLSb = sm.OLS(mrw_1992_data_OECD['growth_wls'], X)"
     ],
     "language": "python",
     "metadata": {},
     "outputs": [],
     "prompt_number": 141
    },
    {
     "cell_type": "code",
     "collapsed": false,
     "input": [
      "# estimate this model using OLS\n",
      "results_WLSb = model_WLSb.fit()\n",
      "\n",
      "# print the results\n",
      "print results_WLSb.summary()"
     ],
     "language": "python",
     "metadata": {},
     "outputs": [
      {
       "output_type": "stream",
       "stream": "stdout",
       "text": [
        "                            OLS Regression Results                            \n",
        "==============================================================================\n",
        "Dep. Variable:             growth_wls   R-squared:                       0.784\n",
        "Model:                            OLS   Adj. R-squared:                  0.733\n",
        "Method:                 Least Squares   F-statistic:                     15.42\n",
        "Date:                Sun, 11 Nov 2012   Prob (F-statistic):           1.69e-05\n",
        "Time:                        10:59:34   Log-Likelihood:                 110.10\n",
        "No. Observations:                  22   AIC:                            -210.2\n",
        "Df Residuals:                      17   BIC:                            -204.7\n",
        "Df Model:                           4                                         \n",
        "=================================================================================\n",
        "                    coef    std err          t      P>|t|      [95.0% Conf. Int.]\n",
        "---------------------------------------------------------------------------------\n",
        "constant_wls      0.1469      0.020      7.330      0.000         0.105     0.189\n",
        "lngdp60_wls      -0.0155      0.002     -6.459      0.000        -0.021    -0.010\n",
        "popgrowth_wls    -0.0059      0.002     -3.115      0.006        -0.010    -0.002\n",
        "igdp_wls          0.0005      0.000      1.893      0.075     -5.49e-05     0.001\n",
        "school_wls        0.0012      0.001      1.965      0.066     -8.65e-05     0.002\n",
        "==============================================================================\n",
        "Omnibus:                        1.193   Durbin-Watson:                   1.846\n",
        "Prob(Omnibus):                  0.551   Jarque-Bera (JB):                0.875\n",
        "Skew:                           0.470   Prob(JB):                        0.646\n",
        "Kurtosis:                       2.733   Cond. No.                         503.\n",
        "==============================================================================\n"
       ]
      }
     ],
     "prompt_number": 143
    },
    {
     "cell_type": "code",
     "collapsed": false,
     "input": [
      "# compare with WLS results...they should be the same (although log-likelihood, AIC, and BIC are different!)\n",
      "print results_WLS.summary()"
     ],
     "language": "python",
     "metadata": {},
     "outputs": [
      {
       "output_type": "stream",
       "stream": "stdout",
       "text": [
        "                            WLS Regression Results                            \n",
        "==============================================================================\n",
        "Dep. Variable:                 growth   R-squared:                       0.784\n",
        "Model:                            WLS   Adj. R-squared:                  0.733\n",
        "Method:                 Least Squares   F-statistic:                     15.42\n",
        "Date:                Sun, 11 Nov 2012   Prob (F-statistic):           1.69e-05\n",
        "Time:                        10:59:39   Log-Likelihood:                 86.143\n",
        "No. Observations:                  22   AIC:                            -162.3\n",
        "Df Residuals:                      17   BIC:                            -156.8\n",
        "Df Model:                           4                                         \n",
        "==============================================================================\n",
        "                 coef    std err          t      P>|t|      [95.0% Conf. Int.]\n",
        "------------------------------------------------------------------------------\n",
        "const          0.1469      0.020      7.330      0.000         0.105     0.189\n",
        "lngdp60       -0.0155      0.002     -6.459      0.000        -0.021    -0.010\n",
        "popgrowth     -0.0059      0.002     -3.115      0.006        -0.010    -0.002\n",
        "igdp           0.0005      0.000      1.893      0.075     -5.49e-05     0.001\n",
        "school         0.0012      0.001      1.965      0.066     -8.65e-05     0.002\n",
        "==============================================================================\n",
        "Omnibus:                        1.193   Durbin-Watson:                   1.846\n",
        "Prob(Omnibus):                  0.551   Jarque-Bera (JB):                0.875\n",
        "Skew:                           0.470   Prob(JB):                        0.646\n",
        "Kurtosis:                       2.733   Cond. No.                         503.\n",
        "==============================================================================\n"
       ]
      }
     ],
     "prompt_number": 144
    },
    {
     "cell_type": "markdown",
     "metadata": {},
     "source": [
      "As a further check of the above results (and as a baby introduction to the RPy2 library), we will replicate the above results in R! First, need to convert our Pandas DataFrame object into something that R can understand.  See the [RPy2](http://rpy.sourceforge.net/rpy2/doc-dev/html/introduction.html) and [Pandas](http://pandas.pydata.org/pandas-docs/stable/r_interface.html) documentation for more details."
     ]
    },
    {
     "cell_type": "code",
     "collapsed": false,
     "input": [
      "import rpy2.robjects as robjects\n",
      "import pandas.rpy.common as com"
     ],
     "language": "python",
     "metadata": {},
     "outputs": []
    },
    {
     "cell_type": "code",
     "collapsed": false,
     "input": [
      "# convert data to R dataframe\n",
      "mrw_1992_data_OECD_R = com.convert_to_r_dataframe(mrw_1992_data_OECD)"
     ],
     "language": "python",
     "metadata": {},
     "outputs": [],
     "prompt_number": 74
    },
    {
     "cell_type": "code",
     "collapsed": false,
     "input": [
      "# create the weights\n",
      "weights = robjects.FloatVector(1 / mrw_1992_data_OECD.school.values)\n",
      "\n",
      "# estimate the above regression using WLS within R\n",
      "model_WLSr = robjects.r.lm(\"growth ~ lngdp60 + popgrowth + igdp + school\", data=mrw_1992_data_OECD_R, weights=weights)\n",
      "\n",
      "# store the results\n",
      "results_WLSr = robjects.r.summary(model_WLSr)\n",
      "\n",
      "# extract and display the coefficients (results are identical to those obtained above!)\n",
      "print results_WLSr.rx2('coefficients')"
     ],
     "language": "python",
     "metadata": {},
     "outputs": [
      {
       "output_type": "stream",
       "stream": "stdout",
       "text": [
        "                 Estimate   Std. Error   t value     Pr(>|t|)\n",
        "(Intercept)  0.1468919556 0.0200407878  7.329650 1.176413e-06\n",
        "lngdp60     -0.0155397112 0.0024058708 -6.459080 5.885736e-06\n",
        "popgrowth   -0.0059465498 0.0019088005 -3.115333 6.294228e-03\n",
        "igdp         0.0004803955 0.0002537089  1.893491 7.544101e-02\n",
        "school       0.0011753699 0.0005981184  1.965113 6.595845e-02\n",
        "\n"
       ]
      }
     ],
     "prompt_number": 145
    },
    {
     "cell_type": "code",
     "collapsed": false,
     "input": [
      "# confirm that reported r-squared differs (but matches that reported in STATA)!\n",
      "print results_WLSr.rx2('r.squared')"
     ],
     "language": "python",
     "metadata": {},
     "outputs": [
      {
       "output_type": "stream",
       "stream": "stdout",
       "text": [
        "[1] 0.7428592\n",
        "\n"
       ]
      }
     ],
     "prompt_number": 146
    },
    {
     "cell_type": "markdown",
     "metadata": {},
     "source": [
      "###Exercise\n",
      "\n",
      "What if the variance of the error is proportional to $school^2$?  What should we weight each observation by?  Re-estimate the above model using WLS with your new weighting scheme. Can you replicate the result by hand?"
     ]
    },
    {
     "cell_type": "code",
     "collapsed": false,
     "input": [
      "# regressors\n",
      "X = sm.add_constant(mrw_1992_data_OECD[['lngdp60', 'popgrowth', 'igdp', 'school']], prepend=True)\n",
      "\n",
      "# create the WLS model object\n",
      "model_WLSc = sm.WLS(mrw_1992_data_OECD['growth'], X, weights=1.0 / mrw_1992_data_OECD['school']**2)"
     ],
     "language": "python",
     "metadata": {},
     "outputs": [],
     "prompt_number": 148
    },
    {
     "cell_type": "code",
     "collapsed": false,
     "input": [
      "# fit the model using WLS\n",
      "results_WLSc = model_WLSc.fit()\n",
      "\n",
      "# print a summary of the results!\n",
      "print results_WLSc.summary()"
     ],
     "language": "python",
     "metadata": {},
     "outputs": [
      {
       "output_type": "stream",
       "stream": "stdout",
       "text": [
        "                            WLS Regression Results                            \n",
        "==============================================================================\n",
        "Dep. Variable:                 growth   R-squared:                       0.866\n",
        "Model:                            WLS   Adj. R-squared:                  0.835\n",
        "Method:                 Least Squares   F-statistic:                     27.56\n",
        "Date:                Sun, 11 Nov 2012   Prob (F-statistic):           3.10e-07\n",
        "Time:                        11:01:03   Log-Likelihood:                 87.582\n",
        "No. Observations:                  22   AIC:                            -165.2\n",
        "Df Residuals:                      17   BIC:                            -159.7\n",
        "Df Model:                           4                                         \n",
        "==============================================================================\n",
        "                 coef    std err          t      P>|t|      [95.0% Conf. Int.]\n",
        "------------------------------------------------------------------------------\n",
        "const          0.1445      0.017      8.725      0.000         0.110     0.179\n",
        "lngdp60       -0.0153      0.002     -7.549      0.000        -0.020    -0.011\n",
        "popgrowth     -0.0060      0.002     -3.674      0.002        -0.009    -0.003\n",
        "igdp           0.0004      0.000      1.822      0.086     -6.94e-05     0.001\n",
        "school         0.0013      0.000      2.747      0.014         0.000     0.002\n",
        "==============================================================================\n",
        "Omnibus:                        1.238   Durbin-Watson:                   1.945\n",
        "Prob(Omnibus):                  0.539   Jarque-Bera (JB):                0.945\n",
        "Skew:                           0.484   Prob(JB):                        0.623\n",
        "Kurtosis:                       2.694   Cond. No.                         462.\n",
        "==============================================================================\n"
       ]
      }
     ],
     "prompt_number": 149
    },
    {
     "cell_type": "markdown",
     "metadata": {},
     "source": [
      "Task 3: FGLS (Feasible GLS)\n",
      "---------------------------\n",
      "\n",
      "In reality, of course, we rarely know the form of heteroskedasticity.  The GLS estimator is typically  infeasible \u2013 it depends on unknown parameters.  In Feasible GLS, we posit a functional form for the skedastic function and then try to estimate the parameters.  There are lots of possible choices for functional form in practice.  We will use one commonly-employed procedure that is discussed in Greene (2010), \n",
      "Econometric Analysis (section 9.7) and Wooldridge (2009),  Introductory Econometrics (section 8.4).\n",
      "\n",
      "We specify that the skedastic function takes the following multiplicative/exponential linear form:\n",
      "\n",
      "$$ Var(\\epsilon_{i}|X) = \\sigma^2 v_{i}(x_{i}) = \\sigma^2 e^{x_{i}'\\alpha} = \\sigma^2 e^{\\alpha_{1}x_{i,1} + \\dots + \\alpha_{k}x_{i,k}}$$\n",
      "\n",
      "Our task is to obtain estimates (fitted values) of $v_{i}(x_{i})$ (i.e., $\\widehat{v_{i}(x_{i})}$). An advantage of this functional form is that because we will actually start by taking logs, then estimating, and finally exponentiating fitted values of $\\alpha_{1}x_{i,1} + \\dots + \\alpha_{k}x_{i,k}$ to reverse the original logging we are guaranteed to get positive weights for our WLS estimation.\n",
      "\n",
      "We implement this as follows:\n",
      "\n",
      "1. Estimate the original equation using OLS.  Collect the residuals, $e_{i}$, and square them.\n",
      "2. Create a new variable $g_{i} = ln(e_{i}^2)$, i.e., the log of the squared residual.\n",
      "3. Using $g_{i}$ as the dependent variable, estimate the following using OLS: $g_{i} = \\alpha_{1}x_{i,1} + \\dots + \\alpha_{k}x_{i,k} + u_{i}$, where $u_{i}$ is an error term.\n",
      "4. Collect the fitted values $\\hat{g}_{i}$ from this artificial regression.\n",
      "5. Create a new variable $\\hat{h_{i}} = e^{\\hat{g_{i}}}$.  This is our estimated $\\widehat{v_{i}(x_{i})}$.\n",
      "6. Perform WLS using $\\frac{1}{\\sqrt{\\hat{h_{i}}}}$ as weights.\n",
      "\n",
      "Remember that in Statsmodels (and R!) the square root is taken for us and we need say only $weights = \\frac{1}{\\hat{h_{i}}}$. **Question: How do we know that this is the right skedastic function to use? Answer: We don\u2019t!**"
     ]
    },
    {
     "cell_type": "code",
     "collapsed": false,
     "input": [
      "# create a new variable g using the OLS residuals\n",
      "g = np.log(model.resid**2)"
     ],
     "language": "python",
     "metadata": {},
     "outputs": [],
     "prompt_number": 132
    },
    {
     "cell_type": "code",
     "collapsed": false,
     "input": [
      "# regressors\n",
      "X = sm.add_constant(mrw_1992_data_OECD[['lngdp60', 'popgrowth', 'igdp', 'school']], prepend=True)\n",
      "\n",
      "# regression of g on matrix of regressors X\n",
      "model_var = sm.OLS(g, X)"
     ],
     "language": "python",
     "metadata": {},
     "outputs": [],
     "prompt_number": 150
    },
    {
     "cell_type": "code",
     "collapsed": false,
     "input": [
      "# estimate the model using OLS\n",
      "results_var = model_var.fit()"
     ],
     "language": "python",
     "metadata": {},
     "outputs": [],
     "prompt_number": 151
    },
    {
     "cell_type": "code",
     "collapsed": false,
     "input": [
      "# store the fitted values from this regression\n",
      "g_hat = results_var.fittedvalues"
     ],
     "language": "python",
     "metadata": {},
     "outputs": [],
     "prompt_number": 152
    },
    {
     "cell_type": "code",
     "collapsed": false,
     "input": [
      "# exponentiate the fitted values\n",
      "h_hat = np.exp(g_hat)"
     ],
     "language": "python",
     "metadata": {},
     "outputs": [],
     "prompt_number": 153
    },
    {
     "cell_type": "code",
     "collapsed": false,
     "input": [
      "# create the WLS model object using h_hat as weights\n",
      "model_WLSd = sm.WLS(mrw_1992_data_OECD['growth'], X, weights=1.0 / h_hat)"
     ],
     "language": "python",
     "metadata": {},
     "outputs": [],
     "prompt_number": 154
    },
    {
     "cell_type": "code",
     "collapsed": false,
     "input": [
      "# fit the model using WLS...\n",
      "results_WLSd = model_WLSd.fit()\n",
      "\n",
      "# ...and print a summary of the results\n",
      "print results_WLSd.summary()"
     ],
     "language": "python",
     "metadata": {},
     "outputs": [
      {
       "output_type": "stream",
       "stream": "stdout",
       "text": [
        "                            WLS Regression Results                            \n",
        "==============================================================================\n",
        "Dep. Variable:                 growth   R-squared:                       0.945\n",
        "Model:                            WLS   Adj. R-squared:                  0.932\n",
        "Method:                 Least Squares   F-statistic:                     72.70\n",
        "Date:                Sun, 11 Nov 2012   Prob (F-statistic):           1.84e-10\n",
        "Time:                        11:02:50   Log-Likelihood:                 90.340\n",
        "No. Observations:                  22   AIC:                            -170.7\n",
        "Df Residuals:                      17   BIC:                            -165.2\n",
        "Df Model:                           4                                         \n",
        "==============================================================================\n",
        "                 coef    std err          t      P>|t|      [95.0% Conf. Int.]\n",
        "------------------------------------------------------------------------------\n",
        "const          0.1478      0.016      9.464      0.000         0.115     0.181\n",
        "lngdp60       -0.0158      0.002     -8.425      0.000        -0.020    -0.012\n",
        "popgrowth     -0.0051      0.002     -2.605      0.018        -0.009    -0.001\n",
        "igdp           0.0005      0.000      2.075      0.053     -7.61e-06     0.001\n",
        "school         0.0014      0.000      3.636      0.002         0.001     0.002\n",
        "==============================================================================\n",
        "Omnibus:                        1.092   Durbin-Watson:                   2.253\n",
        "Prob(Omnibus):                  0.579   Jarque-Bera (JB):                1.025\n",
        "Skew:                           0.396   Prob(JB):                        0.599\n",
        "Kurtosis:                       2.299   Cond. No.                         626.\n",
        "==============================================================================\n"
       ]
      }
     ],
     "prompt_number": 155
    },
    {
     "cell_type": "markdown",
     "metadata": {},
     "source": [
      "Confirm results using R..."
     ]
    },
    {
     "cell_type": "code",
     "collapsed": false,
     "input": [
      "# create the weights\n",
      "weights = robjects.FloatVector(1 / h_hat)\n",
      "\n",
      "# estimate the above regression using WLS within R\n",
      "model_WLSdr = robjects.r.lm(\"growth ~ lngdp60 + popgrowth + igdp + school\", data=mrw_1992_data_OECD_R, weights=weights)\n",
      "\n",
      "# store the results\n",
      "results_WLSdr = robjects.r.summary(model_WLSdr)\n",
      "\n",
      "# extract and display the coefficients (results are identical to those obtained above!)\n",
      "print results_WLSdr.rx2('coefficients')"
     ],
     "language": "python",
     "metadata": {},
     "outputs": [
      {
       "output_type": "stream",
       "stream": "stdout",
       "text": [
        "                 Estimate   Std. Error   t value     Pr(>|t|)\n",
        "(Intercept)  0.1478109410 0.0156188105  9.463649 3.451981e-08\n",
        "lngdp60     -0.0158475388 0.0018810812 -8.424697 1.792134e-07\n",
        "popgrowth   -0.0050803061 0.0019501193 -2.605126 1.848302e-02\n",
        "igdp         0.0004553843 0.0002194498  2.075119 5.346870e-02\n",
        "school       0.0014025742 0.0003857490  3.635976 2.042969e-03\n",
        "\n"
       ]
      }
     ],
     "prompt_number": 156
    },
    {
     "cell_type": "code",
     "collapsed": false,
     "input": [
      "# confirm that reported r-squared matches STATA output!\n",
      "print results_WLSdr.rx2('r.squared')"
     ],
     "language": "python",
     "metadata": {},
     "outputs": [
      {
       "output_type": "stream",
       "stream": "stdout",
       "text": [
        "[1] 0.8495036\n",
        "\n"
       ]
      }
     ],
     "prompt_number": 157
    },
    {
     "cell_type": "markdown",
     "metadata": {},
     "source": [
      "Create the FGLS residuals and plot them against the transformed (weighted) regressors, as you did earlier with the OLS residuals."
     ]
    },
    {
     "cell_type": "code",
     "collapsed": false,
     "input": [
      "fig = plt.figure()\n",
      "\n",
      "# plot FGLS residuals against transformed lngdp60\n",
      "ax = fig.add_subplot(111)\n",
      "ax.scatter(mrw_1992_data_OECD['lngdp60'] / np.sqrt(h_hat), results_WLSd.resid, marker='o')\n",
      "ax.set_xlabel(r'$\\frac{lngdp60}{\\sqrt{\\hat{h}}}$')\n",
      "ax.set_ylabel('FGLS Residuals')\n",
      "ax.set_title(\"Now there seems to be more evidence of heteroskedasticy!\")\n",
      "\n",
      "plt.show()"
     ],
     "language": "python",
     "metadata": {},
     "outputs": [
      {
       "output_type": "display_data",
       "png": "[encoded data removed]"
      }
     ],
     "prompt_number": 163
    },
    {
     "cell_type": "code",
     "collapsed": false,
     "input": [
      "fig = plt.figure()\n",
      "\n",
      "# plot FGLS residuals against transformed popgrowth\n",
      "ax = fig.add_subplot(111)\n",
      "ax.scatter(mrw_1992_data_OECD['popgrowth'] / np.sqrt(h_hat), results_WLSd.resid, marker='o')\n",
      "ax.set_xlabel(r'$\\frac{popgrowth}{\\sqrt{\\hat{h}}}$')\n",
      "ax.set_ylabel('FGLS Residuals')\n",
      "ax.set_title(\"Now there seems to be more evidence of heteroskedasticy!\")\n",
      "\n",
      "plt.show()"
     ],
     "language": "python",
     "metadata": {},
     "outputs": [
      {
       "output_type": "display_data",
       "png": "[encoded data removed]"
      }
     ],
     "prompt_number": 165
    },
    {
     "cell_type": "code",
     "collapsed": false,
     "input": [
      "fig = plt.figure()\n",
      "\n",
      "# plot FGLS residual against transformed igdp\n",
      "ax = fig.add_subplot(111)\n",
      "ax.scatter(mrw_1992_data_OECD['igdp'] / np.sqrt(h_hat), results_WLSd.resid, marker='o')\n",
      "ax.set_xlabel(r'$\\frac{igdp}{\\sqrt{\\hat{h}}}$')\n",
      "ax.set_ylabel('FGLS Residuals')\n",
      "ax.set_title(\"Now there seems to be more evidence of heteroskedasticy!\")\n",
      "\n",
      "plt.show()"
     ],
     "language": "python",
     "metadata": {},
     "outputs": [
      {
       "output_type": "display_data",
       "png": "[encoded data removed]"
      }
     ],
     "prompt_number": 166
    },
    {
     "cell_type": "code",
     "collapsed": false,
     "input": [
      "fig = plt.figure()\n",
      "\n",
      "# plot FGLS residual against transformed school\n",
      "ax = fig.add_subplot(111)\n",
      "ax.scatter(mrw_1992_data_OECD['school'] / np.sqrt(h_hat), results_WLSd.resid, marker='o')\n",
      "ax.set_xlabel(r'$\\frac{school}{\\sqrt{\\hat{h}}}$')\n",
      "ax.set_ylabel('FGLS Residuals')\n",
      "ax.set_title(\"Now there seems to be more evidence of heteroskedasticy!\")\n",
      "\n",
      "plt.show()"
     ],
     "language": "python",
     "metadata": {},
     "outputs": [
      {
       "output_type": "display_data",
       "png": "[encoded data removed]"
      }
     ],
     "prompt_number": 168
    },
    {
     "cell_type": "markdown",
     "metadata": {},
     "source": [
      "Comparing the plots of OLS residuals and FGLS residuals there seems to be more evidence for heteroskedasticity in the FGLS residuals! Could this be the result of a poor choice for the functional form of the variance function?  "
     ]
    },
    {
     "cell_type": "markdown",
     "metadata": {},
     "source": [
      "Task 4: Looking ahead to heteroskedastic-robust SEs\n",
      "---------------------------------------------------\n",
      "\n",
      "FGLS is the classical approach to heteroskedasticity. It is a parametric approach: we specify the functional form of the heteroskedasticity, and estimate the parameters of the skedastic function. The modern alternative is to use a variance estimator which is robust to arbitrary \n",
      "heteroskedasticity.  That is, instead of the classical variance estimator \n",
      "\n",
      "$$Var(\\beta)= \\sigma^2 (X'X)^{-1}$$\n",
      "\n",
      "we use a different estimator that will still be (asymptotically) correct even if heteroskedasticity is present, and  for  whatever the form that heteroskedasticity actually takes.  Since implementing this heteroskedastic-robust variance estimator involves no estimation of parameters of a skedastic function, we say it is nonparametric.\n",
      "\n",
      "This variance estimator is known by various names.  The all-inclusive name would be the [Eicker-Huber-White-sandwich-heteroskedastic-robust covariance  estimator](http://en.wikipedia.org/wiki/Heteroscedasticity-consistent_standard_errors), but we\u2019ll usually say either \u201cheteroskedastic-robust\u201d or just \u201crobust\u201d. And since we usually work with standard errors instead of variances, we talk about using \u201crobust SEs\u201d.\n",
      "\n",
      "Robust SEs can be used with OLS estimation when heteroskedasticity is suspected. Note that the OLS coefficients do not change; only the SEs change. Robust SEs can also be used with FGLS estimation when there are suspicions that the skedastic form chosen may not be correct and that heteroskedasticity may still be present even after the GLS transformation.\n",
      "\n",
      "In this task, see what happens to the OLS estimates when you use the robust standard errors.  In Statsmodels, [various flavors](http://statsmodels.sourceforge.net/stable/generated/statsmodels.regression.linear_model.RegressionResults.html) of robust standard errors are automatically calculated and available for inspection upon estimation of a model using either OLS or GLS.  For details of the various flavors of Sandwich estimators see [Zeileis (2006)](http://cran.r-project.org/web/packages/sandwich/vignettes/sandwich.pdf) (in particular Section 3). **Currently robust standard errors are not supported for FGLS/GLS in statsmodels...so we will use RPy2!**"
     ]
    },
    {
     "cell_type": "code",
     "collapsed": false,
     "input": [
      "# regressors\n",
      "X = sm.add_constant(mrw_1992_data_OECD[['lngdp60', 'popgrowth', 'igdp', 'school']], prepend=True)\n",
      "\n",
      "# create the OLS model object\n",
      "model_OLS = sm.OLS(mrw_1992_data_OECD['growth'], X)"
     ],
     "language": "python",
     "metadata": {},
     "outputs": [],
     "prompt_number": 178
    },
    {
     "cell_type": "code",
     "collapsed": false,
     "input": [
      "# fit the model using OLS\n",
      "results_OLS = model_OLS.fit()\n",
      "\n",
      "# summarize the results\n",
      "print results_OLS.summary()"
     ],
     "language": "python",
     "metadata": {},
     "outputs": [
      {
       "output_type": "stream",
       "stream": "stdout",
       "text": [
        "                            OLS Regression Results                            \n",
        "==============================================================================\n",
        "Dep. Variable:                 growth   R-squared:                       0.717\n",
        "Model:                            OLS   Adj. R-squared:                  0.651\n",
        "Method:                 Least Squares   F-statistic:                     10.78\n",
        "Date:                Sun, 11 Nov 2012   Prob (F-statistic):           0.000155\n",
        "Time:                        13:18:05   Log-Likelihood:                 84.595\n",
        "No. Observations:                  22   AIC:                            -159.2\n",
        "Df Residuals:                      17   BIC:                            -153.7\n",
        "Df Model:                           4                                         \n",
        "==============================================================================\n",
        "                 coef    std err          t      P>|t|      [95.0% Conf. Int.]\n",
        "------------------------------------------------------------------------------\n",
        "const          0.1479      0.024      6.136      0.000         0.097     0.199\n",
        "lngdp60       -0.0156      0.003     -5.444      0.000        -0.022    -0.010\n",
        "popgrowth     -0.0057      0.002     -2.598      0.019        -0.010    -0.001\n",
        "igdp           0.0005      0.000      1.963      0.066     -3.95e-05     0.001\n",
        "school         0.0009      0.001      1.250      0.228        -0.001     0.002\n",
        "==============================================================================\n",
        "Omnibus:                        1.349   Durbin-Watson:                   1.740\n",
        "Prob(Omnibus):                  0.509   Jarque-Bera (JB):                0.917\n",
        "Skew:                           0.491   Prob(JB):                        0.632\n",
        "Kurtosis:                       2.805   Cond. No.                         563.\n",
        "==============================================================================\n"
       ]
      }
     ],
     "prompt_number": 197
    },
    {
     "cell_type": "code",
     "collapsed": false,
     "input": [
      "# estimates weights using squared residuals (w_i = \\hat{e}_{i}^2)\n",
      "print results_OLS.HC0_se"
     ],
     "language": "python",
     "metadata": {},
     "outputs": [
      {
       "output_type": "stream",
       "stream": "stdout",
       "text": [
        "const        0.019628\n",
        "lngdp60      0.002685\n",
        "popgrowth    0.001449\n",
        "igdp         0.000311\n",
        "school       0.000613\n"
       ]
      }
     ],
     "prompt_number": 209
    },
    {
     "cell_type": "code",
     "collapsed": false,
     "input": [
      "# finite sample correction to HC0 (w_i = (n / (n - k))\\hat{e}_{i}^2) (Default in STATA!)\n",
      "print results_OLS.HC1_se"
     ],
     "language": "python",
     "metadata": {},
     "outputs": [
      {
       "output_type": "stream",
       "stream": "stdout",
       "text": [
        "const        0.022328\n",
        "lngdp60      0.003054\n",
        "popgrowth    0.001649\n",
        "igdp         0.000354\n",
        "school       0.000698\n"
       ]
      }
     ],
     "prompt_number": 210
    },
    {
     "cell_type": "code",
     "collapsed": false,
     "input": [
      "# uses information from the diagonal elements of the projection matrix (w_i = \\hat{e}_{i}^2 / (1 - h_{i}))\n",
      "print results_OLS.HC2_se"
     ],
     "language": "python",
     "metadata": {},
     "outputs": [
      {
       "output_type": "stream",
       "stream": "stdout",
       "text": [
        "const        0.023428\n",
        "lngdp60      0.003281\n",
        "popgrowth    0.001762\n",
        "igdp         0.000378\n",
        "school       0.000754\n"
       ]
      }
     ],
     "prompt_number": 207
    },
    {
     "cell_type": "code",
     "collapsed": false,
     "input": [
      "# similar to HC2 (w_i = \\hat{e}_{i}^2 / (1 - h_{i})^2) (Default in R)\n",
      "print results_OLS.HC3_se"
     ],
     "language": "python",
     "metadata": {},
     "outputs": [
      {
       "output_type": "stream",
       "stream": "stdout",
       "text": [
        "const        0.028711\n",
        "lngdp60      0.004088\n",
        "popgrowth    0.002241\n",
        "igdp         0.000462\n",
        "school       0.000961\n"
       ]
      }
     ],
     "prompt_number": 205
    },
    {
     "cell_type": "markdown",
     "metadata": {},
     "source": [
      "The following code shows how to conduct hypothesis tests with heteroskedastic consistent standard errors (i.e., t-tests and an F-test of the joint significant of all coefficients save for the constant). STATA default is equivalent to using 'HC1'; R defaults to using 'HC3'. Note that inferences don't really change much.  Coefficients on lngdp60 and popgrowth remain highly significant, whilst those on igdp and school are not significant at the 5% level."
     ]
    },
    {
     "cell_type": "code",
     "collapsed": false,
     "input": [
      "# create the matrix of coefficient restrictions\n",
      "R = np.identity(len(results_OLS.params))\n",
      "\n",
      "# t-tests of individual significance of parameter values\n",
      "results_OLS_t_test = results_OLS.t_test(R, cov_p=results_OLS.cov_HC1)\n",
      "\n",
      "print \"Test statistics: \", results_OLS_t_test.tvalue\n",
      "print \"p-Values:        \", results_OLS_t_test.pvalue"
     ],
     "language": "python",
     "metadata": {},
     "outputs": [
      {
       "output_type": "stream",
       "stream": "stdout",
       "text": [
        "Test statistics:  [ 6.62566394 -5.09515956 -3.45339031  1.49025458  1.31595666]\n",
        "p-Values:         [  2.14536985e-06   4.49194964e-05   1.51786249e-03   7.72387783e-02   1.02829355e-01]\n"
       ]
      }
     ],
     "prompt_number": 242
    },
    {
     "cell_type": "code",
     "collapsed": false,
     "input": [
      "R = np.identity(len(results_OLS.params)) \n",
      "R = R[1:,:] # drop the constant!\n",
      "\n",
      "# compare with results reported from STATA\n",
      "results_OLS_f_test = results_OLS.f_test(R, cov_p=results_OLS.cov_HC1)\n",
      "\n",
      "print \"F statistic: \", results_OLS_f_test.fvalue\n",
      "print \"p-Value:     \", results_OLS_f_test.pvalue"
     ],
     "language": "python",
     "metadata": {},
     "outputs": [
      {
       "output_type": "stream",
       "stream": "stdout",
       "text": [
        "F statistic:  [[ 9.21958135]]\n",
        "p-Value:      [[ 0.00037623]]\n"
       ]
      }
     ],
     "prompt_number": 240
    },
    {
     "cell_type": "markdown",
     "metadata": {},
     "source": [
      "Repeat the above analysis for FGLS.  Currently, Statsmodels only supports heteroskedastic standard errors for OLS estimation.  Thus we will resort to using RPy2 to implement FGLS with heteroskedastic standard errors in R.  First I import some R libraries (these libraries need to be installed already in your local repository for this to work!) and then double check the above analysis of OLS; then I estimate the model using FGLS with heteroskedastic standard errors."
     ]
    },
    {
     "cell_type": "code",
     "collapsed": false,
     "input": [
      "from rpy2.robjects.packages import importr\n",
      "\n",
      "sandwich = importr(\"sandwich\")\n",
      "lmtest = importr(\"lmtest\")"
     ],
     "language": "python",
     "metadata": {},
     "outputs": [],
     "prompt_number": 253
    },
    {
     "cell_type": "code",
     "collapsed": false,
     "input": [
      "# estimate the above regression using OLS within R\n",
      "model_OLSr = robjects.r.lm(\"growth ~ lngdp60 + popgrowth + igdp + school\", data=mrw_1992_data_OECD_R)\n",
      "\n",
      "# store the results\n",
      "results_OLSr = robjects.r.summary(model_OLSr)\n",
      "\n",
      "# extract and display the coefficients (results are identical to those obtained above!)\n",
      "print results_OLSr.rx2('coefficients')"
     ],
     "language": "python",
     "metadata": {},
     "outputs": [
      {
       "output_type": "stream",
       "stream": "stdout",
       "text": [
        "                 Estimate   Std. Error   t value     Pr(>|t|)\n",
        "(Intercept)  0.1479393468 0.0241113003  6.135685 1.098889e-05\n",
        "lngdp60     -0.0155604049 0.0028580793 -5.444357 4.372528e-05\n",
        "popgrowth   -0.0056936551 0.0021918850 -2.597607 1.877275e-02\n",
        "igdp         0.0005274332 0.0002687107  1.962829 6.624349e-02\n",
        "school       0.0009183333 0.0007348521  1.249684 2.283466e-01\n",
        "\n"
       ]
      }
     ],
     "prompt_number": 254
    },
    {
     "cell_type": "code",
     "collapsed": false,
     "input": [
      "# compute the variance-covariance matrix with type=HC1 (for comparison purposes) \n",
      "vcov = sandwich.vcovHC(model_OLSr, type=\"HC1\")"
     ],
     "language": "python",
     "metadata": {},
     "outputs": [],
     "prompt_number": 257
    },
    {
     "cell_type": "code",
     "collapsed": false,
     "input": [
      "# conduct a t-test of the coefficients using HC1 standard errors\n",
      "print lmtest.coeftest(model_OLSr, vcov=vcov)"
     ],
     "language": "python",
     "metadata": {},
     "outputs": [
      {
       "output_type": "stream",
       "stream": "stdout",
       "text": [
        "\n",
        "t test of coefficients:\n",
        "\n",
        "               Estimate  Std. Error t value  Pr(>|t|)    \n",
        "(Intercept)  0.14793935  0.02232823  6.6257 4.291e-06 ***\n",
        "lngdp60     -0.01556040  0.00305396 -5.0952 8.984e-05 ***\n",
        "popgrowth   -0.00569366  0.00164871 -3.4534  0.003036 ** \n",
        "igdp         0.00052743  0.00035392  1.4903  0.154478    \n",
        "school       0.00091833  0.00069784  1.3160  0.205659    \n",
        "---\n",
        "Signif. codes:  0 \u2018***\u2019 0.001 \u2018**\u2019 0.01 \u2018*\u2019 0.05 \u2018.\u2019 0.1 \u2018 \u2019 1 \n",
        "\n",
        "\n"
       ]
      }
     ],
     "prompt_number": 258
    },
    {
     "cell_type": "code",
     "collapsed": false,
     "input": [
      "# conduct and f-test, again using HC1 standard errors\n",
      "print lmtest.waldtest(model_OLSr, vcov=vcov)"
     ],
     "language": "python",
     "metadata": {},
     "outputs": [
      {
       "output_type": "stream",
       "stream": "stdout",
       "text": [
        "Wald test\n",
        "\n",
        "Model 1: growth ~ lngdp60 + popgrowth + igdp + school\n",
        "Model 2: growth ~ 1\n",
        "  Res.Df Df      F    Pr(>F)    \n",
        "1     17                        \n",
        "2     21 -4 9.2196 0.0003762 ***\n",
        "---\n",
        "Signif. codes:  0 \u2018***\u2019 0.001 \u2018**\u2019 0.01 \u2018*\u2019 0.05 \u2018.\u2019 0.1 \u2018 \u2019 1 \n",
        "\n"
       ]
      }
     ],
     "prompt_number": 260
    },
    {
     "cell_type": "markdown",
     "metadata": {},
     "source": [
      "Now I do the same for FGLS..."
     ]
    },
    {
     "cell_type": "code",
     "collapsed": false,
     "input": [
      "# print the results...\n",
      "print results_WLSdr.rx2('coefficients')"
     ],
     "language": "python",
     "metadata": {},
     "outputs": [
      {
       "output_type": "stream",
       "stream": "stdout",
       "text": [
        "                 Estimate   Std. Error   t value     Pr(>|t|)\n",
        "(Intercept)  0.1478109410 0.0156188105  9.463649 3.451981e-08\n",
        "lngdp60     -0.0158475388 0.0018810812 -8.424697 1.792134e-07\n",
        "popgrowth   -0.0050803061 0.0019501193 -2.605126 1.848302e-02\n",
        "igdp         0.0004553843 0.0002194498  2.075119 5.346870e-02\n",
        "school       0.0014025742 0.0003857490  3.635976 2.042969e-03\n",
        "\n"
       ]
      }
     ],
     "prompt_number": 261
    },
    {
     "cell_type": "code",
     "collapsed": false,
     "input": [
      "# compute the variance-covariance matrix with type=HC1 (for comparison purposes) \n",
      "vcov_WLSdr = sandwich.vcovHC(model_WLSdr, type=\"HC1\")"
     ],
     "language": "python",
     "metadata": {},
     "outputs": [],
     "prompt_number": 262
    },
    {
     "cell_type": "code",
     "collapsed": false,
     "input": [
      "# conduct a t-test of the coefficients using HC1 standard errors\n",
      "print lmtest.coeftest(model_WLSdr, vcov=vcov_WLSdr)"
     ],
     "language": "python",
     "metadata": {},
     "outputs": [
      {
       "output_type": "stream",
       "stream": "stdout",
       "text": [
        "\n",
        "t test of coefficients:\n",
        "\n",
        "               Estimate  Std. Error t value  Pr(>|t|)    \n",
        "(Intercept)  0.14781094  0.01521002  9.7180 2.351e-08 ***\n",
        "lngdp60     -0.01584754  0.00174082 -9.1035 6.022e-08 ***\n",
        "popgrowth   -0.00508031  0.00169141 -3.0036 0.0079932 ** \n",
        "igdp         0.00045538  0.00028191  1.6154 0.1246343    \n",
        "school       0.00140257  0.00034964  4.0115 0.0009044 ***\n",
        "---\n",
        "Signif. codes:  0 \u2018***\u2019 0.001 \u2018**\u2019 0.01 \u2018*\u2019 0.05 \u2018.\u2019 0.1 \u2018 \u2019 1 \n",
        "\n",
        "\n"
       ]
      }
     ],
     "prompt_number": 356
    },
    {
     "cell_type": "code",
     "collapsed": false,
     "input": [
      "# conduct and f-test, again using HC1 standard errors\n",
      "print lmtest.waldtest(model_WLSdr, vcov=vcov_WLSdr)"
     ],
     "language": "python",
     "metadata": {},
     "outputs": [
      {
       "output_type": "stream",
       "stream": "stdout",
       "text": [
        "Wald test\n",
        "\n",
        "Model 1: growth ~ lngdp60 + popgrowth + igdp + school\n",
        "Model 2: growth ~ 1\n",
        "  Res.Df Df      F    Pr(>F)    \n",
        "1     17                        \n",
        "2     21 -4 47.147 5.529e-09 ***\n",
        "---\n",
        "Signif. codes:  0 \u2018***\u2019 0.001 \u2018**\u2019 0.01 \u2018*\u2019 0.05 \u2018.\u2019 0.1 \u2018 \u2019 1 \n",
        "\n"
       ]
      }
     ],
     "prompt_number": 337
    },
    {
     "cell_type": "markdown",
     "metadata": {},
     "source": [
      "These results exactly reproduce those reported in STATA.  FGLS with HC standard errors suggests that $school$ is highly significant.  This is in contrast to results above for OLS with HC standard errors."
     ]
    },
    {
     "cell_type": "markdown",
     "metadata": {},
     "source": [
      "Task 5: OLS, GLS and FGLS \u2013 A Monte Carlo exercise\n",
      "--------------------------------------------------\n",
      "\n",
      "In this task you will perform a Monte Carlo study comparing the performance of 3 different estimators (OLS, GLS and FGLS) combined with 2 different types of variance estimator (classical and heteroskedastic-robust). The DGP (data generation process) is as follows.  We generate 100 observations according to the following specification:\n",
      "\n",
      "$$y_{i} = \\beta_{0} + \\beta_{1}x_{i} + \\epsilon_{i}$$\n",
      "\n",
      "where $\\beta_{0}=0$, $\\beta_{1}=1$, the regressor $x_{i} \\sim U[0,1]\\ $, the variable $u_{i} \\sim N(0,1)\\ $, and the disturbance $\\epsilon_{i} = u_{i}x_{i}$.  The parameter of interest is $\\beta_{1}$. Note that the disturbance term $\\epsilon$ is conditionally heteroskedastic:\n",
      "\n",
      "$$ Var(\\epsilon_{i} | X) = Var(u_{i}x_{i} | X) = x_{i}^2 Var(u_{i}) = x_{i}^2$$\n",
      "\n",
      "Thus the true variance function is $v_{i}(x_{i}) = x_{i}^2$.  In all of the Monte Carlos that follow I will run 10,000 replications.\n"
     ]
    },
    {
     "cell_type": "code",
     "collapsed": false,
     "input": [
      "# create probability distributions representing the variables\n",
      "u = stats.norm(0, 1)\n",
      "x = stats.uniform(0, 1)"
     ],
     "language": "python",
     "metadata": {},
     "outputs": [],
     "prompt_number": 267
    },
    {
     "cell_type": "code",
     "collapsed": false,
     "input": [],
     "language": "python",
     "metadata": {},
     "outputs": []
    },
    {
     "cell_type": "code",
     "collapsed": false,
     "input": [
      "# number of replications\n",
      "reps = 10000\n",
      "\n",
      "# sample size of each replication\n",
      "N = 100\n",
      "\n",
      "# create arrays to store estimates of beta_1\n",
      "OLS_beta_hats = pd.Series(np.zeros(reps))\n",
      "GLS_beta_hats = pd.Series(np.zeros(reps))\n",
      "FGLS_beta_hats = pd.Series(np.zeros(reps))\n",
      "\n",
      "# create arrays to store se of beta_1\n",
      "Classic_OLS_beta_se = pd.Series(np.zeros(reps))\n",
      "Robust_OLS_beta_se = pd.Series(np.zeros(reps))\n",
      "GLS_beta_se = pd.Series(np.zeros(reps))\n",
      "Classic_FGLS_beta_se = pd.Series(np.zeros(reps))\n",
      "Robust_FGLS_beta_se = pd.Series(np.zeros(reps))\n",
      "\n",
      "# create arrays to store t-statistics\n",
      "Classic_OLS_t_stats = pd.Series(np.zeros(reps))\n",
      "Robust_OLS_t_stats = pd.Series(np.zeros(reps))\n",
      "GLS_t_stats = pd.Series(np.zeros(reps))\n",
      "Classic_FGLS_t_stats = pd.Series(np.zeros(reps))\n",
      "Robust_FGLS_t_stats = pd.Series(np.zeros(reps))\n",
      "\n",
      "# create arrays to store p-values\n",
      "Classic_OLS_pvalues = pd.Series(np.zeros(reps))\n",
      "Robust_OLS_pvalues = pd.Series(np.zeros(reps))\n",
      "GLS_pvalues = pd.Series(np.zeros(reps))\n",
      "Classic_FGLS_pvalues = pd.Series(np.zeros(reps))\n",
      "Robust_FGLS_pvalues = pd.Series(np.zeros(reps))\n",
      "\n",
      "for i in xrange(reps):\n",
      "    # specify the DGP\n",
      "    tmp_u = u.rvs(N)\n",
      "    tmp_x = x.rvs(N)\n",
      "    tmp_e = tmp_u * tmp_x\n",
      "    tmp_y = tmp_x + tmp_e\n",
      "    \n",
      "    # create a matrix of regressors\n",
      "    tmp_X = sm.add_constant(tmp_x, prepend=True)\n",
      "    \n",
      "    # create arrays for coefficient tests\n",
      "    R, q = np.array([0, 1]).reshape((1,2)), np.array([[1]])\n",
      "    \n",
      "    # create a t distribution\n",
      "    t_rv = stats.t(N-2)\n",
      "    \n",
      "    ##### OLS with classic standard errors #####\n",
      "    tmp_fit_OLS = sm.OLS(tmp_y, tmp_X).fit()\n",
      "    \n",
      "    # store the estimated slope coefficent\n",
      "    tmp_beta = tmp_fit_OLS.params[1]\n",
      "    OLS_beta_hats[i] = tmp_beta\n",
      "    Classic_OLS_beta_se[i] = tmp_fit_OLS.bse[1]\n",
      "    \n",
      "    # conduct a t-test of the null hypothesis that beta_1 = 1\n",
      "    tmp_t_test_OLS = tmp_fit_OLS.t_test((R, q))\n",
      "    tmp_t_stat = tmp_t_test_OLS.tvalue[0]\n",
      "    Classic_OLS_t_stats[i] = tmp_t_stat\n",
      "    Classic_OLS_pvalues[i] = 2 * (1 - t_rv.cdf(np.abs(tmp_t_stat)))\n",
      "    \n",
      "    ##### OLS with robust standard errors #####\n",
      "    Robust_OLS_beta_se = tmp_fit_OLS.HC1_se[1]\n",
      "    \n",
      "    # conduct a t-test of the null hypothesis that beta_1 = 1\n",
      "    tmp_t_test_OLS = tmp_fit_OLS.t_test((R, q), cov_p=tmp_fit_OLS.cov_HC1)\n",
      "    tmp_t_stat = tmp_t_test_OLS.tvalue[0]\n",
      "    Robust_OLS_t_stats[i] = tmp_t_stat\n",
      "    Robust_OLS_pvalues[i] = 2 * (1 - t_rv.cdf(np.abs(tmp_t_stat)))\n",
      "    \n",
      "    ##### GLS #####\n",
      "    tmp_fit_GLS = sm.WLS(tmp_y, tmp_X, weights=1 / tmp_x**2).fit()\n",
      "    \n",
      "    # store the estimated slope coefficent\n",
      "    tmp_beta = tmp_fit_GLS.params[1]\n",
      "    GLS_beta_hats[i] = tmp_beta\n",
      "    GLS_beta_se[i] = tmp_fit_GLS.bse[1]\n",
      "    \n",
      "    # conduct a t-test of the null hypothesis that beta_1 = 1\n",
      "    tmp_t_test_GLS = tmp_fit_GLS.t_test((R, q))\n",
      "    tmp_t_stat = tmp_t_test_GLS.tvalue[0]\n",
      "    GLS_t_stats[i] = tmp_t_stat\n",
      "    GLS_pvalues[i] = 2 * (1 - t_rv.cdf(np.abs(tmp_t_stat)))\n",
      "    \n",
      "    ##### FGLS #####\n",
      "    \n",
      "    # squared residuals from OLS regression\n",
      "    tmp_g = np.log(tmp_fit_OLS.resid**2)\n",
      "    \n",
      "    # regress g on X and store fitted values\n",
      "    tmp_fit_FGLS_1 = sm.OLS(tmp_g, tmp_X).fit()\n",
      "    \n",
      "    # exponentiate the fitteg values to get the weights\n",
      "    tmp_h = np.exp(tmp_fit_FGLS_1.fittedvalues)\n",
      "    \n",
      "    # regress\n",
      "    tmp_fit_FGLS_2 = sm.WLS(tmp_y, tmp_X, weights=1 / tmp_h).fit()\n",
      "                            \n",
      "    # store the estimated slope coefficent\n",
      "    tmp_beta = tmp_fit_FGLS_2.params[1]\n",
      "    FGLS_beta_hats[i] = tmp_beta\n",
      "    Classic_FGLS_beta_se[i] = tmp_fit_FGLS_2.bse[1]\n",
      "    \n",
      "    # conduct a t-test of the null hypothesis that beta_1 = 1\n",
      "    tmp_t_test_FGLS = tmp_fit_FGLS_2.t_test((R, q))\n",
      "    tmp_t_stat = tmp_t_test_FGLS.tvalue[0]\n",
      "    Classic_FGLS_t_stats[i] = tmp_t_stat\n",
      "    Classic_FGLS_pvalues[i] = 2 * (1 - t_rv.cdf(np.abs(tmp_t_stat)))\n",
      "    \n",
      "    ##### FGLS with robust standard errors #####\n",
      "    \n",
      "    # create necessary objects within R Global environment\n",
      "    robjects.globalenv[\".tmp_x\"] = robjects.FloatVector(tmp_x)\n",
      "    robjects.globalenv[\".tmp_y\"] = robjects.FloatVector(tmp_y)\n",
      "    weights = robjects.FloatVector(1 / tmp_h)\n",
      "    \n",
      "    # estimate using FGLS\n",
      "    tmp_fit_FGLSr = robjects.r.lm(\".tmp_y ~ .tmp_x\", weights = weights)\n",
      "\n",
      "    # compute the variance-covariance matrix with type=HC1 (for comparison purposes) \n",
      "    tmp_vcov = sandwich.vcovHC(tmp_fit_FGLSr, type=\"HC1\")\n",
      "    \n",
      "    # conduct a t-test of the null hypothesis that beta_1 = 1\n",
      "    tmp_se = lmtest.coeftest(tmp_fit_FGLSr, vcov=tmp_vcov)[3]\n",
      "    tmp_t_stat = (lmtest.coeftest(tmp_fit_FGLSr, vcov=tmp_vcov)[1] - 1) / tmp_se\n",
      "    Robust_FGLS_beta_se[i] = tmp_se\n",
      "    Robust_FGLS_t_stats[i] = tmp_t_stat\n",
      "    Robust_FGLS_pvalues[i] = 2 * (1 - t_rv.cdf(np.abs(tmp_t_stat)))"
     ],
     "language": "python",
     "metadata": {},
     "outputs": [],
     "prompt_number": 478
    },
    {
     "cell_type": "markdown",
     "metadata": {},
     "source": [
      "### Bias\n",
      "\n",
      "Plot kernel density estimates of the distributions of $\\hat{\\beta}_{1}$ obtained using OLS, GLS, and FGLS. What do you conclude?"
     ]
    },
    {
     "cell_type": "code",
     "collapsed": false,
     "input": [
      "plt.figure()\n",
      "\n",
      "# kernel density plots of the estimators\n",
      "OLS_beta_hats.plot(kind='kde', label='OLS')\n",
      "GLS_beta_hats.plot(kind='kde', label='GLS')\n",
      "FGLS_beta_hats.plot(kind='kde', label='FGLS')\n",
      "\n",
      "# true value of beta\n",
      "plt.vlines(x=1, ymin=0, ymax=4.5, linestyle='dashed')\n",
      "\n",
      "# labels, title, and legend\n",
      "plt.xlabel(r'$\\hat{\\beta}_{1}$', fontsize=10)\n",
      "plt.title(r'$\\hat{\\beta}_{1}$: OLS, GLS, and FGLS')\n",
      "plt.legend(loc='best', frameon=False)\n",
      "plt.axis('tight')\n",
      "\n",
      "plt.show()"
     ],
     "language": "python",
     "metadata": {},
     "outputs": [
      {
       "output_type": "display_data",
       "png": "[encoded data removed]"
      }
     ],
     "prompt_number": 479
    },
    {
     "cell_type": "markdown",
     "metadata": {},
     "source": [
      "In the presence of heteroskedasticity, OLS is unbiased/consistent but inefficient. In the above plot, the kde for the OLS estimates of $\\beta_{1}$ is centered around the truth (i.e., OLS is unbiased/consistent). The fact that OLS is inefficient is demonstrated by the fact that the variance of the distribution its estimates of $\\beta_{1}$ is larger than both FGLS and GLS. FGLS is also unbiased, but is more efficient that OLS because it attempts to take into account the heteroskedasticity by estimating the variance function.  Finally, under the massive assumption that the functional form specified for the heteroskedasticty is well specified (an assumption which is valid here by construction!), GLS is BLUE."
     ]
    },
    {
     "cell_type": "markdown",
     "metadata": {},
     "source": [
      "### Test size\n",
      "\n",
      "The next block of code looks at test size for each of the 5 combinations of estimators and parameters. Three different sets of results are reported for each combination.\n",
      "\n",
      "1. Using a significance level of 5% (and the associated critical values for the t-distribution), how often is the true null  hypothesis $H_{0}:\\beta_{1}=1$ incorrectly rejected?  If the nominal size of the test were equal to the actual size, how many of the 10,000 results should we expect to see rejected?  If this test had good size properties, then we should expect the number of incorrect rejections to be in the neighborhood of 500.  \n",
      "2. What is the distribution (PDF) of the p-values?  If the test is correctly sized, the distribution should be uniform.  Is it?  I use 20 bins in the histogram so that each bin accounts for 5% of the distribution.\n",
      "3. What is the cumulative distribution (CDF) of the p-values?  If the test is correctly sized, the CDF should look like the uniform CDF (a 45-degree line).  Does it? \n",
      "\n",
      "Results..."
     ]
    },
    {
     "cell_type": "code",
     "collapsed": false,
     "input": [
      "# 5% critical value for the t-distribution with N-2 df\n",
      "CV = stats.t(N - 2).ppf(0.975)"
     ],
     "language": "python",
     "metadata": {},
     "outputs": [],
     "prompt_number": 480
    },
    {
     "cell_type": "code",
     "collapsed": false,
     "input": [
      "# OLS over-rejects because classic standard errors are too narrow in presence of heteroskedasticity!\n",
      "np.sum(np.logical_or(Classic_OLS_t_stats < -CV, Classic_OLS_t_stats > CV))"
     ],
     "language": "python",
     "metadata": {},
     "outputs": [
      {
       "output_type": "pyout",
       "prompt_number": 481,
       "text": [
        "788"
       ]
      }
     ],
     "prompt_number": 481
    },
    {
     "cell_type": "code",
     "collapsed": false,
     "input": [
      "# HC standard errors correct for heteroskedasticity and thus do much better than OLS\n",
      "np.sum(np.logical_or(Robust_OLS_t_stats < -CV, Robust_OLS_t_stats > CV))"
     ],
     "language": "python",
     "metadata": {},
     "outputs": [
      {
       "output_type": "pyout",
       "prompt_number": 482,
       "text": [
        "629"
       ]
      }
     ],
     "prompt_number": 482
    },
    {
     "cell_type": "code",
     "collapsed": false,
     "input": [
      "# Correctly specified GLS does even better that HC standard errors (which is as expected!)\n",
      "np.sum(np.logical_or(GLS_t_stats < -CV, GLS_t_stats > CV))"
     ],
     "language": "python",
     "metadata": {},
     "outputs": [
      {
       "output_type": "pyout",
       "prompt_number": 483,
       "text": [
        "543"
       ]
      }
     ],
     "prompt_number": 483
    },
    {
     "cell_type": "code",
     "collapsed": false,
     "input": [
      "# FGLS seems to under-reject!\n",
      "np.sum(np.logical_or(Classic_FGLS_t_stats < -CV, Classic_FGLS_t_stats > CV))"
     ],
     "language": "python",
     "metadata": {},
     "outputs": [
      {
       "output_type": "pyout",
       "prompt_number": 484,
       "text": [
        "392"
       ]
      }
     ],
     "prompt_number": 484
    },
    {
     "cell_type": "code",
     "collapsed": false,
     "input": [
      "# FGLS with HC standard errors is a considerable improvement over classic FGLS\n",
      "np.sum(np.logical_or(Robust_FGLS_t_stats < -CV, Robust_FGLS_t_stats > CV))"
     ],
     "language": "python",
     "metadata": {},
     "outputs": [
      {
       "output_type": "pyout",
       "prompt_number": 485,
       "text": [
        "545"
       ]
      }
     ],
     "prompt_number": 485
    },
    {
     "cell_type": "markdown",
     "metadata": {},
     "source": [
      "Histograms of p-values..."
     ]
    },
    {
     "cell_type": "code",
     "collapsed": false,
     "input": [
      "##### Classic OLS #####\n",
      "plt.figure()\n",
      "\n",
      "# histogram of the pvalues for classic OLS standard errors\n",
      "Classic_OLS_pvalues.hist(bins=20, color='yellow', normed=True, alpha=0.75)\n",
      "\n",
      "# demarcate the uniform density\n",
      "plt.hlines(y=1.0, xmin=0, xmax=1.0, linestyle='dashed', color='red')\n",
      "\n",
      "# labels, title, etc\n",
      "plt.xlabel('p-values')\n",
      "plt.ylabel('Density')\n",
      "plt.title(r'Classic OLS is over rejecting $H_{0}$!', fontsize=15)\n",
      "          \n",
      "plt.show()"
     ],
     "language": "python",
     "metadata": {},
     "outputs": [
      {
       "output_type": "display_data",
       "png": "[encoded data removed]"
      }
     ],
     "prompt_number": 486
    },
    {
     "cell_type": "code",
     "collapsed": false,
     "input": [
      "##### OLS with robust standard errors #####\n",
      "plt.figure()\n",
      "\n",
      "# histogram of the pvalues for robust OLS standard errors\n",
      "Robust_OLS_pvalues.hist(bins=20, color='yellow', normed=True, alpha=0.75)\n",
      "\n",
      "# demarcate the uniform density\n",
      "plt.hlines(y=1.0, xmin=0, xmax=1.0, linestyle='dashed', color='red')\n",
      "\n",
      "# labels, title, etc\n",
      "plt.xlabel('p-values')\n",
      "plt.ylabel('Density')\n",
      "plt.title(r'Robust OLS has good size properties!', fontsize=15)\n",
      "          \n",
      "plt.show()"
     ],
     "language": "python",
     "metadata": {},
     "outputs": [
      {
       "output_type": "display_data",
       "png": "[encoded data removed]"
      }
     ],
     "prompt_number": 487
    },
    {
     "cell_type": "code",
     "collapsed": false,
     "input": [
      "##### Correctly specified GLS #####\n",
      "plt.figure()\n",
      "\n",
      "# histogram of the pvalues for classic GLS standard errors\n",
      "GLS_pvalues.hist(bins=20, color='yellow', normed=True, alpha=0.75)\n",
      "\n",
      "# demarcate the uniform density\n",
      "plt.hlines(y=1.0, xmin=0, xmax=1.0, linestyle='dashed', color='red')\n",
      "\n",
      "# labels, title, etc\n",
      "plt.xlabel('p-values')\n",
      "plt.ylabel('Density')\n",
      "plt.title(r'GLS has good size properties!', fontsize=15)\n",
      "          \n",
      "plt.show()"
     ],
     "language": "python",
     "metadata": {},
     "outputs": [
      {
       "output_type": "display_data",
       "png": "[encoded data removed]"
      }
     ],
     "prompt_number": 488
    },
    {
     "cell_type": "code",
     "collapsed": false,
     "input": [
      "##### Classic FGLS #####\n",
      "plt.figure()\n",
      "\n",
      "# histogram of the pvalues for classic FGLS standard errors\n",
      "Classic_FGLS_pvalues.hist(bins=20, color='yellow', normed=True, alpha=0.75)\n",
      "\n",
      "# demarcate the uniform density\n",
      "plt.hlines(y=1.0, xmin=0, xmax=1.0, linestyle='dashed', color='red')\n",
      "\n",
      "# labels, title, etc\n",
      "plt.xlabel('p-values')\n",
      "plt.ylabel('Density')\n",
      "plt.title(r'Classic FGLS under rejects!', fontsize=15)\n",
      "          \n",
      "plt.show()"
     ],
     "language": "python",
     "metadata": {},
     "outputs": [
      {
       "output_type": "display_data",
       "png": "[encoded data removed]"
      }
     ],
     "prompt_number": 508
    },
    {
     "cell_type": "code",
     "collapsed": false,
     "input": [
      "##### FGLS with robust standard errors #####\n",
      "plt.figure()\n",
      "\n",
      "# histogram of the pvalues for FGLS with robust standard errors\n",
      "Robust_FGLS_pvalues.hist(bins=20, color='yellow', normed=True, alpha=0.75)\n",
      "\n",
      "# demarcate the uniform density\n",
      "plt.hlines(y=1.0, xmin=0, xmax=1.0, linestyle='dashed', color='red')\n",
      "\n",
      "# labels, title, etc\n",
      "plt.xlabel('p-values')\n",
      "plt.ylabel('Density')\n",
      "plt.title(r'Robust FGLS has good size properties!', fontsize=15)\n",
      "          \n",
      "plt.show()"
     ],
     "language": "python",
     "metadata": {},
     "outputs": [
      {
       "output_type": "display_data",
       "png": "[encoded data removed]"
      }
     ],
     "prompt_number": 490
    },
    {
     "cell_type": "markdown",
     "metadata": {},
     "source": [
      "Cumulative distribution functions for the $p$-values..."
     ]
    },
    {
     "cell_type": "code",
     "collapsed": false,
     "input": [
      "##### Classic OLS #####\n",
      "plt.figure()\n",
      "\n",
      "# rough and ready estimate of CDF for pvalues\n",
      "grid = np.linspace(1 / 100., 1, 100)\n",
      "plt.plot(grid, stats.cumfreq(Classic_OLS_pvalues, numbins=100, defaultreallimits=(0.0, 1.0))[0] / 10000.)\n",
      "\n",
      "# if size properties are good, the CDF should lie on the 45 degree line (i.e, unifrom CDF)\n",
      "plt.plot(grid, grid, 'k--')\n",
      "\n",
      "# labels, title, etc\n",
      "plt.xlabel('p-values')\n",
      "plt.ylabel('CDF')\n",
      "plt.title(r'Yet another way of seeing that OLS is over-rejecting $H_{0}$')\n",
      "plt.grid(True)\n",
      "\n",
      "plt.show()"
     ],
     "language": "python",
     "metadata": {},
     "outputs": [
      {
       "output_type": "display_data",
       "png": "[encoded data removed]"
      }
     ],
     "prompt_number": 491
    },
    {
     "cell_type": "code",
     "collapsed": false,
     "input": [
      "##### OLS with robust standard errors #####\n",
      "plt.figure()\n",
      "\n",
      "# rough and ready estimate of CDF for pvalues\n",
      "grid = np.linspace(1 / 100., 1, 100)\n",
      "plt.plot(grid, stats.cumfreq(Robust_OLS_pvalues, numbins=100, defaultreallimits=(0.0, 1.0))[0] / 10000.)\n",
      "\n",
      "# if size properties are good, the CDF should lie on the 45 degree line (i.e, unifrom CDF)\n",
      "plt.plot(grid, grid, 'k--')\n",
      "\n",
      "# labels, title, etc\n",
      "plt.xlabel('p-values')\n",
      "plt.ylabel('CDF')\n",
      "plt.title(r'Improvements over OLS from using HC1 are obvious obvious...')\n",
      "plt.grid(True)\n",
      "\n",
      "plt.show()"
     ],
     "language": "python",
     "metadata": {},
     "outputs": [
      {
       "output_type": "display_data",
       "png": "[encoded data removed]"
      }
     ],
     "prompt_number": 492
    },
    {
     "cell_type": "code",
     "collapsed": false,
     "input": [
      "##### GLS #####\n",
      "plt.figure()\n",
      "\n",
      "# rough and ready estimate of CDF for pvalues\n",
      "grid = np.linspace(1 / 100., 1, 100)\n",
      "plt.plot(grid, stats.cumfreq(GLS_pvalues, numbins=100, defaultreallimits=(0.0, 1.0))[0] / 10000.)\n",
      "\n",
      "# if size properties are good, the CDF should lie on the 45 degree line (i.e, unifrom CDF)\n",
      "plt.plot(grid, grid, 'k--')\n",
      "\n",
      "# labels, title, etc\n",
      "plt.xlabel('p-values')\n",
      "plt.ylabel('CDF')\n",
      "plt.title(r'GLS looks pretty good')\n",
      "plt.grid(True)\n",
      "\n",
      "plt.show()"
     ],
     "language": "python",
     "metadata": {},
     "outputs": [
      {
       "output_type": "display_data",
       "png": "[encoded data removed]"
      }
     ],
     "prompt_number": 493
    },
    {
     "cell_type": "code",
     "collapsed": false,
     "input": [
      "##### Classic FGLS #####\n",
      "plt.figure()\n",
      "\n",
      "# rough and ready estimate of CDF for pvalues\n",
      "grid = np.linspace(1 / 100., 1, 100)\n",
      "plt.plot(grid, stats.cumfreq(Classic_FGLS_pvalues, numbins=100, defaultreallimits=(0.0, 1.0))[0] / 10000.)\n",
      "\n",
      "# if size properties are good, the CDF should lie on the 45 degree line (i.e, unifrom CDF)\n",
      "plt.plot(grid, grid, 'k--')\n",
      "\n",
      "# labels, title, etc\n",
      "plt.xlabel('p-values')\n",
      "plt.ylabel('CDF')\n",
      "plt.title(r'FGLS is under-rejecting $H_{0}$!')\n",
      "plt.grid(True)\n",
      "\n",
      "plt.show()"
     ],
     "language": "python",
     "metadata": {},
     "outputs": [
      {
       "output_type": "display_data",
       "png": "[encoded data removed]"
      }
     ],
     "prompt_number": 494
    },
    {
     "cell_type": "code",
     "collapsed": false,
     "input": [
      "##### FGLS with robust standard errors #####\n",
      "plt.figure()\n",
      "\n",
      "# rough and ready estimate of CDF for pvalues\n",
      "grid = np.linspace(1.0 / 100., 1.0, 100)\n",
      "plt.plot(grid, stats.cumfreq(Robust_FGLS_pvalues, numbins=100, defaultreallimits=(0.0, 1.0))[0] / 10000.)\n",
      "\n",
      "# if size properties are good, the CDF should lie on the 45 degree line (i.e, unifrom CDF)\n",
      "plt.plot(grid, grid, 'k--')\n",
      "\n",
      "# labels, title, etc\n",
      "plt.xlabel('p-values')\n",
      "plt.ylabel('CDF')\n",
      "plt.title(r'FGLS with robust standard errors looks good!')\n",
      "plt.grid(True)\n",
      "\n",
      "plt.show()"
     ],
     "language": "python",
     "metadata": {},
     "outputs": [
      {
       "output_type": "display_data",
       "png": "[encoded data removed]"
      }
     ],
     "prompt_number": 495
    },
    {
     "cell_type": "markdown",
     "metadata": {},
     "source": [
      "###Test power\n",
      "\n",
      "The last part of the Monte Carlo looks at test power.  We expect on theoretical grounds that the GLS estimator of $\\beta$ should be more precise \u2013 have a smaller variance \u2013 than the OLS estimator.  And if our choice of skedastic function is suitable for this DGP, we should also expect the FGLS estimator to have a smaller variance than the OLS estimator.  The last block of code calculates and then plots power curves for all 5 combinations of estimators and SEs."
     ]
    },
    {
     "cell_type": "code",
     "collapsed": false,
     "input": [
      "# create an array of hypothesized values for beta\n",
      "hypothesized_beta = np.linspace(0, 2, 1000)\n",
      "\n",
      "# create an empty array in which to store probs\n",
      "Classic_OLS_power = np.zeros(hypothesized_beta.size)\n",
      "Robust_OLS_power = np.zeros(hypothesized_beta.size)\n",
      "GLS_power = np.zeros(hypothesized_beta.size)\n",
      "Classic_FGLS_power = np.zeros(hypothesized_beta.size)\n",
      "Robust_FGLS_power = np.zeros(hypothesized_beta.size)\n",
      "\n",
      "# Critical value for t-test\n",
      "CV = stats.distributions.t.ppf(1 - (0.05 / 2), N - 2)"
     ],
     "language": "python",
     "metadata": {},
     "outputs": [],
     "prompt_number": 501
    },
    {
     "cell_type": "code",
     "collapsed": false,
     "input": [
      "# for loop creates the power curve\n",
      "for i in range(hypothesized_beta.size):\n",
      "    \n",
      "    ##### Classic OLS #####\n",
      "    \n",
      "    # calculate the t-statistics\n",
      "    t_stats = (OLS_beta_hats - hypothesized_beta[i]) / Classic_OLS_beta_se\n",
      "    # calculate the fraction of times we reject the null\n",
      "    reject = np.mean(np.logical_or(t_stats < - CV, t_stats > CV))\n",
      "    # this fraction to test_power for hypothesized beta\n",
      "    Classic_OLS_power[i] = reject\n",
      "    \n",
      "    ##### OLS with robust standard errors #####\n",
      "    \n",
      "    # calculate the t-statistics\n",
      "    t_stats = (OLS_beta_hats - hypothesized_beta[i]) / Robust_OLS_beta_se\n",
      "    # calculate the fraction of times we reject the null\n",
      "    reject = np.mean(np.logical_or(t_stats < - CV, t_stats > CV))\n",
      "    # this fraction to test_power for hypothesized beta\n",
      "    Robust_OLS_power[i] = reject\n",
      "    \n",
      "    ##### GLS #####\n",
      "    \n",
      "    # calculate the t-statistics\n",
      "    t_stats = (GLS_beta_hats - hypothesized_beta[i]) / GLS_beta_se\n",
      "    # calculate the fraction of times we reject the null\n",
      "    reject = np.mean(np.logical_or(t_stats < - CV, t_stats > CV))\n",
      "    # this fraction to test_power for hypothesized beta\n",
      "    GLS_power[i] = reject\n",
      "    \n",
      "    ##### Classic FGLS #####\n",
      "    \n",
      "    # calculate the t-statistics\n",
      "    t_stats = (FGLS_beta_hats - hypothesized_beta[i]) / Classic_FGLS_beta_se\n",
      "    # calculate the fraction of times we reject the null\n",
      "    reject = np.mean(np.logical_or(t_stats < - CV, t_stats > CV))\n",
      "    # this fraction to test_power for hypothesized beta\n",
      "    Classic_FGLS_power[i] = reject\n",
      "    \n",
      "    ##### FGLS with robust standard errors #####\n",
      "    \n",
      "    # calculate the t-statistics\n",
      "    t_stats = (FGLS_beta_hats - hypothesized_beta[i]) / Robust_FGLS_beta_se\n",
      "    # calculate the fraction of times we reject the null\n",
      "    reject = np.mean(np.logical_or(t_stats < - CV, t_stats > CV))\n",
      "    # this fraction to test_power for hypothesized beta\n",
      "    Robust_FGLS_power[i] = reject"
     ],
     "language": "python",
     "metadata": {},
     "outputs": [],
     "prompt_number": 502
    },
    {
     "cell_type": "code",
     "collapsed": false,
     "input": [
      "# create a new figure and axes objects\n",
      "fig = plt.figure()\n",
      "ax = fig.add_subplot(111)\n",
      "\n",
      "# plot the power curve\n",
      "ax.plot(hypothesized_beta, Classic_OLS_power, label=\"OLS\")\n",
      "ax.plot(hypothesized_beta, Robust_OLS_power, label=\"OLS HC1\")\n",
      "ax.plot(hypothesized_beta, GLS_power, label=\"GLS\")\n",
      "ax.plot(hypothesized_beta, Classic_FGLS_power, label=\"FGLS\")\n",
      "ax.plot(hypothesized_beta, Robust_FGLS_power, label=\"FGLS HC1\")\n",
      "\n",
      "# labels, title, legend, etc\n",
      "ax.set_xlabel(r'Hypothesized $\\beta$')\n",
      "ax.set_ylabel('Probability of rejecting $H_{0}$')\n",
      "ax.set_title('Power curves for various estimators, N=%i' %N)\n",
      "ax.legend(loc='best', frameon=False)\n",
      "\n",
      "# display\n",
      "plt.show()"
     ],
     "language": "python",
     "metadata": {},
     "outputs": [
      {
       "output_type": "display_data",
       "png": "[encoded data removed]"
      }
     ],
     "prompt_number": 507
    },
    {
     "cell_type": "markdown",
     "metadata": {},
     "source": [
      "As we might have expected based on the kde plot above which showed GLS to be the most precise estimator, it is also the estimator with the highest power. It also has excellent size properties. This leads to the rather unremarkable conclusion that if one knows, with certainty, the true variance function, then using this information leads to more precise inference.  However, if we implement GLS using the wrong variance function, then we have introduced a source of bias. A preferred alternative, in practice, would be to use FGLS and estimate the variance function.  However, the performance of FGLS can depend heavily on the choice of functional form used in estimating the variance function.  A poor choice of functional form can lead to poor inference with FGLS.  OLS with heteroskedastic robust standard errors is perhaps the most widely used method for dealing with heteroskedasticity. The method has nice size properties, but is less precise (i.e., lower power) than FGLS.  OLS, at least in this example, has poor size and power properties and thus its results are pretty useless for inference purposes.  "
     ]
    },
    {
     "cell_type": "code",
     "collapsed": false,
     "input": [],
     "language": "python",
     "metadata": {},
     "outputs": []
    }
   ],
   "metadata": {}
  }
 ]
}