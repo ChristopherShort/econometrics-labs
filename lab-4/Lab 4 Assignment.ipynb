{
 "metadata": {
  "name": "Lab 4 Assignment"
 },
 "nbformat": 3,
 "nbformat_minor": 0,
 "worksheets": [
  {
   "cells": [
    {
     "cell_type": "code",
     "collapsed": false,
     "input": [
      "import numpy as np\n",
      "import matplotlib as mpl\n",
      "import matplotlib.pyplot as plt\n",
      "from scipy import stats\n",
      "import statsmodels.api as sm\n",
      "import pandas as pd\n",
      "\n",
      "# remember to set the max_columns to get data to display properly!\n",
      "pd.set_printoptions(max_columns=99)\n",
      "\n",
      "# set the print options for numpy\n",
      "np.set_printoptions(linewidth=120)"
     ],
     "language": "python",
     "metadata": {},
     "outputs": [],
     "prompt_number": 1
    },
    {
     "cell_type": "markdown",
     "metadata": {},
     "source": [
      "Introduction:\n",
      "-------------\n",
      "\n",
      "In this assignment, you will use the the Python code from Lab 4 to write your own OLS estimator.  The estimator will be written to replicate the Statsmodels/Pandas regression output for a specific estimation.\n",
      "\n",
      "The model to replicate is the same model as used in Lab 4, applied to the subset of 22 OECD countries:"
     ]
    },
    {
     "cell_type": "code",
     "collapsed": false,
     "input": [
      "# import the Mankie, Romer, and Weil (1992) data\n",
      "mrw_1992_data = sm.iolib.genfromdta('mrw1992.dta', missing_flt=NaN, missing_str=NaN, pandas=True)"
     ],
     "language": "python",
     "metadata": {},
     "outputs": [],
     "prompt_number": 2
    },
    {
     "cell_type": "code",
     "collapsed": false,
     "input": [
      "# drop all non-oecd obs\n",
      "mrw_1992_data_OECD = mrw_1992_data[mrw_1992_data['oecd'] == 1]\n",
      "\n",
      "# display the data\n",
      "mrw_1992_data_OECD"
     ],
     "language": "python",
     "metadata": {},
     "outputs": [
      {
       "html": [
        "<div style=\"max-height:1000px;max-width:1500px;overflow:auto;\">\n",
        "<table border=\"1\" class=\"dataframe\">\n",
        "  <thead>\n",
        "    <tr style=\"text-align: right;\">\n",
        "      <th></th>\n",
        "      <th>c_index</th>\n",
        "      <th>c_name</th>\n",
        "      <th>c_code</th>\n",
        "      <th>cont</th>\n",
        "      <th>nonoil</th>\n",
        "      <th>inter</th>\n",
        "      <th>oecd</th>\n",
        "      <th>gdp60</th>\n",
        "      <th>gdp85</th>\n",
        "      <th>popgrowth</th>\n",
        "      <th>igdp</th>\n",
        "      <th>school</th>\n",
        "    </tr>\n",
        "  </thead>\n",
        "  <tbody>\n",
        "    <tr>\n",
        "      <td><strong>52 </strong></td>\n",
        "      <td>  53</td>\n",
        "      <td>          Japan</td>\n",
        "      <td> JPN</td>\n",
        "      <td> 2</td>\n",
        "      <td> 1</td>\n",
        "      <td> 1</td>\n",
        "      <td> 1</td>\n",
        "      <td>  3493</td>\n",
        "      <td> 13893</td>\n",
        "      <td> 1.2</td>\n",
        "      <td> 36.000000</td>\n",
        "      <td> 10.9</td>\n",
        "    </tr>\n",
        "    <tr>\n",
        "      <td><strong>69 </strong></td>\n",
        "      <td>  70</td>\n",
        "      <td>        Austria</td>\n",
        "      <td> AUT</td>\n",
        "      <td> 3</td>\n",
        "      <td> 1</td>\n",
        "      <td> 1</td>\n",
        "      <td> 1</td>\n",
        "      <td>  5939</td>\n",
        "      <td> 13327</td>\n",
        "      <td> 0.4</td>\n",
        "      <td> 23.400000</td>\n",
        "      <td>  8.0</td>\n",
        "    </tr>\n",
        "    <tr>\n",
        "      <td><strong>70 </strong></td>\n",
        "      <td>  71</td>\n",
        "      <td>        Belgium</td>\n",
        "      <td> BEL</td>\n",
        "      <td> 3</td>\n",
        "      <td> 1</td>\n",
        "      <td> 1</td>\n",
        "      <td> 1</td>\n",
        "      <td>  6789</td>\n",
        "      <td> 14290</td>\n",
        "      <td> 0.5</td>\n",
        "      <td> 23.400000</td>\n",
        "      <td>  9.3</td>\n",
        "    </tr>\n",
        "    <tr>\n",
        "      <td><strong>72 </strong></td>\n",
        "      <td>  73</td>\n",
        "      <td>        Denmark</td>\n",
        "      <td> DNK</td>\n",
        "      <td> 3</td>\n",
        "      <td> 1</td>\n",
        "      <td> 1</td>\n",
        "      <td> 1</td>\n",
        "      <td>  8551</td>\n",
        "      <td> 16491</td>\n",
        "      <td> 0.6</td>\n",
        "      <td> 26.600000</td>\n",
        "      <td> 10.7</td>\n",
        "    </tr>\n",
        "    <tr>\n",
        "      <td><strong>73 </strong></td>\n",
        "      <td>  74</td>\n",
        "      <td>        Finland</td>\n",
        "      <td> FIN</td>\n",
        "      <td> 3</td>\n",
        "      <td> 1</td>\n",
        "      <td> 1</td>\n",
        "      <td> 1</td>\n",
        "      <td>  6527</td>\n",
        "      <td> 13779</td>\n",
        "      <td> 0.7</td>\n",
        "      <td> 36.900002</td>\n",
        "      <td> 11.5</td>\n",
        "    </tr>\n",
        "    <tr>\n",
        "      <td><strong>74 </strong></td>\n",
        "      <td>  75</td>\n",
        "      <td>         France</td>\n",
        "      <td> FRA</td>\n",
        "      <td> 3</td>\n",
        "      <td> 1</td>\n",
        "      <td> 1</td>\n",
        "      <td> 1</td>\n",
        "      <td>  7215</td>\n",
        "      <td> 15027</td>\n",
        "      <td> 1.0</td>\n",
        "      <td> 26.200001</td>\n",
        "      <td>  8.9</td>\n",
        "    </tr>\n",
        "    <tr>\n",
        "      <td><strong>75 </strong></td>\n",
        "      <td>  76</td>\n",
        "      <td>   West Germany</td>\n",
        "      <td> DEU</td>\n",
        "      <td> 3</td>\n",
        "      <td> 1</td>\n",
        "      <td> 1</td>\n",
        "      <td> 1</td>\n",
        "      <td>  7695</td>\n",
        "      <td> 15297</td>\n",
        "      <td> 0.5</td>\n",
        "      <td> 28.500000</td>\n",
        "      <td>  8.4</td>\n",
        "    </tr>\n",
        "    <tr>\n",
        "      <td><strong>76 </strong></td>\n",
        "      <td>  77</td>\n",
        "      <td>         Greece</td>\n",
        "      <td> GRC</td>\n",
        "      <td> 3</td>\n",
        "      <td> 1</td>\n",
        "      <td> 1</td>\n",
        "      <td> 1</td>\n",
        "      <td>  2257</td>\n",
        "      <td>  6868</td>\n",
        "      <td> 0.7</td>\n",
        "      <td> 29.299999</td>\n",
        "      <td>  7.9</td>\n",
        "    </tr>\n",
        "    <tr>\n",
        "      <td><strong>78 </strong></td>\n",
        "      <td>  79</td>\n",
        "      <td>        Ireland</td>\n",
        "      <td> IRL</td>\n",
        "      <td> 3</td>\n",
        "      <td> 1</td>\n",
        "      <td> 1</td>\n",
        "      <td> 1</td>\n",
        "      <td>  4411</td>\n",
        "      <td>  8675</td>\n",
        "      <td> 1.1</td>\n",
        "      <td> 25.900000</td>\n",
        "      <td> 11.4</td>\n",
        "    </tr>\n",
        "    <tr>\n",
        "      <td><strong>79 </strong></td>\n",
        "      <td>  80</td>\n",
        "      <td>          Italy</td>\n",
        "      <td> ITA</td>\n",
        "      <td> 3</td>\n",
        "      <td> 1</td>\n",
        "      <td> 1</td>\n",
        "      <td> 1</td>\n",
        "      <td>  4913</td>\n",
        "      <td> 11082</td>\n",
        "      <td> 0.6</td>\n",
        "      <td> 24.900000</td>\n",
        "      <td>  7.1</td>\n",
        "    </tr>\n",
        "    <tr>\n",
        "      <td><strong>82 </strong></td>\n",
        "      <td>  83</td>\n",
        "      <td>    Netherlands</td>\n",
        "      <td> NLD</td>\n",
        "      <td> 3</td>\n",
        "      <td> 1</td>\n",
        "      <td> 1</td>\n",
        "      <td> 1</td>\n",
        "      <td>  7689</td>\n",
        "      <td> 13177</td>\n",
        "      <td> 1.4</td>\n",
        "      <td> 25.799999</td>\n",
        "      <td> 10.7</td>\n",
        "    </tr>\n",
        "    <tr>\n",
        "      <td><strong>83 </strong></td>\n",
        "      <td>  84</td>\n",
        "      <td>         Norway</td>\n",
        "      <td> NOR</td>\n",
        "      <td> 3</td>\n",
        "      <td> 1</td>\n",
        "      <td> 1</td>\n",
        "      <td> 1</td>\n",
        "      <td>  7938</td>\n",
        "      <td> 19723</td>\n",
        "      <td> 0.7</td>\n",
        "      <td> 29.100000</td>\n",
        "      <td> 10.0</td>\n",
        "    </tr>\n",
        "    <tr>\n",
        "      <td><strong>84 </strong></td>\n",
        "      <td>  85</td>\n",
        "      <td>       Portugal</td>\n",
        "      <td> PRT</td>\n",
        "      <td> 3</td>\n",
        "      <td> 1</td>\n",
        "      <td> 1</td>\n",
        "      <td> 1</td>\n",
        "      <td>  2272</td>\n",
        "      <td>  5827</td>\n",
        "      <td> 0.6</td>\n",
        "      <td> 22.500000</td>\n",
        "      <td>  5.8</td>\n",
        "    </tr>\n",
        "    <tr>\n",
        "      <td><strong>85 </strong></td>\n",
        "      <td>  86</td>\n",
        "      <td>          Spain</td>\n",
        "      <td> ESP</td>\n",
        "      <td> 3</td>\n",
        "      <td> 1</td>\n",
        "      <td> 1</td>\n",
        "      <td> 1</td>\n",
        "      <td>  3766</td>\n",
        "      <td>  9903</td>\n",
        "      <td> 1.0</td>\n",
        "      <td> 17.700001</td>\n",
        "      <td>  8.0</td>\n",
        "    </tr>\n",
        "    <tr>\n",
        "      <td><strong>86 </strong></td>\n",
        "      <td>  87</td>\n",
        "      <td>         Sweden</td>\n",
        "      <td> SWE</td>\n",
        "      <td> 3</td>\n",
        "      <td> 1</td>\n",
        "      <td> 1</td>\n",
        "      <td> 1</td>\n",
        "      <td>  7802</td>\n",
        "      <td> 15237</td>\n",
        "      <td> 0.4</td>\n",
        "      <td> 24.500000</td>\n",
        "      <td>  7.9</td>\n",
        "    </tr>\n",
        "    <tr>\n",
        "      <td><strong>87 </strong></td>\n",
        "      <td>  88</td>\n",
        "      <td>    Switzerland</td>\n",
        "      <td> CHE</td>\n",
        "      <td> 3</td>\n",
        "      <td> 1</td>\n",
        "      <td> 1</td>\n",
        "      <td> 1</td>\n",
        "      <td> 10308</td>\n",
        "      <td> 15881</td>\n",
        "      <td> 0.8</td>\n",
        "      <td> 29.700001</td>\n",
        "      <td>  4.8</td>\n",
        "    </tr>\n",
        "    <tr>\n",
        "      <td><strong>88 </strong></td>\n",
        "      <td>  89</td>\n",
        "      <td>         Turkey</td>\n",
        "      <td> TUR</td>\n",
        "      <td> 3</td>\n",
        "      <td> 1</td>\n",
        "      <td> 1</td>\n",
        "      <td> 1</td>\n",
        "      <td>  2274</td>\n",
        "      <td>  4444</td>\n",
        "      <td> 2.5</td>\n",
        "      <td> 20.200001</td>\n",
        "      <td>  5.5</td>\n",
        "    </tr>\n",
        "    <tr>\n",
        "      <td><strong>89 </strong></td>\n",
        "      <td>  90</td>\n",
        "      <td> United Kingdom</td>\n",
        "      <td> GBR</td>\n",
        "      <td> 3</td>\n",
        "      <td> 1</td>\n",
        "      <td> 1</td>\n",
        "      <td> 1</td>\n",
        "      <td>  7634</td>\n",
        "      <td> 13331</td>\n",
        "      <td> 0.3</td>\n",
        "      <td> 18.400000</td>\n",
        "      <td>  8.9</td>\n",
        "    </tr>\n",
        "    <tr>\n",
        "      <td><strong>91 </strong></td>\n",
        "      <td>  92</td>\n",
        "      <td>         Canada</td>\n",
        "      <td> CAN</td>\n",
        "      <td> 4</td>\n",
        "      <td> 1</td>\n",
        "      <td> 1</td>\n",
        "      <td> 1</td>\n",
        "      <td> 10286</td>\n",
        "      <td> 17935</td>\n",
        "      <td> 2.0</td>\n",
        "      <td> 23.299999</td>\n",
        "      <td> 10.6</td>\n",
        "    </tr>\n",
        "    <tr>\n",
        "      <td><strong>103</strong></td>\n",
        "      <td> 104</td>\n",
        "      <td>            USA</td>\n",
        "      <td> USA</td>\n",
        "      <td> 4</td>\n",
        "      <td> 1</td>\n",
        "      <td> 1</td>\n",
        "      <td> 1</td>\n",
        "      <td> 12362</td>\n",
        "      <td> 18988</td>\n",
        "      <td> 1.5</td>\n",
        "      <td> 21.100000</td>\n",
        "      <td> 11.9</td>\n",
        "    </tr>\n",
        "    <tr>\n",
        "      <td><strong>116</strong></td>\n",
        "      <td> 117</td>\n",
        "      <td>      Australia</td>\n",
        "      <td> AUS</td>\n",
        "      <td> 6</td>\n",
        "      <td> 1</td>\n",
        "      <td> 1</td>\n",
        "      <td> 1</td>\n",
        "      <td>  8440</td>\n",
        "      <td> 13409</td>\n",
        "      <td> 2.0</td>\n",
        "      <td> 31.500000</td>\n",
        "      <td>  9.8</td>\n",
        "    </tr>\n",
        "    <tr>\n",
        "      <td><strong>119</strong></td>\n",
        "      <td> 120</td>\n",
        "      <td>    New Zealand</td>\n",
        "      <td> NZL</td>\n",
        "      <td> 6</td>\n",
        "      <td> 1</td>\n",
        "      <td> 1</td>\n",
        "      <td> 1</td>\n",
        "      <td>  9523</td>\n",
        "      <td> 12308</td>\n",
        "      <td> 1.7</td>\n",
        "      <td> 22.500000</td>\n",
        "      <td> 11.9</td>\n",
        "    </tr>\n",
        "  </tbody>\n",
        "</table>\n",
        "</div>"
       ],
       "output_type": "pyout",
       "prompt_number": 3,
       "text": [
        "     c_index          c_name c_code  cont  nonoil  inter  oecd  gdp60  gdp85  popgrowth       igdp  school\n",
        "52        53           Japan    JPN     2       1      1     1   3493  13893        1.2  36.000000    10.9\n",
        "69        70         Austria    AUT     3       1      1     1   5939  13327        0.4  23.400000     8.0\n",
        "70        71         Belgium    BEL     3       1      1     1   6789  14290        0.5  23.400000     9.3\n",
        "72        73         Denmark    DNK     3       1      1     1   8551  16491        0.6  26.600000    10.7\n",
        "73        74         Finland    FIN     3       1      1     1   6527  13779        0.7  36.900002    11.5\n",
        "74        75          France    FRA     3       1      1     1   7215  15027        1.0  26.200001     8.9\n",
        "75        76    West Germany    DEU     3       1      1     1   7695  15297        0.5  28.500000     8.4\n",
        "76        77          Greece    GRC     3       1      1     1   2257   6868        0.7  29.299999     7.9\n",
        "78        79         Ireland    IRL     3       1      1     1   4411   8675        1.1  25.900000    11.4\n",
        "79        80           Italy    ITA     3       1      1     1   4913  11082        0.6  24.900000     7.1\n",
        "82        83     Netherlands    NLD     3       1      1     1   7689  13177        1.4  25.799999    10.7\n",
        "83        84          Norway    NOR     3       1      1     1   7938  19723        0.7  29.100000    10.0\n",
        "84        85        Portugal    PRT     3       1      1     1   2272   5827        0.6  22.500000     5.8\n",
        "85        86           Spain    ESP     3       1      1     1   3766   9903        1.0  17.700001     8.0\n",
        "86        87          Sweden    SWE     3       1      1     1   7802  15237        0.4  24.500000     7.9\n",
        "87        88     Switzerland    CHE     3       1      1     1  10308  15881        0.8  29.700001     4.8\n",
        "88        89          Turkey    TUR     3       1      1     1   2274   4444        2.5  20.200001     5.5\n",
        "89        90  United Kingdom    GBR     3       1      1     1   7634  13331        0.3  18.400000     8.9\n",
        "91        92          Canada    CAN     4       1      1     1  10286  17935        2.0  23.299999    10.6\n",
        "103      104             USA    USA     4       1      1     1  12362  18988        1.5  21.100000    11.9\n",
        "116      117       Australia    AUS     6       1      1     1   8440  13409        2.0  31.500000     9.8\n",
        "119      120     New Zealand    NZL     6       1      1     1   9523  12308        1.7  22.500000    11.9"
       ]
      }
     ],
     "prompt_number": 3
    },
    {
     "cell_type": "code",
     "collapsed": false,
     "input": [
      "# create some new variables using the natural logarithm function from NumPy\n",
      "mrw_1992_data_OECD['lngdp60'] = np.log(mrw_1992_data_OECD['gdp60'])\n",
      "mrw_1992_data_OECD['lngdp85'] = np.log(mrw_1992_data_OECD['gdp85'])\n",
      "mrw_1992_data_OECD['growth'] = (mrw_1992_data_OECD['lngdp85'] - mrw_1992_data_OECD['lngdp60']) / 25."
     ],
     "language": "python",
     "metadata": {},
     "outputs": [],
     "prompt_number": 4
    },
    {
     "cell_type": "code",
     "collapsed": false,
     "input": [
      "# our endogenous (or dependent or response variable) is growth\n",
      "y = mrw_1992_data_OECD['growth']\n",
      "\n",
      "# our matrix of exogenous (or independent variables) are a constant and lngdp60\n",
      "X = sm.add_constant(mrw_1992_data_OECD[['lngdp60', 'igdp', 'popgrowth', 'school']], prepend=True)\n",
      "\n",
      "# run the regression\n",
      "results = sm.OLS(endog=y, exog=X).fit()\n",
      "\n",
      "# examine the output\n",
      "print results.summary()"
     ],
     "language": "python",
     "metadata": {},
     "outputs": [
      {
       "output_type": "stream",
       "stream": "stdout",
       "text": [
        "                            OLS Regression Results                            \n",
        "==============================================================================\n",
        "Dep. Variable:                 growth   R-squared:                       0.717\n",
        "Model:                            OLS   Adj. R-squared:                  0.651\n",
        "Method:                 Least Squares   F-statistic:                     10.78\n",
        "Date:                Tue, 16 Oct 2012   Prob (F-statistic):           0.000155\n",
        "Time:                        18:44:15   Log-Likelihood:                 84.595\n",
        "No. Observations:                  22   AIC:                            -159.2\n",
        "Df Residuals:                      17   BIC:                            -153.7\n",
        "Df Model:                           4                                         \n",
        "==============================================================================\n",
        "                 coef    std err          t      P>|t|      [95.0% Conf. Int.]\n",
        "------------------------------------------------------------------------------\n",
        "const          0.1479      0.024      6.136      0.000         0.097     0.199\n",
        "lngdp60       -0.0156      0.003     -5.444      0.000        -0.022    -0.010\n",
        "igdp           0.0005      0.000      1.963      0.066     -3.95e-05     0.001\n",
        "popgrowth     -0.0057      0.002     -2.598      0.019        -0.010    -0.001\n",
        "school         0.0009      0.001      1.250      0.228        -0.001     0.002\n",
        "==============================================================================\n",
        "Omnibus:                        1.349   Durbin-Watson:                   1.740\n",
        "Prob(Omnibus):                  0.509   Jarque-Bera (JB):                0.917\n",
        "Skew:                           0.491   Prob(JB):                        0.632\n",
        "Kurtosis:                       2.805   Cond. No.                         563.\n",
        "==============================================================================\n"
       ]
      }
     ],
     "prompt_number": 6
    },
    {
     "cell_type": "markdown",
     "metadata": {},
     "source": [
      "### Task 1:\n",
      "\n",
      "To get started, calculate and displays the OLS estimator, the residuals, the fitted values of the dependent variable $y$ (i.e., *growth*), and the sum of squared residuals."
     ]
    },
    {
     "cell_type": "code",
     "collapsed": false,
     "input": [
      "N = results.nobs\n",
      "\n",
      "# create some column vectors...\n",
      "const = np.ones((N, 1))\n",
      "\n",
      "# create numpy arrays representing our variables\n",
      "lngdp60 = mrw_1992_data_OECD['lngdp60'].reshape((N,1))\n",
      "growth = mrw_1992_data_OECD['growth'].reshape((N,1))\n",
      "igdp = mrw_1992_data_OECD['igdp'].reshape((N,1))\n",
      "school = mrw_1992_data_OECD['school'].reshape((N,1))\n",
      "pop = mrw_1992_data_OECD['popgrowth'].reshape((N,1))"
     ],
     "language": "python",
     "metadata": {},
     "outputs": [],
     "prompt_number": 13
    },
    {
     "cell_type": "code",
     "collapsed": false,
     "input": [
      "# create an array X with columns: ones, lngdp60, pop, igdp, school\n",
      "X = np.hstack(tup=(const, lngdp60, igdp, pop, school))\n",
      "\n",
      "print X"
     ],
     "language": "python",
     "metadata": {},
     "outputs": [
      {
       "output_type": "stream",
       "stream": "stdout",
       "text": [
        "[[  1.           8.15851624  36.           1.20000005  10.89999962]\n",
        " [  1.           8.68929605  23.39999962   0.40000001   8.        ]\n",
        " [  1.           8.82305893  23.39999962   0.5          9.30000019]\n",
        " [  1.           9.05380351  26.60000038   0.60000002  10.69999981]\n",
        " [  1.           8.7837027   36.90000153   0.69999999  11.5       ]\n",
        " [  1.           8.88391747  26.20000076   1.           8.89999962]\n",
        " [  1.           8.94832605  28.5          0.5          8.39999962]\n",
        " [  1.           7.72179178  29.29999924   0.69999999   7.9000001 ]\n",
        " [  1.           8.3918567   25.89999962   1.10000002  11.39999962]\n",
        " [  1.           8.49964003  24.89999962   0.60000002   7.0999999 ]\n",
        " [  1.           8.94754602  25.79999924   1.39999998  10.69999981]\n",
        " [  1.           8.97941663  29.10000038   0.69999999  10.        ]\n",
        " [  1.           7.72841578  22.5          0.60000002   5.80000019]\n",
        " [  1.           8.23376871  17.70000076   1.           8.        ]\n",
        " [  1.           8.96213539  24.5          0.40000001   7.9000001 ]\n",
        " [  1.           9.24067557  29.70000076   0.80000001   4.80000019]\n",
        " [  1.           7.72929567  20.20000076   2.5          5.5       ]\n",
        " [  1.           8.94036723  18.39999962   0.30000001   8.89999962]\n",
        " [  1.           9.23853903  23.29999924   2.          10.60000038]\n",
        " [  1.           9.42238253  21.10000038   1.5         11.89999962]\n",
        " [  1.           9.04073759  31.5          2.           9.80000019]\n",
        " [  1.           9.1614652   22.5          1.70000005  11.89999962]]\n"
       ]
      }
     ],
     "prompt_number": 19
    },
    {
     "cell_type": "code",
     "collapsed": false,
     "input": [
      "# Calculate projection and Annihilation matrices\n",
      "P = X.dot(np.linalg.inv((X.T).dot(X))).dot(X.T)\n",
      "M = np.eye(22) - P"
     ],
     "language": "python",
     "metadata": {},
     "outputs": [],
     "prompt_number": 20
    },
    {
     "cell_type": "code",
     "collapsed": false,
     "input": [
      "# OLS estimator of beta\n",
      "beta_hat = (np.linalg.inv((X.T).dot(X))).dot(X.T).dot(growth)\n",
      "\n",
      "# compare output with...\n",
      "print beta_hat"
     ],
     "language": "python",
     "metadata": {},
     "outputs": [
      {
       "output_type": "stream",
       "stream": "stdout",
       "text": [
        "[[ 0.14793935]\n",
        " [-0.0155604 ]\n",
        " [ 0.00052743]\n",
        " [-0.00569366]\n",
        " [ 0.00091833]]\n"
       ]
      }
     ],
     "prompt_number": 24
    },
    {
     "cell_type": "code",
     "collapsed": false,
     "input": [
      "# Statsmodel results...they are identical!\n",
      "results.params"
     ],
     "language": "python",
     "metadata": {},
     "outputs": [
      {
       "output_type": "pyout",
       "prompt_number": 25,
       "text": [
        "const        0.147939\n",
        "lngdp60     -0.015560\n",
        "igdp         0.000527\n",
        "popgrowth   -0.005694\n",
        "school       0.000918"
       ]
      }
     ],
     "prompt_number": 25
    },
    {
     "cell_type": "code",
     "collapsed": false,
     "input": [
      "# calculate residuals\n",
      "residuals = M.dot(growth)\n",
      "\n",
      "print residuals"
     ],
     "language": "python",
     "metadata": {},
     "outputs": [
      {
       "output_type": "stream",
       "stream": "stdout",
       "text": [
        "[[ 0.01207039]\n",
        " [ 0.00218853]\n",
        " [ 0.00108567]\n",
        " [-0.00122753]\n",
        " [-0.00741101]\n",
        " [ 0.0033472 ]\n",
        " [-0.00111535]\n",
        " [-0.00199475]\n",
        " [-0.0081714 ]\n",
        " [ 0.00061893]\n",
        " [-0.00262745]\n",
        " [ 0.00764289]\n",
        " [-0.00378578]\n",
        " [ 0.00786582]\n",
        " [ 0.00038949]\n",
        " [-0.00238041]\n",
        " [-0.00233864]\n",
        " [-0.00269425]\n",
        " [ 0.00741866]\n",
        " [ 0.00232741]\n",
        " [-0.00297056]\n",
        " [-0.00823786]]\n"
       ]
      }
     ],
     "prompt_number": 26
    },
    {
     "cell_type": "code",
     "collapsed": false,
     "input": [
      "# compare with statsmodels residuals\n",
      "results.resid"
     ],
     "language": "python",
     "metadata": {},
     "outputs": [
      {
       "output_type": "pyout",
       "prompt_number": 27,
       "text": [
        "52     0.012070\n",
        "69     0.002189\n",
        "70     0.001086\n",
        "72    -0.001228\n",
        "73    -0.007411\n",
        "74     0.003347\n",
        "75    -0.001115\n",
        "76    -0.001995\n",
        "78    -0.008171\n",
        "79     0.000619\n",
        "82    -0.002627\n",
        "83     0.007643\n",
        "84    -0.003786\n",
        "85     0.007866\n",
        "86     0.000389\n",
        "87    -0.002380\n",
        "88    -0.002339\n",
        "89    -0.002694\n",
        "91     0.007419\n",
        "103    0.002327\n",
        "116   -0.002971\n",
        "119   -0.008238"
       ]
      }
     ],
     "prompt_number": 27
    },
    {
     "cell_type": "code",
     "collapsed": false,
     "input": [
      "# calculate fitted values\n",
      "fitted_values = P.dot(growth)\n",
      "\n",
      "# compare with...\n",
      "print fitted_values"
     ],
     "language": "python",
     "metadata": {},
     "outputs": [
      {
       "output_type": "stream",
       "stream": "stdout",
       "text": [
        "[[ 0.04315457]\n",
        " [ 0.03014152]\n",
        " [ 0.02868459]\n",
        " [ 0.0274982 ]\n",
        " [ 0.03729894]\n",
        " [ 0.02600026]\n",
        " [ 0.02859879]\n",
        " [ 0.04650821]\n",
        " [ 0.03522516]\n",
        " [ 0.03191857]\n",
        " [ 0.02417473]\n",
        " [ 0.02876207]\n",
        " [ 0.04145946]\n",
        " [ 0.03080715]\n",
        " [ 0.02638438]\n",
        " [ 0.01966854]\n",
        " [ 0.02913922]\n",
        " [ 0.02499345]\n",
        " [ 0.01482016]\n",
        " [ 0.01483978]\n",
        " [ 0.02148831]\n",
        " [ 0.01849944]]\n"
       ]
      }
     ],
     "prompt_number": 28
    },
    {
     "cell_type": "code",
     "collapsed": false,
     "input": [
      "# statsmodels fitted values\n",
      "results.fittedvalues"
     ],
     "language": "python",
     "metadata": {},
     "outputs": [
      {
       "output_type": "pyout",
       "prompt_number": 29,
       "text": [
        "52     0.043155\n",
        "69     0.030142\n",
        "70     0.028685\n",
        "72     0.027498\n",
        "73     0.037299\n",
        "74     0.026000\n",
        "75     0.028599\n",
        "76     0.046508\n",
        "78     0.035225\n",
        "79     0.031919\n",
        "82     0.024175\n",
        "83     0.028762\n",
        "84     0.041459\n",
        "85     0.030807\n",
        "86     0.026384\n",
        "87     0.019669\n",
        "88     0.029139\n",
        "89     0.024993\n",
        "91     0.014820\n",
        "103    0.014840\n",
        "116    0.021488\n",
        "119    0.018499"
       ]
      }
     ],
     "prompt_number": 29
    },
    {
     "cell_type": "code",
     "collapsed": false,
     "input": [
      "# calculate the sum of squared residuals and compare with...\n",
      "SSR = np.sum(residuals**2)\n",
      "\n",
      "print SSR"
     ],
     "language": "python",
     "metadata": {},
     "outputs": [
      {
       "output_type": "stream",
       "stream": "stdout",
       "text": [
        "0.000588880988983\n"
       ]
      }
     ],
     "prompt_number": 31
    },
    {
     "cell_type": "code",
     "collapsed": false,
     "input": [
      "# statsmodels ssr\n",
      "results.ssr"
     ],
     "language": "python",
     "metadata": {},
     "outputs": [
      {
       "output_type": "pyout",
       "prompt_number": 32,
       "text": [
        "0.00058888098898259836"
       ]
      }
     ],
     "prompt_number": 32
    },
    {
     "cell_type": "markdown",
     "metadata": {},
     "source": [
      "###Task 2:\n",
      "\n",
      "After completing Task 1, calculate the following:\n",
      "\n",
      "1. The estimated variance of the residuals, $\\hat{\\sigma}^2$ (making sure to use the finite sample correction!)\n",
      "2. The RMSE of the regression.\n",
      "3. The estimated variance of $\\hat{\\beta}$ (i.e., $Var(\\hat{\\beta})$.\n",
      "4. The TSS.\n",
      "5. The MSS.\n",
      "6. Finally, the $R^2$ of the regression."
     ]
    },
    {
     "cell_type": "markdown",
     "metadata": {},
     "source": [
      "The estimated variance of the residuals, $\\hat{\\sigma}^2$ can be calculated as follows..."
     ]
    },
    {
     "cell_type": "code",
     "collapsed": false,
     "input": [
      "# estimate the residual variance (recall that the df is the number of obs - number of params estimated)\n",
      "df = N - 5\n",
      "\n",
      "# compare this with...\n",
      "residual_var_hat = SSR / df\n",
      "\n",
      "print residual_var_hat"
     ],
     "language": "python",
     "metadata": {},
     "outputs": [
      {
       "output_type": "stream",
       "stream": "stdout",
       "text": [
        "3.46400581754e-05\n"
       ]
      }
     ],
     "prompt_number": 40
    },
    {
     "cell_type": "code",
     "collapsed": false,
     "input": [
      "# statsmodels estimated residual variance\n",
      "results.mse_resid"
     ],
     "language": "python",
     "metadata": {},
     "outputs": [
      {
       "output_type": "pyout",
       "prompt_number": 39,
       "text": [
        "3.4640058175446963e-05"
       ]
      }
     ],
     "prompt_number": 39
    },
    {
     "cell_type": "markdown",
     "metadata": {},
     "source": [
      "The RMSE of the regression is calculated as follows..."
     ]
    },
    {
     "cell_type": "code",
     "collapsed": false,
     "input": [
      "# calculate the RMSE of the model\n",
      "RMSE = np.sqrt(residual_var_hat)\n",
      "\n",
      "print RMSE"
     ],
     "language": "python",
     "metadata": {},
     "outputs": [
      {
       "output_type": "stream",
       "stream": "stdout",
       "text": [
        "0.00588558053003\n"
       ]
      }
     ],
     "prompt_number": 41
    },
    {
     "cell_type": "markdown",
     "metadata": {},
     "source": [
      "The estimated variance of the OLS estimator $\\hat{\\beta}$ is calculated as follows..."
     ]
    },
    {
     "cell_type": "code",
     "collapsed": false,
     "input": [
      "# calculate the variance-covariance matrix\n",
      "Sigma = residual_var_hat * (np.linalg.inv((X.T).dot(X)))\n",
      "\n",
      "# extract the diagonal...\n",
      "var_beta_hat = np.diag(Sigma)\n",
      "\n",
      "print var_beta_hat"
     ],
     "language": "python",
     "metadata": {},
     "outputs": [
      {
       "output_type": "stream",
       "stream": "stdout",
       "text": [
        "[  5.81354803e-04   8.16861735e-06   7.22054530e-08   4.80436005e-06   5.40007680e-07]\n"
       ]
      }
     ],
     "prompt_number": 65
    },
    {
     "cell_type": "markdown",
     "metadata": {},
     "source": [
      "Calculate TSS as follows..."
     ]
    },
    {
     "cell_type": "code",
     "collapsed": false,
     "input": [
      "# first create a vector of all ones\n",
      "growth_bar = np.ones((N,1))\n",
      "\n",
      "# then fill that vector with the mean of growth variable\n",
      "growth_bar.fill(np.mean(growth))"
     ],
     "language": "python",
     "metadata": {},
     "outputs": [],
     "prompt_number": 57
    },
    {
     "cell_type": "code",
     "collapsed": false,
     "input": [
      "# calculate TSS\n",
      "tss = ((growth - growth_bar).T).dot((growth - growth_bar))\n",
      "\n",
      "print tss"
     ],
     "language": "python",
     "metadata": {},
     "outputs": [
      {
       "output_type": "stream",
       "stream": "stdout",
       "text": [
        "[[ 0.00208197]]\n"
       ]
      }
     ],
     "prompt_number": 58
    },
    {
     "cell_type": "markdown",
     "metadata": {},
     "source": [
      "Calculate the MSS as follows..."
     ]
    },
    {
     "cell_type": "code",
     "collapsed": false,
     "input": [
      "# calculate TSS\n",
      "mss = ((fitted_values - growth_bar).T).dot((fitted_values - growth_bar))\n",
      "\n",
      "print mss"
     ],
     "language": "python",
     "metadata": {},
     "outputs": [
      {
       "output_type": "stream",
       "stream": "stdout",
       "text": [
        "[[ 0.00149309]]\n"
       ]
      }
     ],
     "prompt_number": 59
    },
    {
     "cell_type": "markdown",
     "metadata": {},
     "source": [
      "Calculate the $R^2$ of the regression as follows..."
     ]
    },
    {
     "cell_type": "code",
     "collapsed": false,
     "input": [
      "# just the ratio of explain variance to total variance\n",
      "r_squared = mss / tss\n",
      "\n",
      "# compare this result with...\n",
      "print r_squared"
     ],
     "language": "python",
     "metadata": {},
     "outputs": [
      {
       "output_type": "stream",
       "stream": "stdout",
       "text": [
        "[[ 0.71715191]]\n"
       ]
      }
     ],
     "prompt_number": 62
    },
    {
     "cell_type": "code",
     "collapsed": false,
     "input": [
      "# statsmodels R-square...\n",
      "results.rsquared"
     ],
     "language": "python",
     "metadata": {},
     "outputs": [
      {
       "output_type": "pyout",
       "prompt_number": 61,
       "text": [
        "0.71715190584101862"
       ]
      }
     ],
     "prompt_number": 61
    },
    {
     "cell_type": "code",
     "collapsed": false,
     "input": [],
     "language": "python",
     "metadata": {},
     "outputs": []
    }
   ],
   "metadata": {}
  }
 ]
}