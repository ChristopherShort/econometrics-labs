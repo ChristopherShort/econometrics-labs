{
 "metadata": {
  "name": "Lab 7-Endogeneity, IV, and GMM"
 },
 "nbformat": 3,
 "nbformat_minor": 0,
 "worksheets": [
  {
   "cells": [
    {
     "cell_type": "markdown",
     "metadata": {},
     "source": [
      "Introduction\n",
      "============\n",
      "\n",
      "This lab has three parts. In the first part, you perform White\u2019s general test for heteroskedasticity using the MRW dataset. In the second part, you explore the finite-sample performance of OLS and IV using Monte Carlos. In the third part, you perform IV/GMM estimation using a real dataset, replicating some of the results in Hayashi chapter 3.\n",
      "\n",
      "The post-lab assignment has two parts. In the first part, you extend the heteroskedasticity tests to other specifications. In the second part, you extend the Monte Carlos to other specifications and assess the results."
     ]
    },
    {
     "cell_type": "markdown",
     "metadata": {},
     "source": [
      "Task 1: Preparation\n",
      "-------------------\n",
      "\n",
      "In the first part of the lab we will be working again with the Mankiw-Romer-Weil (1992) dataset. In this lab we use the same subset of the dataset as MRW: non-oil-exporting countries. For simplicity, we will use only two regressors: initial GDP per capita and the I/Y ratio. First load the necessary Python libraries."
     ]
    },
    {
     "cell_type": "code",
     "collapsed": false,
     "input": [
      "import numpy as np\n",
      "from scipy import stats\n",
      "import statsmodels.api as sm\n",
      "import statsmodels.sandbox.regression.gmm as gmm\n",
      "import pandas as pd\n",
      "import rpy2.robjects as robjects\n",
      "from rpy2.robjects.packages import importr\n",
      "import pandas.rpy.common as com\n",
      "import matplotlib as mpl\n",
      "import matplotlib.pyplot as plt\n",
      "\n",
      "# set print options for pretty html \n",
      "pd.set_printoptions(max_columns=99)"
     ],
     "language": "python",
     "metadata": {},
     "outputs": [],
     "prompt_number": 36
    },
    {
     "cell_type": "markdown",
     "metadata": {},
     "source": [
      "Next, load the Mankiw, Romer, Weil (1992) dataset, subset the data (i.e., drop the oil-exporting countries), and estimate the basic regression described above."
     ]
    },
    {
     "cell_type": "code",
     "collapsed": false,
     "input": [
      "# load the data from the mrw1992.dta file\n",
      "mrw_1992_data = sm.iolib.genfromdta(\"mrw1992.dta\", missing_flt=NaN, pandas=True)"
     ],
     "language": "python",
     "metadata": {},
     "outputs": [],
     "prompt_number": 3
    },
    {
     "cell_type": "code",
     "collapsed": false,
     "input": [
      "# display the data\n",
      "mrw_1992_data.head()"
     ],
     "language": "python",
     "metadata": {},
     "outputs": [
      {
       "html": [
        "<div style=\"max-height:1000px;max-width:1500px;overflow:auto;\">\n",
        "<table border=\"1\" class=\"dataframe\">\n",
        "  <thead>\n",
        "    <tr style=\"text-align: right;\">\n",
        "      <th></th>\n",
        "      <th>c_index</th>\n",
        "      <th>c_name</th>\n",
        "      <th>c_code</th>\n",
        "      <th>cont</th>\n",
        "      <th>nonoil</th>\n",
        "      <th>inter</th>\n",
        "      <th>oecd</th>\n",
        "      <th>gdp60</th>\n",
        "      <th>gdp85</th>\n",
        "      <th>pop</th>\n",
        "      <th>igdp</th>\n",
        "      <th>school</th>\n",
        "    </tr>\n",
        "  </thead>\n",
        "  <tbody>\n",
        "    <tr>\n",
        "      <td><strong>0</strong></td>\n",
        "      <td> 1</td>\n",
        "      <td>      Algeria</td>\n",
        "      <td> DZA</td>\n",
        "      <td> 1</td>\n",
        "      <td> 1</td>\n",
        "      <td> 1</td>\n",
        "      <td> 0</td>\n",
        "      <td> 2485</td>\n",
        "      <td> 4371</td>\n",
        "      <td> 2.6</td>\n",
        "      <td> 24.100000</td>\n",
        "      <td> 4.5</td>\n",
        "    </tr>\n",
        "    <tr>\n",
        "      <td><strong>1</strong></td>\n",
        "      <td> 2</td>\n",
        "      <td>       Angola</td>\n",
        "      <td> AGO</td>\n",
        "      <td> 1</td>\n",
        "      <td> 1</td>\n",
        "      <td> 0</td>\n",
        "      <td> 0</td>\n",
        "      <td> 1588</td>\n",
        "      <td> 1171</td>\n",
        "      <td> 2.1</td>\n",
        "      <td>  5.800000</td>\n",
        "      <td> 1.8</td>\n",
        "    </tr>\n",
        "    <tr>\n",
        "      <td><strong>2</strong></td>\n",
        "      <td> 3</td>\n",
        "      <td>        Benin</td>\n",
        "      <td> BEN</td>\n",
        "      <td> 1</td>\n",
        "      <td> 1</td>\n",
        "      <td> 0</td>\n",
        "      <td> 0</td>\n",
        "      <td> 1116</td>\n",
        "      <td> 1071</td>\n",
        "      <td> 2.4</td>\n",
        "      <td> 10.800000</td>\n",
        "      <td> 1.8</td>\n",
        "    </tr>\n",
        "    <tr>\n",
        "      <td><strong>3</strong></td>\n",
        "      <td> 4</td>\n",
        "      <td>     Botswana</td>\n",
        "      <td> BWA</td>\n",
        "      <td> 1</td>\n",
        "      <td> 1</td>\n",
        "      <td> 1</td>\n",
        "      <td> 0</td>\n",
        "      <td>  959</td>\n",
        "      <td> 3671</td>\n",
        "      <td> 3.2</td>\n",
        "      <td> 28.299999</td>\n",
        "      <td> 2.9</td>\n",
        "    </tr>\n",
        "    <tr>\n",
        "      <td><strong>4</strong></td>\n",
        "      <td> 5</td>\n",
        "      <td> Burkina Faso</td>\n",
        "      <td> BFA</td>\n",
        "      <td> 1</td>\n",
        "      <td> 1</td>\n",
        "      <td> 0</td>\n",
        "      <td> 0</td>\n",
        "      <td>  529</td>\n",
        "      <td>  857</td>\n",
        "      <td> 0.9</td>\n",
        "      <td> 12.700000</td>\n",
        "      <td> 0.4</td>\n",
        "    </tr>\n",
        "  </tbody>\n",
        "</table>\n",
        "</div>"
       ],
       "output_type": "pyout",
       "prompt_number": 4,
       "text": [
        "   c_index        c_name c_code  cont  nonoil  inter  oecd  gdp60  gdp85  pop       igdp  school\n",
        "0        1       Algeria    DZA     1       1      1     0   2485   4371  2.6  24.100000     4.5\n",
        "1        2        Angola    AGO     1       1      0     0   1588   1171  2.1   5.800000     1.8\n",
        "2        3         Benin    BEN     1       1      0     0   1116   1071  2.4  10.800000     1.8\n",
        "3        4      Botswana    BWA     1       1      1     0    959   3671  3.2  28.299999     2.9\n",
        "4        5  Burkina Faso    BFA     1       1      0     0    529    857  0.9  12.700000     0.4"
       ]
      }
     ],
     "prompt_number": 4
    },
    {
     "cell_type": "code",
     "collapsed": false,
     "input": [
      "# create some new variables using the natural logarithm function from NumPy\n",
      "mrw_1992_data['lngdp60'] = np.log(mrw_1992_data['gdp60'])\n",
      "mrw_1992_data['lngdp85'] = np.log(mrw_1992_data['gdp85'])\n",
      "mrw_1992_data['growth'] = (mrw_1992_data['lngdp85'] - mrw_1992_data['lngdp60']) / 25."
     ],
     "language": "python",
     "metadata": {},
     "outputs": [],
     "prompt_number": 5
    },
    {
     "cell_type": "code",
     "collapsed": false,
     "input": [
      "# subset the data\n",
      "mrw_1992_NONOIL_data = mrw_1992_data[mrw_1992_data['nonoil'] == 1]"
     ],
     "language": "python",
     "metadata": {},
     "outputs": [],
     "prompt_number": 6
    },
    {
     "cell_type": "code",
     "collapsed": false,
     "input": [
      "# check data\n",
      "mrw_1992_NONOIL_data.head()"
     ],
     "language": "python",
     "metadata": {},
     "outputs": [
      {
       "html": [
        "<div style=\"max-height:1000px;max-width:1500px;overflow:auto;\">\n",
        "<table border=\"1\" class=\"dataframe\">\n",
        "  <thead>\n",
        "    <tr style=\"text-align: right;\">\n",
        "      <th></th>\n",
        "      <th>c_index</th>\n",
        "      <th>c_name</th>\n",
        "      <th>c_code</th>\n",
        "      <th>cont</th>\n",
        "      <th>nonoil</th>\n",
        "      <th>inter</th>\n",
        "      <th>oecd</th>\n",
        "      <th>gdp60</th>\n",
        "      <th>gdp85</th>\n",
        "      <th>pop</th>\n",
        "      <th>igdp</th>\n",
        "      <th>school</th>\n",
        "      <th>lngdp60</th>\n",
        "      <th>lngdp85</th>\n",
        "      <th>growth</th>\n",
        "    </tr>\n",
        "  </thead>\n",
        "  <tbody>\n",
        "    <tr>\n",
        "      <td><strong>0</strong></td>\n",
        "      <td> 1</td>\n",
        "      <td>      Algeria</td>\n",
        "      <td> DZA</td>\n",
        "      <td> 1</td>\n",
        "      <td> 1</td>\n",
        "      <td> 1</td>\n",
        "      <td> 0</td>\n",
        "      <td> 2485</td>\n",
        "      <td> 4371</td>\n",
        "      <td> 2.6</td>\n",
        "      <td> 24.100000</td>\n",
        "      <td> 4.5</td>\n",
        "      <td> 7.818028</td>\n",
        "      <td> 8.382747</td>\n",
        "      <td> 0.022589</td>\n",
        "    </tr>\n",
        "    <tr>\n",
        "      <td><strong>1</strong></td>\n",
        "      <td> 2</td>\n",
        "      <td>       Angola</td>\n",
        "      <td> AGO</td>\n",
        "      <td> 1</td>\n",
        "      <td> 1</td>\n",
        "      <td> 0</td>\n",
        "      <td> 0</td>\n",
        "      <td> 1588</td>\n",
        "      <td> 1171</td>\n",
        "      <td> 2.1</td>\n",
        "      <td>  5.800000</td>\n",
        "      <td> 1.8</td>\n",
        "      <td> 7.370231</td>\n",
        "      <td> 7.065613</td>\n",
        "      <td>-0.012185</td>\n",
        "    </tr>\n",
        "    <tr>\n",
        "      <td><strong>2</strong></td>\n",
        "      <td> 3</td>\n",
        "      <td>        Benin</td>\n",
        "      <td> BEN</td>\n",
        "      <td> 1</td>\n",
        "      <td> 1</td>\n",
        "      <td> 0</td>\n",
        "      <td> 0</td>\n",
        "      <td> 1116</td>\n",
        "      <td> 1071</td>\n",
        "      <td> 2.4</td>\n",
        "      <td> 10.800000</td>\n",
        "      <td> 1.8</td>\n",
        "      <td> 7.017506</td>\n",
        "      <td> 6.976348</td>\n",
        "      <td>-0.001646</td>\n",
        "    </tr>\n",
        "    <tr>\n",
        "      <td><strong>3</strong></td>\n",
        "      <td> 4</td>\n",
        "      <td>     Botswana</td>\n",
        "      <td> BWA</td>\n",
        "      <td> 1</td>\n",
        "      <td> 1</td>\n",
        "      <td> 1</td>\n",
        "      <td> 0</td>\n",
        "      <td>  959</td>\n",
        "      <td> 3671</td>\n",
        "      <td> 3.2</td>\n",
        "      <td> 28.299999</td>\n",
        "      <td> 2.9</td>\n",
        "      <td> 6.865891</td>\n",
        "      <td> 8.208219</td>\n",
        "      <td> 0.053693</td>\n",
        "    </tr>\n",
        "    <tr>\n",
        "      <td><strong>4</strong></td>\n",
        "      <td> 5</td>\n",
        "      <td> Burkina Faso</td>\n",
        "      <td> BFA</td>\n",
        "      <td> 1</td>\n",
        "      <td> 1</td>\n",
        "      <td> 0</td>\n",
        "      <td> 0</td>\n",
        "      <td>  529</td>\n",
        "      <td>  857</td>\n",
        "      <td> 0.9</td>\n",
        "      <td> 12.700000</td>\n",
        "      <td> 0.4</td>\n",
        "      <td> 6.270988</td>\n",
        "      <td> 6.753438</td>\n",
        "      <td> 0.019298</td>\n",
        "    </tr>\n",
        "  </tbody>\n",
        "</table>\n",
        "</div>"
       ],
       "output_type": "pyout",
       "prompt_number": 7,
       "text": [
        "   c_index        c_name c_code  cont  nonoil  inter  oecd  gdp60  gdp85  pop       igdp  school   lngdp60   lngdp85    growth\n",
        "0        1       Algeria    DZA     1       1      1     0   2485   4371  2.6  24.100000     4.5  7.818028  8.382747  0.022589\n",
        "1        2        Angola    AGO     1       1      0     0   1588   1171  2.1   5.800000     1.8  7.370231  7.065613 -0.012185\n",
        "2        3         Benin    BEN     1       1      0     0   1116   1071  2.4  10.800000     1.8  7.017506  6.976348 -0.001646\n",
        "3        4      Botswana    BWA     1       1      1     0    959   3671  3.2  28.299999     2.9  6.865891  8.208219  0.053693\n",
        "4        5  Burkina Faso    BFA     1       1      0     0    529    857  0.9  12.700000     0.4  6.270988  6.753438  0.019298"
       ]
      }
     ],
     "prompt_number": 7
    },
    {
     "cell_type": "code",
     "collapsed": false,
     "input": [
      "# regress GDP growth on lngdp60 and igdp\n",
      "X = sm.add_constant(mrw_1992_NONOIL_data[['lngdp60', 'igdp']], prepend=True)\n",
      "y = mrw_1992_NONOIL_data['growth']\n",
      "model = sm.OLS(y, X)\n",
      "results = model.fit()"
     ],
     "language": "python",
     "metadata": {},
     "outputs": [],
     "prompt_number": 8
    },
    {
     "cell_type": "code",
     "collapsed": false,
     "input": [
      "# summarize the results\n",
      "print results.summary()"
     ],
     "language": "python",
     "metadata": {},
     "outputs": [
      {
       "output_type": "stream",
       "stream": "stdout",
       "text": [
        "                            OLS Regression Results                            \n",
        "==============================================================================\n",
        "Dep. Variable:                 growth   R-squared:                       0.366\n",
        "Model:                            OLS   Adj. R-squared:                  0.353\n",
        "Method:                 Least Squares   F-statistic:                     27.42\n",
        "Date:                Fri, 30 Nov 2012   Prob (F-statistic):           3.97e-10\n",
        "Time:                        20:09:27   Log-Likelihood:                 278.27\n",
        "No. Observations:                  98   AIC:                            -550.5\n",
        "Df Residuals:                      95   BIC:                            -542.8\n",
        "Df Model:                           2                                         \n",
        "==============================================================================\n",
        "                 coef    std err          t      P>|t|      [95.0% Conf. Int.]\n",
        "------------------------------------------------------------------------------\n",
        "const          0.0249      0.013      1.859      0.066        -0.002     0.051\n",
        "lngdp60       -0.0047      0.002     -2.310      0.023        -0.009    -0.001\n",
        "igdp           0.0016      0.000      7.029      0.000         0.001     0.002\n",
        "==============================================================================\n",
        "Omnibus:                        4.547   Durbin-Watson:                   1.771\n",
        "Prob(Omnibus):                  0.103   Jarque-Bera (JB):                4.458\n",
        "Skew:                          -0.291   Prob(JB):                        0.108\n",
        "Kurtosis:                       3.868   Cond. No.                         192.\n",
        "==============================================================================\n"
       ]
      }
     ],
     "prompt_number": 9
    },
    {
     "cell_type": "markdown",
     "metadata": {},
     "source": [
      "Coefficients on *lngdp60* and *igdp* are both highly significant.  Coefficient on *lngdp* is negative, which suggests convergence (countries that were relatively poor in 1960 grow faster, on average, between 1960 and 1985). Coefficient on igdp is postive implying that countries which invest a higher fraction of output grow more quickly, on average."
     ]
    },
    {
     "cell_type": "markdown",
     "metadata": {},
     "source": [
      "Next, use the FWL (Frisch-Waugh-Lovell) theorem to examine the separate contribution of the different explanatory variables. Create added-variable plots, and discuss your results."
     ]
    },
    {
     "cell_type": "code",
     "collapsed": false,
     "input": [
      "# regress y on uninteresting redressors and store the residuals as y_tilde\n",
      "X = sm.add_constant(mrw_1992_NONOIL_data[['igdp']], prepend=True)\n",
      "tmp_results_1 = sm.OLS(mrw_1992_NONOIL_data['growth'], X).fit()\n",
      "y_tilde_1 = tmp_results_1.resid\n",
      "\n",
      "# regress lngdp60 on uninteresting regressors and store as residuals X2_tilde\n",
      "tmp_results_2 = sm.OLS(mrw_1992_NONOIL_data['lngdp60'], X).fit()\n",
      "X2_tilde = tmp_results_2.resid\n",
      "\n",
      "# regress y_tilde on X2_tilde\n",
      "FWL_lngdp60_results = sm.OLS(y_tilde_1, X2_tilde).fit()"
     ],
     "language": "python",
     "metadata": {},
     "outputs": [],
     "prompt_number": 10
    },
    {
     "cell_type": "code",
     "collapsed": false,
     "input": [
      "# display results..coefficient on regressor should be the coefficient on lngdp above \n",
      "print FWL_lngdp60_results.summary()"
     ],
     "language": "python",
     "metadata": {},
     "outputs": [
      {
       "output_type": "stream",
       "stream": "stdout",
       "text": [
        "                            OLS Regression Results                            \n",
        "==============================================================================\n",
        "Dep. Variable:                      y   R-squared:                       0.053\n",
        "Model:                            OLS   Adj. R-squared:                  0.043\n",
        "Method:                 Least Squares   F-statistic:                     5.447\n",
        "Date:                Fri, 30 Nov 2012   Prob (F-statistic):             0.0217\n",
        "Time:                        20:09:33   Log-Likelihood:                 278.27\n",
        "No. Observations:                  98   AIC:                            -554.5\n",
        "Df Residuals:                      97   BIC:                            -552.0\n",
        "Df Model:                           1                                         \n",
        "==============================================================================\n",
        "                 coef    std err          t      P>|t|      [95.0% Conf. Int.]\n",
        "------------------------------------------------------------------------------\n",
        "x1            -0.0047      0.002     -2.334      0.022        -0.009    -0.001\n",
        "==============================================================================\n",
        "Omnibus:                        4.547   Durbin-Watson:                   1.771\n",
        "Prob(Omnibus):                  0.103   Jarque-Bera (JB):                4.458\n",
        "Skew:                          -0.291   Prob(JB):                        0.108\n",
        "Kurtosis:                       3.868   Cond. No.                         1.00\n",
        "==============================================================================\n"
       ]
      }
     ],
     "prompt_number": 11
    },
    {
     "cell_type": "code",
     "collapsed": false,
     "input": [
      "# regress y on uninteresting redressors and store the residuals as y_tilde\n",
      "X = sm.add_constant(mrw_1992_NONOIL_data[['lngdp60']], prepend=True)\n",
      "tmp_results_3 = sm.OLS(mrw_1992_NONOIL_data['growth'], X).fit()\n",
      "y_tilde_3 = tmp_results_3.resid\n",
      "\n",
      "# regress lngdp60 on uninteresting regressors and store as residuals X2_tilde\n",
      "tmp_results_4 = sm.OLS(mrw_1992_NONOIL_data['igdp'], X).fit()\n",
      "X4_tilde = tmp_results_4.resid\n",
      "\n",
      "# regress y_tilde on X2_tilde\n",
      "FWL_igdp_results = sm.OLS(y_tilde_3, X4_tilde).fit()"
     ],
     "language": "python",
     "metadata": {},
     "outputs": [],
     "prompt_number": 12
    },
    {
     "cell_type": "code",
     "collapsed": false,
     "input": [
      "# display results..coefficient on regressor should be the coefficient on igdp above \n",
      "print FWL_igdp_results.summary()"
     ],
     "language": "python",
     "metadata": {},
     "outputs": [
      {
       "output_type": "stream",
       "stream": "stdout",
       "text": [
        "                            OLS Regression Results                            \n",
        "==============================================================================\n",
        "Dep. Variable:                      y   R-squared:                       0.342\n",
        "Model:                            OLS   Adj. R-squared:                  0.335\n",
        "Method:                 Least Squares   F-statistic:                     50.45\n",
        "Date:                Fri, 30 Nov 2012   Prob (F-statistic):           2.05e-10\n",
        "Time:                        20:09:36   Log-Likelihood:                 278.27\n",
        "No. Observations:                  98   AIC:                            -554.5\n",
        "Df Residuals:                      97   BIC:                            -552.0\n",
        "Df Model:                           1                                         \n",
        "==============================================================================\n",
        "                 coef    std err          t      P>|t|      [95.0% Conf. Int.]\n",
        "------------------------------------------------------------------------------\n",
        "x1             0.0016      0.000      7.103      0.000         0.001     0.002\n",
        "==============================================================================\n",
        "Omnibus:                        4.547   Durbin-Watson:                   1.771\n",
        "Prob(Omnibus):                  0.103   Jarque-Bera (JB):                4.458\n",
        "Skew:                          -0.291   Prob(JB):                        0.108\n",
        "Kurtosis:                       3.868   Cond. No.                         1.00\n",
        "==============================================================================\n"
       ]
      }
     ],
     "prompt_number": 13
    },
    {
     "cell_type": "code",
     "collapsed": false,
     "input": [
      "# multiple added variable plot (mimics STATA avplot functionality)\n",
      "fig = plt.figure()\n",
      "\n",
      "# avplot for lngdp60\n",
      "ax1 = fig.add_subplot(211)\n",
      "\n",
      "ax1.scatter(X2_tilde, y_tilde_1, color='orange', marker='o')\n",
      "ax1.plot(X2_tilde, FWL_lngdp60_results.predict(), color='red', label='OLS')\n",
      "ax1.set_xlabel(r'E[lngdp60 | $X$]')\n",
      "ax1.set_ylabel(r'E[growth | $X$]')\n",
      "ax1.set_title('$avplot for lngdp60$')\n",
      "\n",
      "# avplot for igdp\n",
      "ax2 = fig.add_subplot(212)\n",
      "\n",
      "ax2.scatter(X4_tilde, y_tilde_3, color='orange', marker='o')\n",
      "ax2.plot(X4_tilde, FWL_igdp_results.predict(), color='red', label='OLS')\n",
      "ax2.set_xlabel(r'E[igdp | $X$]')\n",
      "ax2.set_ylabel(r'E[growth | $X$]')\n",
      "ax2.set_title('$avplot for igdp$')\n",
      "\n",
      "fig.tight_layout()\n",
      "\n",
      "plt.savefig('Multiple avplot MRW NON-OIL data.png')\n",
      "plt.show()"
     ],
     "language": "python",
     "metadata": {},
     "outputs": [
      {
       "output_type": "display_data",
       "png": "[encoded data removed]"
      }
     ],
     "prompt_number": 14
    },
    {
     "cell_type": "markdown",
     "metadata": {},
     "source": [
      "The added variable plots graphically confirm our intuition from the basic regression above: we have support for the conditional convergence hypothesis; and evidence that countries which save a higher fraction of their GDP grow faster on average."
     ]
    },
    {
     "cell_type": "markdown",
     "metadata": {},
     "source": [
      "Next, plot the residuals and inspect them visually to see if it is plausible that they are heteroskedastic."
     ]
    },
    {
     "cell_type": "code",
     "collapsed": false,
     "input": [
      "# create a new figure\n",
      "fig = plt.figure()\n",
      "\n",
      "# first subplot plots resids against lngdp60\n",
      "ax1 = fig.add_subplot(211)\n",
      "\n",
      "ax1.scatter(mrw_1992_NONOIL_data['lngdp60'], results.resid)\n",
      "ax1.set_ylabel(\"OLS residuals\")\n",
      "ax1.set_xlabel(\"lngdp60\")\n",
      "\n",
      "# second subplot plots resids against igdp\n",
      "ax2 = fig.add_subplot(212)\n",
      "\n",
      "ax2.scatter(mrw_1992_NONOIL_data['igdp'], results.resid)\n",
      "ax2.set_ylabel(\"OLS residuals\")\n",
      "ax2.set_xlabel(\"igdp\")\n",
      "\n",
      "fig.text(0.5, 0.96, \"Checking for heteroskedasticity...and finding none?\", ha='center', weight='bold')\n",
      "fig.tight_layout()\n",
      "\n",
      "plt.savefig('MRW NON-OIL data residual plots.png')\n",
      "plt.show()"
     ],
     "language": "python",
     "metadata": {},
     "outputs": [
      {
       "output_type": "display_data",
       "png": "[encoded data removed]"
      }
     ],
     "prompt_number": 15
    },
    {
     "cell_type": "markdown",
     "metadata": {},
     "source": [
      "Lastly, perform the intra-ocular version of White\u2019s test (does it \u201chit you between the eyes?\u201d). Compare the classical and with heteroskedastic-consistent (HC) (\u201crobust\u201d) standard errors:"
     ]
    },
    {
     "cell_type": "code",
     "collapsed": false,
     "input": [
      "# classic standard errors\n",
      "results.bse"
     ],
     "language": "python",
     "metadata": {},
     "outputs": [
      {
       "output_type": "pyout",
       "prompt_number": 16,
       "text": [
        "const      0.013372\n",
        "lngdp60    0.002014\n",
        "igdp       0.000229"
       ]
      }
     ],
     "prompt_number": 16
    },
    {
     "cell_type": "code",
     "collapsed": false,
     "input": [
      "# robust errors\n",
      "results.HC1_se"
     ],
     "language": "python",
     "metadata": {},
     "outputs": [
      {
       "output_type": "pyout",
       "prompt_number": 17,
       "text": [
        "const      0.013059\n",
        "lngdp60    0.002129\n",
        "igdp       0.000298"
       ]
      }
     ],
     "prompt_number": 17
    },
    {
     "cell_type": "markdown",
     "metadata": {},
     "source": [
      "Note that classic OLS standard errors are too narrow relative to the heteroskedasticity robust standard errors.  This suggests that inference conducted using classic standard errors will over-reject the null hypothesis leading to excessive type I error consistent with MC analysis from previous lab."
     ]
    },
    {
     "cell_type": "markdown",
     "metadata": {},
     "source": [
      "Task 2: White\u2019s general test for heteroskedasticity\n",
      "---------------------------------------------------\n",
      "\n",
      "Reminder: White\u2019s general test is based on a vector of contrasts between the classical S matrix and the heteroskedastic-robust S matrix. The S matrix is the \u201cfilling\u201d in the sandwich variance formula for the OLS estimator, and the elements of the vector of contrasts correspond to the elements of the covariance matrix: levels, squares and cross-products of regressors. (The levels are the cross-products of the constant with the other regressors.) We use only the non-constant elements (so we exclude the constant). The test is the sample size $n$ times the $R^2$ from a regression of the squared residuals on this vector. \n",
      "\n",
      "First, we carry out White's general test by hand..."
     ]
    },
    {
     "cell_type": "code",
     "collapsed": false,
     "input": [
      "# create squares and cross product variables\n",
      "mrw_1992_NONOIL_data['lngdp60_squared'] = mrw_1992_NONOIL_data['lngdp60']**2\n",
      "mrw_1992_NONOIL_data['igdp_squared'] = mrw_1992_NONOIL_data['igdp']**2\n",
      "mrw_1992_NONOIL_data['lngdp60*igdp'] = mrw_1992_NONOIL_data['lngdp60'] * mrw_1992_NONOIL_data['igdp']"
     ],
     "language": "python",
     "metadata": {},
     "outputs": [],
     "prompt_number": 18
    },
    {
     "cell_type": "code",
     "collapsed": false,
     "input": [
      "# create the matrix of contrasts\n",
      "X = sm.add_constant(mrw_1992_NONOIL_data[['lngdp60', 'igdp', 'lngdp60_squared', \n",
      "                                          'igdp_squared', 'lngdp60*igdp']], prepend=True)"
     ],
     "language": "python",
     "metadata": {},
     "outputs": [],
     "prompt_number": 19
    },
    {
     "cell_type": "code",
     "collapsed": false,
     "input": [
      "# regress squared residuals on matrix of contrasts\n",
      "y = results.resid**2\n",
      "\n",
      "# estimate the auxiliary regression\n",
      "whites_test = sm.OLS(y, X).fit()"
     ],
     "language": "python",
     "metadata": {},
     "outputs": [],
     "prompt_number": 20
    },
    {
     "cell_type": "code",
     "collapsed": false,
     "input": [
      "# print results\n",
      "print whites_test.summary()"
     ],
     "language": "python",
     "metadata": {},
     "outputs": [
      {
       "output_type": "stream",
       "stream": "stdout",
       "text": [
        "                            OLS Regression Results                            \n",
        "==============================================================================\n",
        "Dep. Variable:                      y   R-squared:                       0.130\n",
        "Model:                            OLS   Adj. R-squared:                  0.083\n",
        "Method:                 Least Squares   F-statistic:                     2.750\n",
        "Date:                Fri, 30 Nov 2012   Prob (F-statistic):             0.0232\n",
        "Time:                        20:11:40   Log-Likelihood:                 650.79\n",
        "No. Observations:                  98   AIC:                            -1290.\n",
        "Df Residuals:                      92   BIC:                            -1274.\n",
        "Df Model:                           5                                         \n",
        "===================================================================================\n",
        "                      coef    std err          t      P>|t|      [95.0% Conf. Int.]\n",
        "-----------------------------------------------------------------------------------\n",
        "const              -0.0019      0.003     -0.764      0.447        -0.007     0.003\n",
        "lngdp60             0.0004      0.001      0.606      0.546        -0.001     0.002\n",
        "igdp             7.813e-05   4.91e-05      1.593      0.115     -1.93e-05     0.000\n",
        "lngdp60_squared -1.411e-05   4.95e-05     -0.285      0.776        -0.000  8.43e-05\n",
        "igdp_squared     1.327e-06   6.38e-07      2.081      0.040      6.06e-08  2.59e-06\n",
        "lngdp60*igdp     -1.54e-05   7.84e-06     -1.964      0.053      -3.1e-05  1.75e-07\n",
        "==============================================================================\n",
        "Omnibus:                       75.465   Durbin-Watson:                   2.163\n",
        "Prob(Omnibus):                  0.000   Jarque-Bera (JB):              462.948\n",
        "Skew:                           2.538   Prob(JB):                    2.97e-101\n",
        "Kurtosis:                      12.360   Cond. No.                     4.05e+04\n",
        "==============================================================================\n",
        "\n",
        "The condition number is large, 4.05e+04. This might indicate that there are\n",
        "strong multicollinearity or other numerical problems.\n"
       ]
      }
     ],
     "prompt_number": 21
    },
    {
     "cell_type": "code",
     "collapsed": false,
     "input": [
      "# report the test statistic\n",
      "test_stat = whites_test.nobs * whites_test.rsquared\n",
      "print test_stat"
     ],
     "language": "python",
     "metadata": {},
     "outputs": [
      {
       "output_type": "stream",
       "stream": "stdout",
       "text": [
        "12.7425489403\n"
       ]
      }
     ],
     "prompt_number": 22
    },
    {
     "cell_type": "code",
     "collapsed": false,
     "input": [
      "# under null hypothesis of homoskedasticity, nR^2 is asymptotically Chi-square with df...\n",
      "df = whites_test.df_model\n",
      "\n",
      "# pvalue for the test...\n",
      "1 - stats.chi2.cdf(test_stat, df)"
     ],
     "language": "python",
     "metadata": {},
     "outputs": [
      {
       "output_type": "pyout",
       "prompt_number": 23,
       "text": [
        "0.02591459477817315"
       ]
      }
     ],
     "prompt_number": 23
    },
    {
     "cell_type": "code",
     "collapsed": false,
     "input": [
      "# White's test via statsmodels...\n",
      "X = sm.add_constant(mrw_1992_NONOIL_data[['lngdp60', 'igdp']], prepend=True)\n",
      "whites_res = sm.stats.het_white(results.resid, X)"
     ],
     "language": "python",
     "metadata": {},
     "outputs": [],
     "prompt_number": 24
    },
    {
     "cell_type": "code",
     "collapsed": false,
     "input": [
      "print \"LM test statistic:\", whites_res[0]\n",
      "print \"p-value:          \", whites_res[1]"
     ],
     "language": "python",
     "metadata": {},
     "outputs": [
      {
       "output_type": "stream",
       "stream": "stdout",
       "text": [
        "LM test statistic: 12.7425489403\n",
        "p-value:           0.0259145947782\n"
       ]
      }
     ],
     "prompt_number": 25
    },
    {
     "cell_type": "markdown",
     "metadata": {},
     "source": [
      "Conclusion: reject the null hypothesis of homoskedasticity at the 5% level of significance.  There is significant heteroskedasticity, but of unknown form (White's test makes no assumptions regarding the true form of the variance function)."
     ]
    },
    {
     "cell_type": "markdown",
     "metadata": {},
     "source": [
      "Task 3: White\u2019s general test with redundancies\n",
      "----------------------------------------------\n",
      "\n",
      "Redundancies in the variables used in the vector of contrasts can arise for various reasons. One obvious one is if you are using a quadratic specification. Estimate the MRW model as a quadratic in initial GDP per capita:"
     ]
    },
    {
     "cell_type": "code",
     "collapsed": false,
     "input": [
      "# add a quadratic regressor\n",
      "X = sm.add_constant(mrw_1992_NONOIL_data[['lngdp60', 'lngdp60_squared']], prepend=True)"
     ],
     "language": "python",
     "metadata": {},
     "outputs": [],
     "prompt_number": 26
    },
    {
     "cell_type": "code",
     "collapsed": false,
     "input": [
      "# run the regression...\n",
      "results_2 = sm.OLS(mrw_1992_NONOIL_data['growth'], X).fit()"
     ],
     "language": "python",
     "metadata": {},
     "outputs": [],
     "prompt_number": 27
    },
    {
     "cell_type": "code",
     "collapsed": false,
     "input": [
      "# summarize the results\n",
      "print results_2.summary()"
     ],
     "language": "python",
     "metadata": {},
     "outputs": [
      {
       "output_type": "stream",
       "stream": "stdout",
       "text": [
        "                            OLS Regression Results                            \n",
        "==============================================================================\n",
        "Dep. Variable:                 growth   R-squared:                       0.054\n",
        "Model:                            OLS   Adj. R-squared:                  0.034\n",
        "Method:                 Least Squares   F-statistic:                     2.687\n",
        "Date:                Fri, 30 Nov 2012   Prob (F-statistic):             0.0732\n",
        "Time:                        20:11:57   Log-Likelihood:                 258.64\n",
        "No. Observations:                  98   AIC:                            -511.3\n",
        "Df Residuals:                      95   BIC:                            -503.5\n",
        "Df Model:                           2                                         \n",
        "===================================================================================\n",
        "                      coef    std err          t      P>|t|      [95.0% Conf. Int.]\n",
        "-----------------------------------------------------------------------------------\n",
        "const              -0.1829      0.132     -1.389      0.168        -0.444     0.078\n",
        "lngdp60             0.0490      0.034      1.424      0.158        -0.019     0.117\n",
        "lngdp60_squared    -0.0029      0.002     -1.317      0.191        -0.007     0.001\n",
        "==============================================================================\n",
        "Omnibus:                        0.038   Durbin-Watson:                   1.880\n",
        "Prob(Omnibus):                  0.981   Jarque-Bera (JB):                0.125\n",
        "Skew:                           0.045   Prob(JB):                        0.939\n",
        "Kurtosis:                       2.850   Cond. No.                     4.66e+03\n",
        "==============================================================================\n",
        "\n",
        "The condition number is large, 4.66e+03. This might indicate that there are\n",
        "strong multicollinearity or other numerical problems.\n"
       ]
      }
     ],
     "prompt_number": 28
    },
    {
     "cell_type": "markdown",
     "metadata": {},
     "source": [
      "Note that, as in Task 2, there are two explanatory variables. However, because of redundancies the test will not have the same degrees of freedom this time. Perform White\u2019s general test as before, assembling the levels, squares and cross-products of the two regressors."
     ]
    },
    {
     "cell_type": "code",
     "collapsed": false,
     "input": [
      "# conduct White's test for heteroskedasticity\n",
      "whites_res2 = sm.stats.het_white(results_2.resid, X)"
     ],
     "language": "python",
     "metadata": {},
     "outputs": [],
     "prompt_number": 29
    },
    {
     "cell_type": "code",
     "collapsed": false,
     "input": [
      "print \"LM test statistic:\", whites_res2[0]\n",
      "print \"p-value:          \", whites_res2[1]"
     ],
     "language": "python",
     "metadata": {},
     "outputs": [
      {
       "output_type": "stream",
       "stream": "stdout",
       "text": [
        "LM test statistic: 4.33824550229\n",
        "p-value:           0.362160448951\n"
       ]
      }
     ],
     "prompt_number": 30
    },
    {
     "cell_type": "markdown",
     "metadata": {},
     "source": [
      "Task 4: OLS vs. IV\u2013 bias, variance and MSE\n",
      "------------------------------------------\n",
      "\n",
      "Say a regressor $x_{i}$ is correlated with the error, i.e., the assumption of weak exogeneity fails. Then OLS estimation will give you a **biased** (finite sample perspective) and **inconsistent** (large sample perspective) estimate $\\hat{\\beta}_{OLS}$ of the true slope parameter $\\beta$.\n",
      "\n",
      "This problem can be addressed by the method of instrumental variables (IV) or its generalization the Generalized Method of Moments (GMM). If we have a variable $z_{i}$ that is both weakly exogenous (uncorrelated with the error) and correlated with $x_{i}$, we can obtain a **consistent** estimate $\\hat{\\beta}_{IV}$ of the true slope parameter $\\beta$. IV/GMM estimators have a large-sample justification, i.e., consistency. This is their key advantage over OLS. \n",
      "\n",
      "In finite samples, IV/GMM estimators may be biased. Or, even worse, their mean may not even exist! More about this below. Thus one practical issue is the finite-sample performance of IV/GMM estimators in terms of bias. But unbiasedness/consistency is not the only thing we care about in an estimator. We also want our estimator to be precise \u2013 to have a small variance. This leads to an important practical question: might we be willing to sacrifice unbiasedness/consistency in exchange for a big improvement in variance? \n",
      "\n",
      "Remember the Hiawatha poem from earlier in the semester: at the end, Hiawatha, the mighty hunter and archer, sits alone in the forest thinking about shooting arrows and\n",
      "\n",
      "    \"Wondering in idle moments\n",
      "    Whether an increased precision\n",
      "    Might perhaps be rather better,\n",
      "    Even at the risk of bias,\n",
      "    If thereby one, now and then, could\n",
      "    Register upon the target.\"\n",
      "\n",
      "The OLS estimator has a smaller variance than the IV estimator, but it may be biased/inconsistent. In what circumstances might we prefer to use the OLS estimator even though it\u2019s biased? The tradeoff between bias/consistency and variance is the subject of this task. To answer this question, we need a loss function: a way of weighting the payoff to smaller bias vs. the payoff to smaller variance. There is no \u201cright\u201d loss function: some researcher or applications may use different weights for various reasons. But some loss functions are more popular than others, and one commonly used loss function is **mean squared error (MSE)**. \n",
      "\n",
      "In our application we will want to know the **mean squared error (MSE)** of $\\hat{\\beta}$: \n",
      "\n",
      "$$MSE(\\hat{\\beta}) = E\\left[(\\hat{\\beta} - \\beta)^2\\right]$$\n",
      "\n",
      "Define the bias of the estimator $\\hat{\\beta}$ as:\n",
      "\n",
      "$$Bias(\\hat{\\beta}) = E\\left[\\hat{\\beta} - \\beta\\right]$$\n",
      "\n",
      "It can be shown that the MSE is the sum of the squared bias of estimator and the variance of the estimator:\n",
      "\n",
      "$$MSE(\\hat{\\beta}) = E\\left[\\hat{\\beta} - \\beta\\right]^2 + Var(\\hat{\\beta})$$\n",
      "\n",
      "Note that if the estimator is unbiased, the MSE criterion amounts to choosing an estimator with a small variance, i.e., one that is more efficient (a criterion we\u2019ve seen before \u2013 remember BLUE). MSE is a very natural loss function for evaluating $\\hat{\\beta}$ because it weights the squared bias and the variance equally. Using the MSE criterion, we might be willing to accept a larger bias in exchange for a big decrease in the variance. We will investigate the circumstances where OLS might be preferable to IV, even though the OLS estimator is inconsistent (because of endogeneity) and the IV estimator is consistent.\n",
      "\n",
      "We will use the following DGP:\n",
      "\n",
      "$$y_{i} = \\beta_{0} + \\beta_{1}x_{i} + \\epsilon_{i} $$\n",
      "\n",
      "where $\\beta_{0} = 0$ and $\\beta_{1} = 1$ and \n",
      "\n",
      "$$ \n",
      "\\begin{vmatrix} \n",
      "    x_{i} \\\\\\\\ \n",
      "    z_{i} \\\\\\\\\n",
      "    \\epsilon_{i} \n",
      "\\end{vmatrix} \\sim N(0, V),\\ \n",
      "   V = \n",
      "\\begin{vmatrix}\n",
      "    1 & \\\\\\\\\n",
      "    cov(x_{i}, z_{i}) & 1\\\\\\\\\n",
      "    cov(x_{i}, \\epsilon_{i}) & 0 & 1\n",
      "\\end{vmatrix}$$\n",
      "\n",
      "The three variables \u2013 the regressor $x_{i}$, the instrument $z_{i}$, and the error $\\epsilon_{i}$ \u2013 are distributed as multivariate normal with $\\mu=0$ and $\\sigma=1$ (this means we can interpret the covariances below as correlations!).\n",
      "\n",
      "Things to note about the covariance matrix, $V$:\n",
      "\n",
      "1. $cov(x_{i}, \\epsilon_{i}) \\neq 0$: this is the endogeneity problem. Our regressor $x_{i}$ is not weakly exogenous. The bigger this number, the bigger the endogeneity problem and the bigger the bias in $\\hat{\\beta}$ estimated via OLS. The $cov(x_{i}, \\epsilon_{i}) will be one of the parameters we will vary in the Monte Carlo.\n",
      "2. $cov(z_{i}, \\epsilon_{i}) = 0$: this is the 0 in the [3,2] entry. This is the requirement that our instrument $z_{i}$ is weakly exogenous.\n",
      "3. $cov(x_{i}, z_{i}) \\neq 0$: this is the rank condition, also known as the requirement of instrument relevance. Our instrument $z_{i}$ must be correlated with our regressor $x_{i}$. The bigger this number, the stronger the correlation \u2013 the stronger our instrument \u2013 and the better our IV estimator will perform. $cov(x_{i}, z_{i})$ is one of the parameters that we will vary in the Monte Carlo.\n",
      "\n",
      "In this task, we run several different specifications:\n",
      "\n",
      "1. $cov(x_{i}, \\epsilon_{i}) = 0.3\\ $, $cov(x_{i}, z_{i}) = 0.5\\ $ and $n=100$\n",
      "2. $cov(x_{i}, \\epsilon_{i}) = -0.3\\ $, $cov(x_{i}, z_{i}) = 0.5\\ $ and $n=100$\n",
      "3. $cov(x_{i}, \\epsilon_{i}) = 0.3\\ $, $cov(x_{i}, z_{i}) = -0.5\\ $ and $n=100$\n",
      "4. $cov(x_{i}, \\epsilon_{i}) = 0.1\\ $, $cov(x_{i}, z_{i}) = 0.3\\ $ and $n=100$"
     ]
    },
    {
     "cell_type": "code",
     "collapsed": false,
     "input": [
      "# import the R library AER used to estimate IV\n",
      "AER = importr('AER')\n",
      "base = importr('base')"
     ],
     "language": "python",
     "metadata": {},
     "outputs": [],
     "prompt_number": 31
    },
    {
     "cell_type": "code",
     "collapsed": false,
     "input": [
      "# define mu and V for specification #1 \n",
      "mu1 = np.zeros(3)\n",
      "V1 = np.array([[1, 0.5, 0.3], [0.5, 1, 0], [0.3, 0, 1]])\n",
      "\n",
      "# check V (ordering is x, z, epsilon)\n",
      "print V1"
     ],
     "language": "python",
     "metadata": {},
     "outputs": [
      {
       "output_type": "stream",
       "stream": "stdout",
       "text": [
        "[[ 1.   0.5  0.3]\n",
        " [ 0.5  1.   0. ]\n",
        " [ 0.3  0.   1. ]]\n"
       ]
      }
     ],
     "prompt_number": 32
    },
    {
     "cell_type": "code",
     "collapsed": false,
     "input": [
      "# define mu and V for specification #2\n",
      "mu2 = np.zeros(3)\n",
      "V2 = np.array([[1, 0.5, -0.3], [0.5, 1, 0], [-0.3, 0, 1]])\n",
      "\n",
      "# check V (ordering is x, z, epsilon)\n",
      "print V2"
     ],
     "language": "python",
     "metadata": {},
     "outputs": [
      {
       "output_type": "stream",
       "stream": "stdout",
       "text": [
        "[[ 1.   0.5 -0.3]\n",
        " [ 0.5  1.   0. ]\n",
        " [-0.3  0.   1. ]]\n"
       ]
      }
     ],
     "prompt_number": 33
    },
    {
     "cell_type": "code",
     "collapsed": false,
     "input": [
      "# define mu and V for specification #3\n",
      "mu3 = np.zeros(3)\n",
      "V3 = np.array([[1, -0.5, 0.3], [-0.5, 1, 0], [0.3, 0, 1]])\n",
      "\n",
      "# check V (ordering is x, z, epsilon)\n",
      "print V3"
     ],
     "language": "python",
     "metadata": {},
     "outputs": [
      {
       "output_type": "stream",
       "stream": "stdout",
       "text": [
        "[[ 1.  -0.5  0.3]\n",
        " [-0.5  1.   0. ]\n",
        " [ 0.3  0.   1. ]]\n"
       ]
      }
     ],
     "prompt_number": 34
    },
    {
     "cell_type": "code",
     "collapsed": false,
     "input": [
      "# define mu and V for specification #4 \n",
      "mu4 = np.zeros(3)\n",
      "V4 = np.array([[1, 0.3, 0.1], [0.3, 1, 0], [0.1, 0, 1]])\n",
      "\n",
      "# check V (ordering is x, z, epsilon)\n",
      "print V4"
     ],
     "language": "python",
     "metadata": {},
     "outputs": [
      {
       "output_type": "stream",
       "stream": "stdout",
       "text": [
        "[[ 1.   0.3  0.1]\n",
        " [ 0.3  1.   0. ]\n",
        " [ 0.1  0.   1. ]]\n"
       ]
      }
     ],
     "prompt_number": 35
    },
    {
     "cell_type": "code",
     "collapsed": false,
     "input": [
      "# number of replications\n",
      "reps = 10000\n",
      "\n",
      "# sample size of each replication\n",
      "N = 100\n",
      "\n",
      "# create arrays to store estimates of beta_1\n",
      "OLS_beta_hats = pd.Series(np.zeros(reps))\n",
      "IV_beta_hats = pd.Series(np.zeros(reps))\n",
      "\n",
      "for i in xrange(reps):\n",
      "    ##### Data Generation #####\n",
      "    \n",
      "    # choose specification...\n",
      "    tmp_mu = mu4\n",
      "    tmp_V = V4\n",
      "    \n",
      "    # generate the data\n",
      "    tmp_data = pd.DataFrame(np.random.multivariate_normal(tmp_mu, tmp_V, N), columns=['x', 'z', 'e'])\n",
      "    \n",
      "    # create the dependent variable\n",
      "    tmp_data['y'] = tmp_data['x'] + tmp_data['e']\n",
      "    \n",
      "    ##### Classic OLS #####\n",
      "    \n",
      "    # run simple bivariate regression using OLS\n",
      "    tmp_fit_OLS = pd.ols(y=tmp_data['y'], x=tmp_data['x'])\n",
      "    \n",
      "    # store the estimated slope coefficent\n",
      "    tmp_beta = tmp_fit_OLS.beta[0]\n",
      "    OLS_beta_hats[i] = tmp_beta\n",
      "    \n",
      "    ##### IV:2SLS #####\n",
      "    \n",
      "    # put the Pandas DataFrame into the R global environment\n",
      "    tmp_data_R = com.convert_to_r_dataframe(tmp_data)\n",
      "    # matrix of regressors for IV regression\n",
      "    tmp_X = sm.add_constant(tmp_data['x'])\n",
      "    # matrix of instruments\n",
      "    tmp_Z = sm.add_constant(tmp_data['z'])\n",
      "    \n",
      "    # run the IV regression using z as an intrument for endogenous regressor x\n",
      "    #tmp_fit_IV = AER.ivreg(\"y ~ x | z\", data=tmp_data_R)\n",
      "    tmp_fit_IV = gmm.IV2SLS(tmp_data['y'], tmp_X, instrument=tmp_Z).fit()\n",
      "    \n",
      "    # store the estimated slope coefficent\n",
      "    #tmp_beta = tmp_fit_IV.rx2[['coefficients']][1]\n",
      "    tmp_beta = tmp_fit_IV.params[1]\n",
      "    IV_beta_hats[i] = tmp_beta\n",
      "    "
     ],
     "language": "python",
     "metadata": {},
     "outputs": [],
     "prompt_number": 53
    },
    {
     "cell_type": "code",
     "collapsed": false,
     "input": [
      "# kernel density plots of OLS and IV estimators\n",
      "plt.figure()\n",
      "\n",
      "# kernel density plots of the estimators\n",
      "OLS_beta_hats.plot(kind='kde', label='OLS')\n",
      "IV_beta_hats.plot(kind='kde', label='IV')\n",
      "\n",
      "# true value of beta\n",
      "plt.vlines(x=1, ymin=0, ymax=4.5, linestyle='dashed')\n",
      "\n",
      "# labels, title, and legend\n",
      "plt.xlabel(r'$\\hat{\\beta}_{1}$', fontsize=10)\n",
      "plt.title(r'$\\hat{\\beta}_{1}$: OLS vs IV with $Cov(x,z) = %.2f$; $Cov(x,\\epsilon) = %.2f$' %tuple(tmp_V[1:,0]))\n",
      "plt.legend(loc='best', frameon=False)\n",
      "plt.axis('tight')\n",
      "\n",
      "plt.show()"
     ],
     "language": "python",
     "metadata": {},
     "outputs": [
      {
       "output_type": "display_data",
       "png": "[encoded data removed]"
      }
     ],
     "prompt_number": 55
    },
    {
     "cell_type": "code",
     "collapsed": false,
     "input": [
      "# Calculate the sample means, stds, and MSE for the OLS and IV estimators\n",
      "print \"Summary of OLS estimates:\" \n",
      "print OLS_beta_hats.describe()\n",
      "print \"\"\n",
      "print \"Summary of IV estimates:\" \n",
      "print IV_beta_hats.describe()\n",
      "print \"\"\n",
      "print \"Avg. MSE for OLS estimates:\", np.mean((OLS_beta_hats - 1)**2)\n",
      "print \"Avg. MSE for IV estimates:\", np.mean((IV_beta_hats - 1)**2)"
     ],
     "language": "python",
     "metadata": {},
     "outputs": [
      {
       "output_type": "stream",
       "stream": "stdout",
       "text": [
        "Summary of OLS estimates:\n",
        "count    10000.000000\n",
        "mean         1.098043\n",
        "std          0.100346\n",
        "min          0.676376\n",
        "25%          1.030468\n",
        "50%          1.098412\n",
        "75%          1.165536\n",
        "max          1.507935\n",
        "\n",
        "Summary of IV estimates:\n",
        "count    10000.000000\n",
        "mean         0.975962\n",
        "std          0.749934\n",
        "min        -38.185144\n",
        "25%          0.753064\n",
        "50%          0.996686\n",
        "75%          1.220735\n",
        "max         33.825431\n",
        "\n",
        "Avg. MSE for OLS estimates: 0.0196807540038\n",
        "Avg. MSE for IV estimates: 0.562922803053\n"
       ]
      }
     ],
     "prompt_number": 56
    },
    {
     "cell_type": "markdown",
     "metadata": {},
     "source": [
      "#### Notes:\n",
      "The direction of the bias of the OLS estimator depends on the sign of $Cov(x, \\epsilon)$.  If the endogenous regressor is positively correlated with the disturbance term, then this covariance is positive and the OLS bias is also positive; if the regressor is negatively correlated with the disturbance then this covariance (and thus the bias in the OLS estimate of $\\beta$) will be negative.\n",
      "\n",
      "* For specification #1: with $Cov(x, \\epsilon)=0.3\\ \\ $ and $Cov(x, z) = 0.5\\ \\ $, the OLS estimator is biased upwards; the IV estimator is centered around the true value $\\beta_{1} = 1$, however the IV estimator is less precise. Finally, IV estimator does better in terms of MSE criterion than OLS for specification #1.\n",
      "* For specification #2: with $Cov(x, \\epsilon)=-0.3\\ \\ $ and $Cov(x, z) = 0.5\\ \\ $, the OLS estimator is now biased down; the IV estimator is centered around the true value $\\beta_{1} = 1$, however the IV estimator is less precise. Finally, IV estimator does better in terms of MSE criterion than OLS for specification #1.\n",
      "* For specification #3: with $Cov(x, \\epsilon)=0.3\\ \\ $ and $Cov(x, z) = -0.5\\ \\ $, the OLS estimator is again biased upwards; IV is centered around the true value $\\beta_{1} = 1$, but the IV estimator is less precise. IV is also superior in terms of total MSE criterion.\n",
      "* For specification #4: with $Cov(x, \\epsilon)=0.1\\ \\ $ and $Cov(x, z) = 0.3\\ \\ $, the OLS estimator is again biased upwards but this bias is not substantial given that the covariance between the regressor and the disturbance is fairly low.  The OLS estimator is significantly more precise than IV in this case.  Why? Because of the relatively low level of correlation between the regressor and the instrument being used the standard deviation of the IV estimator is enormous."
     ]
    },
    {
     "cell_type": "markdown",
     "metadata": {},
     "source": [
      "*Addendum: The \u201cNo Moments\u201d problem with IV*\n",
      "\n",
      "To analyse the finite sample performance of the IV estimator in this way means we looking at the sample mean and sample variance (across 10,000 MC realizations) of $\\hat{\\beta_{IV}}$. We are using these sample means and variances to estimate the population means and variances of $\\hat{\\beta}_{IV}$.\n",
      "\n",
      "What we are doing requires these population means and variances to exist. For example, you can\u2019t talk about the bias of the IV estimator if $E[\\hat{\\beta_{IV}}]$ doesn't exist. And if it doesn\u2019t exist, what does the sample mean of 10,000 realizations of $\\hat{\\beta_{IV}}$ mean? It isn\u2019t converging to anything \u2013 the Law of Large Numbers doesn\u2019t apply. And the same applies to $Var(\\hat{\\beta_{IV}})\\ $. If the second moment doesn't exist doesn\u2019t exist, then trying to estimate it with the population variance with the sample variance doesn\u2019t make sense.\n",
      "\n",
      "Unfortunately, it has been shown that IV estimator only has moments up to the degree of overidentification, L-K, where L=number of instruments and K=number of regressors. In the exactly-identified case above, L-K=0 and the IV estimator has no moments at all! This is a good example of the limitations of finite-sample theory and why we use large-sample theory so often in econometrics: although $E[\\hat{\\beta_{IV}}]$ does not exist in the exactly-identified case, $plim[ \\hat{\\beta_{IV}}]$ certainly does!"
     ]
    },
    {
     "cell_type": "code",
     "collapsed": false,
     "input": [
      "# create a vector in which to store samples average of the IV estimator\n",
      "IV_sample_average = IV_beta_hats[0]\n",
      "IV_sample_std = np.std(IV_beta_hats[0])\n",
      "\n",
      "for i in xrange(1, reps):\n",
      "    tmp_sample_avg = np.mean(IV_beta_hats[:i])\n",
      "    tmp_sample_std = np.std(IV_beta_hats[:i])\n",
      "    IV_sample_average = np.append(IV_sample_average, tmp_sample_avg)\n",
      "    IV_sample_std = np.append(IV_sample_std, tmp_sample_std)"
     ],
     "language": "python",
     "metadata": {},
     "outputs": [],
     "prompt_number": 57
    },
    {
     "cell_type": "code",
     "collapsed": false,
     "input": [
      "# LLN does not apply when moments are undefined!\n",
      "plt.figure()\n",
      "\n",
      "# plot the sample mean and std of the IV estimator\n",
      "plt.plot(IV_sample_average, label='$\\hat{\\mu}_{IV}$')\n",
      "plt.plot(IV_sample_std, label='$\\hat{\\sigma}_{IV}$')\n",
      "\n",
      "# labels, axes, title, legend, etc\n",
      "plt.ylabel('Sample Moments')\n",
      "plt.xlabel('Repititions')\n",
      "plt.title(r'Moments of the distribution of $\\hat{\\beta}_{IV}$ might not exist!')\n",
      "plt.legend(loc='best', frameon=False)\n",
      "\n",
      "plt.show()"
     ],
     "language": "python",
     "metadata": {},
     "outputs": [
      {
       "output_type": "display_data",
       "png": "[encoded data removed]"
      }
     ],
     "prompt_number": 58
    },
    {
     "cell_type": "markdown",
     "metadata": {},
     "source": [
      "Task #5 IV/GMM estimation of a cross-sectional model\n",
      "----------------------------------------------------\n",
      "\n",
      "In this task you will estimate a standard cross-section model of the return to education. The example is taken from Hayashi (2000), Chapter 3, pp. 236-244 and 250-255. The original dataset and paper are due to Griliches (1976), \u201cWages of Very Young Men\u201d, Journal of Political Economy, Vol. 84, pp. S69-S85. Further readings are cited in Hayashi.\n",
      "\n",
      "A typical wage equation in this literature looks like this:\n",
      "\n",
      "$$ln(w_{i}) = \\beta_{0} + \\beta_{1}S_{i} + x_{i}'\\delta + \\epsilon_{i}$$\n",
      "\n",
      "where:\n",
      "\n",
      "* $ln(w_{i})$ is log of income (i.e., wages) received by individual $i$\n",
      "* $S_{i}$ is the years of schooling of individual $i$\n",
      "* $x_{i}$ vector of other explanatory variables\n",
      "* $\\epsilon_{i}$ error term\n",
      "\n",
      "The parameter of interest is $\\beta_{1}$, the coefficient on years of schooling, $S_{i}$. The interpretation of $\\beta_{1}$ is that it is an estimate of the \u201creturn to education\u201d. Estimates of $\\beta_{1}$ are typically in the neighbourhood of 10%, i.e., education is a good investment.\n",
      "\n",
      "The standard problem with these types of regressions is endogeneity bias, in particular **omitted variable** bias.  The omitted variable in this regression is, $A_{i}$, the ability of individual $i$.  What follows is a simplified version of the endogenity argument for the above regression.\n",
      "\n",
      "1. An individuals ``ability'' is unobservable and thus $A_{i}$ is being captured by the error term.\n",
      "2. High ability individuals have high productivity and are thus likely to earn higher wages.\n",
      "3. Smart people have high ability, $A_{i}$.\n",
      "4. Smart people are more likely to get more years of schooling, $S_{i}$, relative to dumb, low-ability people.\n",
      "5. (3) and (4) imply that years of schooling, $S_{i}$, is correlated with unobserved high ability, $A_{i}$.\n",
      "6. (1) and (5) imply that $S_{i}$ is correlated with the error term, $\\epsilon$, in violation of the weak exogeneity assumption needed for consistency of OLS.\n",
      "7. The fact that the endogenous regressor, $S_{i}$, is positively correlated with high ability (and therefore positively correlated with the error term) implies that OLS estimate of $\\beta_{1}$ will be biased upwards. Intuitively, high ability explains part of high wages, but because we don\u2019t observe ability, this is being attributed to schooling instead.\n",
      "\n",
      "Note that if (4) did not hold, we would have an omitted variable $A_{i}$ but we would not have an omitted variable bias in $\\beta$. For that we also need (observable) schooling $S_{i}$ to be correlated with (unobservable) ability $A_{i}$. The usual approach in the literature is to look for instruments that are (a) correlated with schooling, $S_{i}$, and (b) uncorrelated with the error $\\epsilon_{i}$ (including the omitted variable ability $A_{i}$). The Griliches approach is different. He includes a direct measure of ability, namely IQ score for individual, $IQ_{i}$:\n",
      "\n",
      "$$ln(w_{i}) = \\beta_{0} + \\beta_{1}S_{i} + \\beta_{2}IQ_{i} + x_{i}'\\delta + \\epsilon_{i}$$\n",
      "\n",
      "An IQ test is a kind of \"intelligence test\". If $IQ_{i}$ were a perfect measure of ability $A_{i}$, that would be enough for OLS to give us a consistent estimate of the return to schooling $\\beta_{1}$, because now $S_{i}$ is not endogenous - $A_{i}$ has been moved out of the error $\\epsilon_{i}$. However, $IQ_{i}$ is probably not a perfect measure of ability $A_{i}$. It is only a \"proxy\" for ability, and an imperfect one at that. For this reason, it is possible that $S_{i}$ is still endogenous \u2013 still correlated with whatever is still in $\\epsilon_{i}$ \u2013 and therefore OLS will generate a biased estimate of $\\beta$.\n",
      "\n",
      "Because ability is measured with error, the coefficient $\\beta_{2}$ on $IQ_{i}$ may also suffer from endogeneity bias. Note that if the measurement error is \"classical\" \u2013 uncorrelated with anything \u2013 then the impact on the OLS estimates is \"attenuation bias\" (i.e., OLS estimates will be biased downwards, towards zero). But this is a big \"if\"! The measurement error in $IQ_{i}$ may not be classical \u2013 it might be correlated with the error $\\epsilon_{i}$ and that could generate endogeneity bias in the coefficient $\\beta_{2}$. Moreover, the endogeneity bias related to $IQ_{i}$ could also spill over and affect the estimate of $\\beta_{1}$(see the discussion in Hayashi).\n",
      "\n",
      "We will estimate equation the above model using several different combinations of specifications. Our core dataset is 758 observations of young men in the late 1960s in the US. In brief...\n",
      "\n",
      "Regressors of interest, may be treated as endogenous or exogenous:\n",
      "\n",
      "* $S_{i}\\ $: schooling (years)\n",
      "* $IQ_{i}\\ $: score on IQ test\n",
      "\n",
      "Exogenous regressors (controls):\n",
      "\n",
      "* $EXPR_{i}\\ $: work experience (years)\n",
      "* $TENURE_{i}\\ $: job tenure (years)\n",
      "* $SMSA_{i}\\ $: lives in a city (1 if urban, 0 if rural)\n",
      "* $RNS_{i}\\ $: lives in the south (1 if south, 0 if north)\n",
      "* Year dummies\n",
      "\n",
      "Excluded instruments (exogenous):\n",
      "\n",
      "* $MED_{i}\\ $: mother's education\n",
      "* $KWW_{i}\\ $: \u201cKnowledge of the World of Work\u201d (a test score)\n",
      "* $AGE_{i}\\ $: Age of the individual\n",
      "* $MRT_{i}\\ $: Marital status dummy (1 if married, 0 if single)\n",
      "\n",
      "We consider two different kinds of estimation: Feasible Efficient GMM and inefficient GMM. In a Feasible Efficient GMM estimation, the weighting matrix $W_{n}$ is the inverse of the estimated covariance matrix of orthogonality conditions $S$. The formula for the asymptotic variance of the estimator has a non-sandwich form. In an inefficient GMM estimation, the weighting matrix is *not* the inverse of $S$. The formula for the asymptotic variance of the estimator does have a sandwich form, and this formula does us $S$. Whether a GMM estimation is efficient or inefficient depends on $S$, and therefore on the assumptions we make about obtaining a consistent estimate of $S$. We will consider two possibilities:\n",
      "$S_{classical}\\ $: We assume independence and homoskedasticity.\n",
      "$S_{HC}\\ $: We assume independence but allow arbitrary heteroskedasticty.\n",
      "\n",
      "We consider several different estimations. Our main focus in this task is on the orthogonality conditions and estimation methods used. In each case, you should look in particular at:\n",
      "\n",
      "1. What is being treated as endogenous? Exogenous?\n",
      "2. The coefficient estimates. Are they the same or different from other estimations?\n",
      "3. The SEs. Are they the same or different from other estimations?\n",
      "4. The overidentification statistic, and in particular: (a) How many degrees of freedom does it have? (b) What does the test statistic mean?"
     ]
    },
    {
     "cell_type": "code",
     "collapsed": false,
     "input": [
      "# Load the griliches data as a Pandas DataFrame object\n",
      "griliches76_data = sm.iolib.genfromdta('griliches76.dta', missing_flt=NaN, pandas=True)"
     ],
     "language": "python",
     "metadata": {},
     "outputs": [],
     "prompt_number": 60
    },
    {
     "cell_type": "code",
     "collapsed": false,
     "input": [
      "# check data import\n",
      "griliches76_data.head()"
     ],
     "language": "python",
     "metadata": {},
     "outputs": [
      {
       "html": [
        "<div style=\"max-height:1000px;max-width:1500px;overflow:auto;\">\n",
        "<table border=\"1\" class=\"dataframe\">\n",
        "  <thead>\n",
        "    <tr style=\"text-align: right;\">\n",
        "      <th></th>\n",
        "      <th>rns</th>\n",
        "      <th>rns80</th>\n",
        "      <th>mrt</th>\n",
        "      <th>mrt80</th>\n",
        "      <th>smsa</th>\n",
        "      <th>smsa80</th>\n",
        "      <th>med</th>\n",
        "      <th>iq</th>\n",
        "      <th>kww</th>\n",
        "      <th>year</th>\n",
        "      <th>age</th>\n",
        "      <th>age80</th>\n",
        "      <th>s</th>\n",
        "      <th>s80</th>\n",
        "      <th>expr</th>\n",
        "      <th>expr80</th>\n",
        "      <th>tenure</th>\n",
        "      <th>tenure80</th>\n",
        "      <th>lw</th>\n",
        "      <th>lw80</th>\n",
        "    </tr>\n",
        "  </thead>\n",
        "  <tbody>\n",
        "    <tr>\n",
        "      <td><strong>0</strong></td>\n",
        "      <td> 0</td>\n",
        "      <td> 0</td>\n",
        "      <td> 0</td>\n",
        "      <td> 1</td>\n",
        "      <td> 1</td>\n",
        "      <td> 1</td>\n",
        "      <td>  8</td>\n",
        "      <td>  93</td>\n",
        "      <td> 35</td>\n",
        "      <td> 68</td>\n",
        "      <td> 19</td>\n",
        "      <td> 31</td>\n",
        "      <td> 12</td>\n",
        "      <td> 12</td>\n",
        "      <td> 0.462</td>\n",
        "      <td> 10.635</td>\n",
        "      <td> 0</td>\n",
        "      <td>  2</td>\n",
        "      <td> 5.900</td>\n",
        "      <td> 6.645</td>\n",
        "    </tr>\n",
        "    <tr>\n",
        "      <td><strong>1</strong></td>\n",
        "      <td> 0</td>\n",
        "      <td> 0</td>\n",
        "      <td> 0</td>\n",
        "      <td> 1</td>\n",
        "      <td> 1</td>\n",
        "      <td> 1</td>\n",
        "      <td> 14</td>\n",
        "      <td> 119</td>\n",
        "      <td> 41</td>\n",
        "      <td> 66</td>\n",
        "      <td> 23</td>\n",
        "      <td> 37</td>\n",
        "      <td> 16</td>\n",
        "      <td> 18</td>\n",
        "      <td> 0.000</td>\n",
        "      <td> 11.367</td>\n",
        "      <td> 2</td>\n",
        "      <td> 16</td>\n",
        "      <td> 5.438</td>\n",
        "      <td> 6.694</td>\n",
        "    </tr>\n",
        "    <tr>\n",
        "      <td><strong>2</strong></td>\n",
        "      <td> 0</td>\n",
        "      <td> 0</td>\n",
        "      <td> 0</td>\n",
        "      <td> 1</td>\n",
        "      <td> 1</td>\n",
        "      <td> 1</td>\n",
        "      <td> 14</td>\n",
        "      <td> 108</td>\n",
        "      <td> 46</td>\n",
        "      <td> 67</td>\n",
        "      <td> 20</td>\n",
        "      <td> 33</td>\n",
        "      <td> 14</td>\n",
        "      <td> 14</td>\n",
        "      <td> 0.423</td>\n",
        "      <td> 11.035</td>\n",
        "      <td> 1</td>\n",
        "      <td>  9</td>\n",
        "      <td> 5.710</td>\n",
        "      <td> 6.715</td>\n",
        "    </tr>\n",
        "    <tr>\n",
        "      <td><strong>3</strong></td>\n",
        "      <td> 0</td>\n",
        "      <td> 0</td>\n",
        "      <td> 0</td>\n",
        "      <td> 1</td>\n",
        "      <td> 1</td>\n",
        "      <td> 1</td>\n",
        "      <td> 12</td>\n",
        "      <td>  96</td>\n",
        "      <td> 32</td>\n",
        "      <td> 66</td>\n",
        "      <td> 18</td>\n",
        "      <td> 32</td>\n",
        "      <td> 12</td>\n",
        "      <td> 12</td>\n",
        "      <td> 0.333</td>\n",
        "      <td> 13.089</td>\n",
        "      <td> 1</td>\n",
        "      <td>  7</td>\n",
        "      <td> 5.481</td>\n",
        "      <td> 6.477</td>\n",
        "    </tr>\n",
        "    <tr>\n",
        "      <td><strong>4</strong></td>\n",
        "      <td> 0</td>\n",
        "      <td> 0</td>\n",
        "      <td> 1</td>\n",
        "      <td> 1</td>\n",
        "      <td> 1</td>\n",
        "      <td> 1</td>\n",
        "      <td>  6</td>\n",
        "      <td>  74</td>\n",
        "      <td> 27</td>\n",
        "      <td> 73</td>\n",
        "      <td> 26</td>\n",
        "      <td> 34</td>\n",
        "      <td>  9</td>\n",
        "      <td> 11</td>\n",
        "      <td> 9.013</td>\n",
        "      <td> 14.402</td>\n",
        "      <td> 3</td>\n",
        "      <td>  5</td>\n",
        "      <td> 5.927</td>\n",
        "      <td> 6.332</td>\n",
        "    </tr>\n",
        "  </tbody>\n",
        "</table>\n",
        "</div>"
       ],
       "output_type": "pyout",
       "prompt_number": 61,
       "text": [
        "   rns  rns80  mrt  mrt80  smsa  smsa80  med   iq  kww  year  age  age80   s  s80   expr  expr80  tenure  tenure80     lw   lw80\n",
        "0    0      0    0      1     1       1    8   93   35    68   19     31  12   12  0.462  10.635       0         2  5.900  6.645\n",
        "1    0      0    0      1     1       1   14  119   41    66   23     37  16   18  0.000  11.367       2        16  5.438  6.694\n",
        "2    0      0    0      1     1       1   14  108   46    67   20     33  14   14  0.423  11.035       1         9  5.710  6.715\n",
        "3    0      0    0      1     1       1   12   96   32    66   18     32  12   12  0.333  13.089       1         7  5.481  6.477\n",
        "4    0      0    1      1     1       1    6   74   27    73   26     34   9   11  9.013  14.402       3         5  5.927  6.332"
       ]
      }
     ],
     "prompt_number": 61
    },
    {
     "cell_type": "code",
     "collapsed": false,
     "input": [
      "# create year dummies\n",
      "years = griliches76_data['year'].unique()\n",
      "N = griliches76_data.shape[0]\n",
      "\n",
      "for yr in years:\n",
      "    griliches76_data['D_%i' %yr] = np.zeros(N)\n",
      "    for i in xrange(N):\n",
      "        if griliches76_data['year'][i] == yr: \n",
      "            griliches76_data['D_%i' %yr][i] = 1\n",
      "        else:\n",
      "            pass"
     ],
     "language": "python",
     "metadata": {},
     "outputs": [],
     "prompt_number": 62
    },
    {
     "cell_type": "code",
     "collapsed": false,
     "input": [
      "# check to make sure dummies were created correctly\n",
      "griliches76_data[['year', 'D_66', 'D_67' ,'D_68', 'D_69', 'D_70', 'D_71', 'D_73']].head()"
     ],
     "language": "python",
     "metadata": {},
     "outputs": [
      {
       "html": [
        "<div style=\"max-height:1000px;max-width:1500px;overflow:auto;\">\n",
        "<table border=\"1\" class=\"dataframe\">\n",
        "  <thead>\n",
        "    <tr style=\"text-align: right;\">\n",
        "      <th></th>\n",
        "      <th>year</th>\n",
        "      <th>D_66</th>\n",
        "      <th>D_67</th>\n",
        "      <th>D_68</th>\n",
        "      <th>D_69</th>\n",
        "      <th>D_70</th>\n",
        "      <th>D_71</th>\n",
        "      <th>D_73</th>\n",
        "    </tr>\n",
        "  </thead>\n",
        "  <tbody>\n",
        "    <tr>\n",
        "      <td><strong>0</strong></td>\n",
        "      <td> 68</td>\n",
        "      <td> 0</td>\n",
        "      <td> 0</td>\n",
        "      <td> 1</td>\n",
        "      <td> 0</td>\n",
        "      <td> 0</td>\n",
        "      <td> 0</td>\n",
        "      <td> 0</td>\n",
        "    </tr>\n",
        "    <tr>\n",
        "      <td><strong>1</strong></td>\n",
        "      <td> 66</td>\n",
        "      <td> 1</td>\n",
        "      <td> 0</td>\n",
        "      <td> 0</td>\n",
        "      <td> 0</td>\n",
        "      <td> 0</td>\n",
        "      <td> 0</td>\n",
        "      <td> 0</td>\n",
        "    </tr>\n",
        "    <tr>\n",
        "      <td><strong>2</strong></td>\n",
        "      <td> 67</td>\n",
        "      <td> 0</td>\n",
        "      <td> 1</td>\n",
        "      <td> 0</td>\n",
        "      <td> 0</td>\n",
        "      <td> 0</td>\n",
        "      <td> 0</td>\n",
        "      <td> 0</td>\n",
        "    </tr>\n",
        "    <tr>\n",
        "      <td><strong>3</strong></td>\n",
        "      <td> 66</td>\n",
        "      <td> 1</td>\n",
        "      <td> 0</td>\n",
        "      <td> 0</td>\n",
        "      <td> 0</td>\n",
        "      <td> 0</td>\n",
        "      <td> 0</td>\n",
        "      <td> 0</td>\n",
        "    </tr>\n",
        "    <tr>\n",
        "      <td><strong>4</strong></td>\n",
        "      <td> 73</td>\n",
        "      <td> 0</td>\n",
        "      <td> 0</td>\n",
        "      <td> 0</td>\n",
        "      <td> 0</td>\n",
        "      <td> 0</td>\n",
        "      <td> 0</td>\n",
        "      <td> 1</td>\n",
        "    </tr>\n",
        "  </tbody>\n",
        "</table>\n",
        "</div>"
       ],
       "output_type": "pyout",
       "prompt_number": 63,
       "text": [
        "   year  D_66  D_67  D_68  D_69  D_70  D_71  D_73\n",
        "0    68     0     0     1     0     0     0     0\n",
        "1    66     1     0     0     0     0     0     0\n",
        "2    67     0     1     0     0     0     0     0\n",
        "3    66     1     0     0     0     0     0     0\n",
        "4    73     0     0     0     0     0     0     1"
       ]
      }
     ],
     "prompt_number": 63
    },
    {
     "cell_type": "code",
     "collapsed": false,
     "input": [
      "# create a constant\n",
      "griliches76_data['const'] = 1"
     ],
     "language": "python",
     "metadata": {},
     "outputs": [],
     "prompt_number": 204
    },
    {
     "cell_type": "markdown",
     "metadata": {},
     "source": [
      "### Specification 1 (Classic OLS): \n",
      "\n",
      "Suppose that $S_{i}$ and $IQ_{i}$ are both exogenous. Further assume independence and conditional homoskedasticity holds for disturbance term. We can estimate the model using OLS... "
     ]
    },
    {
     "cell_type": "code",
     "collapsed": false,
     "input": [
      "# Construct the matrix of regressors\n",
      "X = sm.add_constant(griliches76_data[['s', 'iq', 'expr', 'tenure', 'rns', 'smsa', \\\n",
      "                                      'D_67', 'D_68', 'D_69', 'D_70', 'D_71', 'D_73']], prepend=True)"
     ],
     "language": "python",
     "metadata": {},
     "outputs": [],
     "prompt_number": 64
    },
    {
     "cell_type": "code",
     "collapsed": false,
     "input": [
      "# define the model\n",
      "specification_1 = sm.OLS(griliches76_data['lw'], X)"
     ],
     "language": "python",
     "metadata": {},
     "outputs": [],
     "prompt_number": 65
    },
    {
     "cell_type": "code",
     "collapsed": false,
     "input": [
      "# estimate the model and print a summary of the results\n",
      "results_spec_1 = specification_1.fit()\n",
      "print results_spec_1.summary()"
     ],
     "language": "python",
     "metadata": {},
     "outputs": [
      {
       "output_type": "stream",
       "stream": "stdout",
       "text": [
        "                            OLS Regression Results                            \n",
        "==============================================================================\n",
        "Dep. Variable:                     lw   R-squared:                       0.430\n",
        "Model:                            OLS   Adj. R-squared:                  0.421\n",
        "Method:                 Least Squares   F-statistic:                     46.86\n",
        "Date:                Fri, 30 Nov 2012   Prob (F-statistic):           9.84e-83\n",
        "Time:                        20:51:40   Log-Likelihood:                -220.33\n",
        "No. Observations:                 758   AIC:                             466.7\n",
        "Df Residuals:                     745   BIC:                             526.9\n",
        "Df Model:                          12                                         \n",
        "==============================================================================\n",
        "                 coef    std err          t      P>|t|      [95.0% Conf. Int.]\n",
        "------------------------------------------------------------------------------\n",
        "const          4.2354      0.113     37.366      0.000         4.013     4.458\n",
        "s              0.0620      0.007      8.512      0.000         0.048     0.076\n",
        "iq             0.0027      0.001      2.630      0.009         0.001     0.005\n",
        "expr           0.0308      0.007      4.737      0.000         0.018     0.044\n",
        "tenure         0.0422      0.007      5.636      0.000         0.027     0.057\n",
        "rns           -0.0963      0.028     -3.496      0.001        -0.150    -0.042\n",
        "smsa           0.1329      0.027      5.001      0.000         0.081     0.185\n",
        "D_67          -0.0542      0.048     -1.133      0.258        -0.148     0.040\n",
        "D_68           0.0806      0.045      1.795      0.073        -0.008     0.169\n",
        "D_69           0.2076      0.044      4.733      0.000         0.121     0.294\n",
        "D_70           0.2282      0.049      4.677      0.000         0.132     0.324\n",
        "D_71           0.2227      0.043      5.167      0.000         0.138     0.307\n",
        "D_73           0.3229      0.041      7.941      0.000         0.243     0.403\n",
        "==============================================================================\n",
        "Omnibus:                        4.773   Durbin-Watson:                   1.726\n",
        "Prob(Omnibus):                  0.092   Jarque-Bera (JB):                5.622\n",
        "Skew:                          -0.068   Prob(JB):                       0.0602\n",
        "Kurtosis:                       3.400   Cond. No.                     1.02e+03\n",
        "==============================================================================\n",
        "\n",
        "The condition number is large, 1.02e+03. This might indicate that there are\n",
        "strong multicollinearity or other numerical problems.\n"
       ]
      }
     ],
     "prompt_number": 66
    },
    {
     "cell_type": "markdown",
     "metadata": {},
     "source": [
      "OLS results suggest that (after controlling for job experience, job tenure, whether or not you live in a city or a rural area, whether or not you live in the Southern U.S., and year of observation, and talent as proxied by IQ) years of schooling has a highly significant positive impact on wage rates. \n",
      "\n",
      "If $IQ_{i}$ were a perfect measure of ability $A_{i}$, that would be enough for OLS to give us a consistent estimate of the return to schooling $\\beta_{1}$, because now $S_{i}$ is not endogenous - $A_{i}$ has been moved out of the error $\\epsilon_{i}$. However, $IQ_{i}$ is probably not a perfect measure of ability $A_{i}$. It is only a \"proxy\" for ability, and an imperfect one at that. For this reason, it is possible that $S_{i}$ is still endogenous \u2013 still correlated with aspects of individual ability not captured by an IQ test still in $\\epsilon_{i}$ \u2013 and therefore OLS will generate an upward biased estimate of $\\beta_{1}$.  However, because ability (and probably human capital investment as well!)is measured with error, the OLS estimates will suffer from \"attenuation bias\" (i.e., OLS estimates will be biased downwards, towards zero). Unclear which of omitted variable bias or attenuation bias will dominate."
     ]
    },
    {
     "cell_type": "markdown",
     "metadata": {},
     "source": [
      "### Specification 2:\n",
      "\n",
      "Suppose that $S_{i}$ and $IQ_{i}$ are now both endogenous. Further assume independence and conditional homoskedasticity holds for disturbance term. In this case, we can estimate the model using 2SLS. First try using the Statsmodels IV estimator..."
     ]
    },
    {
     "cell_type": "code",
     "collapsed": false,
     "input": [
      "# Construct the matrix of regressors\n",
      "X = sm.add_constant(griliches76_data[['s', 'iq', 'expr', 'tenure', 'rns', 'smsa', \\\n",
      "                                      'D_67', 'D_68', 'D_69', 'D_70', 'D_71', 'D_73']])"
     ],
     "language": "python",
     "metadata": {},
     "outputs": [],
     "prompt_number": 67
    },
    {
     "cell_type": "code",
     "collapsed": false,
     "input": [
      "# Construct the matrix of instruments (both included and excluded!)\n",
      "Z = sm.add_constant(griliches76_data[['expr', 'tenure', 'rns', 'smsa', \\\n",
      "                                      'D_67', 'D_68', 'D_69', 'D_70', 'D_71', 'D_73', \\\n",
      "                                      'med', 'kww', 'age', 'mrt']])"
     ],
     "language": "python",
     "metadata": {},
     "outputs": [],
     "prompt_number": 68
    },
    {
     "cell_type": "code",
     "collapsed": false,
     "input": [
      "# define the model\n",
      "specification_2 = gmm.IV2SLS(griliches76_data['lw'], X, Z)"
     ],
     "language": "python",
     "metadata": {},
     "outputs": [],
     "prompt_number": 69
    },
    {
     "cell_type": "code",
     "collapsed": false,
     "input": [
      "# estimate the model and print a summary of the results\n",
      "results_spec_2 = specification_2.fit()\n",
      "#print results_spec_2.summary()"
     ],
     "language": "python",
     "metadata": {},
     "outputs": [],
     "prompt_number": 76
    },
    {
     "cell_type": "markdown",
     "metadata": {},
     "source": [
      "Parameter estiamtes seem to be correct, but standard errors (and everything that depends on them) are very wrong! Now estimate specification #2 using the R function ivreg from the AER library..."
     ]
    },
    {
     "cell_type": "code",
     "collapsed": false,
     "input": [
      "# put the Griliches DataFrame into the R global environment\n",
      "griliches76_data_R = com.convert_to_r_dataframe(griliches76_data)"
     ],
     "language": "python",
     "metadata": {},
     "outputs": [],
     "prompt_number": 95
    },
    {
     "cell_type": "code",
     "collapsed": false,
     "input": [
      "# define the model we wish to estimate\n",
      "dependent_var = \"lw\"\n",
      "controls = \"expr + tenure + rns + smsa + D_67 + D_68 + D_69 + D_70 + D_71 + D_73\"\n",
      "endo_regressors = \"s + iq\"\n",
      "instruments = \"med + kww + age + mrt\" + \" + \" + controls\n",
      "\n",
      "# remember to either leave out D_66 or the drop the constant!\n",
      "specification_2 = dependent_var + \" ~ \" + endo_regressors + \" + \" + controls + \" | \" + instruments"
     ],
     "language": "python",
     "metadata": {},
     "outputs": [],
     "prompt_number": 96
    },
    {
     "cell_type": "code",
     "collapsed": false,
     "input": [
      "# run the IV regression\n",
      "spec_2_fit_2SLS_AER = AER.ivreg(specification_2, instruments=instruments, data=griliches76_data_R)"
     ],
     "language": "python",
     "metadata": {},
     "outputs": [],
     "prompt_number": 97
    },
    {
     "cell_type": "code",
     "collapsed": false,
     "input": [
      "# print a summary of the regression results\n",
      "print base.summary(spec_2_fit_2SLS_AER).rx2[['coefficients']]"
     ],
     "language": "python",
     "metadata": {},
     "outputs": [
      {
       "output_type": "stream",
       "stream": "stdout",
       "text": [
        "                Estimate  Std. Error    t value     Pr(>|t|)\n",
        "(Intercept)  4.033509895 0.318161622 12.6775501 1.723600e-33\n",
        "s            0.172425312 0.020918232  8.2428242 7.570254e-16\n",
        "iq          -0.009098831 0.004745269 -1.9174531 5.556250e-02\n",
        "expr         0.049289490 0.008225429  5.9923305 3.219967e-09\n",
        "tenure       0.042217092 0.008919693  4.7330205 2.647391e-06\n",
        "rns         -0.101793450 0.034473366 -2.9528144 3.247941e-03\n",
        "smsa         0.126110949 0.031196149  4.0425165 5.838099e-05\n",
        "D_67        -0.059617106 0.055775817 -1.0688701 2.854744e-01\n",
        "D_68         0.048679560 0.052467962  0.9277959 3.538139e-01\n",
        "D_69         0.152817633 0.052010923  2.9381834 3.403361e-03\n",
        "D_70         0.174436051 0.060276710  2.8939212 3.915751e-03\n",
        "D_71         0.091665967 0.054614358  1.6784225 9.368402e-02\n",
        "D_73         0.093239765 0.057678654  1.6165385 1.064013e-01\n",
        "\n"
       ]
      }
     ],
     "prompt_number": 98
    },
    {
     "cell_type": "markdown",
     "metadata": {},
     "source": [
      "Note that IV/2SLS estimate of $\\beta_{1}$ is *higher* than the OLS estimate! This suggests that OLS was under-estimating the returns to human capital investment (possibly because years of schooling is a noisy measurement of human capital invesment).  On the other hand, the IV/2SLS estimate of $\\beta_{2}$ has fallen (and in fact is no longer significant at the 5% level).\n",
      "\n",
      "Want to check that the instruments are sufficiently correlated with each of the endogenous regressors..."
     ]
    },
    {
     "cell_type": "code",
     "collapsed": false,
     "input": [
      "# Construct the matrix of instruments (both included and excluded!)\n",
      "X = sm.add_constant(griliches76_data[['expr', 'tenure', 'rns', 'smsa', \\\n",
      "                                      'D_67', 'D_68', 'D_69', 'D_70', 'D_71', 'D_73', \\\n",
      "                                      'med', 'kww', 'age', 'mrt']], prepend=True)"
     ],
     "language": "python",
     "metadata": {},
     "outputs": [],
     "prompt_number": 99
    },
    {
     "cell_type": "code",
     "collapsed": false,
     "input": [
      "# regress years of schooling S on matrix on instruments\n",
      "spec_2_fit_aux1 = sm.OLS(griliches76_data['s'], X).fit()\n",
      "\n",
      "# regress years of schooling S on matrix on instruments\n",
      "spec_2_fit_aux2 = sm.OLS(griliches76_data['iq'], X).fit()"
     ],
     "language": "python",
     "metadata": {},
     "outputs": [],
     "prompt_number": 100
    },
    {
     "cell_type": "code",
     "collapsed": false,
     "input": [
      "# matrix of coefficient restrictions for F-test of joint significance of excluded instruments\n",
      "R = np.array([[0, 0, 0, 0, 0, 0, 0, 0, 0, 0, 0, 1, 0, 0, 0],\n",
      "              [0, 0, 0, 0, 0, 0, 0, 0, 0, 0, 0, 0, 1, 0, 0],\n",
      "              [0, 0, 0, 0, 0, 0, 0, 0, 0, 0, 0, 0, 0, 1, 0],\n",
      "              [0, 0, 0, 0, 0, 0, 0, 0, 0, 0, 0, 0, 0, 0, 1]])\n",
      "\n",
      "# null hypothesis is that each of the coefficients is zero\n",
      "q = np.zeros(4)\n",
      "\n",
      "# conduct the test for years of schooling...reject null hypothesis!\n",
      "print spec_2_fit_aux1.f_test((R, q))"
     ],
     "language": "python",
     "metadata": {},
     "outputs": [
      {
       "output_type": "stream",
       "stream": "stdout",
       "text": [
        "<F test: F=array([[ 104.30946267]]), p=[[  1.66785022e-70]], df_denom=743, df_num=4>\n"
       ]
      }
     ],
     "prompt_number": 101
    },
    {
     "cell_type": "code",
     "collapsed": false,
     "input": [
      "# conduct the test for years of iq...reject null hypothesis!\n",
      "print spec_2_fit_aux2.f_test((R, q))"
     ],
     "language": "python",
     "metadata": {},
     "outputs": [
      {
       "output_type": "stream",
       "stream": "stdout",
       "text": [
        "<F test: F=array([[ 30.32002317]]), p=[[  2.14062067e-23]], df_denom=743, df_num=4>\n"
       ]
      }
     ],
     "prompt_number": 102
    },
    {
     "cell_type": "markdown",
     "metadata": {},
     "source": [
      "The above F-tests suggest that the excluded instruments are sufficiently correlated with the endogenous regressors to serve as instruments. However need to check that the instruments are actually exogenous (i.e., uncorrelated with the error term).  For this need to use Sargan-Hansen test for over-identifying restrictions. The Sargan-Hansen test is a test of overidentifying restrictions.  The joint null hypothesis is that the instruments are valid instruments, i.e.,\n",
      "uncorrelated with the error term, and that the excluded instruments are correctly excluded from the estimated equation.  Under the null, the test statistic is distributed as chi-squared in the number of (L-K) overidentifying\n",
      "restrictions.  A rejection casts doubt on the validity of the instruments.  For the efficient GMM estimator, the test statistic is Hansen's J statistic, the minimized value of the GMM criterion function.  For the 2SLS estimator, the\n",
      "test statistic is Sargan's statistic, typically calculated as N*R-squared from a regression of the IV residuals on the full set of instruments.  Under the assumption of conditional homoskedasticity, Hansen's J statistic becomes Sargan's statistic."
     ]
    },
    {
     "cell_type": "code",
     "collapsed": false,
     "input": [
      "# recast the residuals from the IV regression as an numpy array\n",
      "spec_2_IV_resids = np.array(spec_2_fit_2SLS_AER.rx2[['residuals']])"
     ],
     "language": "python",
     "metadata": {},
     "outputs": [],
     "prompt_number": 103
    },
    {
     "cell_type": "code",
     "collapsed": false,
     "input": [
      "# regress the residuals from the IV regression on the full set of instruments\n",
      "Sargan_test_regression = sm.OLS(spec_2_IV_resids, X).fit()"
     ],
     "language": "python",
     "metadata": {},
     "outputs": [],
     "prompt_number": 104
    },
    {
     "cell_type": "code",
     "collapsed": false,
     "input": [
      "# Sargan test statistic is N * R^2 of the testing regression\n",
      "Sargan_test_stat = Sargan_test_regression.nobs * Sargan_test_regression.rsquared\n",
      "print Sargan_test_stat"
     ],
     "language": "python",
     "metadata": {},
     "outputs": [
      {
       "output_type": "stream",
       "stream": "stdout",
       "text": [
        "13.2683313734\n"
       ]
      }
     ],
     "prompt_number": 105
    },
    {
     "cell_type": "code",
     "collapsed": false,
     "input": [
      "# p-value for Sargan test...reject the null hypothesis! Conclude instruments are NOT exogeous!\n",
      "1 - stats.distributions.chi2.cdf(Sargan_test_stat, 2)"
     ],
     "language": "python",
     "metadata": {},
     "outputs": [
      {
       "output_type": "pyout",
       "prompt_number": 106,
       "text": [
        "0.0013146751386557964"
       ]
      }
     ],
     "prompt_number": 106
    },
    {
     "cell_type": "markdown",
     "metadata": {},
     "source": [
      "Finally, we want to estimate the above specification using the R library [gmm](http://cran.r-project.org/web/packages/gmm/vignettes/gmm_with_R.pdf). Under the assumptions of specification 1, 2SLS and efficient GMM are equivalent!"
     ]
    },
    {
     "cell_type": "code",
     "collapsed": false,
     "input": [
      "# this just allows for easy shifting of numpy arrays into the R workspace\n",
      "import rpy2.robjects.numpy2ri\n",
      "rpy2.robjects.numpy2ri.activate()"
     ],
     "language": "python",
     "metadata": {},
     "outputs": []
    },
    {
     "cell_type": "code",
     "collapsed": false,
     "input": [
      "# import the R library GMM\n",
      "GMM = importr('gmm')"
     ],
     "language": "python",
     "metadata": {},
     "outputs": [],
     "prompt_number": 108
    },
    {
     "cell_type": "code",
     "collapsed": false,
     "input": [
      "# formula to be estimated\n",
      "formula = robjects.Formula(\"lw ~ s + iq + expr + tenure + rns + smsa + \" \\\n",
      "                           + \"D_67 + D_68 + D_69 + D_70 + D_71 + D_73\")\n",
      "# instruments\n",
      "instruments = robjects.Formula(\"~ med + kww + age + mrt + expr + tenure + rns + smsa + \" \\\n",
      "                               + \"D_67 + D_68 + D_69 + D_70 + D_71 + D_73\")"
     ],
     "language": "python",
     "metadata": {},
     "outputs": [],
     "prompt_number": 124
    },
    {
     "cell_type": "code",
     "collapsed": false,
     "input": [
      "# create the weighting matrix for IV as efficient GMM by hand...\n",
      "Z = griliches76_data[['const', 'med', 'kww', 'age', 'mrt', \\\n",
      "                      'expr', 'tenure', 'rns', 'smsa', \\\n",
      "                      'D_67', 'D_68', 'D_69', 'D_70', 'D_71', 'D_73']]\n",
      "\n",
      "# compute (Z'Z)^-1\n",
      "weights = np.linalg.inv((Z.T).dot(Z))"
     ],
     "language": "python",
     "metadata": {},
     "outputs": [],
     "prompt_number": 240
    },
    {
     "cell_type": "code",
     "collapsed": false,
     "input": [
      "# estimate specification 2 using GMM (make sure to specify vcov='iid' option)\n",
      "spec_2_fit_GMM = GMM.gmm(formula, instruments, data=griliches76_data_R, vcov='iid',\n",
      "                         weightsMatrix=weights)"
     ],
     "language": "python",
     "metadata": {},
     "outputs": [],
     "prompt_number": 261
    },
    {
     "cell_type": "code",
     "collapsed": false,
     "input": [
      "# print the coefficients...should be identical to those obtained using 2SLS above!\n",
      "print base.summary(spec_2_fit_GMM).rx2[['coefficients']]"
     ],
     "language": "python",
     "metadata": {},
     "outputs": [
      {
       "output_type": "stream",
       "stream": "stdout",
       "text": [
        "                Estimate  Std. Error    t value     Pr(>|t|)\n",
        "(Intercept)  4.033509895 0.334840584 12.0460604 2.034433e-33\n",
        "s            0.172425312 0.020676258  8.3392902 7.473779e-17\n",
        "iq          -0.009098831 0.004882415 -1.8635925 6.237895e-02\n",
        "expr         0.049289490 0.008043760  6.1276679 8.917649e-10\n",
        "tenure       0.042217092 0.009454882  4.4651103 8.002751e-06\n",
        "rns         -0.101793450 0.033523753 -3.0364575 2.393758e-03\n",
        "smsa         0.126110949 0.030774708  4.0978764 4.169578e-05\n",
        "D_67        -0.059617106 0.051460350 -1.1585056 2.466577e-01\n",
        "D_68         0.048679560 0.049573423  0.9819689 3.261152e-01\n",
        "D_69         0.152817633 0.047630955  3.2083680 1.334906e-03\n",
        "D_70         0.174436051 0.060999974  2.8596086 4.241641e-03\n",
        "D_71         0.091665967 0.055402894  1.6545339 9.801908e-02\n",
        "D_73         0.093239765 0.060702933  1.5360010 1.245381e-01\n",
        "\n"
       ]
      }
     ],
     "prompt_number": 262
    },
    {
     "cell_type": "code",
     "collapsed": false,
     "input": [
      "# reject the joint null hypothesis (either instruments are not exogenous, and/or incorrectly excluded)\n",
      "print GMM.specTest(spec_2_fit_GMM)"
     ],
     "language": "python",
     "metadata": {},
     "outputs": [
      {
       "output_type": "stream",
       "stream": "stdout",
       "text": [
        "\n",
        " ##  J-Test: degrees of freedom is 2  ## \n",
        "\n",
        "                J-test      P-value   \n",
        "Test E(g)=0:    12.1593413   0.0022889\n",
        "\n",
        "\n"
       ]
      }
     ],
     "prompt_number": 263
    },
    {
     "cell_type": "markdown",
     "metadata": {},
     "source": [
      "### Specification 3:\n",
      "\n",
      "Again, suppose that $S_{i}$ and $IQ_{i}$ are endogenous.  This time, however, assume that the error term satisfies independence but exhibits conditional heteroskedasticity.  We will estimate using inefficient GMM, thus the weighting matrix is inverse of $S_{classical}$ (i.e., same as in specification 2), but we will use $S_{HC}$ in the formula for the asymptotic variance in order to get the right SEs and perform tests with the right size (at least asymptotically)."
     ]
    },
    {
     "cell_type": "code",
     "collapsed": false,
     "input": [
      "# estimate specification 3 using GMM (make sure to specify vcov='HAC' option)\n",
      "spec_3_fit_GMM = GMM.gmm(formula, instruments, data=griliches76_data_R, vcov='HAC',\n",
      "                         weightsMatrix=weights)"
     ],
     "language": "python",
     "metadata": {},
     "outputs": [],
     "prompt_number": 270
    },
    {
     "cell_type": "code",
     "collapsed": false,
     "input": [
      "# print the coefficients...\n",
      "print base.summary(spec_3_fit_GMM).rx2[['coefficients']]"
     ],
     "language": "python",
     "metadata": {},
     "outputs": [
      {
       "output_type": "stream",
       "stream": "stdout",
       "text": [
        "                Estimate  Std. Error    t value     Pr(>|t|)\n",
        "(Intercept)  4.033509895 0.340300832 11.8527770 2.081756e-32\n",
        "s            0.172425312 0.019353845  8.9090987 5.144908e-19\n",
        "iq          -0.009098831 0.004764497 -1.9097150 5.616992e-02\n",
        "expr         0.049289490 0.007839821  6.2870684 3.235169e-10\n",
        "tenure       0.042217092 0.009118839  4.6296566 3.662726e-06\n",
        "rns         -0.101793450 0.036422863 -2.7947679 5.193698e-03\n",
        "smsa         0.126110949 0.034948885  3.6084399 3.080439e-04\n",
        "D_67        -0.059617106 0.051035765 -1.1681437 2.427488e-01\n",
        "D_68         0.048679560 0.051463413  0.9459062 3.441964e-01\n",
        "D_69         0.152817633 0.050388517  3.0327869 2.423067e-03\n",
        "D_70         0.174436051 0.064362936  2.7101942 6.724383e-03\n",
        "D_71         0.091665967 0.059761186  1.5338713 1.250613e-01\n",
        "D_73         0.093239765 0.062945888  1.4812686 1.385350e-01\n",
        "\n"
       ]
      }
     ],
     "prompt_number": 271
    },
    {
     "cell_type": "markdown",
     "metadata": {},
     "source": [
      "Because IV is now inefficient GMM, the overidentification test statistic is not correct (because we are not using the optimal weighting matrix)! However we could use the test statistic calculated from using the optimal weighting matrix in the presence of arbitrary heteroskedasticity/serial correlation."
     ]
    },
    {
     "cell_type": "code",
     "collapsed": false,
     "input": [
      "# compare this test statistic with... \n",
      "print GMM.specTest(spec_3_fit_GMM)"
     ],
     "language": "python",
     "metadata": {},
     "outputs": [
      {
       "output_type": "stream",
       "stream": "stdout",
       "text": [
        "\n",
        " ##  J-Test: degrees of freedom is 2  ## \n",
        "\n",
        "                J-test      P-value   \n",
        "Test E(g)=0:    13.0427469   0.0014716\n",
        "\n",
        "\n"
       ]
      }
     ],
     "prompt_number": 272
    },
    {
     "cell_type": "code",
     "collapsed": false,
     "input": [
      "# ...the test statistic calculated using optimal weighting matrix (which is actually default setting!)\n",
      "spec_3b_fit_GMM = GMM.gmm(formula, instruments, data=griliches76_data_R, vcov='HAC')\n",
      "print GMM.specTest(spec_3b_fit_GMM)"
     ],
     "language": "python",
     "metadata": {},
     "outputs": [
      {
       "output_type": "stream",
       "stream": "stdout",
       "text": [
        "\n",
        " ##  J-Test: degrees of freedom is 2  ## \n",
        "\n",
        "                J-test      P-value   \n",
        "Test E(g)=0:    12.3217954   0.0021104\n",
        "\n",
        "\n"
       ]
      }
     ],
     "prompt_number": 280
    },
    {
     "cell_type": "markdown",
     "metadata": {},
     "source": [
      "### Specification 4:\n",
      "\n",
      "Suppose that $S_{i}$ and $IQ_{i}$ are endogenous.  Further suppose that independence holds, but the error term is conditionally heteroskedastic. This time use the optimal weighting matrix, so that we are using efficient GMM...  "
     ]
    },
    {
     "cell_type": "code",
     "collapsed": false,
     "input": [
      "# twostep efficient GMM\n",
      "spec_4_fit_GMM = GMM.gmm(formula, instruments, data=griliches76_data_R, vcov='HAC',\n",
      "                         wmatrix='optimal', type='twoStep')"
     ],
     "language": "python",
     "metadata": {},
     "outputs": [],
     "prompt_number": 282
    },
    {
     "cell_type": "code",
     "collapsed": false,
     "input": [
      "# print the coefficients...\n",
      "print base.summary(spec_4_fit_GMM).rx2[['coefficients']]"
     ],
     "language": "python",
     "metadata": {},
     "outputs": [
      {
       "output_type": "stream",
       "stream": "stdout",
       "text": [
        "                Estimate  Std. Error    t value     Pr(>|t|)\n",
        "(Intercept)  3.985603969 0.340738027 11.6969744 1.320792e-31\n",
        "s            0.174026164 0.019450465  8.9471469 3.647888e-19\n",
        "iq          -0.008946783 0.004780840 -1.8713830 6.129201e-02\n",
        "expr         0.050249063 0.007856843  6.3955791 1.599400e-10\n",
        "tenure       0.046779304 0.009086337  5.1483129 2.628398e-07\n",
        "rns         -0.099881450 0.036546325 -2.7330094 6.275854e-03\n",
        "smsa         0.120062705 0.034974692  3.4328452 5.972830e-04\n",
        "D_67        -0.054407448 0.051276733 -1.0610553 2.886648e-01\n",
        "D_68         0.050941498 0.051588009  0.9874678 3.234134e-01\n",
        "D_69         0.154732690 0.050676479  3.0533433 2.263069e-03\n",
        "D_70         0.169062558 0.064138950  2.6358797 8.391948e-03\n",
        "D_71         0.087689355 0.059793477  1.4665372 1.425020e-01\n",
        "D_73         0.104083253 0.063079654  1.6500289 9.893702e-02\n",
        "\n"
       ]
      }
     ],
     "prompt_number": 284
    },
    {
     "cell_type": "code",
     "collapsed": false,
     "input": [
      "# reject the null hypothesis!\n",
      "print GMM.specTest(spec_4_fit_GMM)"
     ],
     "language": "python",
     "metadata": {},
     "outputs": [
      {
       "output_type": "stream",
       "stream": "stdout",
       "text": [
        "\n",
        " ##  J-Test: degrees of freedom is 2  ## \n",
        "\n",
        "                J-test      P-value   \n",
        "Test E(g)=0:    12.3217954   0.0021104\n",
        "\n",
        "\n"
       ]
      }
     ],
     "prompt_number": 285
    },
    {
     "cell_type": "code",
     "collapsed": false,
     "input": [
      "# continuosly updated efficient GMM (CUE)\n",
      "spec_4b_fit_GMM = GMM.gmm(formula, instruments, data=griliches76_data_R, vcov='HAC',\n",
      "                          wmatrix='optimal', type='cue')"
     ],
     "language": "python",
     "metadata": {},
     "outputs": [],
     "prompt_number": 286
    },
    {
     "cell_type": "code",
     "collapsed": false,
     "input": [
      "# print the coefficients...\n",
      "print base.summary(spec_4b_fit_GMM).rx2[['coefficients']]"
     ],
     "language": "python",
     "metadata": {},
     "outputs": [
      {
       "output_type": "stream",
       "stream": "stdout",
       "text": [
        "                Estimate  Std. Error    t value     Pr(>|t|)\n",
        "(Intercept)  4.043906252 0.340365902 11.8810557 1.484801e-32\n",
        "s            0.171982792 0.019405474  8.8625916 7.817552e-19\n",
        "iq          -0.009350377 0.004770050 -1.9602263 4.996935e-02\n",
        "expr         0.049694410 0.007824579  6.3510651 2.138292e-10\n",
        "tenure       0.047120114 0.009052093  5.2054387 1.935389e-07\n",
        "rns         -0.098474200 0.036552025 -2.6940833 7.058252e-03\n",
        "smsa         0.122429480 0.034949118  3.5030778 4.599151e-04\n",
        "D_67        -0.046619589 0.051164510 -0.9111704 3.622056e-01\n",
        "D_68         0.061089674 0.051387795  1.1887973 2.345194e-01\n",
        "D_69         0.166599253 0.050481346  3.3002142 9.661107e-04\n",
        "D_70         0.186470577 0.064084073  2.9097803 3.616829e-03\n",
        "D_71         0.104332928 0.059552722  1.7519422 7.978374e-02\n",
        "D_73         0.115786617 0.062878689  1.8414286 6.555878e-02\n",
        "\n"
       ]
      }
     ],
     "prompt_number": 287
    },
    {
     "cell_type": "code",
     "collapsed": false,
     "input": [
      "# reject the null hypothesis!\n",
      "print GMM.specTest(spec_4b_fit_GMM)"
     ],
     "language": "python",
     "metadata": {},
     "outputs": [
      {
       "output_type": "stream",
       "stream": "stdout",
       "text": [
        "\n",
        " ##  J-Test: degrees of freedom is 2  ## \n",
        "\n",
        "                J-test      P-value   \n",
        "Test E(g)=0:    12.4062172   0.0020231\n",
        "\n",
        "\n"
       ]
      }
     ],
     "prompt_number": 288
    },
    {
     "cell_type": "markdown",
     "metadata": {},
     "source": [
      "### Specification 5:\n",
      "\n",
      "This time suppose that $S_{i}$ and $IQ_{i}$ are exogenous and that the error term is extremely well behaved (i.e., satisfies independence and conditional homoskedasticity).  In this case, the efficient GMM estimator is OLS! Just use the weighting matrix $S_{classical}\\ $!"
     ]
    },
    {
     "cell_type": "code",
     "collapsed": false,
     "input": [
      "# formula to be estimated\n",
      "formula = robjects.Formula(\"lw ~ s + iq + expr + tenure + rns + smsa + \" \\\n",
      "                           + \"D_67 + D_68 + D_69 + D_70 + D_71 + D_73\")"
     ],
     "language": "python",
     "metadata": {},
     "outputs": [],
     "prompt_number": 422
    },
    {
     "cell_type": "code",
     "collapsed": false,
     "input": [
      "# instruments\n",
      "instruments = robjects.Formula(\"~ s + iq + expr + tenure + rns + smsa + \" \\\n",
      "                               + \"D_67 + D_68 + D_69 + D_70 + D_71 + D_73 + \" \\\n",
      "                               + \"med + kww + age + mrt\")"
     ],
     "language": "python",
     "metadata": {},
     "outputs": [],
     "prompt_number": 423
    },
    {
     "cell_type": "code",
     "collapsed": false,
     "input": [
      "# create the weighting matrix by hand...\n",
      "Z = griliches76_data[['const', 's', 'iq', 'expr', 'tenure', 'rns', 'smsa', \\\n",
      "                      'D_67', 'D_68', 'D_69', 'D_70', 'D_71', 'D_73', \\\n",
      "                      'med', 'kww', 'age', 'mrt']]\n",
      " \n",
      "# compute (Z'Z)^-1\n",
      "weights = np.sqrt(np.sum(results_spec_1.resid**2) / Z.shape[0]) * np.linalg.inv((Z.T).dot(Z))"
     ],
     "language": "python",
     "metadata": {},
     "outputs": [],
     "prompt_number": 454
    },
    {
     "cell_type": "code",
     "collapsed": false,
     "input": [],
     "language": "python",
     "metadata": {},
     "outputs": [
      {
       "output_type": "pyout",
       "prompt_number": 427,
       "text": [
        "79.373388789838614"
       ]
      }
     ],
     "prompt_number": 427
    },
    {
     "cell_type": "code",
     "collapsed": false,
     "input": [
      "# estimate specification 5 using GMM (make sure to specify vcov='iid' option)\n",
      "spec_5_fit_GMM = GMM.gmm(formula, x=instruments, data=griliches76_data_R, vcov='TrueFixed',\n",
      "                         weightsMatrix=weights)"
     ],
     "language": "python",
     "metadata": {},
     "outputs": [],
     "prompt_number": 455
    },
    {
     "cell_type": "code",
     "collapsed": false,
     "input": [
      "# print the coefficients...\n",
      "print base.summary(spec_5_fit_GMM).rx2[['coefficients']]"
     ],
     "language": "python",
     "metadata": {},
     "outputs": [
      {
       "output_type": "stream",
       "stream": "stdout",
       "text": [
        "               Estimate Std. Error      t value  Pr(>|t|)\n",
        "(Intercept)  4.23535689 16.8070314  0.251999107 0.8010418\n",
        "s            0.06195478  1.0792463  0.057405600 0.9542221\n",
        "iq           0.00271212  0.1529346  0.017733860 0.9858512\n",
        "expr         0.03083947  0.9652957  0.031948213 0.9745133\n",
        "tenure       0.04216306  1.1092917  0.038008992 0.9696805\n",
        "rns         -0.09629347  4.0845425 -0.023575092 0.9811915\n",
        "smsa         0.13289929  3.9405856  0.033725770 0.9730958\n",
        "D_67        -0.05420948  7.0953788 -0.007640111 0.9939041\n",
        "D_68         0.08058085  6.6569103  0.012104842 0.9903420\n",
        "D_69         0.20759151  6.5034998  0.031919969 0.9745359\n",
        "D_70         0.22822373  7.2358323  0.031540771 0.9748383\n",
        "D_71         0.22269148  6.3900327  0.034849819 0.9721995\n",
        "D_73         0.32287469  6.0285629  0.053557488 0.9572877\n",
        "\n"
       ]
      }
     ],
     "prompt_number": 456
    },
    {
     "cell_type": "code",
     "collapsed": false,
     "input": [
      "print results_spec_1.summary()"
     ],
     "language": "python",
     "metadata": {},
     "outputs": [
      {
       "output_type": "stream",
       "stream": "stdout",
       "text": [
        "                            OLS Regression Results                            \n",
        "==============================================================================\n",
        "Dep. Variable:                     lw   R-squared:                       0.430\n",
        "Model:                            OLS   Adj. R-squared:                  0.421\n",
        "Method:                 Least Squares   F-statistic:                     46.86\n",
        "Date:                Sat, 01 Dec 2012   Prob (F-statistic):           9.84e-83\n",
        "Time:                        20:13:08   Log-Likelihood:                -220.33\n",
        "No. Observations:                 758   AIC:                             466.7\n",
        "Df Residuals:                     745   BIC:                             526.9\n",
        "Df Model:                          12                                         \n",
        "==============================================================================\n",
        "                 coef    std err          t      P>|t|      [95.0% Conf. Int.]\n",
        "------------------------------------------------------------------------------\n",
        "const          4.2354      0.113     37.366      0.000         4.013     4.458\n",
        "s              0.0620      0.007      8.512      0.000         0.048     0.076\n",
        "iq             0.0027      0.001      2.630      0.009         0.001     0.005\n",
        "expr           0.0308      0.007      4.737      0.000         0.018     0.044\n",
        "tenure         0.0422      0.007      5.636      0.000         0.027     0.057\n",
        "rns           -0.0963      0.028     -3.496      0.001        -0.150    -0.042\n",
        "smsa           0.1329      0.027      5.001      0.000         0.081     0.185\n",
        "D_67          -0.0542      0.048     -1.133      0.258        -0.148     0.040\n",
        "D_68           0.0806      0.045      1.795      0.073        -0.008     0.169\n",
        "D_69           0.2076      0.044      4.733      0.000         0.121     0.294\n",
        "D_70           0.2282      0.049      4.677      0.000         0.132     0.324\n",
        "D_71           0.2227      0.043      5.167      0.000         0.138     0.307\n",
        "D_73           0.3229      0.041      7.941      0.000         0.243     0.403\n",
        "==============================================================================\n",
        "Omnibus:                        4.773   Durbin-Watson:                   1.726\n",
        "Prob(Omnibus):                  0.092   Jarque-Bera (JB):                5.622\n",
        "Skew:                          -0.068   Prob(JB):                       0.0602\n",
        "Kurtosis:                       3.400   Cond. No.                     1.02e+03\n",
        "==============================================================================\n",
        "\n",
        "The condition number is large, 1.02e+03. This might indicate that there are\n",
        "strong multicollinearity or other numerical problems.\n"
       ]
      }
     ],
     "prompt_number": 308
    },
    {
     "cell_type": "code",
     "collapsed": false,
     "input": [],
     "language": "python",
     "metadata": {},
     "outputs": []
    }
   ],
   "metadata": {}
  }
 ]
}