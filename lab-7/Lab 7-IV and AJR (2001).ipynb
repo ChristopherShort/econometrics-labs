{
 "metadata": {
  "name": "Lab 7-IV and AJR (2001)"
 },
 "nbformat": 3,
 "nbformat_minor": 0,
 "worksheets": [
  {
   "cells": [
    {
     "cell_type": "markdown",
     "metadata": {},
     "source": [
      "Introduction\n",
      "============\n",
      "\n",
      "In the first part of this lab, we consider a particular violation of the assumptions of the classical model, namely endogeneity: $E[Xu]\\neq0$. We first look at Monte Carlos illustrating the consequences of the failure of this assumption. We then look in detail at a well-known paper by Acemoglu-Johnson-Robinson (2001) that used IV methods to address the endogeneity problem.\n",
      "\n",
      "Start by loading the relevant Python libraries..."
     ]
    },
    {
     "cell_type": "code",
     "collapsed": false,
     "input": [
      "import numpy as np\n",
      "from scipy import stats\n",
      "import statsmodels.api as sm\n",
      "import statsmodels.sandbox.regression.gmm as gmm\n",
      "import pandas as pd\n",
      "import rpy2.robjects as robjects\n",
      "from rpy2.robjects.packages import importr\n",
      "import pandas.rpy.common as com\n",
      "import matplotlib as mpl\n",
      "import matplotlib.pyplot as plt\n",
      "\n",
      "# set print options for pretty html \n",
      "pd.set_printoptions(max_columns=99)"
     ],
     "language": "python",
     "metadata": {},
     "outputs": [],
     "prompt_number": 1
    },
    {
     "cell_type": "markdown",
     "metadata": {},
     "source": [
      "Task 1: OLS baseline:\n",
      "---------------------\n",
      "\n",
      "In this task you will simulate the distribution of the OLS esimator for a data generation process (DGP) for which all of the classical assumptions needed for OLS to be BLUE hold. \n",
      "\n",
      "The specification of the DGP is as follows:\n",
      "\n",
      "$$y_{i} = \\beta_{0} + \\beta_{1}x_{i} + u_{i}$$\n",
      "\n",
      "where $x_{i} \\sim N(0,1)\\ $, $u_{i} \\sim N(0,1)\\ $, and the true values of params satisfy $\\beta_{0} = \\beta_{1} = 1$. Use this MC to investigate possible bias in estimates of $\\beta_{1}$ (the coefficient on $x_{i}$), and whether there are signs of any size distortions in tests of the null hypothesis of $H_{0}: \\beta_{1}=1$. (Recall the definition of a Type I error: incorrectly rejecting the null when it is actually true. A correctly-sized test will incorrectly reject the null 5% of the time when the chosen significance level is 5%, and similarly for other significance levels.)"
     ]
    },
    {
     "cell_type": "code",
     "collapsed": false,
     "input": [
      "# create two random variable objects representing x and u\n",
      "mu, sigma = 0, 1\n",
      "x = stats.norm(mu, sigma)\n",
      "u = stats.norm(mu, sigma)"
     ],
     "language": "python",
     "metadata": {},
     "outputs": [],
     "prompt_number": 2
    },
    {
     "cell_type": "code",
     "collapsed": false,
     "input": [
      "# number of replications\n",
      "reps = 10000\n",
      "\n",
      "# sample size of each replication\n",
      "N = 100\n",
      "\n",
      "# True values of params\n",
      "beta = np.ones(2)\n",
      "\n",
      "# create arrays to store estimates of beta_1\n",
      "OLS_beta_hats = pd.Series(np.zeros(reps), name=['OLS_beta_1'])\n",
      "\n",
      "# create arrays to store estimates of beta_1\n",
      "OLS_se_hats = pd.Series(np.zeros(reps), name=['OLS_se'])\n",
      "\n",
      "# finally, make sure to set the seed for replicability!\n",
      "np.random.seed(42)\n",
      "\n",
      "for i in xrange(reps):\n",
      "    ##### Data Generation #####\n",
      "    \n",
      "    # create data columns\n",
      "    tmp_x = x.rvs((N, 1))\n",
      "    tmp_u = u.rvs((N, 1))\n",
      "    \n",
      "    # generate the data\n",
      "    tmp_data = pd.DataFrame(np.hstack((tmp_x, tmp_u)), columns=['x', 'u'])\n",
      "    \n",
      "    # create the dependent variable\n",
      "    tmp_data['y'] = beta[0] + beta[1] * tmp_data['x'] + tmp_data['u']\n",
      "    \n",
      "    ##### Classic OLS #####\n",
      "    \n",
      "    # run simple bivariate regression using OLS\n",
      "    tmp_fit_OLS = pd.ols(y=tmp_data['y'], x=tmp_data['x'])\n",
      "    \n",
      "    # store the estimated slope coefficent\n",
      "    tmp_beta = tmp_fit_OLS.beta[0]\n",
      "    OLS_beta_hats[i] = tmp_beta\n",
      "    \n",
      "    # store the estimated standard error\n",
      "    tmp_se = tmp_fit_OLS.std_err[0]\n",
      "    OLS_se_hats[i] = tmp_se"
     ],
     "language": "python",
     "metadata": {},
     "outputs": [],
     "prompt_number": 93
    },
    {
     "cell_type": "markdown",
     "metadata": {},
     "source": [
      "*Question:*\n",
      "\n",
      "What is the evidence that the OLS estimate of $\\beta_{1}$ is biased or unbiased?"
     ]
    },
    {
     "cell_type": "code",
     "collapsed": false,
     "input": [
      "# summarize the OLS estimates of beta_1\n",
      "OLS_beta_hats.describe()"
     ],
     "language": "python",
     "metadata": {},
     "outputs": [
      {
       "output_type": "pyout",
       "prompt_number": 94,
       "text": [
        "count    10000.000000\n",
        "mean         1.000421\n",
        "std          0.102124\n",
        "min          0.605264\n",
        "25%          0.930891\n",
        "50%          0.999614\n",
        "75%          1.068767\n",
        "max          1.376669"
       ]
      }
     ],
     "prompt_number": 94
    },
    {
     "cell_type": "markdown",
     "metadata": {},
     "source": [
      "You can see that the 10,000 different estimates of $\\beta_{1}$ had a mean of approximately 1. In other words, the MC suggests that the OLS estimator is approximately unbiased for this DGP. This is easy to see visually using the code:"
     ]
    },
    {
     "cell_type": "code",
     "collapsed": false,
     "input": [
      "# kernel density plots of OLS aestimators\n",
      "plt.figure()\n",
      "\n",
      "# kernel density plots of the estimators\n",
      "OLS_beta_hats.plot(kind='kde', label='OLS')\n",
      "\n",
      "# true value of beta\n",
      "plt.vlines(x=1, ymin=0, ymax=4.5, linestyle='dashed')\n",
      "\n",
      "# labels, title, and legend\n",
      "plt.xlabel(r'$\\hat{\\beta}_{1}$', fontsize=10)\n",
      "plt.title(r'$\\hat{\\beta}_{1}$: OLS is unbiased!')\n",
      "plt.legend(loc='best', frameon=False)\n",
      "plt.axis('tight')\n",
      "\n",
      "plt.show()"
     ],
     "language": "python",
     "metadata": {},
     "outputs": [
      {
       "output_type": "display_data",
       "png": "[encoded data removed]"
      }
     ],
     "prompt_number": 95
    },
    {
     "cell_type": "markdown",
     "metadata": {},
     "source": [
      "It appears unbiased, but checking the actual mean is important \u2013 you could easily miss a small bias in either direction if you just relied on looking at the graph."
     ]
    },
    {
     "cell_type": "markdown",
     "metadata": {},
     "source": [
      "*Question:* What is the evidence that 2-tailed tests of the null hypothesis $H_{0}: \\beta_{1}=1$ at the 5% significance level are correctly sized, i.e., that they wrongly reject the null 5% of the time?"
     ]
    },
    {
     "cell_type": "code",
     "collapsed": false,
     "input": [
      "# generate t statistics\n",
      "t_stats = (OLS_beta_hats - 1) / OLS_se_hats"
     ],
     "language": "python",
     "metadata": {},
     "outputs": [],
     "prompt_number": 21
    },
    {
     "cell_type": "code",
     "collapsed": false,
     "input": [
      "# if test is correctly sized (and given 10000 reps), then this should be about 250\n",
      "t_stats[t_stats > 1.96].shape[0]"
     ],
     "language": "python",
     "metadata": {},
     "outputs": [
      {
       "output_type": "pyout",
       "prompt_number": 29,
       "text": [
        "294"
       ]
      }
     ],
     "prompt_number": 29
    },
    {
     "cell_type": "code",
     "collapsed": false,
     "input": [
      "# if test is correctly sized (and given 10000 reps), then this should be about 250\n",
      "t_stats[t_stats < -1.96].shape[0]"
     ],
     "language": "python",
     "metadata": {},
     "outputs": [
      {
       "output_type": "pyout",
       "prompt_number": 30,
       "text": [
        "253"
       ]
      }
     ],
     "prompt_number": 30
    },
    {
     "cell_type": "code",
     "collapsed": false,
     "input": [
      "# if test is correctly sized, then this should be about 500\n",
      "t_stats[np.abs(t_stats) > 1.96].shape[0]"
     ],
     "language": "python",
     "metadata": {},
     "outputs": [
      {
       "output_type": "pyout",
       "prompt_number": 31,
       "text": [
        "547"
       ]
      }
     ],
     "prompt_number": 31
    },
    {
     "cell_type": "markdown",
     "metadata": {},
     "source": [
      "$H_{0}$ was rejected 294 times because $t>1.96\\ $, and 253 times because $t\\lt-1.96\\ $ There were 10,000 tests of $H_{0}$, the null being tested is true, we are using the 5% significance level, so we would expect to incorrectly reject the null 0.05 * 10,000 = 500 times. We conclude we have MC evidence that tests using classical OLS are correctly sized."
     ]
    },
    {
     "cell_type": "markdown",
     "metadata": {},
     "source": [
      "*Question:* What is the evidence that two-tailed tests of the null are correctly sized across the full range of possible significance levels?"
     ]
    },
    {
     "cell_type": "markdown",
     "metadata": {},
     "source": [
      "If the test is correctly sized, the distribution of p-values should have the uniform distribution. Remember: the estimated coefficient is a random variable because it depends on the dataset at hand; the estimated SE is a random variable as well; so is the test statistic; and so, therefore, is the calculation of the p-value for the test statistic.\n",
      "\n",
      "A p-value is the probability of observing (if the null is true) a test statistic at least as extreme as the one we have, and \u201cextreme\u201d means either very large (positive) or very small (negative). For a two-tailed test we work with the absolute value of the test statistic. The distribution of the absolute value of a Normal variable is called the Half-Normal. The CDF of the Half-Normal is simply $F=2\\Phi(x)-1\\ $ where $\\Phi(x)$ is the CDF for the Normal."
     ]
    },
    {
     "cell_type": "code",
     "collapsed": false,
     "input": [
      "# generate the pvalues\n",
      "pvalues = 1 - (2 * stats.norm.cdf(np.abs(t_stats)) - 1)"
     ],
     "language": "python",
     "metadata": {},
     "outputs": [],
     "prompt_number": 32
    },
    {
     "cell_type": "code",
     "collapsed": false,
     "input": [
      "plt.figure()\n",
      "\n",
      "# plot a histogram of the pvalues\n",
      "plt.hist(pvalues, bins=20, normed=False, color='yellow', alpha=0.75)\n",
      "\n",
      "# given 20 bins theoretical uniform should have 500 obs per bin\n",
      "plt.axhline(y=500, xmin=0, xmax=1, color='r', linestyle='dashed', label='U[0,1]')\n",
      "\n",
      "# labels, axes, title, etc\n",
      "plt.xlabel('p-value')\n",
      "plt.ylabel('Frequency')\n",
      "plt.title('Histogram of p-values is roughly uniform!')\n",
      "\n",
      "plt.show()"
     ],
     "language": "python",
     "metadata": {},
     "outputs": [
      {
       "output_type": "display_data",
       "png": "[encoded data removed]"
      }
     ],
     "prompt_number": 42
    },
    {
     "cell_type": "markdown",
     "metadata": {},
     "source": [
      "*Question:* Based on the above, in your view is OLS a good estimator to use for such a DGP?"
     ]
    },
    {
     "cell_type": "markdown",
     "metadata": {},
     "source": [
      "Yes. The estimator is approximately unbiased, and tests using the estimator and the estimated SEs are correctly sized."
     ]
    },
    {
     "cell_type": "markdown",
     "metadata": {},
     "source": [
      "Task 2: Measurement error creates an endogeneity problem!\n",
      "---------------------------------------------------------\n",
      "\n",
      "The motivation behind the MC that you will construct in this task is as follows.  Suppose that the explanatory variable in the DGP is $x^{*}$ - the \u201ctrue\u201d $x$ \u2013 but the researcher can\u2019t observe the true $x$. Instead, the researcher has to work with $x$ measured with error. This is the case of measurement error in the explanatory variable. The true DGP is:\n",
      "\n",
      "$$ y_{i} = \\beta_{0} + \\beta_{1}x_{i}^{*} + u_{i}$$\n",
      "\n",
      "however, due to the measurement error, the research actually estimates the following DGP:\n",
      "\n",
      "$$ y_{i} = \\beta_{0} + \\beta_{1}x_{i} + \\eta_{i}$$\n",
      "\n",
      "where $x_{i}^{*}$ is observed only with error: $x_{i}^{*} = x_{i} + \\epsilon_{i}$.  Suppose that $x_{i}^{*} \\sim N(0,1)\\ $, $u_{i} \\sim N(0,1)\\ $, and $\\epsilon_{i} \\sim N(0, 0.4)\\ \\ $.  True values of params are same as in previous task: $\\beta_{0}=\\beta_{1}=1$.\n",
      "\n",
      "The DGP is the classic case of measurement error in the explanatory variable. The dependent variable $y$ is determined by $x^{*}$, but we don\u2019t observe this true value, we have only the noisy but observed measure $x$. If we use the observed $x$ in an OLS regression, we will get biased and inconsistent estimates of $\\beta_{1}$. The reason is that measurement error causes $x$ to be endogenous: $x$ is correlated with $u$, i.e., $E[x_{i}u_{i}]\\neq0\\ $. The consequence of measurement error for OLS estimates is sometimes called \u201cattenuation bias\u201d. The reason is that the OLS estimate of $\\beta_{1}$ is biased *towards* zero; it is \u201cattenuated\u201d."
     ]
    },
    {
     "cell_type": "code",
     "collapsed": false,
     "input": [
      "# create two random variable objects representing x*, u, and eps\n",
      "mu, sigma, sigma_eps = 0, 1, 0.4\n",
      "x_star = stats.norm(mu, sigma)\n",
      "u = stats.norm(mu, sigma)\n",
      "eps = stats.norm(mu, sigma_eps) "
     ],
     "language": "python",
     "metadata": {},
     "outputs": [],
     "prompt_number": 44
    },
    {
     "cell_type": "code",
     "collapsed": false,
     "input": [
      "# number of replications\n",
      "reps = 10000\n",
      "\n",
      "# sample size of each replication\n",
      "N = 100\n",
      "\n",
      "# True values of params\n",
      "beta = np.ones(2)\n",
      "\n",
      "# create arrays to store estimates of beta_1\n",
      "OLS_beta_hats = pd.Series(np.zeros(reps), name=['OLS_beta_1'])\n",
      "\n",
      "# create arrays to store estimates of beta_1\n",
      "OLS_se_hats = pd.Series(np.zeros(reps), name=['OLS_se'])\n",
      "\n",
      "# finally, make sure to set the seed for replicability!\n",
      "np.random.seed(42)\n",
      "\n",
      "for i in xrange(reps):\n",
      "    ##### Data Generation #####\n",
      "    \n",
      "    # create data columns\n",
      "    tmp_x_star = x.rvs((N, 1))\n",
      "    tmp_u = u.rvs((N, 1))\n",
      "    tmp_eps = eps.rvs((N, 1))\n",
      "    \n",
      "    # generate the data\n",
      "    tmp_data = pd.DataFrame(np.hstack((tmp_x_star, tmp_u, tmp_eps)), columns=['x*', 'u', 'eps'])\n",
      "    \n",
      "    # create the variable that researcher actually observes\n",
      "    tmp_data['x'] = tmp_data['x*'] + tmp_data['eps']\n",
      "    \n",
      "    # create the dependent variable\n",
      "    tmp_data['y'] = beta[0] + beta[1] * tmp_data['x*'] + tmp_data['u']\n",
      "    \n",
      "    ##### Classic OLS #####\n",
      "    \n",
      "    # run simple bivariate regression using OLS\n",
      "    tmp_fit_OLS = pd.ols(y=tmp_data['y'], x=tmp_data['x'])\n",
      "    \n",
      "    # store the estimated slope coefficent\n",
      "    tmp_beta = tmp_fit_OLS.beta[0]\n",
      "    OLS_beta_hats[i] = tmp_beta\n",
      "    \n",
      "    # store the estimated standard error\n",
      "    tmp_se = tmp_fit_OLS.std_err[0]\n",
      "    OLS_se_hats[i] = tmp_se"
     ],
     "language": "python",
     "metadata": {},
     "outputs": [],
     "prompt_number": 47
    },
    {
     "cell_type": "markdown",
     "metadata": {},
     "source": [
      "*Question:* What is the evidence that the OLS estimate of $\\beta_{1}$ is biased or unbiased?"
     ]
    },
    {
     "cell_type": "code",
     "collapsed": false,
     "input": [
      "# summarize the OLS estimate of beta_1\n",
      "OLS_beta_hats.describe()"
     ],
     "language": "python",
     "metadata": {},
     "outputs": [
      {
       "output_type": "pyout",
       "prompt_number": 48,
       "text": [
        "count    10000.000000\n",
        "mean         0.862382\n",
        "std          0.101045\n",
        "min          0.495215\n",
        "25%          0.795099\n",
        "50%          0.861957\n",
        "75%          0.929547\n",
        "max          1.283100"
       ]
      }
     ],
     "prompt_number": 48
    },
    {
     "cell_type": "markdown",
     "metadata": {},
     "source": [
      "The true value is 1, but the 10,000 different estimates of $\\beta_{1}$ have a mean of approximately 0.86, a noticeable downward bias of about 0.14. This is what we expect from measurement error: attenuation bias, i.e, bias towards zero.  The attenuation bias is very apparent in the distribution of $\\beta_{1}$ estimates:"
     ]
    },
    {
     "cell_type": "code",
     "collapsed": false,
     "input": [
      "# kernel density plots of OLS aestimators\n",
      "plt.figure()\n",
      "\n",
      "# kernel density plots of the estimators\n",
      "OLS_beta_hats.plot(kind='kde', label='OLS')\n",
      "\n",
      "# true value of beta\n",
      "plt.vlines(x=1, ymin=0, ymax=4.5, linestyle='dashed')\n",
      "\n",
      "# labels, title, and legend\n",
      "plt.xlabel(r'$\\hat{\\beta}_{1}$', fontsize=10)\n",
      "plt.title(r'$\\hat{\\beta}_{1}$: OLS is very biased!')\n",
      "plt.legend(loc='best', frameon=False)\n",
      "plt.axis('tight')\n",
      "\n",
      "plt.show()"
     ],
     "language": "python",
     "metadata": {},
     "outputs": [
      {
       "output_type": "display_data",
       "png": "[encoded data removed]"
      }
     ],
     "prompt_number": 50
    },
    {
     "cell_type": "markdown",
     "metadata": {},
     "source": [
      "*Question:* What is the evidence that two-tailed tests of the null hypothesis $H_{0}: \\beta_{1}=1$ at the 5% significance level are correctly sized, i.e., that they wrongly reject the null 5% of the time?"
     ]
    },
    {
     "cell_type": "code",
     "collapsed": false,
     "input": [
      "# generate t statistics\n",
      "t_stats = (OLS_beta_hats - 1) / OLS_se_hats"
     ],
     "language": "python",
     "metadata": {},
     "outputs": [],
     "prompt_number": 51
    },
    {
     "cell_type": "code",
     "collapsed": false,
     "input": [
      "# if test is correctly sized (and given 10000 reps), then this should be about 250\n",
      "t_stats[t_stats > 1.96].shape[0]"
     ],
     "language": "python",
     "metadata": {},
     "outputs": [
      {
       "output_type": "pyout",
       "prompt_number": 52,
       "text": [
        "4"
       ]
      }
     ],
     "prompt_number": 52
    },
    {
     "cell_type": "code",
     "collapsed": false,
     "input": [
      "# if test is correctly sized (and given 10000 reps), then this should be about 250\n",
      "t_stats[t_stats < -1.96].shape[0]"
     ],
     "language": "python",
     "metadata": {},
     "outputs": [
      {
       "output_type": "pyout",
       "prompt_number": 53,
       "text": [
        "2860"
       ]
      }
     ],
     "prompt_number": 53
    },
    {
     "cell_type": "code",
     "collapsed": false,
     "input": [
      "# if test is correctly sized (and given 10000 reps), then this should be about 500\n",
      "t_stats[np.abs(t_stats) > 1.96].shape[0]"
     ],
     "language": "python",
     "metadata": {},
     "outputs": [
      {
       "output_type": "pyout",
       "prompt_number": 54,
       "text": [
        "2864"
       ]
      }
     ],
     "prompt_number": 54
    },
    {
     "cell_type": "markdown",
     "metadata": {},
     "source": [
      "we find that there are almost no rejections because of a large test statistic ($t > 1.96\\ \\ $), which is not surprising giving the graph \u2013 there are very few large estimates of $\\beta_{1}$. But the number of rejections because of a small test statistic ($t \\lt -1.96\\ \\ $) is very large \u2013 about 2,800 times out of the 10,000 total replications, i.e., 25-30% of the time. We should be rejecting a correct null only about 5% of the time. Tests using OLS are therefore badly sized."
     ]
    },
    {
     "cell_type": "markdown",
     "metadata": {},
     "source": [
      "*Question:* What is the evidence that two-tailed tests of the null are correctly sized across the full range of possible significance levels?"
     ]
    },
    {
     "cell_type": "code",
     "collapsed": false,
     "input": [
      "# generate the pvalues\n",
      "pvalues = 1 - (2 * stats.norm.cdf(np.abs(t_stats)) - 1)"
     ],
     "language": "python",
     "metadata": {},
     "outputs": [],
     "prompt_number": 60
    },
    {
     "cell_type": "code",
     "collapsed": false,
     "input": [
      "plt.figure()\n",
      "\n",
      "# plot a histogram of the pvalues\n",
      "plt.hist(pvalues, bins=20, normed=False, color='yellow', alpha=0.75)\n",
      "\n",
      "# given 20 bins theoretical uniform should have 500 obs per bin\n",
      "plt.axhline(y=500, xmin=0, xmax=1, color='r', linestyle='dashed', label='U[0,1]')\n",
      "\n",
      "# labels, axes, title, etc\n",
      "plt.xlabel('p-value')\n",
      "plt.ylabel('Frequency')\n",
      "plt.title('Histogram of p-values is most definitely not uniform!')\n",
      "\n",
      "plt.show()"
     ],
     "language": "python",
     "metadata": {},
     "outputs": [
      {
       "output_type": "display_data",
       "png": "[encoded data removed]"
      }
     ],
     "prompt_number": 61
    },
    {
     "cell_type": "markdown",
     "metadata": {},
     "source": [
      "The piling-up of very small p-values is telling us that we are very likely to over-reject the correct null hypothesis. The true value of $\\beta_{1}$ is 1, but very often we will conclude this is wrong (and, based on the estimated $\\beta_{1}$, be mislead into thinking the true value is lower)."
     ]
    },
    {
     "cell_type": "markdown",
     "metadata": {},
     "source": [
      "*Question:* Based on the above, in your view is OLS a good estimator to use for such a DGP?"
     ]
    },
    {
     "cell_type": "markdown",
     "metadata": {},
     "source": [
      "In short, no!"
     ]
    },
    {
     "cell_type": "markdown",
     "metadata": {},
     "source": [
      "Task 3: Replicating AJR (2001):\n",
      "-------------------------------\n",
      "\n",
      "\u201cThe Colonial Origins of Comparative Development\u201d is a 2001 AER paper by Daron Acemoglu, Simon Johnson and James Robinson (hereafter AJR). The AJR paper is an attempt to tease out the strength of the relationship between the log of GDP per capita (our dependent variable) and the quality of institutions (our independent variable of interest). Economists have long believed that there should be a positive relationship between institutional quality and GDP per capita, and the main purpose of the paper is to quantify that relationship.\n",
      "\n",
      "The three main variables of interest are:\n",
      "\n",
      "* $y_{i}$: **logpgp95** Log PPP GDP per capita in 1995, World Bank (note: PPP denotes that the measure is based on purchasing power parity rather than nominal exchange rates).\n",
      "* $x_{i}$: **avexpr** Average protection against expropriation risk. This is measured on a 1 to 10 scale, where a low score denotes a bad institutions (the government is likely to steal your property) and a high score indicates good institutions (the government is not likely to steal your property).\n",
      "* $z_{i}$: **logem4** Log settler mortality. This is based on the earliest available record of the mortality rate of European settlers living in the country of interest, measured as deaths per thousand per year.\n",
      "\n",
      "Two additional variables we will use in the lab:\n",
      "\n",
      "* **lat_abst** Abs(latitude) / 90. This captures distance from the equator.\n",
      "* **euro1900** Percentage of the population descended from European settlers, as of the year 1900.\n",
      "\n",
      "The model to be estimated is (ignoring all other explanatory variables):\n",
      "\n",
      "$$y_{i} = \\beta x_{i} + u_{i}$$ "
     ]
    },
    {
     "cell_type": "markdown",
     "metadata": {},
     "source": [
      "*Question:* Why is it a problem for OLS estimation if $x$ is correlated with $u$? The answer to this is the same as we saw in the MC assignment: if $E[x_{i}u_{i}]\\neq 0\\ \\ $ then $x$ is endogenous and the OLS estimate of $\\beta$ will be biased and inconsistent."
     ]
    },
    {
     "cell_type": "markdown",
     "metadata": {},
     "source": [
      "*Question:* Why are AJR worried that this could be the case here? AJR\u2019s primary concern is reverse causality. What they want to explore is the impact of institutions (proxied by **avexpr**) on living standards (measured by **logpgp95**, log GDP per capita). The problem is that the causality may run the other way: rich countries can afford to pay for good institutions, and poor countries cannot. That is, not only does **avexpr** cause **logpgp95**, but also **logpgp95** might cause **avexpr**. This will cause **avexpr** to be endogenous, i.e., $E[xu]\\neq0\\ $. This will lead to an upward bias in OLS estimates of $\\beta$: our estimated $\\beta$ would be misleadingly large (the OLS estimate for $\\beta$ will capture the effect of $x$ on $y$ and $y$ on $x$).  \n",
      "\n",
      "A second reason for endogeneity that we should worry about is measurement error in the proxy for institutional quality, **avexpr**. Measuring \u201cgood institutions\u201d is not straightforward, and if this measure is noisy (which is likely), we will have a measurement error problem. Note that this will lead to a downward bias in the estimate of $\\beta$ (towards 0). In other words, in this application, reverse causality bias and measurement error bias will go in opposite directions! Which is larger, and by how much, we cannot say in advance."
     ]
    },
    {
     "cell_type": "code",
     "collapsed": false,
     "input": [
      "# load the data for AJR (2001)\n",
      "AJR_2001_data = sm.iolib.genfromdta('maketable1/maketable1.dta', missing_flt=NaN, pandas=True)"
     ],
     "language": "python",
     "metadata": {},
     "outputs": [],
     "prompt_number": 62
    },
    {
     "cell_type": "code",
     "collapsed": false,
     "input": [
      "# check the data loaded correctly!\n",
      "AJR_2001_data.head()"
     ],
     "language": "python",
     "metadata": {},
     "outputs": [
      {
       "html": [
        "<div style=\"max-height:1000px;max-width:1500px;overflow:auto;\">\n",
        "<table border=\"1\" class=\"dataframe\">\n",
        "  <thead>\n",
        "    <tr style=\"text-align: right;\">\n",
        "      <th></th>\n",
        "      <th>shortnam</th>\n",
        "      <th>euro1900</th>\n",
        "      <th>excolony</th>\n",
        "      <th>avexpr</th>\n",
        "      <th>logpgp95</th>\n",
        "      <th>cons1</th>\n",
        "      <th>cons90</th>\n",
        "      <th>democ00a</th>\n",
        "      <th>cons00a</th>\n",
        "      <th>extmort4</th>\n",
        "      <th>logem4</th>\n",
        "      <th>loghjypl</th>\n",
        "      <th>baseco</th>\n",
        "    </tr>\n",
        "  </thead>\n",
        "  <tbody>\n",
        "    <tr>\n",
        "      <td><strong>0</strong></td>\n",
        "      <td> AFG</td>\n",
        "      <td>  0.000000</td>\n",
        "      <td> 1</td>\n",
        "      <td>      NaN</td>\n",
        "      <td>      NaN</td>\n",
        "      <td>  1</td>\n",
        "      <td>  2</td>\n",
        "      <td>  1</td>\n",
        "      <td>  1</td>\n",
        "      <td>  93.699997</td>\n",
        "      <td> 4.540098</td>\n",
        "      <td>      NaN</td>\n",
        "      <td>NaN</td>\n",
        "    </tr>\n",
        "    <tr>\n",
        "      <td><strong>1</strong></td>\n",
        "      <td> AGO</td>\n",
        "      <td>  8.000000</td>\n",
        "      <td> 1</td>\n",
        "      <td> 5.363636</td>\n",
        "      <td> 7.770645</td>\n",
        "      <td>  3</td>\n",
        "      <td>  3</td>\n",
        "      <td>  0</td>\n",
        "      <td>  1</td>\n",
        "      <td> 280.000000</td>\n",
        "      <td> 5.634789</td>\n",
        "      <td>-3.411248</td>\n",
        "      <td>  1</td>\n",
        "    </tr>\n",
        "    <tr>\n",
        "      <td><strong>2</strong></td>\n",
        "      <td> ARE</td>\n",
        "      <td>  0.000000</td>\n",
        "      <td> 1</td>\n",
        "      <td> 7.181818</td>\n",
        "      <td> 9.804219</td>\n",
        "      <td>NaN</td>\n",
        "      <td>NaN</td>\n",
        "      <td>NaN</td>\n",
        "      <td>NaN</td>\n",
        "      <td>        NaN</td>\n",
        "      <td>      NaN</td>\n",
        "      <td>      NaN</td>\n",
        "      <td>NaN</td>\n",
        "    </tr>\n",
        "    <tr>\n",
        "      <td><strong>3</strong></td>\n",
        "      <td> ARG</td>\n",
        "      <td> 60.000004</td>\n",
        "      <td> 1</td>\n",
        "      <td> 6.386364</td>\n",
        "      <td> 9.133459</td>\n",
        "      <td>  1</td>\n",
        "      <td>  6</td>\n",
        "      <td>  3</td>\n",
        "      <td>  3</td>\n",
        "      <td>  68.900002</td>\n",
        "      <td> 4.232656</td>\n",
        "      <td>-0.872274</td>\n",
        "      <td>  1</td>\n",
        "    </tr>\n",
        "    <tr>\n",
        "      <td><strong>4</strong></td>\n",
        "      <td> ARM</td>\n",
        "      <td>  0.000000</td>\n",
        "      <td> 0</td>\n",
        "      <td>      NaN</td>\n",
        "      <td> 7.682482</td>\n",
        "      <td>NaN</td>\n",
        "      <td>NaN</td>\n",
        "      <td>NaN</td>\n",
        "      <td>NaN</td>\n",
        "      <td>        NaN</td>\n",
        "      <td>      NaN</td>\n",
        "      <td>      NaN</td>\n",
        "      <td>NaN</td>\n",
        "    </tr>\n",
        "  </tbody>\n",
        "</table>\n",
        "</div>"
       ],
       "output_type": "pyout",
       "prompt_number": 63,
       "text": [
        "  shortnam   euro1900  excolony    avexpr  logpgp95  cons1  cons90  democ00a  cons00a    extmort4    logem4  loghjypl  baseco\n",
        "0      AFG   0.000000         1       NaN       NaN      1       2         1        1   93.699997  4.540098       NaN     NaN\n",
        "1      AGO   8.000000         1  5.363636  7.770645      3       3         0        1  280.000000  5.634789 -3.411248       1\n",
        "2      ARE   0.000000         1  7.181818  9.804219    NaN     NaN       NaN      NaN         NaN       NaN       NaN     NaN\n",
        "3      ARG  60.000004         1  6.386364  9.133459      1       6         3        3   68.900002  4.232656 -0.872274       1\n",
        "4      ARM   0.000000         0       NaN  7.682482    NaN     NaN       NaN      NaN         NaN       NaN       NaN     NaN"
       ]
      }
     ],
     "prompt_number": 63
    },
    {
     "cell_type": "markdown",
     "metadata": {},
     "source": [
      "AJR (2001) note that colonies where Europeans faced higher mortality rates were substantially poorer in 1995 than colonies that were healthy for Europeans. Their theory is that this relationship reflects the effect of settler mortality working through the institutions brought by Europeans. See dicussion of figure 1 from the paper (reproduced below).  Figure 1 show a clear negative relationship between the instrument (i.e., settler mortality) and the dependent variable (i.e., GDP in 1995).  They will need to argue that this relation is genuine and not simply caused by some omitted variable (i.e., some other variable that is correlated with settler mortality that might also impact current income) which would of course invalidate the use of settler mortality as an instrument! "
     ]
    },
    {
     "cell_type": "code",
     "collapsed": false,
     "input": [
      "# figure 1 from paper\n",
      "fig = plt.figure(figsize=(7,7))\n",
      "ax = fig.add_subplot(111)\n",
      "\n",
      "# plot log GDP per capita vs settler mortality\n",
      "ax.scatter(AJR_2001_data['logem4'], AJR_2001_data['logpgp95'], color='orange')\n",
      "\n",
      "# axes labels, title, legend, etc\n",
      "ax.set_xlabel('$z_{i}$, log Settler Mortality Rates (per thousand)')\n",
      "ax.set_xlim(0, 11)\n",
      "ax.set_ylabel('$y_{i}$, log Per Capita GDP 1995, PPP')\n",
      "ax.set_ylim(0, 11)\n",
      "ax.set_title('Reduced-form Relation: Income and Settler Mortality', fontsize=15, weight='bold')\n",
      "\n",
      "plt.show()\n"
     ],
     "language": "python",
     "metadata": {},
     "outputs": [
      {
       "output_type": "display_data",
       "png": "[encoded data removed]"
      }
     ],
     "prompt_number": 89
    },
    {
     "cell_type": "code",
     "collapsed": false,
     "input": [
      "# summary statistics for AJR data (Whole world)\n",
      "AJR_2001_data.describe()"
     ],
     "language": "python",
     "metadata": {},
     "outputs": [
      {
       "html": [
        "<div style=\"max-height:1000px;max-width:1500px;overflow:auto;\">\n",
        "<table border=\"1\" class=\"dataframe\">\n",
        "  <thead>\n",
        "    <tr style=\"text-align: right;\">\n",
        "      <th></th>\n",
        "      <th>euro1900</th>\n",
        "      <th>excolony</th>\n",
        "      <th>avexpr</th>\n",
        "      <th>logpgp95</th>\n",
        "      <th>cons1</th>\n",
        "      <th>cons90</th>\n",
        "      <th>democ00a</th>\n",
        "      <th>cons00a</th>\n",
        "      <th>extmort4</th>\n",
        "      <th>logem4</th>\n",
        "      <th>loghjypl</th>\n",
        "      <th>baseco</th>\n",
        "    </tr>\n",
        "  </thead>\n",
        "  <tbody>\n",
        "    <tr>\n",
        "      <td><strong>count</strong></td>\n",
        "      <td> 154.000000</td>\n",
        "      <td> 162.000000</td>\n",
        "      <td> 121.000000</td>\n",
        "      <td> 148.000000</td>\n",
        "      <td> 88.000000</td>\n",
        "      <td> 88.000000</td>\n",
        "      <td> 87.000000</td>\n",
        "      <td> 91.000000</td>\n",
        "      <td>   87.000000</td>\n",
        "      <td> 87.000000</td>\n",
        "      <td> 123.000000</td>\n",
        "      <td> 64</td>\n",
        "    </tr>\n",
        "    <tr>\n",
        "      <td><strong>mean</strong></td>\n",
        "      <td>  30.466234</td>\n",
        "      <td>   0.666667</td>\n",
        "      <td>   7.066491</td>\n",
        "      <td>   8.302509</td>\n",
        "      <td>  3.590909</td>\n",
        "      <td>  3.636364</td>\n",
        "      <td>  1.149425</td>\n",
        "      <td>  1.857143</td>\n",
        "      <td>  220.926437</td>\n",
        "      <td>  4.595984</td>\n",
        "      <td>  -1.731106</td>\n",
        "      <td>  1</td>\n",
        "    </tr>\n",
        "    <tr>\n",
        "      <td><strong>std</strong></td>\n",
        "      <td>  42.389862</td>\n",
        "      <td>   0.472866</td>\n",
        "      <td>   1.804287</td>\n",
        "      <td>   1.105342</td>\n",
        "      <td>  2.414689</td>\n",
        "      <td>  2.339967</td>\n",
        "      <td>  2.576859</td>\n",
        "      <td>  1.823132</td>\n",
        "      <td>  411.498228</td>\n",
        "      <td>  1.303333</td>\n",
        "      <td>   1.083726</td>\n",
        "      <td>  0</td>\n",
        "    </tr>\n",
        "    <tr>\n",
        "      <td><strong>min</strong></td>\n",
        "      <td>   0.000000</td>\n",
        "      <td>   0.000000</td>\n",
        "      <td>   1.636364</td>\n",
        "      <td>   6.109248</td>\n",
        "      <td>  1.000000</td>\n",
        "      <td>  1.000000</td>\n",
        "      <td>  0.000000</td>\n",
        "      <td>  1.000000</td>\n",
        "      <td>    2.550000</td>\n",
        "      <td>  0.936093</td>\n",
        "      <td>  -3.540459</td>\n",
        "      <td>  1</td>\n",
        "    </tr>\n",
        "    <tr>\n",
        "      <td><strong>25%</strong></td>\n",
        "      <td>   0.000000</td>\n",
        "      <td>   0.000000</td>\n",
        "      <td>   5.886364</td>\n",
        "      <td>   7.376192</td>\n",
        "      <td>  1.000000</td>\n",
        "      <td>  1.750000</td>\n",
        "      <td>  0.000000</td>\n",
        "      <td>  1.000000</td>\n",
        "      <td>   68.350002</td>\n",
        "      <td>  4.224609</td>\n",
        "      <td>  -2.741120</td>\n",
        "      <td>  1</td>\n",
        "    </tr>\n",
        "    <tr>\n",
        "      <td><strong>50%</strong></td>\n",
        "      <td>   1.950000</td>\n",
        "      <td>   1.000000</td>\n",
        "      <td>   7.045455</td>\n",
        "      <td>   8.265764</td>\n",
        "      <td>  3.000000</td>\n",
        "      <td>  3.000000</td>\n",
        "      <td>  0.000000</td>\n",
        "      <td>  1.000000</td>\n",
        "      <td>   85.000000</td>\n",
        "      <td>  4.442651</td>\n",
        "      <td>  -1.560648</td>\n",
        "      <td>  1</td>\n",
        "    </tr>\n",
        "    <tr>\n",
        "      <td><strong>75%</strong></td>\n",
        "      <td>  91.625000</td>\n",
        "      <td>   1.000000</td>\n",
        "      <td>   8.272727</td>\n",
        "      <td>   9.216229</td>\n",
        "      <td>  7.000000</td>\n",
        "      <td>  7.000000</td>\n",
        "      <td>  1.000000</td>\n",
        "      <td>  1.000000</td>\n",
        "      <td>  253.259995</td>\n",
        "      <td>  5.610119</td>\n",
        "      <td>  -0.831277</td>\n",
        "      <td>  1</td>\n",
        "    </tr>\n",
        "    <tr>\n",
        "      <td><strong>max</strong></td>\n",
        "      <td> 100.000000</td>\n",
        "      <td>   1.000000</td>\n",
        "      <td>  10.000000</td>\n",
        "      <td>  10.288750</td>\n",
        "      <td>  7.000000</td>\n",
        "      <td>  7.000000</td>\n",
        "      <td> 10.000000</td>\n",
        "      <td>  7.000000</td>\n",
        "      <td> 2940.000000</td>\n",
        "      <td>  7.986165</td>\n",
        "      <td>   0.000000</td>\n",
        "      <td>  1</td>\n",
        "    </tr>\n",
        "  </tbody>\n",
        "</table>\n",
        "</div>"
       ],
       "output_type": "pyout",
       "prompt_number": 98,
       "text": [
        "         euro1900    excolony      avexpr    logpgp95      cons1     cons90   democ00a    cons00a     extmort4     logem4    loghjypl  baseco\n",
        "count  154.000000  162.000000  121.000000  148.000000  88.000000  88.000000  87.000000  91.000000    87.000000  87.000000  123.000000      64\n",
        "mean    30.466234    0.666667    7.066491    8.302509   3.590909   3.636364   1.149425   1.857143   220.926437   4.595984   -1.731106       1\n",
        "std     42.389862    0.472866    1.804287    1.105342   2.414689   2.339967   2.576859   1.823132   411.498228   1.303333    1.083726       0\n",
        "min      0.000000    0.000000    1.636364    6.109248   1.000000   1.000000   0.000000   1.000000     2.550000   0.936093   -3.540459       1\n",
        "25%      0.000000    0.000000    5.886364    7.376192   1.000000   1.750000   0.000000   1.000000    68.350002   4.224609   -2.741120       1\n",
        "50%      1.950000    1.000000    7.045455    8.265764   3.000000   3.000000   0.000000   1.000000    85.000000   4.442651   -1.560648       1\n",
        "75%     91.625000    1.000000    8.272727    9.216229   7.000000   7.000000   1.000000   1.000000   253.259995   5.610119   -0.831277       1\n",
        "max    100.000000    1.000000   10.000000   10.288750   7.000000   7.000000  10.000000   7.000000  2940.000000   7.986165    0.000000       1"
       ]
      }
     ],
     "prompt_number": 98
    },
    {
     "cell_type": "markdown",
     "metadata": {},
     "source": [
      "Summary statistics for the base sample.  The base sample is limited to the 64 countries that were ex-colonies and for which AJR had settler mortality, protection against expropriation risk, and GDP data."
     ]
    },
    {
     "cell_type": "code",
     "collapsed": false,
     "input": [
      "# summary statistics for AJR data (Base sample)\n",
      "AJR_2001_data[AJR_2001_data['baseco'] == 1].describe()"
     ],
     "language": "python",
     "metadata": {},
     "outputs": [
      {
       "html": [
        "<div style=\"max-height:1000px;max-width:1500px;overflow:auto;\">\n",
        "<table border=\"1\" class=\"dataframe\">\n",
        "  <thead>\n",
        "    <tr style=\"text-align: right;\">\n",
        "      <th></th>\n",
        "      <th>euro1900</th>\n",
        "      <th>excolony</th>\n",
        "      <th>avexpr</th>\n",
        "      <th>logpgp95</th>\n",
        "      <th>cons1</th>\n",
        "      <th>cons90</th>\n",
        "      <th>democ00a</th>\n",
        "      <th>cons00a</th>\n",
        "      <th>extmort4</th>\n",
        "      <th>logem4</th>\n",
        "      <th>loghjypl</th>\n",
        "      <th>baseco</th>\n",
        "    </tr>\n",
        "  </thead>\n",
        "  <tbody>\n",
        "    <tr>\n",
        "      <td><strong>count</strong></td>\n",
        "      <td> 63.000000</td>\n",
        "      <td> 64</td>\n",
        "      <td> 64.000000</td>\n",
        "      <td> 64.000000</td>\n",
        "      <td> 60.00000</td>\n",
        "      <td> 60.000000</td>\n",
        "      <td> 59.000000</td>\n",
        "      <td> 60.000000</td>\n",
        "      <td>   64.000000</td>\n",
        "      <td> 64.000000</td>\n",
        "      <td> 61.000000</td>\n",
        "      <td> 64</td>\n",
        "    </tr>\n",
        "    <tr>\n",
        "      <td><strong>mean</strong></td>\n",
        "      <td> 16.180953</td>\n",
        "      <td>  1</td>\n",
        "      <td>  6.515625</td>\n",
        "      <td>  8.062237</td>\n",
        "      <td>  3.40000</td>\n",
        "      <td>  3.966667</td>\n",
        "      <td>  1.644068</td>\n",
        "      <td>  2.250000</td>\n",
        "      <td>  245.911094</td>\n",
        "      <td>  4.657031</td>\n",
        "      <td> -1.934052</td>\n",
        "      <td>  1</td>\n",
        "    </tr>\n",
        "    <tr>\n",
        "      <td><strong>std</strong></td>\n",
        "      <td> 25.533343</td>\n",
        "      <td>  0</td>\n",
        "      <td>  1.468647</td>\n",
        "      <td>  1.043359</td>\n",
        "      <td>  2.39491</td>\n",
        "      <td>  2.262192</td>\n",
        "      <td>  3.004380</td>\n",
        "      <td>  2.112313</td>\n",
        "      <td>  472.623942</td>\n",
        "      <td>  1.257984</td>\n",
        "      <td>  0.980744</td>\n",
        "      <td>  0</td>\n",
        "    </tr>\n",
        "    <tr>\n",
        "      <td><strong>min</strong></td>\n",
        "      <td>  0.000000</td>\n",
        "      <td>  1</td>\n",
        "      <td>  3.500000</td>\n",
        "      <td>  6.109248</td>\n",
        "      <td>  1.00000</td>\n",
        "      <td>  1.000000</td>\n",
        "      <td>  0.000000</td>\n",
        "      <td>  1.000000</td>\n",
        "      <td>    8.550000</td>\n",
        "      <td>  2.145931</td>\n",
        "      <td> -3.540459</td>\n",
        "      <td>  1</td>\n",
        "    </tr>\n",
        "    <tr>\n",
        "      <td><strong>25%</strong></td>\n",
        "      <td>  0.000000</td>\n",
        "      <td>  1</td>\n",
        "      <td>  5.613636</td>\n",
        "      <td>  7.299728</td>\n",
        "      <td>  1.00000</td>\n",
        "      <td>  2.000000</td>\n",
        "      <td>  0.000000</td>\n",
        "      <td>  1.000000</td>\n",
        "      <td>   68.900002</td>\n",
        "      <td>  4.232656</td>\n",
        "      <td> -2.748872</td>\n",
        "      <td>  1</td>\n",
        "    </tr>\n",
        "    <tr>\n",
        "      <td><strong>50%</strong></td>\n",
        "      <td>  2.000000</td>\n",
        "      <td>  1</td>\n",
        "      <td>  6.477273</td>\n",
        "      <td>  7.949796</td>\n",
        "      <td>  3.00000</td>\n",
        "      <td>  3.000000</td>\n",
        "      <td>  0.000000</td>\n",
        "      <td>  1.000000</td>\n",
        "      <td>   78.149998</td>\n",
        "      <td>  4.358630</td>\n",
        "      <td> -1.864330</td>\n",
        "      <td>  1</td>\n",
        "    </tr>\n",
        "    <tr>\n",
        "      <td><strong>75%</strong></td>\n",
        "      <td> 20.000000</td>\n",
        "      <td>  1</td>\n",
        "      <td>  7.352273</td>\n",
        "      <td>  8.848779</td>\n",
        "      <td>  7.00000</td>\n",
        "      <td>  7.000000</td>\n",
        "      <td>  1.000000</td>\n",
        "      <td>  3.000000</td>\n",
        "      <td>  240.000000</td>\n",
        "      <td>  5.519177</td>\n",
        "      <td> -1.331806</td>\n",
        "      <td>  1</td>\n",
        "    </tr>\n",
        "    <tr>\n",
        "      <td><strong>max</strong></td>\n",
        "      <td> 99.000000</td>\n",
        "      <td>  1</td>\n",
        "      <td> 10.000000</td>\n",
        "      <td> 10.215740</td>\n",
        "      <td>  7.00000</td>\n",
        "      <td>  7.000000</td>\n",
        "      <td> 10.000000</td>\n",
        "      <td>  7.000000</td>\n",
        "      <td> 2940.000000</td>\n",
        "      <td>  7.986165</td>\n",
        "      <td>  0.000000</td>\n",
        "      <td>  1</td>\n",
        "    </tr>\n",
        "  </tbody>\n",
        "</table>\n",
        "</div>"
       ],
       "output_type": "pyout",
       "prompt_number": 100,
       "text": [
        "        euro1900  excolony     avexpr   logpgp95     cons1     cons90   democ00a    cons00a     extmort4     logem4   loghjypl  baseco\n",
        "count  63.000000        64  64.000000  64.000000  60.00000  60.000000  59.000000  60.000000    64.000000  64.000000  61.000000      64\n",
        "mean   16.180953         1   6.515625   8.062237   3.40000   3.966667   1.644068   2.250000   245.911094   4.657031  -1.934052       1\n",
        "std    25.533343         0   1.468647   1.043359   2.39491   2.262192   3.004380   2.112313   472.623942   1.257984   0.980744       0\n",
        "min     0.000000         1   3.500000   6.109248   1.00000   1.000000   0.000000   1.000000     8.550000   2.145931  -3.540459       1\n",
        "25%     0.000000         1   5.613636   7.299728   1.00000   2.000000   0.000000   1.000000    68.900002   4.232656  -2.748872       1\n",
        "50%     2.000000         1   6.477273   7.949796   3.00000   3.000000   0.000000   1.000000    78.149998   4.358630  -1.864330       1\n",
        "75%    20.000000         1   7.352273   8.848779   7.00000   7.000000   1.000000   3.000000   240.000000   5.519177  -1.331806       1\n",
        "max    99.000000         1  10.000000  10.215740   7.00000   7.000000  10.000000   7.000000  2940.000000   7.986165   0.000000       1"
       ]
      }
     ],
     "prompt_number": 100
    },
    {
     "cell_type": "code",
     "collapsed": false,
     "input": [
      "# figure 1 from for base sample only\n",
      "fig = plt.figure(figsize=(7,7))\n",
      "ax = fig.add_subplot(111)\n",
      "\n",
      "# plot log GDP per capita vs settler mortality\n",
      "ax.scatter(AJR_2001_data[AJR_2001_data['baseco'] == 1]['logem4'], \\\n",
      "           AJR_2001_data[AJR_2001_data['baseco'] == 1]['logpgp95'], color='orange')\n",
      "\n",
      "# axes labels, title, legend, etc\n",
      "ax.set_xlabel('$z_{i}$, log Settler Mortality Rates (per thousand)')\n",
      "ax.set_xlim(0, 11)\n",
      "ax.set_ylabel('$y_{i}$, log Per Capita GDP 1995, PPP')\n",
      "ax.set_ylim(0, 11)\n",
      "ax.set_title('Figure 1 (base sample only!)', fontsize=15, weight='bold')\n",
      "\n",
      "plt.show()\n"
     ],
     "language": "python",
     "metadata": {},
     "outputs": [
      {
       "output_type": "display_data",
       "png": "[encoded data removed]"
      }
     ],
     "prompt_number": 104
    },
    {
     "cell_type": "markdown",
     "metadata": {},
     "source": [
      "###Replicating Table 2: OLS estimates from AJR (2001)\n"
     ]
    },
    {
     "cell_type": "code",
     "collapsed": false,
     "input": [
      "# load the data for AJR (2001)\n",
      "AJR_2001_data2 = sm.iolib.genfromdta('maketable2/maketable2.dta', missing_flt=NaN, pandas=True)"
     ],
     "language": "python",
     "metadata": {},
     "outputs": [],
     "prompt_number": 105
    },
    {
     "cell_type": "code",
     "collapsed": false,
     "input": [
      "# check that the data imported correctly\n",
      "AJR_2001_data2.head()"
     ],
     "language": "python",
     "metadata": {},
     "outputs": [
      {
       "html": [
        "<div style=\"max-height:1000px;max-width:1500px;overflow:auto;\">\n",
        "<table border=\"1\" class=\"dataframe\">\n",
        "  <thead>\n",
        "    <tr style=\"text-align: right;\">\n",
        "      <th></th>\n",
        "      <th>shortnam</th>\n",
        "      <th>africa</th>\n",
        "      <th>lat_abst</th>\n",
        "      <th>avexpr</th>\n",
        "      <th>logpgp95</th>\n",
        "      <th>other</th>\n",
        "      <th>asia</th>\n",
        "      <th>loghjypl</th>\n",
        "      <th>baseco</th>\n",
        "    </tr>\n",
        "  </thead>\n",
        "  <tbody>\n",
        "    <tr>\n",
        "      <td><strong>0</strong></td>\n",
        "      <td> AFG</td>\n",
        "      <td> 0</td>\n",
        "      <td> 0.366667</td>\n",
        "      <td>      NaN</td>\n",
        "      <td>      NaN</td>\n",
        "      <td> 0</td>\n",
        "      <td> 1</td>\n",
        "      <td>      NaN</td>\n",
        "      <td>NaN</td>\n",
        "    </tr>\n",
        "    <tr>\n",
        "      <td><strong>1</strong></td>\n",
        "      <td> AGO</td>\n",
        "      <td> 1</td>\n",
        "      <td> 0.136667</td>\n",
        "      <td> 5.363636</td>\n",
        "      <td> 7.770645</td>\n",
        "      <td> 0</td>\n",
        "      <td> 0</td>\n",
        "      <td>-3.411248</td>\n",
        "      <td>  1</td>\n",
        "    </tr>\n",
        "    <tr>\n",
        "      <td><strong>2</strong></td>\n",
        "      <td> ARE</td>\n",
        "      <td> 0</td>\n",
        "      <td> 0.266667</td>\n",
        "      <td> 7.181818</td>\n",
        "      <td> 9.804219</td>\n",
        "      <td> 0</td>\n",
        "      <td> 1</td>\n",
        "      <td>      NaN</td>\n",
        "      <td>NaN</td>\n",
        "    </tr>\n",
        "    <tr>\n",
        "      <td><strong>3</strong></td>\n",
        "      <td> ARG</td>\n",
        "      <td> 0</td>\n",
        "      <td> 0.377778</td>\n",
        "      <td> 6.386364</td>\n",
        "      <td> 9.133459</td>\n",
        "      <td> 0</td>\n",
        "      <td> 0</td>\n",
        "      <td>-0.872274</td>\n",
        "      <td>  1</td>\n",
        "    </tr>\n",
        "    <tr>\n",
        "      <td><strong>4</strong></td>\n",
        "      <td> ARM</td>\n",
        "      <td> 0</td>\n",
        "      <td> 0.444444</td>\n",
        "      <td>      NaN</td>\n",
        "      <td> 7.682482</td>\n",
        "      <td> 0</td>\n",
        "      <td> 1</td>\n",
        "      <td>      NaN</td>\n",
        "      <td>NaN</td>\n",
        "    </tr>\n",
        "  </tbody>\n",
        "</table>\n",
        "</div>"
       ],
       "output_type": "pyout",
       "prompt_number": 106,
       "text": [
        "  shortnam  africa  lat_abst    avexpr  logpgp95  other  asia  loghjypl  baseco\n",
        "0      AFG       0  0.366667       NaN       NaN      0     1       NaN     NaN\n",
        "1      AGO       1  0.136667  5.363636  7.770645      0     0 -3.411248       1\n",
        "2      ARE       0  0.266667  7.181818  9.804219      0     1       NaN     NaN\n",
        "3      ARG       0  0.377778  6.386364  9.133459      0     0 -0.872274       1\n",
        "4      ARM       0  0.444444       NaN  7.682482      0     1       NaN     NaN"
       ]
      }
     ],
     "prompt_number": 106
    },
    {
     "cell_type": "code",
     "collapsed": false,
     "input": [
      "# create matrix of regressors\n",
      "X = sm.add_constant(AJR_2001_data2['avexpr'])\n",
      "\n",
      "# construct the model\n",
      "spec_1 = sm.OLS(AJR_2001_data2['logpgp95'], X, missing='drop')\n",
      "\n",
      "# fit the model\n",
      "results_1 = spec_1.fit()"
     ],
     "language": "python",
     "metadata": {},
     "outputs": [],
     "prompt_number": 113
    },
    {
     "cell_type": "code",
     "collapsed": false,
     "input": [
      "# compare with Column 1 of Table 2\n",
      "print results_1.summary()"
     ],
     "language": "python",
     "metadata": {},
     "outputs": [
      {
       "output_type": "stream",
       "stream": "stdout",
       "text": [
        "                            OLS Regression Results                            \n",
        "==============================================================================\n",
        "Dep. Variable:               logpgp95   R-squared:                       0.611\n",
        "Model:                            OLS   Adj. R-squared:                  0.608\n",
        "Method:                 Least Squares   F-statistic:                     171.4\n",
        "Date:                Sun, 02 Dec 2012   Prob (F-statistic):           4.16e-24\n",
        "Time:                        22:16:12   Log-Likelihood:                -119.71\n",
        "No. Observations:                 111   AIC:                             243.4\n",
        "Df Residuals:                     109   BIC:                             248.8\n",
        "Df Model:                           1                                         \n",
        "==============================================================================\n",
        "                 coef    std err          t      P>|t|      [95.0% Conf. Int.]\n",
        "------------------------------------------------------------------------------\n",
        "const          4.6261      0.301     15.391      0.000         4.030     5.222\n",
        "avexpr         0.5319      0.041     13.093      0.000         0.451     0.612\n",
        "==============================================================================\n",
        "Omnibus:                        9.251   Durbin-Watson:                   1.689\n",
        "Prob(Omnibus):                  0.010   Jarque-Bera (JB):                9.170\n",
        "Skew:                          -0.680   Prob(JB):                       0.0102\n",
        "Kurtosis:                       3.362   Cond. No.                         33.2\n",
        "==============================================================================\n"
       ]
      }
     ],
     "prompt_number": 115
    },
    {
     "cell_type": "code",
     "collapsed": false,
     "input": [
      "# Compute HC standard errors (match STATA output!)\n",
      "results_1.HC1_se"
     ],
     "language": "python",
     "metadata": {},
     "outputs": [
      {
       "output_type": "pyout",
       "prompt_number": 116,
       "text": [
        "const     0.240665\n",
        "avexpr    0.029069"
       ]
      }
     ],
     "prompt_number": 116
    },
    {
     "cell_type": "code",
     "collapsed": false,
     "input": [
      "# Compute alternative HC standard errors\n",
      "results_1.HC3_se"
     ],
     "language": "python",
     "metadata": {},
     "outputs": [
      {
       "output_type": "pyout",
       "prompt_number": 117,
       "text": [
        "const     0.243950\n",
        "avexpr    0.029492"
       ]
      }
     ],
     "prompt_number": 117
    },
    {
     "cell_type": "code",
     "collapsed": false,
     "input": [
      "# test significance of coefficient on avexpr (obviously highly signifcant)\n",
      "R, q = np.array([0, 1]), np.array([1])\n",
      "print results_1.f_test((R, q), cov_p=results_1.cov_HC3)"
     ],
     "language": "python",
     "metadata": {},
     "outputs": [
      {
       "output_type": "stream",
       "stream": "stdout",
       "text": [
        "<F test: F=array([[ 251.95738438]]), p=[[  4.14013294e-30]], df_denom=109, df_num=1>\n"
       ]
      }
     ],
     "prompt_number": 119
    },
    {
     "cell_type": "code",
     "collapsed": false,
     "input": [
      "# create matrix of regressors\n",
      "X = sm.add_constant(AJR_2001_data2[AJR_2001_data2['baseco'] == 1]['avexpr'])\n",
      "\n",
      "# construct the model\n",
      "spec_1b = sm.OLS(AJR_2001_data2[AJR_2001_data2['baseco'] == 1]['logpgp95'], X, missing='drop')\n",
      "\n",
      "# fit the model\n",
      "results_1b = spec_1b.fit()"
     ],
     "language": "python",
     "metadata": {},
     "outputs": [],
     "prompt_number": 121
    },
    {
     "cell_type": "code",
     "collapsed": false,
     "input": [
      "# compare with Column 2 of Table 2\n",
      "print results_1b.summary()"
     ],
     "language": "python",
     "metadata": {},
     "outputs": [
      {
       "output_type": "stream",
       "stream": "stdout",
       "text": [
        "                            OLS Regression Results                            \n",
        "==============================================================================\n",
        "Dep. Variable:               logpgp95   R-squared:                       0.540\n",
        "Model:                            OLS   Adj. R-squared:                  0.533\n",
        "Method:                 Least Squares   F-statistic:                     72.82\n",
        "Date:                Sun, 02 Dec 2012   Prob (F-statistic):           4.72e-12\n",
        "Time:                        22:22:48   Log-Likelihood:                -68.168\n",
        "No. Observations:                  64   AIC:                             140.3\n",
        "Df Residuals:                      62   BIC:                             144.7\n",
        "Df Model:                           1                                         \n",
        "==============================================================================\n",
        "                 coef    std err          t      P>|t|      [95.0% Conf. Int.]\n",
        "------------------------------------------------------------------------------\n",
        "const          4.6604      0.409     11.408      0.000         3.844     5.477\n",
        "avexpr         0.5221      0.061      8.533      0.000         0.400     0.644\n",
        "==============================================================================\n",
        "Omnibus:                        7.098   Durbin-Watson:                   2.064\n",
        "Prob(Omnibus):                  0.029   Jarque-Bera (JB):                6.657\n",
        "Skew:                          -0.781   Prob(JB):                       0.0358\n",
        "Kurtosis:                       3.234   Cond. No.                         31.2\n",
        "==============================================================================\n"
       ]
      }
     ],
     "prompt_number": 122
    },
    {
     "cell_type": "code",
     "collapsed": false,
     "input": [
      "# Compute HC standard errors\n",
      "results_1b.HC1_se"
     ],
     "language": "python",
     "metadata": {},
     "outputs": [
      {
       "output_type": "pyout",
       "prompt_number": 125,
       "text": [
        "const     0.320131\n",
        "avexpr    0.049923"
       ]
      }
     ],
     "prompt_number": 125
    },
    {
     "cell_type": "code",
     "collapsed": false,
     "input": [
      "# Compute alternative HC standard errors\n",
      "results_1b.HC3_se"
     ],
     "language": "python",
     "metadata": {},
     "outputs": [
      {
       "output_type": "pyout",
       "prompt_number": 126,
       "text": [
        "const     0.329547\n",
        "avexpr    0.051481"
       ]
      }
     ],
     "prompt_number": 126
    },
    {
     "cell_type": "code",
     "collapsed": false,
     "input": [
      "# test significance of coefficient on avexpr (obviously highly signifcant)\n",
      "R, q = np.array([0, 1]), np.array([1])\n",
      "print results_1b.f_test((R, q), cov_p=results_1b.cov_HC3)"
     ],
     "language": "python",
     "metadata": {},
     "outputs": [
      {
       "output_type": "stream",
       "stream": "stdout",
       "text": [
        "<F test: F=array([[ 86.17156392]]), p=[[  2.43988054e-13]], df_denom=62, df_num=1>\n"
       ]
      }
     ],
     "prompt_number": 127
    },
    {
     "cell_type": "code",
     "collapsed": false,
     "input": [
      "# create matrix of regressors\n",
      "X = sm.add_constant(AJR_2001_data2[['avexpr', 'lat_abst']])\n",
      "\n",
      "# construct the model\n",
      "spec_2 = sm.OLS(AJR_2001_data2['logpgp95'], X, missing='drop')\n",
      "\n",
      "# fit the model\n",
      "results_2 = spec_2.fit()"
     ],
     "language": "python",
     "metadata": {},
     "outputs": [],
     "prompt_number": 128
    },
    {
     "cell_type": "code",
     "collapsed": false,
     "input": [
      "# compare with column 3 of table 2\n",
      "print results_2.summary()"
     ],
     "language": "python",
     "metadata": {},
     "outputs": [
      {
       "output_type": "stream",
       "stream": "stdout",
       "text": [
        "                            OLS Regression Results                            \n",
        "==============================================================================\n",
        "Dep. Variable:               logpgp95   R-squared:                       0.623\n",
        "Model:                            OLS   Adj. R-squared:                  0.616\n",
        "Method:                 Least Squares   F-statistic:                     89.05\n",
        "Date:                Sun, 02 Dec 2012   Prob (F-statistic):           1.42e-23\n",
        "Time:                        22:27:16   Log-Likelihood:                -118.09\n",
        "No. Observations:                 111   AIC:                             242.2\n",
        "Df Residuals:                     108   BIC:                             250.3\n",
        "Df Model:                           2                                         \n",
        "==============================================================================\n",
        "                 coef    std err          t      P>|t|      [95.0% Conf. Int.]\n",
        "------------------------------------------------------------------------------\n",
        "const          4.8729      0.328     14.855      0.000         4.223     5.523\n",
        "avexpr         0.4635      0.055      8.352      0.000         0.353     0.573\n",
        "lat_abst       0.8722      0.488      1.788      0.077        -0.094     1.839\n",
        "==============================================================================\n",
        "Omnibus:                        6.082   Durbin-Watson:                   1.756\n",
        "Prob(Omnibus):                  0.048   Jarque-Bera (JB):                5.950\n",
        "Skew:                          -0.567   Prob(JB):                       0.0510\n",
        "Kurtosis:                       3.037   Cond. No.                         57.4\n",
        "==============================================================================\n"
       ]
      }
     ],
     "prompt_number": 129
    },
    {
     "cell_type": "code",
     "collapsed": false,
     "input": [
      "# Compute HC standard errors\n",
      "results_2.HC1_se"
     ],
     "language": "python",
     "metadata": {},
     "outputs": [
      {
       "output_type": "pyout",
       "prompt_number": 130,
       "text": [
        "const       0.280751\n",
        "avexpr      0.052173\n",
        "lat_abst    0.499374"
       ]
      }
     ],
     "prompt_number": 130
    },
    {
     "cell_type": "code",
     "collapsed": false,
     "input": [
      "# Compute alternative HC standard errors\n",
      "results_2.HC3_se"
     ],
     "language": "python",
     "metadata": {},
     "outputs": [
      {
       "output_type": "pyout",
       "prompt_number": 131,
       "text": [
        "const       0.290188\n",
        "avexpr      0.054278\n",
        "lat_abst    0.516917"
       ]
      }
     ],
     "prompt_number": 131
    },
    {
     "cell_type": "code",
     "collapsed": false,
     "input": [
      "# test significance of coefficient on avexpr (obviously highly signifcant)\n",
      "R, q = np.array([0, 1, 0]), np.array([1])\n",
      "print results_2.f_test((R, q), cov_p=results_2.cov_HC3)"
     ],
     "language": "python",
     "metadata": {},
     "outputs": [
      {
       "output_type": "stream",
       "stream": "stdout",
       "text": [
        "<F test: F=array([[ 97.70580209]]), p=[[  8.53481136e-17]], df_denom=108, df_num=1>\n"
       ]
      }
     ],
     "prompt_number": 132
    },
    {
     "cell_type": "code",
     "collapsed": false,
     "input": [
      "# create matrix of regressors\n",
      "X = sm.add_constant(AJR_2001_data2[AJR_2001_data2['baseco'] == 1][['avexpr', 'lat_abst']])\n",
      "\n",
      "# construct the model\n",
      "spec_2b = sm.OLS(AJR_2001_data2[AJR_2001_data2['baseco'] == 1]['logpgp95'], X, missing='drop')\n",
      "\n",
      "# fit the model\n",
      "results_2b = spec_2b.fit()"
     ],
     "language": "python",
     "metadata": {},
     "outputs": [],
     "prompt_number": 133
    },
    {
     "cell_type": "code",
     "collapsed": false,
     "input": [
      "# Compare with column 5 from table 2\n",
      "print results_2b.summary()"
     ],
     "language": "python",
     "metadata": {},
     "outputs": [
      {
       "output_type": "stream",
       "stream": "stdout",
       "text": [
        "                            OLS Regression Results                            \n",
        "==============================================================================\n",
        "Dep. Variable:               logpgp95   R-squared:                       0.574\n",
        "Model:                            OLS   Adj. R-squared:                  0.561\n",
        "Method:                 Least Squares   F-statistic:                     41.18\n",
        "Date:                Sun, 02 Dec 2012   Prob (F-statistic):           4.80e-12\n",
        "Time:                        22:30:35   Log-Likelihood:                -65.681\n",
        "No. Observations:                  64   AIC:                             137.4\n",
        "Df Residuals:                      61   BIC:                             143.8\n",
        "Df Model:                           2                                         \n",
        "==============================================================================\n",
        "                 coef    std err          t      P>|t|      [95.0% Conf. Int.]\n",
        "------------------------------------------------------------------------------\n",
        "const          4.7281      0.397     11.900      0.000         3.934     5.523\n",
        "avexpr         0.4679      0.064      7.292      0.000         0.340     0.596\n",
        "lat_abst       1.5769      0.710      2.220      0.030         0.157     2.997\n",
        "==============================================================================\n",
        "Omnibus:                        4.588   Durbin-Watson:                   2.183\n",
        "Prob(Omnibus):                  0.101   Jarque-Bera (JB):                4.302\n",
        "Skew:                          -0.634   Prob(JB):                        0.116\n",
        "Kurtosis:                       2.933   Cond. No.                         55.6\n",
        "==============================================================================\n"
       ]
      }
     ],
     "prompt_number": 134
    },
    {
     "cell_type": "code",
     "collapsed": false,
     "input": [
      "# Compute HC standard errors\n",
      "results_2b.HC1_se"
     ],
     "language": "python",
     "metadata": {},
     "outputs": [
      {
       "output_type": "pyout",
       "prompt_number": 136,
       "text": [
        "const       0.341373\n",
        "avexpr      0.062681\n",
        "lat_abst    0.650605"
       ]
      }
     ],
     "prompt_number": 136
    },
    {
     "cell_type": "code",
     "collapsed": false,
     "input": [
      "# Compute alternative HC standard errors\n",
      "results_2b.HC3_se"
     ],
     "language": "python",
     "metadata": {},
     "outputs": [
      {
       "output_type": "pyout",
       "prompt_number": 137,
       "text": [
        "const       0.358583\n",
        "avexpr      0.066403\n",
        "lat_abst    0.690917"
       ]
      }
     ],
     "prompt_number": 137
    },
    {
     "cell_type": "code",
     "collapsed": false,
     "input": [
      "# test significance of coefficient on avexpr (obviously highly signifcant)\n",
      "R, q = np.array([0, 1, 0]), np.array([1])\n",
      "print results_2b.f_test((R, q), cov_p=results_2b.cov_HC3)"
     ],
     "language": "python",
     "metadata": {},
     "outputs": [
      {
       "output_type": "stream",
       "stream": "stdout",
       "text": [
        "<F test: F=array([[ 64.21374033]]), p=[[  4.17211008e-11]], df_denom=61, df_num=1>\n"
       ]
      }
     ],
     "prompt_number": 138
    },
    {
     "cell_type": "code",
     "collapsed": false,
     "input": [
      "# create matrix of regressors\n",
      "X = sm.add_constant(AJR_2001_data2[['avexpr', 'lat_abst', 'africa', 'asia', 'other']])\n",
      "\n",
      "# construct the model\n",
      "spec_3 = sm.OLS(AJR_2001_data2['logpgp95'], X, missing='drop')\n",
      "\n",
      "# fit the model\n",
      "results_3 = spec_3.fit()"
     ],
     "language": "python",
     "metadata": {},
     "outputs": [],
     "prompt_number": 139
    },
    {
     "cell_type": "code",
     "collapsed": false,
     "input": [
      "# compare with column 4 from table 2\n",
      "print results_3.summary()"
     ],
     "language": "python",
     "metadata": {},
     "outputs": [
      {
       "output_type": "stream",
       "stream": "stdout",
       "text": [
        "                            OLS Regression Results                            \n",
        "==============================================================================\n",
        "Dep. Variable:               logpgp95   R-squared:                       0.715\n",
        "Model:                            OLS   Adj. R-squared:                  0.702\n",
        "Method:                 Least Squares   F-statistic:                     52.74\n",
        "Date:                Sun, 02 Dec 2012   Prob (F-statistic):           4.18e-27\n",
        "Time:                        22:35:14   Log-Likelihood:                -102.45\n",
        "No. Observations:                 111   AIC:                             216.9\n",
        "Df Residuals:                     105   BIC:                             233.2\n",
        "Df Model:                           5                                         \n",
        "==============================================================================\n",
        "                 coef    std err          t      P>|t|      [95.0% Conf. Int.]\n",
        "------------------------------------------------------------------------------\n",
        "const          5.8511      0.340     17.230      0.000         5.178     6.524\n",
        "avexpr         0.3896      0.051      7.691      0.000         0.289     0.490\n",
        "lat_abst       0.3326      0.445      0.747      0.457        -0.551     1.216\n",
        "africa        -0.9164      0.166     -5.511      0.000        -1.246    -0.587\n",
        "asia          -0.1531      0.155     -0.989      0.325        -0.460     0.154\n",
        "other          0.3035      0.375      0.810      0.420        -0.440     1.047\n",
        "==============================================================================\n",
        "Omnibus:                        4.342   Durbin-Watson:                   1.865\n",
        "Prob(Omnibus):                  0.114   Jarque-Bera (JB):                3.936\n",
        "Skew:                          -0.457   Prob(JB):                        0.140\n",
        "Kurtosis:                       3.126   Cond. No.                         58.2\n",
        "==============================================================================\n"
       ]
      }
     ],
     "prompt_number": 140
    },
    {
     "cell_type": "code",
     "collapsed": false,
     "input": [
      "# Compute HC standard errors\n",
      "results_3.HC1_se"
     ],
     "language": "python",
     "metadata": {},
     "outputs": [
      {
       "output_type": "pyout",
       "prompt_number": 141,
       "text": [
        "const       0.293497\n",
        "avexpr      0.051005\n",
        "lat_abst    0.442440\n",
        "africa      0.154111\n",
        "asia        0.180505\n",
        "other       0.174329"
       ]
      }
     ],
     "prompt_number": 141
    },
    {
     "cell_type": "code",
     "collapsed": false,
     "input": [
      "# Compute alternative HC standard errors\n",
      "results_3.HC3_se"
     ],
     "language": "python",
     "metadata": {},
     "outputs": [
      {
       "output_type": "pyout",
       "prompt_number": 142,
       "text": [
        "const       0.307078\n",
        "avexpr      0.053734\n",
        "lat_abst    0.464195\n",
        "africa      0.157009\n",
        "asia        0.185099\n",
        "other       0.249287"
       ]
      }
     ],
     "prompt_number": 142
    },
    {
     "cell_type": "code",
     "collapsed": false,
     "input": [
      "# test significance of coefficient on avexpr (obviously highly signifcant)\n",
      "R, q = np.array([0, 1, 0, 0, 0, 0]), np.array([1])\n",
      "print results_3.f_test((R, q), cov_p=results_3.cov_HC3)"
     ],
     "language": "python",
     "metadata": {},
     "outputs": [
      {
       "output_type": "stream",
       "stream": "stdout",
       "text": [
        "<F test: F=array([[ 129.06064915]]), p=[[  5.48318300e-20]], df_denom=105, df_num=1>\n"
       ]
      }
     ],
     "prompt_number": 144
    },
    {
     "cell_type": "code",
     "collapsed": false,
     "input": [
      "# create matrix of regressors\n",
      "X = sm.add_constant(AJR_2001_data2[AJR_2001_data2['baseco'] == 1][['avexpr', 'lat_abst', 'africa',\\\n",
      "                                                                   'asia', 'other']])\n",
      "\n",
      "# construct the model\n",
      "spec_3b = sm.OLS(AJR_2001_data2[AJR_2001_data2['baseco'] == 1]['logpgp95'], X, missing='drop')\n",
      "\n",
      "# fit the model\n",
      "results_3b = spec_3b.fit()"
     ],
     "language": "python",
     "metadata": {},
     "outputs": [],
     "prompt_number": 145
    },
    {
     "cell_type": "code",
     "collapsed": false,
     "input": [
      "# compare with column 6 from table 2\n",
      "print results_3b.summary()"
     ],
     "language": "python",
     "metadata": {},
     "outputs": [
      {
       "output_type": "stream",
       "stream": "stdout",
       "text": [
        "                            OLS Regression Results                            \n",
        "==============================================================================\n",
        "Dep. Variable:               logpgp95   R-squared:                       0.714\n",
        "Model:                            OLS   Adj. R-squared:                  0.689\n",
        "Method:                 Least Squares   F-statistic:                     28.95\n",
        "Date:                Sun, 02 Dec 2012   Prob (F-statistic):           1.33e-14\n",
        "Time:                        22:39:57   Log-Likelihood:                -52.979\n",
        "No. Observations:                  64   AIC:                             118.0\n",
        "Df Residuals:                      58   BIC:                             130.9\n",
        "Df Model:                           5                                         \n",
        "==============================================================================\n",
        "                 coef    std err          t      P>|t|      [95.0% Conf. Int.]\n",
        "------------------------------------------------------------------------------\n",
        "const          5.7367      0.398     14.407      0.000         4.940     6.534\n",
        "avexpr         0.4013      0.059      6.788      0.000         0.283     0.520\n",
        "lat_abst       0.8753      0.628      1.393      0.169        -0.382     2.133\n",
        "africa        -0.8807      0.170     -5.181      0.000        -1.221    -0.540\n",
        "asia          -0.5768      0.231     -2.493      0.016        -1.040    -0.114\n",
        "other          0.1072      0.382      0.280      0.780        -0.658     0.873\n",
        "==============================================================================\n",
        "Omnibus:                        1.057   Durbin-Watson:                   2.347\n",
        "Prob(Omnibus):                  0.589   Jarque-Bera (JB):                0.448\n",
        "Skew:                          -0.073   Prob(JB):                        0.799\n",
        "Kurtosis:                       3.383   Cond. No.                         59.4\n",
        "==============================================================================\n"
       ]
      }
     ],
     "prompt_number": 146
    },
    {
     "cell_type": "code",
     "collapsed": false,
     "input": [
      "# Compute HC standard errors\n",
      "results_3b.HC1_se"
     ],
     "language": "python",
     "metadata": {},
     "outputs": [
      {
       "output_type": "pyout",
       "prompt_number": 147,
       "text": [
        "const       0.389323\n",
        "avexpr      0.064065\n",
        "lat_abst    0.614290\n",
        "africa      0.155527\n",
        "asia        0.299185\n",
        "other       0.222978"
       ]
      }
     ],
     "prompt_number": 147
    },
    {
     "cell_type": "code",
     "collapsed": false,
     "input": [
      "# Compute alternative HC standard errors\n",
      "results_3b.HC3_se"
     ],
     "language": "python",
     "metadata": {},
     "outputs": [
      {
       "output_type": "pyout",
       "prompt_number": 148,
       "text": [
        "const       0.425207\n",
        "avexpr      0.070975\n",
        "lat_abst    0.676736\n",
        "africa      0.159701\n",
        "asia        0.331468\n",
        "other       0.299568"
       ]
      }
     ],
     "prompt_number": 148
    },
    {
     "cell_type": "code",
     "collapsed": false,
     "input": [
      "# test significance of coefficient on avexpr (obviously highly signifcant)\n",
      "R, q = np.array([0, 1, 0, 0, 0, 0]), np.array([1])\n",
      "print results_3b.f_test((R, q), cov_p=results_3b.cov_HC3)"
     ],
     "language": "python",
     "metadata": {},
     "outputs": [
      {
       "output_type": "stream",
       "stream": "stdout",
       "text": [
        "<F test: F=array([[ 71.16043486]]), p=[[  1.14482194e-11]], df_denom=58, df_num=1>\n"
       ]
      }
     ],
     "prompt_number": 149
    },
    {
     "cell_type": "code",
     "collapsed": false,
     "input": [
      "# create matrix of regressors\n",
      "X = sm.add_constant(AJR_2001_data2['avexpr'])\n",
      "\n",
      "# construct the model\n",
      "spec_4 = sm.OLS(AJR_2001_data2['loghjypl'], X, missing='drop')\n",
      "\n",
      "# fit the model\n",
      "results_4 = spec_4.fit()"
     ],
     "language": "python",
     "metadata": {},
     "outputs": [],
     "prompt_number": 150
    },
    {
     "cell_type": "code",
     "collapsed": false,
     "input": [
      "# compare with column 7 of table 2\n",
      "print results_4.summary()"
     ],
     "language": "python",
     "metadata": {},
     "outputs": [
      {
       "output_type": "stream",
       "stream": "stdout",
       "text": [
        "                            OLS Regression Results                            \n",
        "==============================================================================\n",
        "Dep. Variable:               loghjypl   R-squared:                       0.554\n",
        "Model:                            OLS   Adj. R-squared:                  0.550\n",
        "Method:                 Least Squares   F-statistic:                     131.7\n",
        "Date:                Sun, 02 Dec 2012   Prob (F-statistic):           2.66e-20\n",
        "Time:                        22:54:45   Log-Likelihood:                -115.77\n",
        "No. Observations:                 108   AIC:                             235.5\n",
        "Df Residuals:                     106   BIC:                             240.9\n",
        "Df Model:                           1                                         \n",
        "==============================================================================\n",
        "                 coef    std err          t      P>|t|      [95.0% Conf. Int.]\n",
        "------------------------------------------------------------------------------\n",
        "const         -4.8276      0.286    -16.900      0.000        -5.394    -4.261\n",
        "avexpr         0.4462      0.039     11.476      0.000         0.369     0.523\n",
        "==============================================================================\n",
        "Omnibus:                        5.190   Durbin-Watson:                   1.480\n",
        "Prob(Omnibus):                  0.075   Jarque-Bera (JB):                5.188\n",
        "Skew:                          -0.534   Prob(JB):                       0.0747\n",
        "Kurtosis:                       2.881   Cond. No.                         31.1\n",
        "==============================================================================\n"
       ]
      }
     ],
     "prompt_number": 151
    },
    {
     "cell_type": "code",
     "collapsed": false,
     "input": [
      "# Compute HC standard errors\n",
      "results_4.HC1_se"
     ],
     "language": "python",
     "metadata": {},
     "outputs": [
      {
       "output_type": "pyout",
       "prompt_number": 152,
       "text": [
        "const     0.243107\n",
        "avexpr    0.029385"
       ]
      }
     ],
     "prompt_number": 152
    },
    {
     "cell_type": "code",
     "collapsed": false,
     "input": [
      "# Compute alternative HC standard errors\n",
      "results_4.HC3_se"
     ],
     "language": "python",
     "metadata": {},
     "outputs": [
      {
       "output_type": "pyout",
       "prompt_number": 153,
       "text": [
        "const     0.246591\n",
        "avexpr    0.029834"
       ]
      }
     ],
     "prompt_number": 153
    },
    {
     "cell_type": "code",
     "collapsed": false,
     "input": [
      "# test significance of coefficient on avexpr (obviously highly signifcant)\n",
      "R, q = np.array([0, 1]), np.array([1])\n",
      "print results_4.f_test((R, q), cov_p=results_4.cov_HC3)"
     ],
     "language": "python",
     "metadata": {},
     "outputs": [
      {
       "output_type": "stream",
       "stream": "stdout",
       "text": [
        "<F test: F=array([[ 344.56315102]]), p=[[  4.33948346e-35]], df_denom=106, df_num=1>\n"
       ]
      }
     ],
     "prompt_number": 155
    },
    {
     "cell_type": "code",
     "collapsed": false,
     "input": [
      "# create matrix of regressors\n",
      "X = sm.add_constant(AJR_2001_data2[AJR_2001_data2['baseco'] == 1]['avexpr'])\n",
      "\n",
      "# construct the model\n",
      "spec_4b = sm.OLS(AJR_2001_data2[AJR_2001_data2['baseco'] == 1]['loghjypl'], X, missing='drop')\n",
      "\n",
      "# fit the model\n",
      "results_4b = spec_4b.fit()"
     ],
     "language": "python",
     "metadata": {},
     "outputs": [],
     "prompt_number": 156
    },
    {
     "cell_type": "code",
     "collapsed": false,
     "input": [
      "# Compare with column 8 of table 2\n",
      "print results_4b.summary()"
     ],
     "language": "python",
     "metadata": {},
     "outputs": [
      {
       "output_type": "stream",
       "stream": "stdout",
       "text": [
        "                            OLS Regression Results                            \n",
        "==============================================================================\n",
        "Dep. Variable:               loghjypl   R-squared:                       0.486\n",
        "Model:                            OLS   Adj. R-squared:                  0.477\n",
        "Method:                 Least Squares   F-statistic:                     55.83\n",
        "Date:                Sun, 02 Dec 2012   Prob (F-statistic):           4.29e-10\n",
        "Time:                        22:57:20   Log-Likelihood:                -64.555\n",
        "No. Observations:                  61   AIC:                             133.1\n",
        "Df Residuals:                      59   BIC:                             137.3\n",
        "Df Model:                           1                                         \n",
        "==============================================================================\n",
        "                 coef    std err          t      P>|t|      [95.0% Conf. Int.]\n",
        "------------------------------------------------------------------------------\n",
        "const         -4.9117      0.409    -12.017      0.000        -5.730    -4.094\n",
        "avexpr         0.4571      0.061      7.472      0.000         0.335     0.580\n",
        "==============================================================================\n",
        "Omnibus:                        5.101   Durbin-Watson:                   1.804\n",
        "Prob(Omnibus):                  0.078   Jarque-Bera (JB):                5.024\n",
        "Skew:                          -0.694   Prob(JB):                       0.0811\n",
        "Kurtosis:                       2.781   Cond. No.                         30.7\n",
        "==============================================================================\n"
       ]
      }
     ],
     "prompt_number": 157
    },
    {
     "cell_type": "code",
     "collapsed": false,
     "input": [
      "# Compute HC standard errors\n",
      "results_4b.HC1_se"
     ],
     "language": "python",
     "metadata": {},
     "outputs": [
      {
       "output_type": "pyout",
       "prompt_number": 158,
       "text": [
        "const     0.323288\n",
        "avexpr    0.049820"
       ]
      }
     ],
     "prompt_number": 158
    },
    {
     "cell_type": "code",
     "collapsed": false,
     "input": [
      "# Compute alternative HC standard errors\n",
      "results_4b.HC3_se"
     ],
     "language": "python",
     "metadata": {},
     "outputs": [
      {
       "output_type": "pyout",
       "prompt_number": 160,
       "text": [
        "const     0.332375\n",
        "avexpr    0.051308"
       ]
      }
     ],
     "prompt_number": 160
    },
    {
     "cell_type": "code",
     "collapsed": false,
     "input": [
      "# test significance of coefficient on avexpr (obviously highly signifcant)\n",
      "R, q = np.array([0, 1]), np.array([1])\n",
      "print results_4b.f_test((R, q), cov_p=results_4b.cov_HC3)"
     ],
     "language": "python",
     "metadata": {},
     "outputs": [
      {
       "output_type": "stream",
       "stream": "stdout",
       "text": [
        "<F test: F=array([[ 111.95557548]]), p=[[  2.97162235e-15]], df_denom=59, df_num=1>\n"
       ]
      }
     ],
     "prompt_number": 161
    },
    {
     "cell_type": "code",
     "collapsed": false,
     "input": [
      "# figure 2 from paper\n",
      "fig = plt.figure(figsize=(7,7))\n",
      "ax = fig.add_subplot(111)\n",
      "\n",
      "# plot log GDP per capita vs settler mortality\n",
      "ax.scatter(AJR_2001_data2['avexpr'], \\\n",
      "           AJR_2001_data2['logpgp95'], color='orange')\n",
      "\n",
      "# add OLS line\n",
      "grid = np.linspace(0, 11, 1000)\n",
      "ax.plot(grid, results_1.params[0] + results_1.params[1] * grid, 'r-', label='OLS')\n",
      "         \n",
      "# axes labels, title, legend, etc\n",
      "ax.set_xlabel('$x_{i}$, Average Expropriation Risk (1985-1995)')\n",
      "ax.set_xlim(0, 11)\n",
      "ax.set_ylabel('$y_{i}$, log Per Capita GDP 1995, PPP')\n",
      "ax.set_ylim(0, 11)\n",
      "ax.set_title('Relationshop Between Expropriation Risk and Income', fontsize=15, weight='bold')\n",
      "ax.legend(loc='best', frameon=False)\n",
      "\n",
      "plt.show()\n"
     ],
     "language": "python",
     "metadata": {},
     "outputs": [
      {
       "output_type": "display_data",
       "png": "[encoded data removed]"
      }
     ],
     "prompt_number": 167
    },
    {
     "cell_type": "code",
     "collapsed": false,
     "input": [
      "# figure 2 (base sample only!)\n",
      "fig = plt.figure(figsize=(7,7))\n",
      "ax = fig.add_subplot(111)\n",
      "\n",
      "# plot log GDP per capita vs settler mortality\n",
      "ax.scatter(AJR_2001_data[AJR_2001_data2['baseco'] == 1]['avexpr'], \\\n",
      "           AJR_2001_data[AJR_2001_data2['baseco'] == 1]['logpgp95'], color='orange')\n",
      "\n",
      "# add OLS line\n",
      "grid = np.linspace(0, 11, 1000)\n",
      "ax.plot(grid, results_1b.params[0] + results_1b.params[1] * grid, 'r-', label='OLS')\n",
      "         \n",
      "# axes labels, title, legend, etc\n",
      "ax.set_xlabel('$x_{i}$, Average Expropriation Risk (1985-1995)')\n",
      "ax.set_xlim(0, 11)\n",
      "ax.set_ylabel('$y_{i}$, log Per Capita GDP 1995, PPP')\n",
      "ax.set_ylim(0, 11)\n",
      "ax.set_title('Figure 2: Base Sample Only!', fontsize=15, weight='bold')\n",
      "ax.legend(loc='best', frameon=False)\n",
      "\n",
      "plt.show()\n"
     ],
     "language": "python",
     "metadata": {},
     "outputs": [
      {
       "output_type": "display_data",
       "png": "[encoded data removed]"
      }
     ],
     "prompt_number": 166
    },
    {
     "cell_type": "markdown",
     "metadata": {},
     "source": [
      "*Question:* What is the AJR argument for why $z$ (death rates of European settlers in their colonies in the 19th century and earlier) should be correlated with $x$ (quality of institutions today)?\n",
      "\n",
      "The AJR argument is that the European colonial powers followed one of two different strategies with their colonies: either set up \u201clittle Europes\u201d, complete with European settlers and European institutions such as laws, business codes, etc.; or exploit the colony by extracting raw materials, commodities, etc., and without regard for institution building.\n",
      "If the colony was a safe place for Europeans to live, the colonial power would send settlers and build little Europes; if the colony was a dangerous place for Europeans to live because of diseases (malaria, for example), the colonial power exploit the colony instead.\n",
      "\n",
      "Death rates of European settlers are a measure of how attractive a colony was for building little Europes. Low death rates = attractive, build institutions; high death rates = not attractive, exploit. This makes the variable **logem4** potentially a good instrument for IV estimation. It is correlated with institutional quality today, **avexpr**, because former colonies that were good places for Europeans to live were also places where European institutions were implanted. \n",
      "Former colonies that were exploited instead were also places where these European institutions were not left behind when the colonial powers left."
     ]
    },
    {
     "cell_type": "markdown",
     "metadata": {},
     "source": [
      "*Question:* What is the AJR argument for why $z$ should NOT be correlated with $u$, i.e., why death rates of European settlers should have no effect living standards (GDP per capita) today other than via $x$?\n",
      "\n",
      "The concern here is that the instrument **logem4** must also be exogenous, i.e., we require that $E[logem4_{i}u_{i}]=0\\ $. Why might this fail? Say that the disease environment is a determinant of living standards today, **logpgp95**. This sounds plausible: countries with high rates of malaria, say, could be poor countries partly because of the disease environment. This would make any measure of the disease environment (such as settler mortality) correlated with the error term $u$, because it would be correlated with something that causes logpgp95 but isn\u2019t in the regression (and hence is in the error term).\n",
      "\n",
      "AJR argue that this is unlikely because these diseases (malaria and yellow fever, mostly) were almost always fatal to Europeans (who had no immunity) but were much less serious for native inhabitants (who had some immunity). NB: some other authors are not convinced of this argument."
     ]
    },
    {
     "cell_type": "code",
     "collapsed": false,
     "input": [],
     "language": "python",
     "metadata": {},
     "outputs": []
    }
   ],
   "metadata": {}
  }
 ]
}