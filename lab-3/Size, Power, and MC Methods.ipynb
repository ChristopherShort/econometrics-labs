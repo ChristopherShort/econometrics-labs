{
 "metadata": {
  "name": "Size, Power, and MC Methods"
 },
 "nbformat": 3,
 "nbformat_minor": 0,
 "worksheets": [
  {
   "cells": [
    {
     "cell_type": "markdown",
     "metadata": {},
     "source": [
      "Introduction:\n",
      "-------------\n",
      "\n",
      "This lab introduces you to a useful practical tool in statistics and econometrics: Monte Carlo (MC) simulations. In a Monte Carlo simulation, we look at the simulated performance of an estimator or test statistic under various scenarios. In this lab, we will use MC techniques to explore two important statistical concepts: \u201csize\u201d and \u201cpower\u201d.\n",
      "\n",
      "The structure of a typical Monte Carlo exercise is as follows:\n",
      "\n",
      "1. Specify the \u201cdata generation process\u201d (DGP). These are the assumptions that you make about where the data come from and what their properties are.\n",
      "2. Choose a sample size N for your MC simulation.\n",
      "3. Choose the number of times you will repeat your MC simulation. 10,000 is traditional, but while debugging your code you might choose a much smaller number, e.g., 100.\n",
      "4. Generate a random sample of size N based on your DGP.\n",
      "5. Using the random sample generated in (4), calculate the statistics of interest. These might be parameter estimates, statistics for tests of hypotheses involving these estimates, specification tests, or whatever. Save these.\n",
      "6. Go back to (4) and repeat (4)-(5) until you have done it 10,000 times.\n",
      "\n",
      "After you have completed the above, you have 10,000 different realizations of one or more statistics of interest. Recall that a statistic is a random variable: it\u2019s a function of the data, i.e., of a particular dataset or \u201crealization.\u201d \u201c10,000 different realizations\u201d of a random variable means you have 10,000 different datasets and calculate your statistic \u2013 your random variable of interest \u2013 for each dataset. This means you can, in effect, estimate the distribution of your statistic simply by plotting it in a histogram. If the statistic is supposed to have a particular distribution, you can check whether it does very easily.\n",
      "\n",
      "### Estimates and Test Statistics\n",
      "\n",
      "In econometrics, we are usually interested in estimating a coefficient, $\\beta$, from a regression using a particular dataset. The estimated parameter, $\\hat{\\beta}$, is a *statistic*. This statistic is a random variable: it\u2019s a function of the data. If two different researchers had two different datasets, they would calculate two different values for $\\hat{\\beta}$. Of course, if we knew the true value of $\\beta$, we wouldn\u2019t have to estimate it.\n",
      "\n",
      "Since $\\hat{\\beta}$ is a random variable, it has a variance $Var(\\hat{\\beta})$. $Var(\\hat{\\beta})$ is a *parameter*, not a random variable \u2013 it has a \u201ctrue\u201d value that is not a function of any particular dataset. And again we don\u2019t know what the true value of $Var(\\hat{\\beta})$ is, so we have to estimate this, too. We designate this estimate of $Var(\\beta)$ as $\\widehat{Var}(\\hat{\\beta})$. This estimated variance is a random variable, for the same reason as before: it is a function of the data, i.e., of the particular dataset you happen to be working with.\n",
      "\n",
      "When you run an OLS regression using the Python package $statsmodels$ the values reported in the regression output as the standard error for a regressor is simply the square root of the estimated variance for a particular coefficient:\n",
      "\n",
      "$$SE(\\hat{\\beta}) \\equiv \\sqrt{\\widehat{Var}(\\hat{\\beta})}$$\n",
      "\n",
      "The estimated standard error is a random variable too: like $\\hat{\\beta}$ and $\\widehat{Var}(\\hat{\\beta})$, $SE(\\hat{\\beta})$ is a function of the dataset you are using.\n",
      "\n",
      "These two ingredients, $\\hat{\\beta}$ and $SE(\\hat{\\beta})$ are usually what we work with when we test hypotheses.  We take $\\hat{\\beta}$ and $SE(\\hat{\\beta})$ and combine them to create a test statistic.  When you run an OLS regression using the Python package $statsmodels$ the default test statistic reported in the table of regression results is a test of the null hypothesis that the true value of $\\beta$ is zero:\n",
      "\n",
      "$$H_{0}:\\ \\beta = 0,\\ t = \\frac{\\hat{\\beta}}{SE(\\hat{\\beta})}$$\n",
      "\n",
      "The test statistic, $t$, is a obviously a statistic. In other words, $t$ is a random variable: it is a function of the data.  If you had a different dataset you would get a different test statistic $t$.\n",
      "\n",
      "If we wanted to test whether $\\beta$ were equal to some other value other than zero - say 2 - our null hypothesis and test statistic would be:\n",
      "\n",
      "$$H_{0}:\\ \\beta = 2,\\ t = \\frac{\\hat{\\beta} - 2}{SE(\\hat{\\beta})}$$\n",
      "\n",
      "### Size\n",
      "\n",
      "Recall the definitions of Type I and Type II errors:\n",
      "* Type I error: incorrectly rejecting the null hypothesis when the null hypothesis is actually correct.  A jury commits Type I error when they convict someone who is innocent. Typically the probability of Type I error is denoted by $\\alpha$. In hypothesis testing $\\alpha$ is the \"significance level\" or \"size\" of the test.\n",
      "* Type II error: incorrectly failing to reject the null hypothesis when the null hypothesis is actually wrong.  A jury commits Type II error when they let a guilty person go free.  Typically the probability of Type II error is denoted by $\\beta$.  In hypothesis testing, $1 - \\beta$ is called the \"power\" of the test.\n",
      "\n",
      "In empirical work, we want to use tests that have \"good size properties.\" Consider the first hypothesis test above.\n",
      "\n",
      "$$H_{0}:\\ \\beta = 0,\\ t = \\frac{\\hat{\\beta}}{SE(\\hat{\\beta})}$$\n",
      "\n",
      "Suppose that we choose $\\alpha$=5% as our significance level for this hypothesis test.  This is equivalent to saying that we are will to accept a 5% probability of Type I error. In other words we are willing to incorrectly reject a true null hypothesis 5% of the time.\n",
      "\n",
      "How do we know that we will make a Type I error 5% of the time?  Econometric theory might tell us. For example, in the case of the $t$ statistic above, econometric theory will give us a 5% critical value for the test.\n",
      "* If the test has \"good size properties,\" then we should expect to find (simply by chance) a value of for the $t$ statistic larger than the critical value only 5% of the time.\n",
      "* An example of a test with \"poor size properties\" would be one where we choose $\\alpha=5%$ but actually rejected (incorrectly) the null hypothesis 40% of the time (i.e., far too often!). In this case our test statistic is typically \"too large\" and our test is *oversized*.\n",
      "* A test statistic can also have poor size properties because it is *undersized*.  In this case we chose $\\alpha=5%$, but only (incorrectly) reject the null hypothesis 1% of the time (i.e., not often enough!).\n",
      "\n",
      "Where does our knowledge of the critical values for a given test come from? From our knowledge of the distribution of the test statistic.  Where does our knowledge of the distribution of the test statistic come from? Either from econometric theory, or some type of Monte Carlo simulation (sometimes called a bootstrap).\n",
      "\n",
      "###$p$-Values as random variables\n",
      "\n",
      "Recall the definition of a $p$-value: $p(t)$ = probability (under the null hypothesis) of observing a value for our test statistic that is at least as extreme as the test statistic, $t$, that we have actually observed.  More formally for a one-tailed test:\n",
      "\n",
      "$$ p(t) = Pr(t > t_{cr} | H_{0}\\text{ is True}) $$\n",
      "\n",
      "where $t_{cr}$ is the critical value for $t$.  For a two-tailed test,\n",
      "\n",
      "$$ p(t) = Pr(t > t_{cr}^{+}\\text{ or } t \\lt t_{cr}^{-})$$\n",
      "\n",
      "$p$-Values are random variables, just like $t$, $\\hat{\\beta}$, and $SE(\\hat{\\beta})$: they are statistics whose values depend on the dataset you are working with.  Since they are random variables, they have a distribution! Which distribution? Under the null hypothesis the $p$-values will have a uniform distribution over the interval [0,1]."
     ]
    },
    {
     "cell_type": "markdown",
     "metadata": {},
     "source": [
      "Task 1: Monte Carlo Simulation (by hand!)\n",
      "-----------------------------------------\n",
      "\n",
      "One way in which we can examine the size and power properties of hypothesis tests, as well as assess the statistical properties of estimators is via Monte Carlo simulations.  For example, suppose that you want to examine the behaviour of the OLS estimator in a simple bivariate estimation with a sample size of 500.  Specifically, suppose that the data generating process (DGP) for the dependent variable, $y$ is the following:\n",
      "\n",
      "$$y_{i} = 1 + 2 * x_{i} + \\epsilon_{i}$$\n",
      "\n",
      "where $i \\in 1,\\dots, 500$.  In order to complete the DGP, we need to specify distributions for the independent variable, $x$, and the error $\\epsilon$.  To keep things simple, let suppose that the error term is well behaved, $\\epsilon \\sim \\mathcal{N}(0, 2)$; and that the independent variable, $x\\sim \\mathcal{U}[0, 1]$.\n",
      "\n",
      "Using the above DGP, a Monte Carlo analysis of the OLS estimator would proceed as follows:\n",
      "\n",
      "1. Draw 500 observations from \\mathcal{U}[0, 1] to represent our independent variable $x$. \n",
      "2. Draw 500 observations from \\mathcal{N}(0, 2) to represent our error term $\\epsilon$.\n",
      "3. Using the values generated in steps I and II and the DGP, create 500 observations of our dependent variable $y$.\n",
      "4. Use OLS to estimate a regression of $y$ on a constant and $x$ to obtain a single realization of the OLS estimator for our slop coefficient.\n",
      "\n",
      "If we repeat steps I-IV above a large number (usually 10,000) times, we can derive the distribution of the OLS estimator for our DGP and check whether or not it conforms with econometric theory."
     ]
    },
    {
     "cell_type": "code",
     "collapsed": false,
     "input": [
      "import numpy as np\n",
      "from scipy import stats\n",
      "import pandas as pd\n",
      "import statsmodels.api as sm\n",
      "import matplotlib as mpl\n",
      "import matplotlib.pyplot as plt"
     ],
     "language": "python",
     "metadata": {},
     "outputs": [],
     "prompt_number": 2
    },
    {
     "cell_type": "code",
     "collapsed": false,
     "input": [
      "# Create a random variable object representing the normal distribution\n",
      "mu = 0\n",
      "sigma = 2\n",
      "normal_rv = stats.distributions.norm(mu, sigma)\n",
      "\n",
      "# Create a random variable object representing a uniform distribution\n",
      "uniform_rv = stats.distributions.uniform()"
     ],
     "language": "python",
     "metadata": {},
     "outputs": [],
     "prompt_number": 3
    },
    {
     "cell_type": "markdown",
     "metadata": {},
     "source": [
      "Now run the following regression at least 10 times, each time making note of the estimated value of both the intercept and slope coefficients..."
     ]
    },
    {
     "cell_type": "code",
     "collapsed": false,
     "input": [
      "#### First, create the fake data and run the regression #####\n",
      "\n",
      "# set the number of obs\n",
      "N = 500\n",
      "\n",
      "# create and error term (note that I convert an ndarray to a Series object!)\n",
      "error_term = pd.Series(normal_rv.rvs(N), name='e')\n",
      "\n",
      "# create an independent variable\n",
      "x = pd.Series(uniform_rv.rvs(N), name='x')\n",
      "\n",
      "# create a dependent variable y\n",
      "y = pd.Series(1 + 2 * x + error_term, name='y')\n",
      "\n",
      "# prepend a constant to the independent variable to create a matrix of regressors\n",
      "X = sm.add_constant(x, prepend=True)\n",
      "\n",
      "# create the model object\n",
      "model = sm.OLS(endog=y, exog=X)\n",
      "\n",
      "# fit the model and save the the results\n",
      "results = model.fit()\n",
      "\n",
      "# print the results\n",
      "print results.summary()"
     ],
     "language": "python",
     "metadata": {},
     "outputs": [
      {
       "output_type": "stream",
       "stream": "stdout",
       "text": [
        "                            OLS Regression Results                            \n",
        "==============================================================================\n",
        "Dep. Variable:                      y   R-squared:                       0.062\n",
        "Model:                            OLS   Adj. R-squared:                  0.060\n",
        "Method:                 Least Squares   F-statistic:                     32.85\n",
        "Date:                Tue, 09 Oct 2012   Prob (F-statistic):           1.73e-08\n",
        "Time:                        21:14:12   Log-Likelihood:                -1087.0\n",
        "No. Observations:                 500   AIC:                             2178.\n",
        "Df Residuals:                     498   BIC:                             2186.\n",
        "Df Model:                           1                                         \n",
        "==============================================================================\n",
        "                 coef    std err          t      P>|t|      [95.0% Conf. Int.]\n",
        "------------------------------------------------------------------------------\n",
        "const          1.1133      0.194      5.737      0.000         0.732     1.495\n",
        "x              1.8852      0.329      5.732      0.000         1.239     2.531\n",
        "==============================================================================\n",
        "Omnibus:                        1.577   Durbin-Watson:                   1.968\n",
        "Prob(Omnibus):                  0.454   Jarque-Bera (JB):                1.447\n",
        "Skew:                           0.030   Prob(JB):                        0.485\n",
        "Kurtosis:                       3.257   Cond. No.                         4.42\n",
        "==============================================================================\n"
       ]
      }
     ],
     "prompt_number": 4
    },
    {
     "cell_type": "markdown",
     "metadata": {},
     "source": [
      "Next, summarize the data..."
     ]
    },
    {
     "cell_type": "code",
     "collapsed": false,
     "input": [
      "# summarize independent variable x\n",
      "X.x.describe()"
     ],
     "language": "python",
     "metadata": {},
     "outputs": [
      {
       "output_type": "pyout",
       "prompt_number": 5,
       "text": [
        "count    500.000000\n",
        "mean       0.513913\n",
        "std        0.290158\n",
        "min        0.000036\n",
        "25%        0.267091\n",
        "50%        0.529336\n",
        "75%        0.774639\n",
        "max        0.999776"
       ]
      }
     ],
     "prompt_number": 5
    },
    {
     "cell_type": "code",
     "collapsed": false,
     "input": [
      "# summarize the error term\n",
      "error_term.describe()"
     ],
     "language": "python",
     "metadata": {},
     "outputs": [
      {
       "output_type": "pyout",
       "prompt_number": 6,
       "text": [
        "count    500.000000\n",
        "mean       0.054364\n",
        "std        2.130056\n",
        "min       -6.823176\n",
        "25%       -1.340693\n",
        "50%        0.024557\n",
        "75%        1.471960\n",
        "max        6.837139"
       ]
      }
     ],
     "prompt_number": 6
    },
    {
     "cell_type": "code",
     "collapsed": false,
     "input": [
      "# summarize the dependent variable y\n",
      "y.describe()"
     ],
     "language": "python",
     "metadata": {},
     "outputs": [
      {
       "output_type": "pyout",
       "prompt_number": 7,
       "text": [
        "count    500.000000\n",
        "mean       2.082191\n",
        "std        2.198922\n",
        "min       -4.677680\n",
        "25%        0.707176\n",
        "50%        2.076317\n",
        "75%        3.469940\n",
        "max        9.541625"
       ]
      }
     ],
     "prompt_number": 7
    },
    {
     "cell_type": "markdown",
     "metadata": {},
     "source": [
      "Create a histogram of the results.  What does the CLT imply that the distribution of the dependent variable y should approach as sample size increases?"
     ]
    },
    {
     "cell_type": "code",
     "collapsed": false,
     "input": [
      "fig = plt.figure()\n",
      "\n",
      "# first subplot is a histogram of x\n",
      "fig.add_subplot(131)\n",
      "X.x.hist(color='r', normed=True, alpha=0.75, bins=15)\n",
      "plt.title('Uniform!')\n",
      "plt.xlabel('x')\n",
      "plt.ylabel('Density')\n",
      "\n",
      "# second subplot is a histogram of the error\n",
      "fig.add_subplot(132)\n",
      "error_term.hist(color='g', normed=True, alpha=0.75, bins=15)\n",
      "plt.title('Should be normal!')\n",
      "plt.xlabel('e')\n",
      "\n",
      "# final subplot is a histogram of y\n",
      "fig.add_subplot(133)\n",
      "y.hist(color='b', normed=True, alpha=0.75, bins=15)\n",
      "plt.title('??')\n",
      "plt.xlabel('y')\n",
      "\n",
      "fig.tight_layout()\n",
      "\n",
      "plt.show()"
     ],
     "language": "python",
     "metadata": {},
     "outputs": [
      {
       "output_type": "display_data",
       "png": "[encoded data removed]"
      }
     ],
     "prompt_number": 8
    },
    {
     "cell_type": "markdown",
     "metadata": {},
     "source": [
      "Finally, create a scatterplot of y against x and plot the best fit line estimated via OLS."
     ]
    },
    {
     "cell_type": "code",
     "collapsed": false,
     "input": [
      "fig = plt.figure()\n",
      "ax = fig.add_subplot(111)\n",
      "\n",
      "# create a scatterplot\n",
      "ax.plot(X.x.values, y.values, 'bo', alpha=0.25)\n",
      "ax.set_xlabel('Dependent variable, x')\n",
      "ax.set_ylabel('Independent variable, y')\n",
      "ax.set_title('Regression of y on x', fontsize=20)\n",
      "\n",
      "# add the regression line\n",
      "grid = np.linspace(0, 1, 1000)\n",
      "ax.plot(grid, results.params['const'] + results.params['x'] * grid, 'r-', label='OLS')\n",
      "ax.legend(loc='best', frameon=False)\n",
      "\n",
      "plt.show()"
     ],
     "language": "python",
     "metadata": {},
     "outputs": [
      {
       "output_type": "display_data",
       "png": "[encoded data removed]"
      }
     ],
     "prompt_number": 9
    },
    {
     "cell_type": "markdown",
     "metadata": {},
     "source": [
      "Change the above data generating process (DGP) and repeat the above task a few times.  Some options for changing the DGP:\n",
      "\n",
      "* Increase or decrease the variance of the error term, e.\n",
      "* Increase or decrease the variance of the explanatory variable, x.\n",
      "* Use different probability distributions for x or e (Recall that you can access the available distributions by using tab-completion on stats.distribution. in the cell below!)."
     ]
    },
    {
     "cell_type": "code",
     "collapsed": false,
     "input": [
      "stats.distributions."
     ],
     "language": "python",
     "metadata": {},
     "outputs": []
    },
    {
     "cell_type": "markdown",
     "metadata": {},
     "source": [
      "Task 2: Monte Carlo Simulation (for real!)\n",
      "------------------------------------------\n",
      "\n",
      "We will now generate 10,000 samples of a DGP similar to that above.  In each random sample, we will use OLS to estimate the slope and its standard error.  After we have calculated the results, we will have a new dataset consisting of 10,000 observations of both $\\hat{\\beta}$ and $SE(\\hat{\\beta})$.  We can then look at the distribution of $\\hat{\\beta}$, calculate a $t$ statistic and look at its distribution, amongst other things.\n",
      "\n",
      "In the cell below, I have put some code for conducting the simulation.  Go through each line and make sure you understand what the code is doing. First, run the MC with 100 observations to make sure the code works. Then create a histogram of the resulting 100 observations of $\\hat{\\beta}$ and overlay a normal density function.  \n",
      "\n",
      "Only once you understand what is going on, re-run the MC for 10,000 observations and re-generate the histogram.  Given what you know of econometric theory, what do you expect the result to look like?  Are you correct? "
     ]
    },
    {
     "cell_type": "code",
     "collapsed": false,
     "input": [
      "# set the number of obs in each sample\n",
      "N = 500 \n",
      "\n",
      "# set the number of replications (best to start with a small number for debugging purposes)\n",
      "reps = 10000\n",
      "\n",
      "# create arrays to store estimates of slope and its SE\n",
      "beta_hats = pd.Series(np.zeros(reps), name='beta')\n",
      "\n",
      "# for loop conducts the MC\n",
      "for rep in range(reps):\n",
      "    # Gaussian error term with mu=0, sigma = 2\n",
      "    e = pd.Series(stats.distributions.norm(0, 2).rvs(N), name='error')\n",
      "    # Uniform independent variable on [0, 1]\n",
      "    x = pd.Series(stats.distributions.uniform(0, 1).rvs(N), name='x')\n",
      "    # Create dependent variable y\n",
      "    y = pd.Series(1 + 2 * x + e, name='y')\n",
      "    \n",
      "    # regress y on x\n",
      "    X = sm.add_constant(x, prepend=True)\n",
      "    model = sm.OLS(endog=y, exog=X)\n",
      "    results = model.fit()\n",
      "    \n",
      "    # extract estimate of slope\n",
      "    beta_hat = results.params['x']\n",
      "    \n",
      "    # store the estimates\n",
      "    beta_hats[rep] = beta_hat\n",
      "    \n",
      "    # conditional statement tells us how many iterations have completed\n",
      "    if (rep + 1)% 500 == 0:\n",
      "        print \"Done with %i out of %i iterations.\" % (rep + 1, reps)\n",
      "        "
     ],
     "language": "python",
     "metadata": {},
     "outputs": [
      {
       "output_type": "stream",
       "stream": "stdout",
       "text": [
        "Done with 500 out of 10000 iterations.\n",
        "Done with 1000 out of 10000 iterations."
       ]
      },
      {
       "output_type": "stream",
       "stream": "stdout",
       "text": [
        "\n",
        "Done with 1500 out of 10000 iterations."
       ]
      },
      {
       "output_type": "stream",
       "stream": "stdout",
       "text": [
        "\n",
        "Done with 2000 out of 10000 iterations."
       ]
      },
      {
       "output_type": "stream",
       "stream": "stdout",
       "text": [
        "\n",
        "Done with 2500 out of 10000 iterations."
       ]
      },
      {
       "output_type": "stream",
       "stream": "stdout",
       "text": [
        "\n",
        "Done with 3000 out of 10000 iterations."
       ]
      },
      {
       "output_type": "stream",
       "stream": "stdout",
       "text": [
        "\n",
        "Done with 3500 out of 10000 iterations."
       ]
      },
      {
       "output_type": "stream",
       "stream": "stdout",
       "text": [
        "\n",
        "Done with 4000 out of 10000 iterations."
       ]
      },
      {
       "output_type": "stream",
       "stream": "stdout",
       "text": [
        "\n",
        "Done with 4500 out of 10000 iterations."
       ]
      },
      {
       "output_type": "stream",
       "stream": "stdout",
       "text": [
        "\n",
        "Done with 5000 out of 10000 iterations."
       ]
      },
      {
       "output_type": "stream",
       "stream": "stdout",
       "text": [
        "\n",
        "Done with 5500 out of 10000 iterations."
       ]
      },
      {
       "output_type": "stream",
       "stream": "stdout",
       "text": [
        "\n",
        "Done with 6000 out of 10000 iterations."
       ]
      },
      {
       "output_type": "stream",
       "stream": "stdout",
       "text": [
        "\n",
        "Done with 6500 out of 10000 iterations."
       ]
      },
      {
       "output_type": "stream",
       "stream": "stdout",
       "text": [
        "\n",
        "Done with 7000 out of 10000 iterations."
       ]
      },
      {
       "output_type": "stream",
       "stream": "stdout",
       "text": [
        "\n",
        "Done with 7500 out of 10000 iterations."
       ]
      },
      {
       "output_type": "stream",
       "stream": "stdout",
       "text": [
        "\n",
        "Done with 8000 out of 10000 iterations."
       ]
      },
      {
       "output_type": "stream",
       "stream": "stdout",
       "text": [
        "\n",
        "Done with 8500 out of 10000 iterations."
       ]
      },
      {
       "output_type": "stream",
       "stream": "stdout",
       "text": [
        "\n",
        "Done with 9000 out of 10000 iterations."
       ]
      },
      {
       "output_type": "stream",
       "stream": "stdout",
       "text": [
        "\n",
        "Done with 9500 out of 10000 iterations."
       ]
      },
      {
       "output_type": "stream",
       "stream": "stdout",
       "text": [
        "\n",
        "Done with 10000 out of 10000 iterations."
       ]
      },
      {
       "output_type": "stream",
       "stream": "stdout",
       "text": [
        "\n"
       ]
      }
     ],
     "prompt_number": 41
    },
    {
     "cell_type": "code",
     "collapsed": false,
     "input": [
      "# create new figure and axes objects\n",
      "fig = plt.figure()\n",
      "ax = fig.add_subplot(111)\n",
      "\n",
      "# plot the histogram\n",
      "n, bins, patches = ax.hist(beta_hats, bins=40, normed=True, color='blue', alpha=0.75)\n",
      "ax.set_xlabel(r'$\\hat{\\beta}$', fontsize=15)\n",
      "ax.set_ylabel('Density', family='serif', fontsize=15)\n",
      "ax.set_title('%i replications of N=%i observations' %(reps, N), family='serif', fontsize=15)\n",
      "\n",
      "# overlay the normal density\n",
      "mu = np.mean(beta_hats)\n",
      "sigma = np.std(beta_hats)\n",
      "grid = np.linspace(np.min(beta_hats), np.max(beta_hats), 1000)\n",
      "ax.plot(grid, stats.norm(mu, sigma).pdf(grid), 'r-', label=r'$\\mathcal{N}(\\mu,\\sigma)$')\n",
      "\n",
      "# add a legend\n",
      "ax.legend(loc='best', frameon=False)\n",
      "\n",
      "# save the plot\n",
      "plt.savefig('Your first MC.png')\n",
      "\n",
      "# display plot\n",
      "plt.show()"
     ],
     "language": "python",
     "metadata": {},
     "outputs": [
      {
       "output_type": "display_data",
       "png": "[encoded data removed]"
      }
     ],
     "prompt_number": 11
    },
    {
     "cell_type": "markdown",
     "metadata": {},
     "source": [
      "What do you conclude from an examination of the distribution of $\\hat{\\beta}$? Use the describe() method to summarize our 10,000 estimates of $\\hat{\\beta}$."
     ]
    },
    {
     "cell_type": "code",
     "collapsed": false,
     "input": [
      "beta_hats.describe()"
     ],
     "language": "python",
     "metadata": {},
     "outputs": [
      {
       "output_type": "pyout",
       "prompt_number": 12,
       "text": [
        "count    10000.000000\n",
        "mean         1.999383\n",
        "std          0.308823\n",
        "min          0.901108\n",
        "25%          1.788638\n",
        "50%          2.001414\n",
        "75%          2.209560\n",
        "max          3.164702"
       ]
      }
     ],
     "prompt_number": 12
    },
    {
     "cell_type": "markdown",
     "metadata": {},
     "source": [
      "What do you conclude from the summary of our estimates of $\\hat{\\beta}$? Is there evidence that the OLS estimator is unbiased? Suppose you wanted to construct a 95% confidence interval for the DGP.  How could you do this using *only* the ouput of the describe() method?"
     ]
    },
    {
     "cell_type": "code",
     "collapsed": false,
     "input": [
      "# insert code here!"
     ],
     "language": "python",
     "metadata": {},
     "outputs": []
    },
    {
     "cell_type": "markdown",
     "metadata": {},
     "source": [
      "Task 3: The size properties of the OLS estimator of the slope $\\beta$\n",
      "---------------------------------------------------------------------\n",
      "\n",
      "In this task, we augment the MC from Task 2 in order to calculate the test statistic $t$ for the *true* null hypothesis: \n",
      "\n",
      "$$H_{0}: \\beta=2$$  \n",
      "\n",
      "We then examine whether the test has good sizes properties.  We will use a two-tailed test, so we will reject the null hypothesis if $t$ is very large in absolute value (i.e., very positive or very negative).\n",
      "\n",
      "This task has multiple parts:\n",
      "\n",
      "1. Change the sample size to $N=25$ and then modify the code from Task 2 so that the MC also stores the value of $SE(\\hat{\\beta})$ for each estimate of $\\hat{\\beta}$. Run the MC with reps=100 to make sure that it works. Then run the MC again with reps=10000 and summarize the results using the describe() method.\n",
      "\n",
      "2. Modify your code so that the MC also stores the value of the test statistic associated with a test of the above null hypothesis. Run the MC with reps=100 to make sure that it works. Then run the MC again with reps=10000 and summarize the results using the describe() method.\n"
     ]
    },
    {
     "cell_type": "code",
     "collapsed": false,
     "input": [
      "# set the number of observations\n",
      "N = 25\n",
      "\n",
      "# set the number of replications (best to start with a small number for debugging purposes)\n",
      "reps = 10000\n",
      "\n",
      "# create arrays to store estimates of slope and its SE\n",
      "beta_hats = pd.Series(np.zeros(reps), name='beta')\n",
      "se_beta_hats = pd.Series(np.zeros(reps), name='se')\n",
      "t_stats = pd.Series(np.zeros(reps), name='t-stat')\n",
      "\n",
      "# for loop conducts the MC\n",
      "for rep in range(reps):\n",
      "    # Gaussian error term with mu=0, sigma = 2\n",
      "    e = pd.Series(stats.distributions.norm(0, 2).rvs(N), name='error')\n",
      "    # Uniform independent variable on [0, 1]\n",
      "    x = pd.Series(stats.distributions.uniform(0, 1).rvs(N), name='x')\n",
      "    # Create dependent variable y\n",
      "    y = pd.Series(1 + 2 * x + e, name='y')\n",
      "    \n",
      "    # regress y on x\n",
      "    X = sm.add_constant(x, prepend=True)\n",
      "    model = sm.OLS(endog=y, exog=X)\n",
      "    results = model.fit()\n",
      "    \n",
      "    # extract estimate of slope\n",
      "    beta_hat = results.params['x']\n",
      "    # extract the se for the estimate\n",
      "    se_beta_hat = results.bse['x']\n",
      "    # extract the test statistic\n",
      "    t_stat = (beta_hat - 2) / se_beta_hat\n",
      "    \n",
      "    # store the estimates\n",
      "    beta_hats[rep] = beta_hat\n",
      "    se_beta_hats[rep] = se_beta_hat\n",
      "    t_stats[rep] = t_stat\n",
      "    \n",
      "    # conditional statement tells us how many iterations have completed\n",
      "    if (rep + 1)% 500 == 0:\n",
      "        print \"Done with %i out of %i iterations.\" % (rep + 1, reps)\n",
      "        "
     ],
     "language": "python",
     "metadata": {},
     "outputs": [
      {
       "output_type": "stream",
       "stream": "stdout",
       "text": [
        "Done with 500 out of 10000 iterations.\n",
        "Done with 1000 out of 10000 iterations."
       ]
      },
      {
       "output_type": "stream",
       "stream": "stdout",
       "text": [
        "\n",
        "Done with 1500 out of 10000 iterations."
       ]
      },
      {
       "output_type": "stream",
       "stream": "stdout",
       "text": [
        "\n",
        "Done with 2000 out of 10000 iterations."
       ]
      },
      {
       "output_type": "stream",
       "stream": "stdout",
       "text": [
        "\n",
        "Done with 2500 out of 10000 iterations."
       ]
      },
      {
       "output_type": "stream",
       "stream": "stdout",
       "text": [
        "\n",
        "Done with 3000 out of 10000 iterations."
       ]
      },
      {
       "output_type": "stream",
       "stream": "stdout",
       "text": [
        "\n",
        "Done with 3500 out of 10000 iterations."
       ]
      },
      {
       "output_type": "stream",
       "stream": "stdout",
       "text": [
        "\n",
        "Done with 4000 out of 10000 iterations."
       ]
      },
      {
       "output_type": "stream",
       "stream": "stdout",
       "text": [
        "\n",
        "Done with 4500 out of 10000 iterations."
       ]
      },
      {
       "output_type": "stream",
       "stream": "stdout",
       "text": [
        "\n",
        "Done with 5000 out of 10000 iterations."
       ]
      },
      {
       "output_type": "stream",
       "stream": "stdout",
       "text": [
        "\n",
        "Done with 5500 out of 10000 iterations."
       ]
      },
      {
       "output_type": "stream",
       "stream": "stdout",
       "text": [
        "\n",
        "Done with 6000 out of 10000 iterations."
       ]
      },
      {
       "output_type": "stream",
       "stream": "stdout",
       "text": [
        "\n",
        "Done with 6500 out of 10000 iterations."
       ]
      },
      {
       "output_type": "stream",
       "stream": "stdout",
       "text": [
        "\n",
        "Done with 7000 out of 10000 iterations."
       ]
      },
      {
       "output_type": "stream",
       "stream": "stdout",
       "text": [
        "\n",
        "Done with 7500 out of 10000 iterations."
       ]
      },
      {
       "output_type": "stream",
       "stream": "stdout",
       "text": [
        "\n",
        "Done with 8000 out of 10000 iterations."
       ]
      },
      {
       "output_type": "stream",
       "stream": "stdout",
       "text": [
        "\n",
        "Done with 8500 out of 10000 iterations."
       ]
      },
      {
       "output_type": "stream",
       "stream": "stdout",
       "text": [
        "\n",
        "Done with 9000 out of 10000 iterations."
       ]
      },
      {
       "output_type": "stream",
       "stream": "stdout",
       "text": [
        "\n",
        "Done with 9500 out of 10000 iterations."
       ]
      },
      {
       "output_type": "stream",
       "stream": "stdout",
       "text": [
        "\n",
        "Done with 10000 out of 10000 iterations."
       ]
      },
      {
       "output_type": "stream",
       "stream": "stdout",
       "text": [
        "\n"
       ]
      }
     ],
     "prompt_number": 13
    },
    {
     "cell_type": "code",
     "collapsed": false,
     "input": [
      "# check results for part 1)\n",
      "se_beta_hats.describe()"
     ],
     "language": "python",
     "metadata": {},
     "outputs": [
      {
       "output_type": "pyout",
       "prompt_number": 14,
       "text": [
        "count    10000.000000\n",
        "mean         1.417164\n",
        "std          0.254034\n",
        "min          0.599098\n",
        "25%          1.236806\n",
        "50%          1.399031\n",
        "75%          1.579746\n",
        "max          2.710144"
       ]
      }
     ],
     "prompt_number": 14
    },
    {
     "cell_type": "code",
     "collapsed": false,
     "input": [
      "# check results for part 2)\n",
      "t_stats.describe()"
     ],
     "language": "python",
     "metadata": {},
     "outputs": [
      {
       "output_type": "pyout",
       "prompt_number": 15,
       "text": [
        "count    10000.000000\n",
        "mean        -0.007923\n",
        "std          1.043697\n",
        "min         -4.460300\n",
        "25%         -0.696279\n",
        "50%         -0.005211\n",
        "75%          0.679191\n",
        "max          4.603308"
       ]
      }
     ],
     "prompt_number": 15
    },
    {
     "cell_type": "markdown",
     "metadata": {},
     "source": [
      "Under the null hypothesis, $\\hat{\\beta}$ has a $t$-distribution with 23 degrees of freedom.  The 5% critical value for the two-tailed $t$-test under this null is..."
     ]
    },
    {
     "cell_type": "code",
     "collapsed": false,
     "input": [
      "stats.distributions.t.ppf(1 - (0.05 / 2), 23)"
     ],
     "language": "python",
     "metadata": {},
     "outputs": [
      {
       "output_type": "pyout",
       "prompt_number": 16,
       "text": [
        "2.0686576104190406"
       ]
      }
     ],
     "prompt_number": 16
    },
    {
     "cell_type": "markdown",
     "metadata": {},
     "source": [
      "If our MC estimates for $\\hat{\\beta}$ are actually distributed as a $t$ random variable with 23 degrees of freedom, then how many estimates should have a $t$-statistic less than -2.07? More than 2.07 critical value?  Write some code to check..."
     ]
    },
    {
     "cell_type": "code",
     "collapsed": false,
     "input": [
      "t_stats[ t_stats > 2.07 ].count()"
     ],
     "language": "python",
     "metadata": {},
     "outputs": [
      {
       "output_type": "pyout",
       "prompt_number": 57,
       "text": [
        "250"
       ]
      }
     ],
     "prompt_number": 57
    },
    {
     "cell_type": "markdown",
     "metadata": {},
     "source": [
      "Next, we generalize this graphically by looking at the $p$-values for the our test statistic under the assumption that it is indeed $t$-distributed.  First, note that we want $p$-values for a two-tailed test.  We can use the following code the find the probability that the random variable T > t (i.e., the area under the pdf to the right of t) as follows..."
     ]
    },
    {
     "cell_type": "code",
     "collapsed": false,
     "input": [
      "# one implementation using the survival function\n",
      "stats.distributions.t.sf(2.07, 23)"
     ],
     "language": "python",
     "metadata": {},
     "outputs": [
      {
       "output_type": "pyout",
       "prompt_number": 58,
       "text": [
        "0.024931724333663093"
       ]
      }
     ],
     "prompt_number": 58
    },
    {
     "cell_type": "code",
     "collapsed": false,
     "input": [
      "# alternative implementation using the cdf\n",
      "1 - stats.distributions.t.cdf(2.07, 23)"
     ],
     "language": "python",
     "metadata": {},
     "outputs": [
      {
       "output_type": "pyout",
       "prompt_number": 59,
       "text": [
        "0.024931724333663086"
       ]
      }
     ],
     "prompt_number": 59
    },
    {
     "cell_type": "markdown",
     "metadata": {},
     "source": [
      "However, because we are implementing a two-tailed test, we want the area under the pdf to the right of t plus the area to the left of -t.  Since the $t$-distribution is symmetric, this area is just twice the area under the pdf to the right of t!  Thus we can calculate a $p$-value as follows..."
     ]
    },
    {
     "cell_type": "code",
     "collapsed": false,
     "input": [
      "# an example...\n",
      "2 * stats.distributions.t.sf(np.abs(2.07), 23)"
     ],
     "language": "python",
     "metadata": {},
     "outputs": [
      {
       "output_type": "pyout",
       "prompt_number": 60,
       "text": [
        "0.049863448667326185"
       ]
      }
     ],
     "prompt_number": 60
    },
    {
     "cell_type": "code",
     "collapsed": false,
     "input": [
      "# p-values associated with the test statistics from our MC\n",
      "p_values = 2 * stats.distributions.t.sf(t_stats.abs(), 23)"
     ],
     "language": "python",
     "metadata": {},
     "outputs": [],
     "prompt_number": 18
    },
    {
     "cell_type": "markdown",
     "metadata": {},
     "source": [
      "If our test statistic really is $t$-distributed (i.e., our null hypothesis is true), then what should the distribution of our $p$-values look like?  Put another way, what should the distribution of $p$-values look like if our hypothesis test has good size properties? Create a histogram of the $p$-values to find out..."
     ]
    },
    {
     "cell_type": "code",
     "collapsed": false,
     "input": [
      "# create a new figure\n",
      "fig=plt.figure()\n",
      "ax = fig.add_subplot(111)\n",
      "\n",
      "# generate the histogram\n",
      "n, bins, patches = ax.hist(p_values, color='yellow', bins=40, normed=True, alpha=0.75)\n",
      "ax.set_xlabel('p-Values')\n",
      "ax.set_ylabel('Density')\n",
      "ax.set_title('Good size properties!')\n",
      "\n",
      "# save the figure\n",
      "plt.savefig('good size properties.png')\n",
      "\n",
      "# display \n",
      "plt.show()"
     ],
     "language": "python",
     "metadata": {},
     "outputs": [
      {
       "output_type": "display_data",
       "png": "[encoded data removed]"
      }
     ],
     "prompt_number": 19
    },
    {
     "cell_type": "markdown",
     "metadata": {},
     "source": [
      "Repeat the exercise but this time use a sample size of $N=1000$.  Make sure to modify the code so that the correct number of degrees of freedom are used automatically"
     ]
    },
    {
     "cell_type": "code",
     "collapsed": false,
     "input": [
      "# set the number of observations\n",
      "N = 1000\n",
      "\n",
      "# set the number of replications (best to start with a small number for debugging purposes)\n",
      "reps = 10000\n",
      "\n",
      "# create arrays to store estimates of slope and its SE\n",
      "beta_hats = pd.Series(np.zeros(reps), name='beta')\n",
      "se_beta_hats = pd.Series(np.zeros(reps), name='se')\n",
      "t_stats = pd.Series(np.zeros(reps), name='t-stat')\n",
      "\n",
      "# for loop conducts the MC\n",
      "for rep in range(reps):\n",
      "    # Gaussian error term with mu=0, sigma = 2\n",
      "    e = pd.Series(stats.distributions.norm(0, 2).rvs(N), name='error')\n",
      "    # Uniform independent variable on [0, 1]\n",
      "    x = pd.Series(stats.distributions.uniform(0, 1).rvs(N), name='x')\n",
      "    # Create dependent variable y\n",
      "    y = pd.Series(1 + 2 * x + e, name='y')\n",
      "    \n",
      "    # regress y on x\n",
      "    X = sm.add_constant(x, prepend=True)\n",
      "    model = sm.OLS(endog=y, exog=X)\n",
      "    results = model.fit()\n",
      "    \n",
      "    # extract estimate of slope\n",
      "    beta_hat = results.params['x']\n",
      "    # extract the se for the estimate\n",
      "    se_beta_hat = results.bse['x']\n",
      "    # extract the test statistic\n",
      "    t_stat = (beta_hat - 2) / se_beta_hat\n",
      "    \n",
      "    # store the estimates\n",
      "    beta_hats[rep] = beta_hat\n",
      "    se_beta_hats[rep] = se_beta_hat\n",
      "    t_stats[rep] = t_stat\n",
      "    \n",
      "    # conditional statement tells us how many iterations have completed\n",
      "    if (rep + 1)% 500 == 0:\n",
      "        print \"Done with %i out of %i iterations.\" % (rep + 1, reps)\n",
      "\n",
      "# calculate the pvalues\n",
      "p_values = 2 * stats.distributions.t.sf(t_stats.abs(), N - 2)"
     ],
     "language": "python",
     "metadata": {},
     "outputs": [
      {
       "output_type": "stream",
       "stream": "stdout",
       "text": [
        "Done with 500 out of 10000 iterations.\n",
        "Done with 1000 out of 10000 iterations."
       ]
      },
      {
       "output_type": "stream",
       "stream": "stdout",
       "text": [
        "\n",
        "Done with 1500 out of 10000 iterations."
       ]
      },
      {
       "output_type": "stream",
       "stream": "stdout",
       "text": [
        "\n",
        "Done with 2000 out of 10000 iterations."
       ]
      },
      {
       "output_type": "stream",
       "stream": "stdout",
       "text": [
        "\n",
        "Done with 2500 out of 10000 iterations."
       ]
      },
      {
       "output_type": "stream",
       "stream": "stdout",
       "text": [
        "\n",
        "Done with 3000 out of 10000 iterations."
       ]
      },
      {
       "output_type": "stream",
       "stream": "stdout",
       "text": [
        "\n",
        "Done with 3500 out of 10000 iterations."
       ]
      },
      {
       "output_type": "stream",
       "stream": "stdout",
       "text": [
        "\n",
        "Done with 4000 out of 10000 iterations."
       ]
      },
      {
       "output_type": "stream",
       "stream": "stdout",
       "text": [
        "\n",
        "Done with 4500 out of 10000 iterations."
       ]
      },
      {
       "output_type": "stream",
       "stream": "stdout",
       "text": [
        "\n",
        "Done with 5000 out of 10000 iterations."
       ]
      },
      {
       "output_type": "stream",
       "stream": "stdout",
       "text": [
        "\n",
        "Done with 5500 out of 10000 iterations."
       ]
      },
      {
       "output_type": "stream",
       "stream": "stdout",
       "text": [
        "\n",
        "Done with 6000 out of 10000 iterations."
       ]
      },
      {
       "output_type": "stream",
       "stream": "stdout",
       "text": [
        "\n",
        "Done with 6500 out of 10000 iterations."
       ]
      },
      {
       "output_type": "stream",
       "stream": "stdout",
       "text": [
        "\n",
        "Done with 7000 out of 10000 iterations."
       ]
      },
      {
       "output_type": "stream",
       "stream": "stdout",
       "text": [
        "\n",
        "Done with 7500 out of 10000 iterations."
       ]
      },
      {
       "output_type": "stream",
       "stream": "stdout",
       "text": [
        "\n",
        "Done with 8000 out of 10000 iterations."
       ]
      },
      {
       "output_type": "stream",
       "stream": "stdout",
       "text": [
        "\n",
        "Done with 8500 out of 10000 iterations."
       ]
      },
      {
       "output_type": "stream",
       "stream": "stdout",
       "text": [
        "\n",
        "Done with 9000 out of 10000 iterations."
       ]
      },
      {
       "output_type": "stream",
       "stream": "stdout",
       "text": [
        "\n",
        "Done with 9500 out of 10000 iterations."
       ]
      },
      {
       "output_type": "stream",
       "stream": "stdout",
       "text": [
        "\n",
        "Done with 10000 out of 10000 iterations."
       ]
      },
      {
       "output_type": "stream",
       "stream": "stdout",
       "text": [
        "\n"
       ]
      }
     ],
     "prompt_number": 37
    },
    {
     "cell_type": "code",
     "collapsed": false,
     "input": [
      "# create a new figure\n",
      "fig = plt.figure()\n",
      "ax = fig.add_subplot(111)\n",
      "\n",
      "# generate the histogram\n",
      "n, bins, patches = ax.hist(p_values, color='yellow', bins=40, normed=True, alpha=0.75)\n",
      "ax.set_xlabel('p-Values')\n",
      "ax.set_ylabel('Density')\n",
      "ax.set_title('Good size properties!')\n",
      "\n",
      "# save the figure\n",
      "plt.savefig('good size properties (N=%i).png' %N)\n",
      "\n",
      "# display \n",
      "plt.show()"
     ],
     "language": "python",
     "metadata": {},
     "outputs": [
      {
       "output_type": "display_data",
       "png": "[encoded data removed]"
      }
     ],
     "prompt_number": 21
    },
    {
     "cell_type": "markdown",
     "metadata": {},
     "source": [
      "Have your results changed? Why or why not? What if, instead of using the exact distribution results for the OLS (i.e., the $t$-distribution) you used the Normal approximation? How would your results for N=25 differ from your results for N=1000?"
     ]
    },
    {
     "cell_type": "code",
     "collapsed": false,
     "input": [
      "# insert your code here!"
     ],
     "language": "python",
     "metadata": {},
     "outputs": [],
     "prompt_number": 71
    },
    {
     "cell_type": "markdown",
     "metadata": {},
     "source": [
      "Task 4: The power properties of the OLS estimator\n",
      "-------------------------------------------------\n",
      "\n",
      "In this task you will use the output of the MC from Task 3 to assess the power properties of the OLS estimator.  Remember, a Type II error occurs when we fail to reject the null hypothesis when the null hypothesis is false!  Ideally, we want to use tests that have a lot of statistical power (i.e., are really good at rejected a null hypothesis that is false).  Example: suppose that we have two estimators that are both [unbiased](http://en.wikipedia.org/wiki/Bias_of_an_estimator), but one has a standard error that is smaller than the other.  The estimator with the smaller standard error will have more power when used in hypothesis tests, and all else equal, we will want to use this estimator instead of the estimator with larger standard error.\n",
      "\n",
      "Like size, the power properties of estimators can be explored using Monte Carlo techniques.  The power of a hypothesis test is most easily represented by a \"power curve\": on the horizontal axis we put the hypothesized value for $\\beta$ and on the vertical axis we put the probability of rejecting the null hypothesis.  When constructing the power curve for a specific value of $\\alpha$ in this case 5% (i.e., a 5% significance level).\n",
      "\n",
      "If our test has good size properties, then if we look at the power curve at the point where the value of $\\beta$ being hypothesized is the true value  of 2, then the probability of rejecting the null hypothesis will be 5%. We also expect that the probability of rejection should be higher when we test hypothesized values that are greater, or less, than the true value of 2.\n",
      "\n",
      "First, re-run the code from Task 3 with $N=25$. Then create two new arrays *hypoth* and *test_power* in which to store the hypothesized values of $\\beta$ and the corresponding probability of rejecting the null hypothesis. Finally create a variable $CV$ representing the critical value of for the $t$ test at the %5 level of significance (don't forget to specify the appropriate degrees of freedom)."
     ]
    },
    {
     "cell_type": "code",
     "collapsed": false,
     "input": [
      "# create an array of hypothesized values for beta\n",
      "hypoth = np.arange(-4, 8, 0.05)\n",
      "\n",
      "# create an empty array in which to store probs\n",
      "test_power = np.zeros(len(hypoth))\n",
      "\n",
      "# Critical value for t-test\n",
      "CV = stats.distributions.t.ppf(1 - (0.05 / 2), N - 2)"
     ],
     "language": "python",
     "metadata": {},
     "outputs": [],
     "prompt_number": 38
    },
    {
     "cell_type": "code",
     "collapsed": false,
     "input": [
      "# for loop creates the power curve\n",
      "for i in range(len(hypoth)):\n",
      "    # calculate the t-statistics\n",
      "    t_stats = (beta_hats - hypoth[i]) / se_beta_hats\n",
      "    # calculate the fraction of times we reject the null\n",
      "    reject = np.mean(np.logical_or(t_stats < - CV, t_stats > CV))\n",
      "    # this fraction to test_power for hypothesized beta\n",
      "    test_power[i] = reject"
     ],
     "language": "python",
     "metadata": {},
     "outputs": [],
     "prompt_number": 39
    },
    {
     "cell_type": "markdown",
     "metadata": {},
     "source": [
      "Plot the power curve!"
     ]
    },
    {
     "cell_type": "code",
     "collapsed": false,
     "input": [
      "# create a new figure and axes objects\n",
      "fig = plt.figure()\n",
      "ax = fig.add_subplot(111)\n",
      "\n",
      "# plot the power curve\n",
      "ax.plot(hypoth, test_power, 'r-', label=\"Power curve\")\n",
      "ax.set_xlabel(r'Hypothesized $\\beta$')\n",
      "ax.set_ylabel('Probability of rejecting $H_{0}$')\n",
      "ax.set_title('Power curve for OLS estimator, N=%i' %N)\n",
      "\n",
      "# save the figure\n",
      "plt.savefig('Power curve for OLS estimator with N=%i.png' %i)\n",
      "\n",
      "# display\n",
      "plt.show()"
     ],
     "language": "python",
     "metadata": {},
     "outputs": [
      {
       "output_type": "display_data",
       "png": "[encoded data removed]"
      }
     ],
     "prompt_number": 40
    },
    {
     "cell_type": "markdown",
     "metadata": {},
     "source": [
      "Next, compute the power curve for $N=1000$. Do this by re-running the MC from Task 3.  What happens to the power of the test as the sample size increases?"
     ]
    },
    {
     "cell_type": "code",
     "collapsed": false,
     "input": [
      "# insert your code here!"
     ],
     "language": "python",
     "metadata": {},
     "outputs": []
    }
   ],
   "metadata": {}
  }
 ]
}