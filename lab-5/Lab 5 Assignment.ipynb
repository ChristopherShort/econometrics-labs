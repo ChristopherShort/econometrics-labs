{
 "metadata": {
  "name": "Lab 5 Assignment"
 },
 "nbformat": 3,
 "nbformat_minor": 0,
 "worksheets": [
  {
   "cells": [
    {
     "cell_type": "markdown",
     "metadata": {},
     "source": [
      "Introduction\n",
      "============\n",
      "\n",
      "In Lab 5, we performed an \u201cevent study\u201d. The event is the famous accident at the Three Mile Island (TMI) nuclear power plant in March 1979. We looked at the returns earned by General Public Utilities (GPU), the company owning the station.\n",
      "\n",
      "Your task is to perform another version of the event study: set up the variables needed for the regression, perform the regression, carry out the test specified below, and interpret the results.\n",
      "\n",
      "Assignment:\n",
      "-----------\n",
      "\n",
      "Consider the model below:\n",
      "\n",
      "$$GPU_{t} = \\beta_{0} + \\beta_{1}MARKET_{t} + \\beta_{2}D_{1, t} + \\beta_{2}D_{2, t} + \\beta_{4}D_{3, t}  + \\beta_{5}D_{4, t} + u_{t} $$\n",
      "\n",
      "where $D_{1,t}$ is a dummy variable taking the value 1 only for March 1979 and the value 0 for all other months, $D_{2,t}$ takes the value 1 only for April 1979 and the value 0 for all other months, etc. Estimation is over the 42 months from January 1976 to June 1979.\n",
      "\n",
      "We now want to test that the [cumulative abnormal return](http://en.wikipedia.org/wiki/Abnormal_return) ($CAR_{4}$) has a mean of zero: $\\beta_{2} + \\beta_{3} + \\beta_{4} + \\beta_{5} = 0$. The easiest way to proceed it to rewrite the model slightly as follows:\n",
      "\n",
      "$$GPU_{t} = \\beta_{0} + \\beta_{1}MARKET_{t} + (\\beta_{2} + \\beta_{3} + \\beta_{4} + \\beta_{5})D_{1, t} + \\beta_{2}(D_{2, t} - D_{1, t}) + \\beta_{4}(D_{3, t} - D_{1, t})  + \\beta_{5}(D_{4, t} - D_{1, t}) + u_{t} $$\n",
      "\n",
      "Now we only need to use OLS to estimate the above regression and test whether or not the coefficient on $DUMMY_{1,t}$ is significantly different from zero!\n",
      "\n",
      "Your task in this assignment is to estimate the above equation using OLS and discuss the results. In particular:\n",
      "\n",
      "1. Create any additional explanatory variables necessary.\n",
      "2. Estimate the required regression.\n",
      "3. Perform the appropriate hypothesis testing.\n",
      "4. Discuss the results."
     ]
    },
    {
     "cell_type": "code",
     "collapsed": false,
     "input": [
      "import numpy as np\n",
      "from scipy import stats\n",
      "import pandas as pd\n",
      "import statsmodels.api as sm\n",
      "from statsmodels.stats import outliers_influence\n",
      "import matplotlib.pyplot as plt\n",
      "import matplotlib as mpl"
     ],
     "language": "python",
     "metadata": {},
     "outputs": [],
     "prompt_number": 1
    },
    {
     "cell_type": "code",
     "collapsed": false,
     "input": [
      "# Create a new DATE variable...N.B. need to start the date object the month prior!\n",
      "DATE = pd.date_range(start='Dec-1975', periods=42, freq='MS')"
     ],
     "language": "python",
     "metadata": {},
     "outputs": [],
     "prompt_number": 2
    },
    {
     "cell_type": "code",
     "collapsed": false,
     "input": [
      "# load the TMI data\n",
      "TMI_data = pd.read_csv('TMI.csv', sep=',', header=0, index_col='DATE') \n",
      "\n",
      "# swap the old DATE index for the new DATE index\n",
      "TMI_data.index = DATE\n",
      "\n",
      "# Sanity check\n",
      "print TMI_data.head()"
     ],
     "language": "python",
     "metadata": {},
     "outputs": [
      {
       "output_type": "stream",
       "stream": "stdout",
       "text": [
        "                GPU  MARKET   RKFREE\n",
        "1976-01-01  0.05412   0.156  0.00369\n",
        "1976-02-01 -0.01429   0.069  0.00369\n",
        "1976-03-01  0.01449   0.010  0.00390\n",
        "1976-04-01 -0.01886  -0.012  0.00383\n",
        "1976-05-01 -0.01493   0.005  0.00415\n"
       ]
      }
     ],
     "prompt_number": 3
    },
    {
     "cell_type": "code",
     "collapsed": false,
     "input": [
      "# number of observations\n",
      "N = TMI_data.GPU.count()\n",
      "\n",
      "# create other dummy variables accordingly...\n",
      "d1 = np.zeros(N)\n",
      "d2 = np.zeros(N)\n",
      "d3 = np.zeros(N)\n",
      "d4 = np.zeros(N)\n",
      "\n",
      "# set the 40th, 41st, and 42nd obs to 1 (remember Python indexing starts at 0)\n",
      "d1[38] = 1\n",
      "d2[39] = 1 \n",
      "d3[40] = 1\n",
      "d4[41] = 1\n",
      "\n",
      "# define the dummy variable \n",
      "TMI_data['d1'] = d1\n",
      "TMI_data['d2'] = d2\n",
      "TMI_data['d3'] = d3\n",
      "TMI_data['d4'] = d4"
     ],
     "language": "python",
     "metadata": {},
     "outputs": [],
     "prompt_number": 7
    },
    {
     "cell_type": "code",
     "collapsed": false,
     "input": [
      "# sanity check\n",
      "print TMI_data.tail()"
     ],
     "language": "python",
     "metadata": {},
     "outputs": [
      {
       "output_type": "stream",
       "stream": "stdout",
       "text": [
        "                GPU  MARKET   RKFREE  d1  d2  d3  d4\n",
        "1979-02-01 -0.05556   0.011  0.00761   0   0   0   0\n",
        "1979-03-01 -0.04412   0.123  0.00769   1   0   0   0\n",
        "1979-04-01 -0.33077   0.026  0.00764   0   1   0   0\n",
        "1979-05-01 -0.17241   0.014  0.00772   0   0   1   0\n",
        "1979-06-01  0.15714   0.075  0.00715   0   0   0   1\n"
       ]
      }
     ],
     "prompt_number": 8
    },
    {
     "cell_type": "code",
     "collapsed": false,
     "input": [
      "# define variables representing the difference between dummies\n",
      "TMI_data['d2 - d1'] = TMI_data['d2'] - TMI_data['d1']\n",
      "TMI_data['d3 - d1'] = TMI_data['d3'] - TMI_data['d1']\n",
      "TMI_data['d4 - d1'] = TMI_data['d4'] - TMI_data['d1']"
     ],
     "language": "python",
     "metadata": {},
     "outputs": [],
     "prompt_number": 11
    },
    {
     "cell_type": "code",
     "collapsed": false,
     "input": [
      "# yet another sanity check\n",
      "print TMI_data.tail()"
     ],
     "language": "python",
     "metadata": {},
     "outputs": [
      {
       "output_type": "stream",
       "stream": "stdout",
       "text": [
        "                GPU  MARKET   RKFREE  d1  d2  d3  d4  d2 - d1  d3 - d1  d4 - d1\n",
        "1979-02-01 -0.05556   0.011  0.00761   0   0   0   0        0        0        0\n",
        "1979-03-01 -0.04412   0.123  0.00769   1   0   0   0       -1       -1       -1\n",
        "1979-04-01 -0.33077   0.026  0.00764   0   1   0   0        1        0        0\n",
        "1979-05-01 -0.17241   0.014  0.00772   0   0   1   0        0        1        0\n",
        "1979-06-01  0.15714   0.075  0.00715   0   0   0   1        0        0        1\n"
       ]
      }
     ],
     "prompt_number": 12
    },
    {
     "cell_type": "code",
     "collapsed": false,
     "input": [
      "# create the matrix of regressors\n",
      "X = sm.add_constant(TMI_data[['MARKET', 'd1', 'd2 - d1', 'd3 - d1', 'd4 - d1']], prepend=True)\n",
      "\n",
      "# create a OLS class object\n",
      "model = sm.OLS(TMI_data['GPU'], X)"
     ],
     "language": "python",
     "metadata": {},
     "outputs": [],
     "prompt_number": 13
    },
    {
     "cell_type": "code",
     "collapsed": false,
     "input": [
      "# fit the model using OLS\n",
      "results = model.fit()"
     ],
     "language": "python",
     "metadata": {},
     "outputs": [],
     "prompt_number": 14
    },
    {
     "cell_type": "code",
     "collapsed": false,
     "input": [
      "# print a summary table\n",
      "print results.summary()"
     ],
     "language": "python",
     "metadata": {},
     "outputs": [
      {
       "output_type": "stream",
       "stream": "stdout",
       "text": [
        "                            OLS Regression Results                            \n",
        "==============================================================================\n",
        "Dep. Variable:                    GPU   R-squared:                       0.819\n",
        "Model:                            OLS   Adj. R-squared:                  0.794\n",
        "Method:                 Least Squares   F-statistic:                     32.58\n",
        "Date:                Tue, 30 Oct 2012   Prob (F-statistic):           2.08e-12\n",
        "Time:                        08:40:26   Log-Likelihood:                 86.571\n",
        "No. Observations:                  42   AIC:                            -161.1\n",
        "Df Residuals:                      36   BIC:                            -150.7\n",
        "Df Model:                           5                                         \n",
        "==============================================================================\n",
        "                 coef    std err          t      P>|t|      [95.0% Conf. Int.]\n",
        "------------------------------------------------------------------------------\n",
        "const          0.0027      0.006      0.481      0.634        -0.009     0.014\n",
        "MARKET         0.3161      0.097      3.260      0.002         0.119     0.513\n",
        "d1            -0.4764      0.072     -6.643      0.000        -0.622    -0.331\n",
        "d2 - d1       -0.3417      0.034    -10.137      0.000        -0.410    -0.273\n",
        "d3 - d1       -0.1796      0.034     -5.327      0.000        -0.248    -0.111\n",
        "d4 - d1        0.1307      0.034      3.828      0.000         0.061     0.200\n",
        "==============================================================================\n",
        "Omnibus:                        2.390   Durbin-Watson:                   1.962\n",
        "Prob(Omnibus):                  0.303   Jarque-Bera (JB):                1.875\n",
        "Skew:                          -0.517   Prob(JB):                        0.392\n",
        "Kurtosis:                       2.973   Cond. No.                         19.5\n",
        "==============================================================================\n"
       ]
      }
     ],
     "prompt_number": 15
    },
    {
     "cell_type": "markdown",
     "metadata": {},
     "source": [
      "The coefficient on $D_{1,t}$ is negative and highly significant (based on the reported t-statistic).  On average, the observed return is roughly 0.5% lower than the expected return for GPU stock. Note that residuals also appear normally distributed based on the reported Jarque-Bera and Omnibus tests for residual normality.  The the cumulative abnormal return was significantly negative (which is exactly what one would expect to see from a stock of a company that owned a nuclear plant where an accident occured).   "
     ]
    },
    {
     "cell_type": "code",
     "collapsed": false,
     "input": [],
     "language": "python",
     "metadata": {},
     "outputs": []
    }
   ],
   "metadata": {}
  }
 ]
}