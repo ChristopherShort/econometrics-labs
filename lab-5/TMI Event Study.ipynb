{
 "metadata": {
  "name": "TMI Event Study"
 },
 "nbformat": 3,
 "nbformat_minor": 0,
 "worksheets": [
  {
   "cells": [
    {
     "cell_type": "markdown",
     "metadata": {},
     "source": [
      "Introduction:\n",
      "=============\n",
      "\n",
      "In this lab, you will perform an \u201cevent study\u201d. The event is the famous accident at the Three Mile Island (TMI) nuclear power plant in March 1979. You will look at the returns earned by General Public Utilities (GPU), the company owning the station. The assignment that follows the lab is also based on this event study.\n",
      "\n",
      "Preparation:\n",
      "------------\n",
      "\n",
      "The dataset is a CSV-format file. CSV (\u201ccomma-separated values\u201d) is a non-proprietary format that many programs such as Microsoft Excel can understand. A CSV file is a text (ascii) file where each line is basically a line from a spreadsheet, with each entry on the line separated by a comma.  We will continue working with the Python data analysis library [Pandas](http://pandas.pydata.org/).  Pandas will accept almost any file type as an input.  Those interestedd in the gory details can check out the [Pandas IO documentation](http://pandas.pydata.org/pandas-docs/stable/io.html). \n",
      "\n",
      "Begin, by importing the following Python modules..."
     ]
    },
    {
     "cell_type": "code",
     "collapsed": false,
     "input": [
      "import numpy as np\n",
      "from scipy import stats\n",
      "import pandas as pd\n",
      "import statsmodels.api as sm\n",
      "from statsmodels.stats import outliers_influence\n",
      "import matplotlib.pyplot as plt\n",
      "import matplotlib as mpl"
     ],
     "language": "python",
     "metadata": {},
     "outputs": [],
     "prompt_number": 137
    },
    {
     "cell_type": "markdown",
     "metadata": {},
     "source": [
      "Our 'TMI.csv' data file has a line at the top with the names of the variables. The default of the Pandas **read_csv()** command is to assume the first line has the variable names and the data start in line 2, but for clarity we specify the names option anyway using the *header* option. The non-date variables in this data set are defined as follows:\n",
      "\n",
      "1. GPU: Monthly return on General Public Utilities (GPU)\n",
      "2. MARKET: Monthly return for stock market index\n",
      "3. RKFREE: Monthly risk-free return\n",
      "\n",
      "The TMI dataset is a time-series dataset. The DATE variable is an integer where the first two digits are the year and the second two digits are the month. Pandas doesn\u2019t know this, however, and if we told Pandas that this was a date variable, it would get thoroughly confused.\n",
      "\n",
      "Execute the code in the cell below to load the data into the by now familiar (hopefully!) Pandas dataframe. Because the DATE column is non-standard we will simply create our own suitable formatted DATE variable to use as the time series index.  For the gory details of the **date_range()** function see the online [time series and date functions tutorial](http://pandas.pydata.org/pandas-docs/stable/timeseries.html)."
     ]
    },
    {
     "cell_type": "code",
     "collapsed": false,
     "input": [
      "# Create a new DATE variable...N.B. need to start the date object the month prior!\n",
      "DATE = pd.date_range(start='Dec-1975', periods=42, freq='MS')\n",
      "print DATE"
     ],
     "language": "python",
     "metadata": {},
     "outputs": [
      {
       "output_type": "stream",
       "stream": "stdout",
       "text": [
        "<class 'pandas.tseries.index.DatetimeIndex'>\n",
        "[1976-01-01 00:00:00, ..., 1979-06-01 00:00:00]\n",
        "Length: 42, Freq: MS, Timezone: None\n"
       ]
      }
     ],
     "prompt_number": 43
    },
    {
     "cell_type": "code",
     "collapsed": false,
     "input": [
      "# load the TMI data\n",
      "TMI_data = pd.read_csv('TMI.csv', sep=',', header=0, index_col='DATE') "
     ],
     "language": "python",
     "metadata": {},
     "outputs": [],
     "prompt_number": 45
    },
    {
     "cell_type": "code",
     "collapsed": false,
     "input": [
      "# check that the data are properly imported\n",
      "print TMI_data.head()\n",
      "print TMI_data.tail()"
     ],
     "language": "python",
     "metadata": {},
     "outputs": [
      {
       "output_type": "stream",
       "stream": "stdout",
       "text": [
        "          GPU  MARKET   RKFREE\n",
        "DATE                          \n",
        "7601  0.05412   0.156  0.00369\n",
        "7602 -0.01429   0.069  0.00369\n",
        "7603  0.01449   0.010  0.00390\n",
        "7604 -0.01886  -0.012  0.00383\n",
        "7605 -0.01493   0.005  0.00415\n",
        "          GPU  MARKET   RKFREE\n",
        "DATE                          \n",
        "7902 -0.05556   0.011  0.00761\n",
        "7903 -0.04412   0.123  0.00769\n",
        "7904 -0.33077   0.026  0.00764\n",
        "7905 -0.17241   0.014  0.00772\n",
        "7906  0.15714   0.075  0.00715\n"
       ]
      }
     ],
     "prompt_number": 46
    },
    {
     "cell_type": "code",
     "collapsed": false,
     "input": [
      "# swap the old DATE index for the new DATE index\n",
      "TMI_data.index = DATE"
     ],
     "language": "python",
     "metadata": {},
     "outputs": [],
     "prompt_number": 47
    },
    {
     "cell_type": "code",
     "collapsed": false,
     "input": [
      "# print the data again...now we are in business!\n",
      "print TMI_data.head()"
     ],
     "language": "python",
     "metadata": {},
     "outputs": [
      {
       "output_type": "stream",
       "stream": "stdout",
       "text": [
        "                GPU  MARKET   RKFREE\n",
        "1976-01-01  0.05412   0.156  0.00369\n",
        "1976-02-01 -0.01429   0.069  0.00369\n",
        "1976-03-01  0.01449   0.010  0.00390\n",
        "1976-04-01 -0.01886  -0.012  0.00383\n",
        "1976-05-01 -0.01493   0.005  0.00415\n"
       ]
      }
     ],
     "prompt_number": 48
    },
    {
     "cell_type": "markdown",
     "metadata": {},
     "source": [
      "Task 1: Learning how to use Pandas to work with time series data\n",
      "----------------------------------------------------------------\n",
      "\n",
      "Pandas has proven very successful as a tool for working with time series data, especially in the financial data analysis space. This task should familiarize you with the use of [common time series operations](http://pandas.pydata.org/pandas-docs/stable/timeseries.html#time-series-related-instance-methods) using Pandas. \n",
      "\n",
      "Often when working with time series data we will want to shift data series forward or backward in time.  This is done by applying the built-in **shift()** method to our dataframe as a whole, or two individual series."
     ]
    },
    {
     "cell_type": "code",
     "collapsed": false,
     "input": [
      "# shift each variable forward 1 period...note the NaNs!\n",
      "print TMI_data.head() \n",
      "print TMI_data.shift(periods=1).head()"
     ],
     "language": "python",
     "metadata": {},
     "outputs": [
      {
       "output_type": "stream",
       "stream": "stdout",
       "text": [
        "                GPU  MARKET   RKFREE\n",
        "1976-01-01  0.05412   0.156  0.00369\n",
        "1976-02-01 -0.01429   0.069  0.00369\n",
        "1976-03-01  0.01449   0.010  0.00390\n",
        "1976-04-01 -0.01886  -0.012  0.00383\n",
        "1976-05-01 -0.01493   0.005  0.00415\n",
        "                GPU  MARKET   RKFREE\n",
        "1976-01-01      NaN     NaN      NaN\n",
        "1976-02-01  0.05412   0.156  0.00369\n",
        "1976-03-01 -0.01429   0.069  0.00369\n",
        "1976-04-01  0.01449   0.010  0.00390\n",
        "1976-05-01 -0.01886  -0.012  0.00383\n"
       ]
      }
     ],
     "prompt_number": 53
    },
    {
     "cell_type": "code",
     "collapsed": false,
     "input": [
      "# examine GPU and its first three lagged values...note the apparent absent of NaNs!\n",
      "print TMI_data['GPU'].head()\n",
      "print TMI_data['GPU'].shift(periods=-1).head()\n",
      "print TMI_data['GPU'].shift(periods=-2).head()\n",
      "print TMI_data['GPU'].shift(periods=-3).head()"
     ],
     "language": "python",
     "metadata": {},
     "outputs": [
      {
       "output_type": "stream",
       "stream": "stdout",
       "text": [
        "1976-01-01    0.05412\n",
        "1976-02-01   -0.01429\n",
        "1976-03-01    0.01449\n",
        "1976-04-01   -0.01886\n",
        "1976-05-01   -0.01493\n",
        "Freq: MS, Name: GPU\n",
        "1976-01-01   -0.01429\n",
        "1976-02-01    0.01449\n",
        "1976-03-01   -0.01886\n",
        "1976-04-01   -0.01493\n",
        "1976-05-01    0.01515\n",
        "Freq: MS, Name: GPU\n",
        "1976-01-01    0.01449\n",
        "1976-02-01   -0.01886\n",
        "1976-03-01   -0.01493\n",
        "1976-04-01    0.01515\n",
        "1976-05-01    0.05493\n",
        "Freq: MS, Name: GPU\n",
        "1976-01-01   -0.01886\n",
        "1976-02-01   -0.01493\n",
        "1976-03-01    0.01515\n",
        "1976-04-01    0.05493\n",
        "1976-05-01    0.05797\n",
        "Freq: MS, Name: GPU\n"
       ]
      }
     ],
     "prompt_number": 58
    },
    {
     "cell_type": "code",
     "collapsed": false,
     "input": [
      "# But wait we have created NaNs! But they are at the tail of the data\n",
      "print TMI_data['GPU'].tail()\n",
      "print TMI_data['GPU'].shift(periods=-1).tail()\n",
      "print TMI_data['GPU'].shift(periods=-2).tail()\n",
      "print TMI_data['GPU'].shift(periods=-3).tail()"
     ],
     "language": "python",
     "metadata": {},
     "outputs": [
      {
       "output_type": "stream",
       "stream": "stdout",
       "text": [
        "1979-02-01   -0.05556\n",
        "1979-03-01   -0.04412\n",
        "1979-04-01   -0.33077\n",
        "1979-05-01   -0.17241\n",
        "1979-06-01    0.15714\n",
        "Freq: MS, Name: GPU\n",
        "1979-02-01   -0.04412\n",
        "1979-03-01   -0.33077\n",
        "1979-04-01   -0.17241\n",
        "1979-05-01    0.15714\n",
        "1979-06-01        NaN\n",
        "Freq: MS, Name: GPU\n",
        "1979-02-01   -0.33077\n",
        "1979-03-01   -0.17241\n",
        "1979-04-01    0.15714\n",
        "1979-05-01        NaN\n",
        "1979-06-01        NaN\n",
        "Freq: MS, Name: GPU\n",
        "1979-02-01   -0.17241\n",
        "1979-03-01    0.15714\n",
        "1979-04-01        NaN\n",
        "1979-05-01        NaN\n",
        "1979-06-01        NaN\n",
        "Freq: MS, Name: GPU\n"
       ]
      }
     ],
     "prompt_number": 59
    },
    {
     "cell_type": "markdown",
     "metadata": {},
     "source": [
      "Another common time series operator you will encounter is the difference operator.  The difference operator computes the difference between successive values of a dataFrame or Series object. Differences between arbtrary values can be calculated for a DataFrame object in its entirety or for invididually specified Series objects using the built-in **diff()** method as follows"
     ]
    },
    {
     "cell_type": "code",
     "collapsed": false,
     "input": [
      "# compare the original TMI_data with its first difference\n",
      "print TMI_data.head()\n",
      "print TMI_data.diff(periods=2).head()"
     ],
     "language": "python",
     "metadata": {},
     "outputs": [
      {
       "output_type": "stream",
       "stream": "stdout",
       "text": [
        "                GPU  MARKET   RKFREE\n",
        "1976-01-01  0.05412   0.156  0.00369\n",
        "1976-02-01 -0.01429   0.069  0.00369\n",
        "1976-03-01  0.01449   0.010  0.00390\n",
        "1976-04-01 -0.01886  -0.012  0.00383\n",
        "1976-05-01 -0.01493   0.005  0.00415\n",
        "                GPU  MARKET   RKFREE\n",
        "1976-01-01      NaN     NaN      NaN\n",
        "1976-02-01      NaN     NaN      NaN\n",
        "1976-03-01 -0.03963  -0.146  0.00021\n",
        "1976-04-01 -0.00457  -0.081  0.00014\n",
        "1976-05-01 -0.02942  -0.005  0.00025\n"
       ]
      }
     ],
     "prompt_number": 63
    },
    {
     "cell_type": "markdown",
     "metadata": {},
     "source": [
      "Execute the following commands to get a feel for how **shift()** and **diff()** methods work."
     ]
    },
    {
     "cell_type": "code",
     "collapsed": false,
     "input": [
      "# compare GPU with its first lag and lead\n",
      "print TMI_data['GPU'].head()\n",
      "print TMI_data['GPU'].shift(-1).head()\n",
      "print TMI_data['GPU'].shift(1).head()"
     ],
     "language": "python",
     "metadata": {},
     "outputs": [
      {
       "output_type": "stream",
       "stream": "stdout",
       "text": [
        "1976-01-01    0.05412\n",
        "1976-02-01   -0.01429\n",
        "1976-03-01    0.01449\n",
        "1976-04-01   -0.01886\n",
        "1976-05-01   -0.01493\n",
        "Freq: MS, Name: GPU\n",
        "1976-01-01   -0.01429\n",
        "1976-02-01    0.01449\n",
        "1976-03-01   -0.01886\n",
        "1976-04-01   -0.01493\n",
        "1976-05-01    0.01515\n",
        "Freq: MS, Name: GPU\n",
        "1976-01-01        NaN\n",
        "1976-02-01    0.05412\n",
        "1976-03-01   -0.01429\n",
        "1976-04-01    0.01449\n",
        "1976-05-01   -0.01886\n",
        "Freq: MS, Name: GPU\n"
       ]
      }
     ],
     "prompt_number": 65
    },
    {
     "cell_type": "code",
     "collapsed": false,
     "input": [
      "# compare GPU and its first three leads\n",
      "print TMI_data['GPU'].head()\n",
      "print TMI_data['GPU'].shift(1).head()\n",
      "print TMI_data['GPU'].shift(2).head()\n",
      "print TMI_data['GPU'].shift(3).head()"
     ],
     "language": "python",
     "metadata": {},
     "outputs": [
      {
       "output_type": "stream",
       "stream": "stdout",
       "text": [
        "1976-01-01    0.05412\n",
        "1976-02-01   -0.01429\n",
        "1976-03-01    0.01449\n",
        "1976-04-01   -0.01886\n",
        "1976-05-01   -0.01493\n",
        "Freq: MS, Name: GPU\n",
        "1976-01-01        NaN\n",
        "1976-02-01    0.05412\n",
        "1976-03-01   -0.01429\n",
        "1976-04-01    0.01449\n",
        "1976-05-01   -0.01886\n",
        "Freq: MS, Name: GPU\n",
        "1976-01-01        NaN\n",
        "1976-02-01        NaN\n",
        "1976-03-01    0.05412\n",
        "1976-04-01   -0.01429\n",
        "1976-05-01    0.01449\n",
        "Freq: MS, Name: GPU\n",
        "1976-01-01        NaN\n",
        "1976-02-01        NaN\n",
        "1976-03-01        NaN\n",
        "1976-04-01    0.05412\n",
        "1976-05-01   -0.01429\n",
        "Freq: MS, Name: GPU\n"
       ]
      }
     ],
     "prompt_number": 66
    },
    {
     "cell_type": "code",
     "collapsed": false,
     "input": [
      "# compare the following...they should be the same!\n",
      "print TMI_data['GPU'].diff(1).head()\n",
      "print (TMI_data['GPU'] - TMI_data['GPU'].shift(-1)).head()"
     ],
     "language": "python",
     "metadata": {},
     "outputs": [
      {
       "output_type": "stream",
       "stream": "stdout",
       "text": [
        "1976-01-01        NaN\n",
        "1976-02-01   -0.06841\n",
        "1976-03-01    0.02878\n",
        "1976-04-01   -0.03335\n",
        "1976-05-01    0.00393\n",
        "Freq: MS, Name: GPU\n",
        "1976-01-01    0.06841\n",
        "1976-02-01   -0.02878\n",
        "1976-03-01    0.03335\n",
        "1976-04-01   -0.00393\n",
        "1976-05-01   -0.03008\n",
        "Freq: MS, Name: GPU\n"
       ]
      }
     ],
     "prompt_number": 69
    },
    {
     "cell_type": "code",
     "collapsed": false,
     "input": [
      "# finally compare the following\n",
      "print TMI_data['GPU'].head() # the GPU data\n",
      "print TMI_data['GPU'].diff(1).head() # difference between GPU in period t and period t-1\n",
      "print TMI_data['GPU'].diff(2).head() # difference between GPU in period t and period t-2\n",
      "print (TMI_data['GPU'].diff(1)).diff(1).head() # difference in differences"
     ],
     "language": "python",
     "metadata": {},
     "outputs": [
      {
       "output_type": "stream",
       "stream": "stdout",
       "text": [
        "1976-01-01    0.05412\n",
        "1976-02-01   -0.01429\n",
        "1976-03-01    0.01449\n",
        "1976-04-01   -0.01886\n",
        "1976-05-01   -0.01493\n",
        "Freq: MS, Name: GPU\n",
        "1976-01-01        NaN\n",
        "1976-02-01   -0.06841\n",
        "1976-03-01    0.02878\n",
        "1976-04-01   -0.03335\n",
        "1976-05-01    0.00393\n",
        "Freq: MS, Name: GPU\n",
        "1976-01-01        NaN\n",
        "1976-02-01        NaN\n",
        "1976-03-01   -0.03963\n",
        "1976-04-01   -0.00457\n",
        "1976-05-01   -0.02942\n",
        "Freq: MS, Name: GPU\n",
        "1976-01-01        NaN\n",
        "1976-02-01        NaN\n",
        "1976-03-01    0.09719\n",
        "1976-04-01   -0.06213\n",
        "1976-05-01    0.03728\n",
        "Freq: MS, Name: GPU\n"
       ]
      }
     ],
     "prompt_number": 78
    },
    {
     "cell_type": "markdown",
     "metadata": {},
     "source": [
      "Task 2: Estimate a model on a subset of data and work with the results\n",
      "------------------------------------------------------------------------\n",
      "\n",
      "In this task you will estimate a model on the first three years (i.e., 36 obervations!) of data and perform some simple diagnostics based on the result.  The model you will estimate is \n",
      "\n",
      "$$GPU_{t} = \\beta_{0} + \\beta_{1}MARKET_{t} + u_{t} $$\n",
      "\n",
      "In what follows, I will use the OLS class from Statsmodels (but feel free to use the Pandas OLS implementation). Note how simple it is to subset data based on our DATE index!\n",
      "\n",
      "Using the t-ratio provided, consider the significance of the explanatory variable MARKET. How do you interpret the coefficient?"
     ]
    },
    {
     "cell_type": "code",
     "collapsed": false,
     "input": [
      "# create a matrix of regressors\n",
      "X = sm.add_constant(TMI_data.MARKET[:'1978-12-01'], prepend=True)\n",
      "\n",
      "# create an OLS model object\n",
      "model = sm.OLS(TMI_data.GPU[:'1978-12-01'], X)"
     ],
     "language": "python",
     "metadata": {},
     "outputs": [],
     "prompt_number": 86
    },
    {
     "cell_type": "code",
     "collapsed": false,
     "input": [
      "# fit the model...\n",
      "results = model.fit()"
     ],
     "language": "python",
     "metadata": {},
     "outputs": [],
     "prompt_number": 87
    },
    {
     "cell_type": "code",
     "collapsed": false,
     "input": [
      "#...and summarize the results!\n",
      "print results.summary()"
     ],
     "language": "python",
     "metadata": {},
     "outputs": [
      {
       "output_type": "stream",
       "stream": "stdout",
       "text": [
        "                            OLS Regression Results                            \n",
        "==============================================================================\n",
        "Dep. Variable:                    GPU   R-squared:                       0.232\n",
        "Model:                            OLS   Adj. R-squared:                  0.209\n",
        "Method:                 Least Squares   F-statistic:                     10.25\n",
        "Date:                Sun, 28 Oct 2012   Prob (F-statistic):            0.00296\n",
        "Time:                        20:54:41   Log-Likelihood:                 73.826\n",
        "No. Observations:                  36   AIC:                            -143.7\n",
        "Df Residuals:                      34   BIC:                            -140.5\n",
        "Df Model:                           1                                         \n",
        "==============================================================================\n",
        "                 coef    std err          t      P>|t|      [95.0% Conf. Int.]\n",
        "------------------------------------------------------------------------------\n",
        "const          0.0038      0.006      0.680      0.501        -0.008     0.015\n",
        "MARKET         0.3010      0.094      3.202      0.003         0.110     0.492\n",
        "==============================================================================\n",
        "Omnibus:                        1.785   Durbin-Watson:                   1.852\n",
        "Prob(Omnibus):                  0.410   Jarque-Bera (JB):                1.430\n",
        "Skew:                          -0.482   Prob(JB):                        0.489\n",
        "Kurtosis:                       2.846   Cond. No.                         17.6\n",
        "==============================================================================\n"
       ]
      }
     ],
     "prompt_number": 88
    },
    {
     "cell_type": "markdown",
     "metadata": {},
     "source": [
      "Note that the coefficient on the MARKET variable is positive and highly significant.  Recalling the MARKET is the monthy return for the stock market as a whole, the results above tell us that a 1% increase in monthy MARKET returns leads to a 0.30% increase in the returns to holding GPU stock."
     ]
    },
    {
     "cell_type": "markdown",
     "metadata": {},
     "source": [
      "Now test for the normality of the residuals. First, create a histogram of the residuals and them overlay the best fit normal density."
     ]
    },
    {
     "cell_type": "code",
     "collapsed": false,
     "input": [
      "fig = plt.figure()\n",
      "ax = fig.add_subplot(111)\n",
      "\n",
      "# create a histogram\n",
      "results.resid.hist(bins=10, normed=True)\n",
      "ax.set_xlabel('Regression residuals')\n",
      "ax.set_ylabel('Density')\n",
      "ax.set_title('Residuals negatively skewed?')\n",
      "\n",
      "# overlay a normal density\n",
      "grid = np.linspace(-0.15, 0.15, 1000)\n",
      "mu = results.resid.mean()\n",
      "sigma = results.resid.std()\n",
      "ax.plot(grid, stats.norm(mu, sigma).pdf(grid), 'r-')\n",
      "\n",
      "# tighten things up!\n",
      "ax.autoscale(axis='x', tight=True)\n",
      "\n",
      "plt.show()"
     ],
     "language": "python",
     "metadata": {},
     "outputs": [
      {
       "output_type": "display_data",
       "png": "[encoded data removed]"
      }
     ],
     "prompt_number": 125
    },
    {
     "cell_type": "markdown",
     "metadata": {},
     "source": [
      "What can you conclude from this picture? Hard to say. It is possible that returns have a slight negative skew, but the small sample size makes it hard to tell for sure.  More useful is a smooth kernel density plot of the residuals. Do the residuals look normally distributed?"
     ]
    },
    {
     "cell_type": "code",
     "collapsed": false,
     "input": [
      "fig = plt.figure()\n",
      "ax = fig.add_subplot(111)\n",
      "\n",
      "# kernel density plot of regression residuals\n",
      "results.resid.plot(kind='kde')\n",
      "ax.set_xlabel('Regression residuals')\n",
      "ax.set_ylabel('Density')\n",
      "ax.set_title('Residuals negatively skewed?')\n",
      "\n",
      "# overlay a normal density\n",
      "ax.plot(grid, stats.norm(mu, sigma).pdf(grid), 'r-')\n",
      "\n",
      "# tighten things up\n",
      "ax.autoscale(axis='x', tight=True)\n",
      "\n",
      "plt.show()"
     ],
     "language": "python",
     "metadata": {},
     "outputs": [
      {
       "output_type": "display_data",
       "png": "[encoded data removed]"
      }
     ],
     "prompt_number": 124
    },
    {
     "cell_type": "markdown",
     "metadata": {},
     "source": [
      "Next, perform a formal test for normality. The [Jarque-Berra](http://en.wikipedia.org/wiki/Jarque%E2%80%93Bera_test) test is a joint test of the skewness and kurtosis of the residuals, and under the null that the residuals are normal, the test statistic is distributed as $\\chi^{2}$ random variable with 2 degrees of freedom (i.e., we estimated $k=2$ parameters in the aboved regression)."
     ]
    },
    {
     "cell_type": "code",
     "collapsed": false,
     "input": [
      "# conducts the Jarque-Bera test\n",
      "JB_stat, JB_pvalue, resid_skew, resid_kurtosis = sm.stats.jarque_bera(results.resid)"
     ],
     "language": "python",
     "metadata": {},
     "outputs": [],
     "prompt_number": 128
    },
    {
     "cell_type": "code",
     "collapsed": false,
     "input": [
      "# fail to reject the null hypothesis that the residuals are Gaussian!\n",
      "print 'JB test statistic is', JB_stat\n",
      "print 'p-Value under the null hypothesis of Gaussian residuals is', JB_pvalue"
     ],
     "language": "python",
     "metadata": {},
     "outputs": [
      {
       "output_type": "stream",
       "stream": "stdout",
       "text": [
        "JB test statistic is 1.42972804937\n",
        "p-Value under the null hypothesis of Gaussian residuals is 0.489258634369\n"
       ]
      }
     ],
     "prompt_number": 132
    },
    {
     "cell_type": "markdown",
     "metadata": {},
     "source": [
      "Next, perform the [Ramsey RESET test](http://en.wikipedia.org/wiki/Ramsey_RESET_test) for non-linearities (technicially this is an omitted variables test where the omitted variables are powers of the regressors). The test is an F-test of the joint signficance of the powers of regressors (up to order specified by degree). Under the null hypothesis the coefficients on any omitted non-linearities should be jointly zero."
     ]
    },
    {
     "cell_type": "code",
     "collapsed": false,
     "input": [
      "# conduct the RESET test\n",
      "RESET_test = outliers_influence.reset_ramsey(results, degree=2)"
     ],
     "language": "python",
     "metadata": {},
     "outputs": [],
     "prompt_number": 141
    },
    {
     "cell_type": "code",
     "collapsed": false,
     "input": [
      "# print the test statistic, and pvalue\n",
      "print 'RESET test statistic is', RESET_test.fvalue\n",
      "# print the test statistic\n",
      "print 'Corresponding p-value is', RESET_test.pvalue"
     ],
     "language": "python",
     "metadata": {},
     "outputs": [
      {
       "output_type": "stream",
       "stream": "stdout",
       "text": [
        "RESET test statistic is [[ 0.9270421]]\n",
        "Corresponding p-value is [[ 0.34263544]]\n"
       ]
      }
     ],
     "prompt_number": 142
    },
    {
     "cell_type": "markdown",
     "metadata": {},
     "source": [
      "Task 3: Hypothesis testing in Pandas/Statsmodels\n",
      "------------------------------------------------\n",
      "\n",
      "In this task you will estimate an extended version of model, again on the first three years of data (36 observations). The model is now\n",
      "\n",
      "$$GPU_{t} = \\beta_{0} + \\beta_{1}MARKET_{t} + \\beta_{3}RKFREE_{t} + u_{t} $$\n",
      "\n",
      "Executre the following code to estimate the model..."
     ]
    },
    {
     "cell_type": "code",
     "collapsed": false,
     "input": [
      "# create a matrix of regressors\n",
      "X = sm.add_constant(TMI_data[['MARKET', 'RKFREE']][:'1978-12-01'], prepend=True)\n",
      "\n",
      "# create an OLS model object\n",
      "model_2 = sm.OLS(TMI_data.GPU[:'1978-12-01'], X)"
     ],
     "language": "python",
     "metadata": {},
     "outputs": [],
     "prompt_number": 143
    },
    {
     "cell_type": "code",
     "collapsed": false,
     "input": [
      "# fit the model using OLS\n",
      "results_2 = model_2.fit() "
     ],
     "language": "python",
     "metadata": {},
     "outputs": [],
     "prompt_number": 144
    },
    {
     "cell_type": "code",
     "collapsed": false,
     "input": [
      "# display the results\n",
      "print results_2.summary()"
     ],
     "language": "python",
     "metadata": {},
     "outputs": [
      {
       "output_type": "stream",
       "stream": "stdout",
       "text": [
        "                            OLS Regression Results                            \n",
        "==============================================================================\n",
        "Dep. Variable:                    GPU   R-squared:                       0.258\n",
        "Model:                            OLS   Adj. R-squared:                  0.213\n",
        "Method:                 Least Squares   F-statistic:                     5.746\n",
        "Date:                Mon, 29 Oct 2012   Prob (F-statistic):            0.00723\n",
        "Time:                        20:08:10   Log-Likelihood:                 74.461\n",
        "No. Observations:                  36   AIC:                            -142.9\n",
        "Df Residuals:                      33   BIC:                            -138.2\n",
        "Df Model:                           2                                         \n",
        "==============================================================================\n",
        "                 coef    std err          t      P>|t|      [95.0% Conf. Int.]\n",
        "------------------------------------------------------------------------------\n",
        "const          0.0310      0.026      1.211      0.235        -0.021     0.083\n",
        "MARKET         0.2868      0.095      3.030      0.005         0.094     0.479\n",
        "RKFREE        -5.8460      5.372     -1.088      0.284       -16.776     5.084\n",
        "==============================================================================\n",
        "Omnibus:                        1.616   Durbin-Watson:                   1.945\n",
        "Prob(Omnibus):                  0.446   Jarque-Bera (JB):                1.480\n",
        "Skew:                          -0.463   Prob(JB):                        0.477\n",
        "Kurtosis:                       2.643   Cond. No.                     1.01e+03\n",
        "==============================================================================\n",
        "\n",
        "The condition number is large, 1.01e+03. This might indicate that there are\n",
        "strong multicollinearity or other numerical problems.\n"
       ]
      }
     ],
     "prompt_number": 145
    },
    {
     "cell_type": "markdown",
     "metadata": {},
     "source": [
      "Using the t-ratios provided, consider the significance of the explanatory variables *MARKET* and *RKFREE*. How do you interpret the coefficients? The coefficient on *MARKET* is again positive and statistically significant.  A 1% increase the market return corresponds to a 0.29% increase in the returns to holding GPU stock.  The coefficient on the risk free rate of return is not significant (and might be highly collinear with the market return!)\n",
      "\n",
      "Wald tests of linear hypotheses in Statsmodels can be performed using the built-in **f_test()** method applied to the regression results. How do these test statistics differ from the reported t stats? (Hint: what is the relationship between a t-test with 1 degree of freedom and an F-test of the same hypothesis?) The statistics from the F-test should be the square of the statistics from the t-test! In all of the tests below, I am testing the specificed null hypothesis against a general alternative."
     ]
    },
    {
     "cell_type": "code",
     "collapsed": false,
     "input": [
      "# restrict coefficient on MARKET to be zero!\n",
      "R = np.array([[0, 1, 0]])\n",
      "\n",
      "# conduct the test!\n",
      "results_2.f_test(R)"
     ],
     "language": "python",
     "metadata": {},
     "outputs": [
      {
       "output_type": "pyout",
       "prompt_number": 148,
       "text": [
        "<class 'statsmodels.stats.contrast.ContrastResults'>\n",
        "<F test: F=array([[ 9.1803851]]), p=[[ 0.00472838]], df_denom=33, df_num=1>"
       ]
      }
     ],
     "prompt_number": 148
    },
    {
     "cell_type": "code",
     "collapsed": false,
     "input": [
      "# restrict coefficient on MARKET to be zero!\n",
      "R = np.array([[0, 0, 1]])\n",
      "\n",
      "# conduct the test!\n",
      "results_2.f_test(R)"
     ],
     "language": "python",
     "metadata": {},
     "outputs": [
      {
       "output_type": "pyout",
       "prompt_number": 149,
       "text": [
        "<class 'statsmodels.stats.contrast.ContrastResults'>\n",
        "<F test: F=array([[ 1.18418373]]), p=[[ 0.28438986]], df_denom=33, df_num=1>"
       ]
      }
     ],
     "prompt_number": 149
    },
    {
     "cell_type": "code",
     "collapsed": false,
     "input": [
      "# restrict coefficients on MARKET and RKFREE to be jointly zero!\n",
      "R = np.array([[0, 1, 0], [0, 0, 1]])\n",
      "\n",
      "# conduct the test! Note that this test is reported as part of standard regression output.\n",
      "results_2.f_test(R)"
     ],
     "language": "python",
     "metadata": {},
     "outputs": [
      {
       "output_type": "pyout",
       "prompt_number": 156,
       "text": [
        "<class 'statsmodels.stats.contrast.ContrastResults'>\n",
        "<F test: F=array([[ 5.74589369]]), p=[[ 0.00722541]], df_denom=33, df_num=2>"
       ]
      }
     ],
     "prompt_number": 156
    },
    {
     "cell_type": "code",
     "collapsed": false,
     "input": [
      "# test whether the beta_0 + beta_2 = 1\n",
      "R = np.array([[1, 0, 1]])\n",
      "\n",
      "# can pass an array of null hypotheses\n",
      "q = np.array([[1]])\n",
      "\n",
      "# conduct the test! Note that we pass a tuple of matrices as the argument.\n",
      "results_2.f_test((R, q))"
     ],
     "language": "python",
     "metadata": {},
     "outputs": [
      {
       "output_type": "pyout",
       "prompt_number": 157,
       "text": [
        "<class 'statsmodels.stats.contrast.ContrastResults'>\n",
        "<F test: F=array([[ 1.62435453]]), p=[[ 0.21138752]], df_denom=33, df_num=1>"
       ]
      }
     ],
     "prompt_number": 157
    },
    {
     "cell_type": "code",
     "collapsed": false,
     "input": [
      "# restrict coefficients on constant and RKFREE to be jointly zero!\n",
      "R = np.array([[1, 0, 0], [0, 0, 1]])\n",
      "\n",
      "# conduct the test! Note that this test is reported as part of standard regression output.\n",
      "results_2.f_test(R)"
     ],
     "language": "python",
     "metadata": {},
     "outputs": [
      {
       "output_type": "pyout",
       "prompt_number": 159,
       "text": [
        "<class 'statsmodels.stats.contrast.ContrastResults'>\n",
        "<F test: F=array([[ 0.82439905]]), p=[[ 0.44732702]], df_denom=33, df_num=2>"
       ]
      }
     ],
     "prompt_number": 159
    },
    {
     "cell_type": "code",
     "collapsed": false,
     "input": [
      "# restrict coefficients on MARKET and RKFREE to be jointly zero!\n",
      "R = np.array([[0, 1, 0], [0, 0, 1]])\n",
      "\n",
      "# conduct the test! Note that this test is reported as part of standard regression output.\n",
      "results_2.f_test(R)"
     ],
     "language": "python",
     "metadata": {},
     "outputs": [
      {
       "output_type": "pyout",
       "prompt_number": 160,
       "text": [
        "<class 'statsmodels.stats.contrast.ContrastResults'>\n",
        "<F test: F=array([[ 5.74589369]]), p=[[ 0.00722541]], df_denom=33, df_num=2>"
       ]
      }
     ],
     "prompt_number": 160
    },
    {
     "cell_type": "markdown",
     "metadata": {},
     "source": [
      "Task 4: TMI event study\n",
      "-----------------------\n",
      "\n",
      "We now turn to the event study. Recall that there are 42 observations starting in January 1976. Observation 36 is December 1978; observation 38 is the last month before the accident, February 1979; observation 39 is March 1979, when the accident took place; and finally observation 42 is June 1979, the 4th month into the event study and the last month of data in the dataset.\n",
      "\n",
      "The most straightforward way to perform this test in practice is to use dummy variables. Set up four dummy variables (d1 to d4) where d1 takes the value \u201c1\u201d for March 1979, the first month after the accident, and the value \u201c0\u201d for all other months; the dummy for April, d2, has a \u201c1\u201d for that month and \u201c0\u201d for all other months, e.g., create the first dummy as follows..."
     ]
    },
    {
     "cell_type": "code",
     "collapsed": false,
     "input": [
      "# create an array of zeros\n",
      "d1 = np.zeros(TMI_data.GPU.count())\n",
      "\n",
      "# set the 39th obs to 1 (remember Python indexing starts at 0)\n",
      "d1[38] = 1 \n",
      "\n",
      "# create the new dummy\n",
      "TMI_data['d1'] = d1"
     ],
     "language": "python",
     "metadata": {},
     "outputs": [],
     "prompt_number": 165
    },
    {
     "cell_type": "code",
     "collapsed": false,
     "input": [
      "# check that d1 takes the value 1 in March 1979\n",
      "print TMI_data"
     ],
     "language": "python",
     "metadata": {},
     "outputs": [
      {
       "output_type": "stream",
       "stream": "stdout",
       "text": [
        "                GPU  MARKET   RKFREE  d1\n",
        "1976-01-01  0.05412   0.156  0.00369   0\n",
        "1976-02-01 -0.01429   0.069  0.00369   0\n",
        "1976-03-01  0.01449   0.010  0.00390   0\n",
        "1976-04-01 -0.01886  -0.012  0.00383   0\n",
        "1976-05-01 -0.01493   0.005  0.00415   0\n",
        "1976-06-01  0.01515   0.016  0.00431   0\n",
        "1976-07-01  0.05493  -0.017  0.00416   0\n",
        "1976-08-01  0.05797  -0.016  0.00389   0\n",
        "1976-09-01  0.04110   0.007  0.00412   0\n",
        "1976-10-01 -0.01737  -0.029  0.00386   0\n",
        "1976-11-01  0.00685   0.000  0.00355   0\n",
        "1976-12-01  0.06122   0.111  0.00345   0\n",
        "1977-01-01  0.02154   0.015  0.00372   0\n",
        "1977-02-01 -0.05769  -0.012  0.00362   0\n",
        "1977-03-01  0.02041   0.008  0.00367   0\n",
        "1977-04-01  0.02240   0.004  0.00359   0\n",
        "1977-05-01  0.04000  -0.005  0.00394   0\n",
        "1977-06-01  0.02564   0.070  0.00400   0\n",
        "1977-07-01  0.02824  -0.002  0.00435   0\n",
        "1977-08-01  0.02659  -0.023  0.00445   0\n",
        "1977-09-01  0.02424   0.008  0.00476   0\n",
        "1977-10-01 -0.03243  -0.051  0.00473   0\n",
        "1977-11-01  0.04375   0.083  0.00450   0\n",
        "1977-12-01  0.00000   0.039  0.00467   0\n",
        "1978-01-01 -0.06874  -0.045  0.00487   0\n",
        "1978-02-01  0.01974   0.010  0.00494   0\n",
        "1978-03-01  0.02581   0.050  0.00526   0\n",
        "1978-04-01 -0.00931   0.063  0.00491   0\n",
        "1978-05-01 -0.03247   0.067  0.00513   0\n",
        "1978-06-01 -0.00671   0.007  0.00527   0\n",
        "1978-07-01  0.04405   0.071  0.00528   0\n",
        "1978-08-01 -0.04636   0.079  0.00607   0\n",
        "1978-09-01  0.03472   0.002  0.00645   0\n",
        "1978-10-01 -0.07651  -0.189  0.00685   0\n",
        "1978-11-01  0.04478   0.084  0.00719   0\n",
        "1978-12-01  0.00000   0.015  0.00690   0\n",
        "1979-01-01  0.05429   0.058  0.00761   0\n",
        "1979-02-01 -0.05556   0.011  0.00761   0\n",
        "1979-03-01 -0.04412   0.123  0.00769   1\n",
        "1979-04-01 -0.33077   0.026  0.00764   0\n",
        "1979-05-01 -0.17241   0.014  0.00772   0\n",
        "1979-06-01  0.15714   0.075  0.00715   0\n"
       ]
      }
     ],
     "prompt_number": 166
    },
    {
     "cell_type": "code",
     "collapsed": false,
     "input": [
      "# create other dummy variables accordingly...\n",
      "d2 = np.zeros(TMI_data.GPU.count())\n",
      "d3 = np.zeros(TMI_data.GPU.count())\n",
      "d4 = np.zeros(TMI_data.GPU.count())\n",
      "\n",
      "# set the 40th, 41st, and 42nd obs to 1 (remember Python indexing starts at 0)\n",
      "d2[39] = 1 \n",
      "d3[40] = 1\n",
      "d4[41] = 1\n",
      "\n",
      "# create the new dummy\n",
      "TMI_data['d2'] = d2\n",
      "TMI_data['d3'] = d3\n",
      "TMI_data['d4'] = d4"
     ],
     "language": "python",
     "metadata": {},
     "outputs": [],
     "prompt_number": 168
    },
    {
     "cell_type": "code",
     "collapsed": false,
     "input": [
      "# check to make sure dummies are properly coded\n",
      "print TMI_data"
     ],
     "language": "python",
     "metadata": {},
     "outputs": [
      {
       "output_type": "stream",
       "stream": "stdout",
       "text": [
        "                GPU  MARKET   RKFREE  d1  d2  d3  d4\n",
        "1976-01-01  0.05412   0.156  0.00369   0   0   0   0\n",
        "1976-02-01 -0.01429   0.069  0.00369   0   0   0   0\n",
        "1976-03-01  0.01449   0.010  0.00390   0   0   0   0\n",
        "1976-04-01 -0.01886  -0.012  0.00383   0   0   0   0\n",
        "1976-05-01 -0.01493   0.005  0.00415   0   0   0   0\n",
        "1976-06-01  0.01515   0.016  0.00431   0   0   0   0\n",
        "1976-07-01  0.05493  -0.017  0.00416   0   0   0   0\n",
        "1976-08-01  0.05797  -0.016  0.00389   0   0   0   0\n",
        "1976-09-01  0.04110   0.007  0.00412   0   0   0   0\n",
        "1976-10-01 -0.01737  -0.029  0.00386   0   0   0   0\n",
        "1976-11-01  0.00685   0.000  0.00355   0   0   0   0\n",
        "1976-12-01  0.06122   0.111  0.00345   0   0   0   0\n",
        "1977-01-01  0.02154   0.015  0.00372   0   0   0   0\n",
        "1977-02-01 -0.05769  -0.012  0.00362   0   0   0   0\n",
        "1977-03-01  0.02041   0.008  0.00367   0   0   0   0\n",
        "1977-04-01  0.02240   0.004  0.00359   0   0   0   0\n",
        "1977-05-01  0.04000  -0.005  0.00394   0   0   0   0\n",
        "1977-06-01  0.02564   0.070  0.00400   0   0   0   0\n",
        "1977-07-01  0.02824  -0.002  0.00435   0   0   0   0\n",
        "1977-08-01  0.02659  -0.023  0.00445   0   0   0   0\n",
        "1977-09-01  0.02424   0.008  0.00476   0   0   0   0\n",
        "1977-10-01 -0.03243  -0.051  0.00473   0   0   0   0\n",
        "1977-11-01  0.04375   0.083  0.00450   0   0   0   0\n",
        "1977-12-01  0.00000   0.039  0.00467   0   0   0   0\n",
        "1978-01-01 -0.06874  -0.045  0.00487   0   0   0   0\n",
        "1978-02-01  0.01974   0.010  0.00494   0   0   0   0\n",
        "1978-03-01  0.02581   0.050  0.00526   0   0   0   0\n",
        "1978-04-01 -0.00931   0.063  0.00491   0   0   0   0\n",
        "1978-05-01 -0.03247   0.067  0.00513   0   0   0   0\n",
        "1978-06-01 -0.00671   0.007  0.00527   0   0   0   0\n",
        "1978-07-01  0.04405   0.071  0.00528   0   0   0   0\n",
        "1978-08-01 -0.04636   0.079  0.00607   0   0   0   0\n",
        "1978-09-01  0.03472   0.002  0.00645   0   0   0   0\n",
        "1978-10-01 -0.07651  -0.189  0.00685   0   0   0   0\n",
        "1978-11-01  0.04478   0.084  0.00719   0   0   0   0\n",
        "1978-12-01  0.00000   0.015  0.00690   0   0   0   0\n",
        "1979-01-01  0.05429   0.058  0.00761   0   0   0   0\n",
        "1979-02-01 -0.05556   0.011  0.00761   0   0   0   0\n",
        "1979-03-01 -0.04412   0.123  0.00769   1   0   0   0\n",
        "1979-04-01 -0.33077   0.026  0.00764   0   1   0   0\n",
        "1979-05-01 -0.17241   0.014  0.00772   0   0   1   0\n",
        "1979-06-01  0.15714   0.075  0.00715   0   0   0   1\n"
       ]
      }
     ],
     "prompt_number": 169
    },
    {
     "cell_type": "markdown",
     "metadata": {},
     "source": [
      "Estimate over the entire period January 1976 to June 1979 the following model\n",
      "\n",
      "$$GPU_{t} = \\beta_{0} + \\beta_{1}MARKET_{t} + \\beta_{3}RKFREE_{t} + \\beta_{4}DUMMY_{1, t} + \\beta_{5}DUMMY_{2, t} + \\beta_{6}DUMMY_{3, t}  + \\beta_{7}DUMMY_{4, t} u_{t} $$\n",
      "\n",
      "using OLS (can use either Statsmodels or Pandas)."
     ]
    },
    {
     "cell_type": "code",
     "collapsed": false,
     "input": [
      "# create a matrix of regressors\n",
      "X = sm.add_constant(TMI_data[['MARKET', 'RKFREE', 'd1', 'd2', 'd3', 'd4']], prepend=True)\n",
      "\n",
      "# create an OLS model object\n",
      "model_3 = sm.OLS(TMI_data.GPU, X)"
     ],
     "language": "python",
     "metadata": {},
     "outputs": [],
     "prompt_number": 170
    },
    {
     "cell_type": "code",
     "collapsed": false,
     "input": [
      "# fit the model using OLS\n",
      "results_3 = model_3.fit()"
     ],
     "language": "python",
     "metadata": {},
     "outputs": [],
     "prompt_number": 172
    },
    {
     "cell_type": "code",
     "collapsed": false,
     "input": [
      "# display the regression results\n",
      "print results_3.summary()"
     ],
     "language": "python",
     "metadata": {},
     "outputs": [
      {
       "output_type": "stream",
       "stream": "stdout",
       "text": [
        "                            OLS Regression Results                            \n",
        "==============================================================================\n",
        "Dep. Variable:                    GPU   R-squared:                       0.826\n",
        "Model:                            OLS   Adj. R-squared:                  0.796\n",
        "Method:                 Least Squares   F-statistic:                     27.72\n",
        "Date:                Mon, 29 Oct 2012   Prob (F-statistic):           6.35e-12\n",
        "Time:                        21:27:55   Log-Likelihood:                 87.416\n",
        "No. Observations:                  42   AIC:                            -160.8\n",
        "Df Residuals:                      35   BIC:                            -148.7\n",
        "Df Model:                           6                                         \n",
        "==============================================================================\n",
        "                 coef    std err          t      P>|t|      [95.0% Conf. Int.]\n",
        "------------------------------------------------------------------------------\n",
        "const          0.0289      0.023      1.282      0.208        -0.017     0.075\n",
        "MARKET         0.3074      0.097      3.181      0.003         0.111     0.504\n",
        "RKFREE        -5.4531      4.548     -1.199      0.239       -14.686     3.780\n",
        "d1            -0.0689      0.038     -1.827      0.076        -0.145     0.008\n",
        "d2            -0.3260      0.036     -9.056      0.000        -0.399    -0.253\n",
        "d3            -0.1635      0.036     -4.529      0.000        -0.237    -0.090\n",
        "d4             0.1442      0.036      4.033      0.000         0.072     0.217\n",
        "==============================================================================\n",
        "Omnibus:                        1.390   Durbin-Watson:                   2.023\n",
        "Prob(Omnibus):                  0.499   Jarque-Bera (JB):                1.250\n",
        "Skew:                          -0.403   Prob(JB):                        0.535\n",
        "Kurtosis:                       2.746   Cond. No.                         893.\n",
        "==============================================================================\n"
       ]
      }
     ],
     "prompt_number": 173
    },
    {
     "cell_type": "markdown",
     "metadata": {},
     "source": [
      "Are the dummy variables individually statistically significant? That is, do they contribute beyond mere chance to the explanation of GPU? Specify your null and alternative hypotheses carefully. Yes! Based on reported t-statistics, the first three dummy coefficients are all negative and highly significant; the coefficient on the fourth dummy is actually positive but also highly significant.\n",
      "\n",
      "But this is an \u201cevent study\u201d, and in this case a single event \u2013 the reactor meltdown \u2013 took place. We want a single test of the impact on the returns. This can easily be done using a dummy variable approach."
     ]
    },
    {
     "cell_type": "code",
     "collapsed": false,
     "input": [
      "# restrict coefficients on all four dumies to be jointly zero!\n",
      "R = np.array([[0, 0, 0, 1, 0, 0, 0], \n",
      "              [0, 0, 0, 0, 1, 0, 0], \n",
      "              [0, 0, 0, 0, 0, 1, 0],\n",
      "              [0, 0, 0, 0, 0, 0, 1]])\n",
      "\n",
      "# conduct the test! Reject the null hypothesis! Conclude that the coeffients are jointly significant.\n",
      "results_3.f_test(R)"
     ],
     "language": "python",
     "metadata": {},
     "outputs": [
      {
       "output_type": "pyout",
       "prompt_number": 175,
       "text": [
        "<class 'statsmodels.stats.contrast.ContrastResults'>\n",
        "<F test: F=array([[ 31.44126307]]), p=[[  3.80068166e-11]], df_denom=35, df_num=4>"
       ]
      }
     ],
     "prompt_number": 175
    },
    {
     "cell_type": "code",
     "collapsed": false,
     "input": [],
     "language": "python",
     "metadata": {},
     "outputs": []
    }
   ],
   "metadata": {}
  }
 ]
}